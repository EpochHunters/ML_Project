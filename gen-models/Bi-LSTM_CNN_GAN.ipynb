{
 "cells": [
  {
   "cell_type": "markdown",
   "id": "0d93c662",
   "metadata": {
    "id": "awfFFYXy2ESa"
   },
   "source": [
    "## Only for generation using latent vector and bidirectional lstm"
   ]
  },
  {
   "cell_type": "code",
   "execution_count": null,
   "id": "2298cca3",
   "metadata": {
    "id": "kIYe17VC0oyf"
   },
   "outputs": [],
   "source": [
    "class EEGEncoder(nn.Module):\n",
    "    def __init__(self):\n",
    "        super(EEGEncoder, self).__init__()\n",
    "        # LSTM layer for temporal feature extraction\n",
    "        self.lstm = nn.LSTM(input_size=128, hidden_size=128, batch_first=True, bidirectional=True)\n",
    "\n",
    "        # CNN layers for spatial feature extraction\n",
    "        self.conv1 = nn.Conv1d(in_channels=256, out_channels=128, kernel_size=3, padding=1)  # BiLSTM outputs 256\n",
    "        self.conv2 = nn.Conv1d(in_channels=128, out_channels=64, kernel_size=3, padding=1)\n",
    "\n",
    "        # Fully connected layer for 128-dimensional latent vector\n",
    "        self.fc = nn.Linear(64, 128)  # Final output: 128-dimensional latent space\n",
    "\n",
    "    def forward(self, x):\n",
    "        # Input shape: (batch_size, 128, 440)\n",
    "        x = x.transpose(1, 2)  # Change shape to (batch_size, 440, 128) for LSTM\n",
    "\n",
    "        # Pass through LSTM\n",
    "        lstm_out, _ = self.lstm(x)  # LSTM outputs shape: (batch_size, 440, 256)\n",
    "\n",
    "        # Transpose to (batch_size, 256, 440) for CNN\n",
    "        x = lstm_out.transpose(1, 2)\n",
    "\n",
    "        # Pass through CNN layers\n",
    "        x = F.relu(self.conv1(x))  # Output: (batch_size, 128, 440)\n",
    "        x = F.relu(self.conv2(x))  # Output: (batch_size, 64, 440)\n",
    "\n",
    "        # Global average pooling to collapse temporal dimension\n",
    "        x = F.adaptive_avg_pool1d(x, 1).squeeze(-1)  # Output: (batch_size, 64)\n",
    "\n",
    "        # Fully connected layer to generate the latent vector\n",
    "        latent_vector = self.fc(x)  # Output: (batch_size, 128)\n",
    "\n",
    "        return latent_vector"
   ]
  },
  {
   "cell_type": "code",
   "execution_count": null,
   "id": "f9c12104",
   "metadata": {
    "id": "yf_-xKKk2raf"
   },
   "outputs": [],
   "source": [
    "class Generator(nn.Module):\n",
    "    def __init__(self, noise_dim=100, conditional_dim=128):\n",
    "        super(Generator, self).__init__()\n",
    "        self.fc = nn.Linear(noise_dim + conditional_dim, 4 * 4 * 1024)\n",
    "        self.resblock1 = ResBlockUp(1024, 512)\n",
    "        self.resblock2 = ResBlockUp(512, 256)\n",
    "        self.resblock3 = ResBlockUp(256, 128)\n",
    "        self.resblock4 = ResBlockUp(128, 64)\n",
    "        self.conv = nn.Conv2d(64, 3, kernel_size=3, padding=1)\n",
    "        self.tanh = nn.Tanh()\n",
    "\n",
    "    def forward(self, noise, condition):\n",
    "        x = torch.cat([noise, condition], dim=1)  # Concatenate noise and latent vector\n",
    "        x = self.fc(x).view(-1, 1024, 4, 4)\n",
    "        x = self.resblock1(x)\n",
    "        x = self.resblock2(x)\n",
    "        x = self.resblock3(x)\n",
    "        x = self.resblock4(x)\n",
    "        x = self.conv(x)\n",
    "        return self.tanh(x)"
   ]
  },
  {
   "cell_type": "code",
   "execution_count": null,
   "id": "3193dc3f",
   "metadata": {
    "id": "uZYrZdog2uHE"
   },
   "outputs": [],
   "source": [
    "class Discriminator(nn.Module):\n",
    "    def __init__(self, conditional_dim=128):\n",
    "        super(Discriminator, self).__init__()\n",
    "        self.resblock1 = ResBlockDown(3, 64)\n",
    "        self.resblock2 = ResBlockDown(64, 128)\n",
    "        self.resblock3 = ResBlockDown(128, 256)\n",
    "        self.resblock4 = ResBlockDown(256, 512)\n",
    "        self.resblock5 = ResBlockDown(512, 1024)\n",
    "        self.resblock_final = ResBlockDown(1024, 1024)\n",
    "        self.global_sum_pooling = nn.AdaptiveAvgPool2d((1, 1))\n",
    "        self.fc = nn.Linear(1024, 1)\n",
    "\n",
    "        # Conditional embedding\n",
    "        self.embed = nn.Linear(conditional_dim, 1024)\n",
    "\n",
    "    def forward(self, img, condition):\n",
    "        x = self.resblock1(img)\n",
    "        x = self.resblock2(x)\n",
    "        x = self.resblock3(x)\n",
    "        x = self.resblock4(x)\n",
    "        x = self.resblock5(x)\n",
    "        x = self.resblock_final(x)\n",
    "        x = self.global_sum_pooling(x).view(x.size(0), -1)\n",
    "\n",
    "        # Embed the condition and combine with image features\n",
    "        condition_embed = self.embed(condition)\n",
    "        x = x + condition_embed\n",
    "\n",
    "        return self.fc(x)"
   ]
  },
  {
   "cell_type": "code",
   "execution_count": null,
   "id": "7a28968e",
   "metadata": {
    "id": "CnpibrnM2wMa"
   },
   "outputs": [],
   "source": [
    "class ResBlockUp(nn.Module):\n",
    "    def __init__(self, in_channels, out_channels):\n",
    "        super(ResBlockUp, self).__init__()\n",
    "        # Main path\n",
    "        self.block = nn.Sequential(\n",
    "            nn.BatchNorm2d(in_channels),\n",
    "            nn.ReLU(),\n",
    "            nn.Conv2d(in_channels, out_channels, kernel_size=3, padding=1),\n",
    "            nn.BatchNorm2d(out_channels),\n",
    "            nn.ReLU(),\n",
    "            nn.Conv2d(out_channels, out_channels, kernel_size=3, padding=1),\n",
    "        )\n",
    "        # Shortcut path\n",
    "        self.upsample = nn.Sequential(\n",
    "            nn.Conv2d(in_channels, out_channels, kernel_size=1),\n",
    "            nn.Upsample(scale_factor=2, mode='nearest')\n",
    "        )\n",
    "\n",
    "    def forward(self, x):\n",
    "        # Main path\n",
    "        main_path = F.interpolate(x, scale_factor=2, mode='nearest')\n",
    "        main_path = self.block(main_path)\n",
    "\n",
    "        # Shortcut path\n",
    "        shortcut_path = self.upsample(x)\n",
    "\n",
    "        # Combine paths\n",
    "        return main_path + shortcut_path\n",
    "\n",
    "class ResBlockDown(nn.Module):\n",
    "    def __init__(self, in_channels, out_channels):\n",
    "        super(ResBlockDown, self).__init__()\n",
    "        # Main path\n",
    "        self.block = nn.Sequential(\n",
    "            nn.Conv2d(in_channels, out_channels, kernel_size=3, stride=2, padding=1),\n",
    "            nn.BatchNorm2d(out_channels),\n",
    "            nn.LeakyReLU(0.2),\n",
    "            nn.Conv2d(out_channels, out_channels, kernel_size=3, padding=1),\n",
    "            nn.BatchNorm2d(out_channels),\n",
    "            nn.LeakyReLU(0.2),\n",
    "        )\n",
    "        # Shortcut path\n",
    "        self.downsample = nn.Conv2d(in_channels, out_channels, kernel_size=1, stride=2)\n",
    "\n",
    "    def forward(self, x):\n",
    "        # Main path\n",
    "        main_path = self.block(x)\n",
    "\n",
    "        # Shortcut path\n",
    "        shortcut_path = self.downsample(x)\n",
    "\n",
    "        # Combine paths\n",
    "        return main_path + shortcut_path"
   ]
  },
  {
   "cell_type": "code",
   "execution_count": null,
   "id": "ea519d9d",
   "metadata": {
    "colab": {
     "base_uri": "https://localhost:8080/"
    },
    "id": "sm5U-mdv3NyI",
    "outputId": "7eb625fc-1c4f-41ed-8731-974e18c47e99"
   },
   "outputs": [
    {
     "name": "stdout",
     "output_type": "stream",
     "text": [
      "Using CUDA\n"
     ]
    }
   ],
   "source": [
    "if torch.cuda.is_available():\n",
    "    device = torch.device(\"cuda\")\n",
    "    print(\"Using CUDA\")\n",
    "else:\n",
    "    device = torch.device(\"cpu\")\n",
    "    print(\"Using CPU\")"
   ]
  },
  {
   "cell_type": "code",
   "execution_count": null,
   "id": "a74da825",
   "metadata": {
    "id": "uDjJZhpQ3BN_"
   },
   "outputs": [],
   "source": [
    "def train_model(encoder, generator, discriminator, data_loader, num_epochs=20, lr=0.0002, save_path=\"/content/drive/MyDrive/sngan-models\"):\n",
    "    # Ensure save directory exists\n",
    "    os.makedirs(save_path, exist_ok=True)\n",
    "\n",
    "    # Optimizers\n",
    "    optimizer_encoder = torch.optim.Adam(encoder.parameters(), lr=lr)\n",
    "    optimizer_gen = torch.optim.Adam(generator.parameters(), lr=lr)\n",
    "    optimizer_disc = torch.optim.Adam(discriminator.parameters(), lr=lr)\n",
    "\n",
    "    # Loss function\n",
    "    gan_loss_fn = nn.BCEWithLogitsLoss()\n",
    "\n",
    "    # Variable to track best discriminator loss\n",
    "    best_disc_loss = float(\"inf\")\n",
    "\n",
    "    for epoch in range(num_epochs):\n",
    "        print(f\"Epoch {epoch + 1}/{num_epochs}\")\n",
    "        batch_iterator = tqdm(data_loader, desc=f\"Training Progress for Epoch {epoch + 1}\")\n",
    "\n",
    "        for batch in batch_iterator:\n",
    "            eeg, images = batch[\"eeg\"].to(device), batch[\"image\"].to(device)\n",
    "\n",
    "            # === Encode EEG to latent vector ===\n",
    "            with torch.no_grad():  # Ensure no gradients are computed here\n",
    "                latent_vector = encoder(eeg)  # Output: (batch_size, 128)\n",
    "\n",
    "            # === Train Discriminator ===\n",
    "            optimizer_disc.zero_grad()\n",
    "\n",
    "            # Generate noise and fake images\n",
    "            noise = torch.randn(eeg.size(0), 100).to(device)\n",
    "            with torch.no_grad():  # No gradients for generator during discriminator training\n",
    "                fake_images = generator(noise, latent_vector)\n",
    "\n",
    "            # Prepare real and fake labels\n",
    "            real_labels = torch.ones(eeg.size(0), 1).to(device)\n",
    "            fake_labels = torch.zeros(eeg.size(0), 1).to(device)\n",
    "\n",
    "            # Compute Discriminator loss\n",
    "            real_loss = gan_loss_fn(discriminator(images, latent_vector), real_labels)\n",
    "            fake_loss = gan_loss_fn(discriminator(fake_images.detach(), latent_vector), fake_labels)\n",
    "            disc_loss = real_loss + fake_loss\n",
    "            disc_loss.backward()\n",
    "            optimizer_disc.step()\n",
    "\n",
    "            # === Train Generator ===\n",
    "            optimizer_gen.zero_grad()\n",
    "\n",
    "            # Generate noise and fake images again for generator training\n",
    "            noise = torch.randn(eeg.size(0), 100).to(device)\n",
    "            fake_images = generator(noise, latent_vector)  # Recompute fake images\n",
    "            gen_loss = gan_loss_fn(discriminator(fake_images, latent_vector), real_labels)\n",
    "            gen_loss.backward()\n",
    "            optimizer_gen.step()\n",
    "\n",
    "            # Print losses for monitoring\n",
    "            print(f\"Discriminator Loss: {disc_loss.item():.4f} | Generator Loss: {gen_loss.item():.4f}\")\n",
    "\n",
    "            # Update tqdm with loss values\n",
    "            batch_iterator.set_postfix({\n",
    "                \"Gen Loss\": f\"{gen_loss.item():.4f}\",\n",
    "                \"Disc Loss\": f\"{disc_loss.item():.4f}\"\n",
    "            })\n",
    "\n",
    "            # Save the models if discriminator loss improves\n",
    "            if disc_loss.item() < best_disc_loss:\n",
    "                best_disc_loss = disc_loss.item()\n",
    "\n",
    "                # Save Generator and Discriminator models\n",
    "                gen_save_path = os.path.join(save_path, \"gen.pth\")\n",
    "                disc_save_path = os.path.join(save_path, \"disc.pth\")\n",
    "                torch.save(generator.state_dict(), gen_save_path)\n",
    "                torch.save(discriminator.state_dict(), disc_save_path)\n",
    "\n",
    "                print(f\"New best model saved with Disc Loss: {best_disc_loss:.4f}\")\n"
   ]
  },
  {
   "cell_type": "code",
   "execution_count": null,
   "id": "87da708e",
   "metadata": {
    "id": "-0rUMroE4O2n"
   },
   "outputs": [],
   "source": [
    "encoder = EEGEncoder().to(device)\n",
    "generator = Generator(noise_dim=100, conditional_dim=128).to(device)\n",
    "discriminator = Discriminator(conditional_dim=128).to(device)"
   ]
  },
  {
   "cell_type": "code",
   "execution_count": null,
   "id": "1977c13c",
   "metadata": {
    "id": "9bh3z0Ka4Wvl"
   },
   "outputs": [],
   "source": [
    "# Hyperparameters\n",
    "num_epochs = 20\n",
    "learning_rate = 0.0002\n",
    "batch_size = 32"
   ]
  },
  {
   "cell_type": "code",
   "execution_count": null,
   "id": "3dc82abf",
   "metadata": {
    "colab": {
     "base_uri": "https://localhost:8080/",
     "height": 1000
    },
    "id": "bmLIlyml3GNR",
    "outputId": "97601beb-8032-4ad6-9a5d-b5deedaf9169"
   },
   "outputs": [
    {
     "name": "stdout",
     "output_type": "stream",
     "text": [
      "Epoch 1/20\n"
     ]
    },
    {
     "name": "stderr",
     "output_type": "stream",
     "text": [
      "Training Progress for Epoch 1:   0%|          | 0/748 [00:18<?, ?it/s, Gen Loss=3.8522, Disc Loss=1.3813]"
     ]
    },
    {
     "name": "stdout",
     "output_type": "stream",
     "text": [
      "Discriminator Loss: 1.3813 | Generator Loss: 3.8522\n"
     ]
    },
    {
     "name": "stderr",
     "output_type": "stream",
     "text": [
      "\r",
      "Training Progress for Epoch 1:   0%|          | 1/748 [00:19<3:57:42, 19.09s/it, Gen Loss=3.8522, Disc Loss=1.3813]"
     ]
    },
    {
     "name": "stdout",
     "output_type": "stream",
     "text": [
      "New best model saved with Disc Loss: 1.3813\n"
     ]
    },
    {
     "name": "stderr",
     "output_type": "stream",
     "text": [
      "\r",
      "Training Progress for Epoch 1:   0%|          | 1/748 [00:37<3:57:42, 19.09s/it, Gen Loss=2.2515, Disc Loss=0.7285]"
     ]
    },
    {
     "name": "stdout",
     "output_type": "stream",
     "text": [
      "Discriminator Loss: 0.7285 | Generator Loss: 2.2515\n"
     ]
    },
    {
     "name": "stderr",
     "output_type": "stream",
     "text": [
      "\r",
      "Training Progress for Epoch 1:   0%|          | 2/748 [00:38<4:03:14, 19.56s/it, Gen Loss=2.2515, Disc Loss=0.7285]"
     ]
    },
    {
     "name": "stdout",
     "output_type": "stream",
     "text": [
      "New best model saved with Disc Loss: 0.7285\n"
     ]
    },
    {
     "name": "stderr",
     "output_type": "stream",
     "text": [
      "\r",
      "Training Progress for Epoch 1:   0%|          | 2/748 [00:56<4:03:14, 19.56s/it, Gen Loss=5.7295, Disc Loss=0.5500]"
     ]
    },
    {
     "name": "stdout",
     "output_type": "stream",
     "text": [
      "Discriminator Loss: 0.5500 | Generator Loss: 5.7295\n"
     ]
    },
    {
     "name": "stderr",
     "output_type": "stream",
     "text": [
      "\r",
      "Training Progress for Epoch 1:   0%|          | 3/748 [00:57<3:58:47, 19.23s/it, Gen Loss=5.7295, Disc Loss=0.5500]"
     ]
    },
    {
     "name": "stdout",
     "output_type": "stream",
     "text": [
      "New best model saved with Disc Loss: 0.5500\n"
     ]
    },
    {
     "name": "stderr",
     "output_type": "stream",
     "text": [
      "\r",
      "Training Progress for Epoch 1:   0%|          | 3/748 [01:15<3:58:47, 19.23s/it, Gen Loss=6.4405, Disc Loss=0.1181]"
     ]
    },
    {
     "name": "stdout",
     "output_type": "stream",
     "text": [
      "Discriminator Loss: 0.1181 | Generator Loss: 6.4405\n"
     ]
    },
    {
     "name": "stderr",
     "output_type": "stream",
     "text": [
      "\r",
      "Training Progress for Epoch 1:   1%|          | 4/748 [01:16<3:57:00, 19.11s/it, Gen Loss=6.4405, Disc Loss=0.1181]"
     ]
    },
    {
     "name": "stdout",
     "output_type": "stream",
     "text": [
      "New best model saved with Disc Loss: 0.1181\n"
     ]
    },
    {
     "name": "stderr",
     "output_type": "stream",
     "text": [
      "Training Progress for Epoch 1:   1%|          | 5/748 [01:35<3:53:30, 18.86s/it, Gen Loss=7.8329, Disc Loss=0.3152]"
     ]
    },
    {
     "name": "stdout",
     "output_type": "stream",
     "text": [
      "Discriminator Loss: 0.3152 | Generator Loss: 7.8329\n"
     ]
    },
    {
     "name": "stderr",
     "output_type": "stream",
     "text": [
      "Training Progress for Epoch 1:   1%|          | 6/748 [01:52<3:45:01, 18.20s/it, Gen Loss=10.3891, Disc Loss=0.1554]"
     ]
    },
    {
     "name": "stdout",
     "output_type": "stream",
     "text": [
      "Discriminator Loss: 0.1554 | Generator Loss: 10.3891\n"
     ]
    },
    {
     "name": "stderr",
     "output_type": "stream",
     "text": [
      "\r",
      "Training Progress for Epoch 1:   1%|          | 6/748 [02:08<3:45:01, 18.20s/it, Gen Loss=11.4449, Disc Loss=0.1094]"
     ]
    },
    {
     "name": "stdout",
     "output_type": "stream",
     "text": [
      "Discriminator Loss: 0.1094 | Generator Loss: 11.4449\n"
     ]
    },
    {
     "name": "stderr",
     "output_type": "stream",
     "text": [
      "\r",
      "Training Progress for Epoch 1:   1%|          | 7/748 [02:09<3:41:13, 17.91s/it, Gen Loss=11.4449, Disc Loss=0.1094]"
     ]
    },
    {
     "name": "stdout",
     "output_type": "stream",
     "text": [
      "New best model saved with Disc Loss: 0.1094\n"
     ]
    },
    {
     "name": "stderr",
     "output_type": "stream",
     "text": [
      "Training Progress for Epoch 1:   1%|          | 8/748 [02:27<3:43:02, 18.08s/it, Gen Loss=11.1289, Disc Loss=0.2280]"
     ]
    },
    {
     "name": "stdout",
     "output_type": "stream",
     "text": [
      "Discriminator Loss: 0.2280 | Generator Loss: 11.1289\n"
     ]
    },
    {
     "name": "stderr",
     "output_type": "stream",
     "text": [
      "\r",
      "Training Progress for Epoch 1:   1%|          | 8/748 [02:44<3:43:02, 18.08s/it, Gen Loss=7.6524, Disc Loss=0.0056] "
     ]
    },
    {
     "name": "stdout",
     "output_type": "stream",
     "text": [
      "Discriminator Loss: 0.0056 | Generator Loss: 7.6524\n"
     ]
    },
    {
     "name": "stderr",
     "output_type": "stream",
     "text": [
      "\r",
      "Training Progress for Epoch 1:   1%|          | 9/748 [02:44<3:38:57, 17.78s/it, Gen Loss=7.6524, Disc Loss=0.0056]"
     ]
    },
    {
     "name": "stdout",
     "output_type": "stream",
     "text": [
      "New best model saved with Disc Loss: 0.0056\n"
     ]
    },
    {
     "name": "stderr",
     "output_type": "stream",
     "text": [
      "Training Progress for Epoch 1:   1%|▏         | 10/748 [03:02<3:39:14, 17.82s/it, Gen Loss=5.0278, Disc Loss=0.0152]"
     ]
    },
    {
     "name": "stdout",
     "output_type": "stream",
     "text": [
      "Discriminator Loss: 0.0152 | Generator Loss: 5.0278\n"
     ]
    },
    {
     "name": "stderr",
     "output_type": "stream",
     "text": [
      "Training Progress for Epoch 1:   1%|▏         | 11/748 [03:19<3:33:35, 17.39s/it, Gen Loss=8.9587, Disc Loss=0.0953]"
     ]
    },
    {
     "name": "stdout",
     "output_type": "stream",
     "text": [
      "Discriminator Loss: 0.0953 | Generator Loss: 8.9587\n"
     ]
    },
    {
     "name": "stderr",
     "output_type": "stream",
     "text": [
      "\r",
      "Training Progress for Epoch 1:   1%|▏         | 11/748 [03:35<3:33:35, 17.39s/it, Gen Loss=10.3347, Disc Loss=0.0037]"
     ]
    },
    {
     "name": "stdout",
     "output_type": "stream",
     "text": [
      "Discriminator Loss: 0.0037 | Generator Loss: 10.3347\n"
     ]
    },
    {
     "name": "stderr",
     "output_type": "stream",
     "text": [
      "\r",
      "Training Progress for Epoch 1:   2%|▏         | 12/748 [03:35<3:30:32, 17.16s/it, Gen Loss=10.3347, Disc Loss=0.0037]"
     ]
    },
    {
     "name": "stdout",
     "output_type": "stream",
     "text": [
      "New best model saved with Disc Loss: 0.0037\n"
     ]
    },
    {
     "name": "stderr",
     "output_type": "stream",
     "text": [
      "\r",
      "Training Progress for Epoch 1:   2%|▏         | 12/748 [03:53<3:30:32, 17.16s/it, Gen Loss=9.9962, Disc Loss=0.0027] "
     ]
    },
    {
     "name": "stdout",
     "output_type": "stream",
     "text": [
      "Discriminator Loss: 0.0027 | Generator Loss: 9.9962\n"
     ]
    },
    {
     "name": "stderr",
     "output_type": "stream",
     "text": [
      "\r",
      "Training Progress for Epoch 1:   2%|▏         | 13/748 [03:54<3:34:23, 17.50s/it, Gen Loss=9.9962, Disc Loss=0.0027]"
     ]
    },
    {
     "name": "stdout",
     "output_type": "stream",
     "text": [
      "New best model saved with Disc Loss: 0.0027\n"
     ]
    },
    {
     "name": "stderr",
     "output_type": "stream",
     "text": [
      "Training Progress for Epoch 1:   2%|▏         | 14/748 [04:11<3:33:16, 17.43s/it, Gen Loss=8.8411, Disc Loss=0.0056]"
     ]
    },
    {
     "name": "stdout",
     "output_type": "stream",
     "text": [
      "Discriminator Loss: 0.0056 | Generator Loss: 8.8411\n"
     ]
    },
    {
     "name": "stderr",
     "output_type": "stream",
     "text": [
      "\r",
      "Training Progress for Epoch 1:   2%|▏         | 14/748 [04:26<3:33:16, 17.43s/it, Gen Loss=8.5647, Disc Loss=0.0012]"
     ]
    },
    {
     "name": "stdout",
     "output_type": "stream",
     "text": [
      "Discriminator Loss: 0.0012 | Generator Loss: 8.5647\n"
     ]
    },
    {
     "name": "stderr",
     "output_type": "stream",
     "text": [
      "\r",
      "Training Progress for Epoch 1:   2%|▏         | 15/748 [04:27<3:28:52, 17.10s/it, Gen Loss=8.5647, Disc Loss=0.0012]"
     ]
    },
    {
     "name": "stdout",
     "output_type": "stream",
     "text": [
      "New best model saved with Disc Loss: 0.0012\n"
     ]
    },
    {
     "name": "stderr",
     "output_type": "stream",
     "text": [
      "Training Progress for Epoch 1:   2%|▏         | 16/748 [04:44<3:28:51, 17.12s/it, Gen Loss=9.7762, Disc Loss=0.0048]"
     ]
    },
    {
     "name": "stdout",
     "output_type": "stream",
     "text": [
      "Discriminator Loss: 0.0048 | Generator Loss: 9.7762\n"
     ]
    },
    {
     "name": "stderr",
     "output_type": "stream",
     "text": [
      "\r",
      "Training Progress for Epoch 1:   2%|▏         | 16/748 [05:01<3:28:51, 17.12s/it, Gen Loss=10.9118, Disc Loss=0.0002]"
     ]
    },
    {
     "name": "stdout",
     "output_type": "stream",
     "text": [
      "Discriminator Loss: 0.0002 | Generator Loss: 10.9118\n"
     ]
    },
    {
     "name": "stderr",
     "output_type": "stream",
     "text": [
      "\r",
      "Training Progress for Epoch 1:   2%|▏         | 17/748 [05:01<3:27:32, 17.03s/it, Gen Loss=10.9118, Disc Loss=0.0002]"
     ]
    },
    {
     "name": "stdout",
     "output_type": "stream",
     "text": [
      "New best model saved with Disc Loss: 0.0002\n"
     ]
    },
    {
     "name": "stderr",
     "output_type": "stream",
     "text": [
      "Training Progress for Epoch 1:   2%|▏         | 18/748 [05:18<3:27:33, 17.06s/it, Gen Loss=10.4400, Disc Loss=0.0002]"
     ]
    },
    {
     "name": "stdout",
     "output_type": "stream",
     "text": [
      "Discriminator Loss: 0.0002 | Generator Loss: 10.4400\n"
     ]
    },
    {
     "name": "stderr",
     "output_type": "stream",
     "text": [
      "Training Progress for Epoch 1:   3%|▎         | 19/748 [05:34<3:22:51, 16.70s/it, Gen Loss=10.2921, Disc Loss=0.0010]"
     ]
    },
    {
     "name": "stdout",
     "output_type": "stream",
     "text": [
      "Discriminator Loss: 0.0010 | Generator Loss: 10.2921\n"
     ]
    },
    {
     "name": "stderr",
     "output_type": "stream",
     "text": [
      "Training Progress for Epoch 1:   3%|▎         | 20/748 [05:49<3:17:06, 16.25s/it, Gen Loss=8.8885, Disc Loss=0.0051]"
     ]
    },
    {
     "name": "stdout",
     "output_type": "stream",
     "text": [
      "Discriminator Loss: 0.0051 | Generator Loss: 8.8885\n"
     ]
    },
    {
     "name": "stderr",
     "output_type": "stream",
     "text": [
      "Training Progress for Epoch 1:   3%|▎         | 21/748 [06:05<3:14:38, 16.06s/it, Gen Loss=8.3558, Disc Loss=0.0032]"
     ]
    },
    {
     "name": "stdout",
     "output_type": "stream",
     "text": [
      "Discriminator Loss: 0.0032 | Generator Loss: 8.3558\n"
     ]
    },
    {
     "name": "stderr",
     "output_type": "stream",
     "text": [
      "Training Progress for Epoch 1:   3%|▎         | 22/748 [06:21<3:15:11, 16.13s/it, Gen Loss=8.8192, Disc Loss=0.0008]"
     ]
    },
    {
     "name": "stdout",
     "output_type": "stream",
     "text": [
      "Discriminator Loss: 0.0008 | Generator Loss: 8.8192\n"
     ]
    },
    {
     "name": "stderr",
     "output_type": "stream",
     "text": [
      "Training Progress for Epoch 1:   3%|▎         | 23/748 [06:37<3:13:45, 16.04s/it, Gen Loss=8.3069, Disc Loss=0.0014]"
     ]
    },
    {
     "name": "stdout",
     "output_type": "stream",
     "text": [
      "Discriminator Loss: 0.0014 | Generator Loss: 8.3069\n"
     ]
    },
    {
     "name": "stderr",
     "output_type": "stream",
     "text": [
      "Training Progress for Epoch 1:   3%|▎         | 24/748 [06:54<3:14:37, 16.13s/it, Gen Loss=8.2808, Disc Loss=0.0047]"
     ]
    },
    {
     "name": "stdout",
     "output_type": "stream",
     "text": [
      "Discriminator Loss: 0.0047 | Generator Loss: 8.2808\n"
     ]
    },
    {
     "name": "stderr",
     "output_type": "stream",
     "text": [
      "Training Progress for Epoch 1:   3%|▎         | 25/748 [07:09<3:11:52, 15.92s/it, Gen Loss=9.0834, Disc Loss=0.0014]"
     ]
    },
    {
     "name": "stdout",
     "output_type": "stream",
     "text": [
      "Discriminator Loss: 0.0014 | Generator Loss: 9.0834\n"
     ]
    },
    {
     "name": "stderr",
     "output_type": "stream",
     "text": [
      "Training Progress for Epoch 1:   3%|▎         | 26/748 [07:24<3:08:37, 15.67s/it, Gen Loss=8.7524, Disc Loss=0.0012]"
     ]
    },
    {
     "name": "stdout",
     "output_type": "stream",
     "text": [
      "Discriminator Loss: 0.0012 | Generator Loss: 8.7524\n"
     ]
    },
    {
     "name": "stderr",
     "output_type": "stream",
     "text": [
      "Training Progress for Epoch 1:   4%|▎         | 27/748 [07:40<3:10:31, 15.86s/it, Gen Loss=8.6414, Disc Loss=0.0008]"
     ]
    },
    {
     "name": "stdout",
     "output_type": "stream",
     "text": [
      "Discriminator Loss: 0.0008 | Generator Loss: 8.6414\n"
     ]
    },
    {
     "name": "stderr",
     "output_type": "stream",
     "text": [
      "Training Progress for Epoch 1:   4%|▎         | 28/748 [07:56<3:10:50, 15.90s/it, Gen Loss=8.9185, Disc Loss=0.0012]"
     ]
    },
    {
     "name": "stdout",
     "output_type": "stream",
     "text": [
      "Discriminator Loss: 0.0012 | Generator Loss: 8.9185\n"
     ]
    },
    {
     "name": "stderr",
     "output_type": "stream",
     "text": [
      "Training Progress for Epoch 1:   4%|▍         | 29/748 [08:11<3:06:43, 15.58s/it, Gen Loss=9.0285, Disc Loss=0.0003]"
     ]
    },
    {
     "name": "stdout",
     "output_type": "stream",
     "text": [
      "Discriminator Loss: 0.0003 | Generator Loss: 9.0285\n"
     ]
    },
    {
     "name": "stderr",
     "output_type": "stream",
     "text": [
      "Training Progress for Epoch 1:   4%|▍         | 30/748 [08:27<3:07:31, 15.67s/it, Gen Loss=9.7312, Disc Loss=0.0002]"
     ]
    },
    {
     "name": "stdout",
     "output_type": "stream",
     "text": [
      "Discriminator Loss: 0.0002 | Generator Loss: 9.7312\n"
     ]
    },
    {
     "name": "stderr",
     "output_type": "stream",
     "text": [
      "Training Progress for Epoch 1:   4%|▍         | 31/748 [08:43<3:08:08, 15.74s/it, Gen Loss=9.4894, Disc Loss=0.0004]"
     ]
    },
    {
     "name": "stdout",
     "output_type": "stream",
     "text": [
      "Discriminator Loss: 0.0004 | Generator Loss: 9.4894\n"
     ]
    },
    {
     "name": "stderr",
     "output_type": "stream",
     "text": [
      "Training Progress for Epoch 1:   4%|▍         | 32/748 [08:59<3:07:24, 15.70s/it, Gen Loss=9.5744, Disc Loss=0.0005]"
     ]
    },
    {
     "name": "stdout",
     "output_type": "stream",
     "text": [
      "Discriminator Loss: 0.0005 | Generator Loss: 9.5744\n"
     ]
    },
    {
     "name": "stderr",
     "output_type": "stream",
     "text": [
      "Training Progress for Epoch 1:   4%|▍         | 33/748 [09:15<3:10:51, 16.02s/it, Gen Loss=9.5364, Disc Loss=0.0005]"
     ]
    },
    {
     "name": "stdout",
     "output_type": "stream",
     "text": [
      "Discriminator Loss: 0.0005 | Generator Loss: 9.5364\n"
     ]
    },
    {
     "name": "stderr",
     "output_type": "stream",
     "text": [
      "Training Progress for Epoch 1:   5%|▍         | 34/748 [09:31<3:08:30, 15.84s/it, Gen Loss=10.5201, Disc Loss=0.0003]"
     ]
    },
    {
     "name": "stdout",
     "output_type": "stream",
     "text": [
      "Discriminator Loss: 0.0003 | Generator Loss: 10.5201\n"
     ]
    },
    {
     "name": "stderr",
     "output_type": "stream",
     "text": [
      "Training Progress for Epoch 1:   5%|▍         | 35/748 [09:47<3:08:33, 15.87s/it, Gen Loss=9.9713, Disc Loss=0.0005]"
     ]
    },
    {
     "name": "stdout",
     "output_type": "stream",
     "text": [
      "Discriminator Loss: 0.0005 | Generator Loss: 9.9713\n"
     ]
    },
    {
     "name": "stderr",
     "output_type": "stream",
     "text": [
      "Training Progress for Epoch 1:   5%|▍         | 36/748 [10:02<3:04:53, 15.58s/it, Gen Loss=11.0256, Disc Loss=0.0003]"
     ]
    },
    {
     "name": "stdout",
     "output_type": "stream",
     "text": [
      "Discriminator Loss: 0.0003 | Generator Loss: 11.0256\n"
     ]
    },
    {
     "name": "stderr",
     "output_type": "stream",
     "text": [
      "Training Progress for Epoch 1:   5%|▍         | 37/748 [10:17<3:02:40, 15.42s/it, Gen Loss=9.7619, Disc Loss=0.0002]"
     ]
    },
    {
     "name": "stdout",
     "output_type": "stream",
     "text": [
      "Discriminator Loss: 0.0002 | Generator Loss: 9.7619\n"
     ]
    },
    {
     "name": "stderr",
     "output_type": "stream",
     "text": [
      "Training Progress for Epoch 1:   5%|▌         | 38/748 [10:33<3:04:12, 15.57s/it, Gen Loss=9.4329, Disc Loss=0.0027]"
     ]
    },
    {
     "name": "stdout",
     "output_type": "stream",
     "text": [
      "Discriminator Loss: 0.0027 | Generator Loss: 9.4329\n"
     ]
    },
    {
     "name": "stderr",
     "output_type": "stream",
     "text": [
      "Training Progress for Epoch 1:   5%|▌         | 39/748 [10:47<2:59:34, 15.20s/it, Gen Loss=9.6684, Disc Loss=0.0006]"
     ]
    },
    {
     "name": "stdout",
     "output_type": "stream",
     "text": [
      "Discriminator Loss: 0.0006 | Generator Loss: 9.6684\n"
     ]
    },
    {
     "name": "stderr",
     "output_type": "stream",
     "text": [
      "Training Progress for Epoch 1:   5%|▌         | 40/748 [11:03<3:00:42, 15.31s/it, Gen Loss=10.0432, Disc Loss=0.0005]"
     ]
    },
    {
     "name": "stdout",
     "output_type": "stream",
     "text": [
      "Discriminator Loss: 0.0005 | Generator Loss: 10.0432\n"
     ]
    },
    {
     "name": "stderr",
     "output_type": "stream",
     "text": [
      "Training Progress for Epoch 1:   5%|▌         | 41/748 [11:19<3:05:32, 15.75s/it, Gen Loss=10.0580, Disc Loss=0.0002]"
     ]
    },
    {
     "name": "stdout",
     "output_type": "stream",
     "text": [
      "Discriminator Loss: 0.0002 | Generator Loss: 10.0580\n"
     ]
    },
    {
     "name": "stderr",
     "output_type": "stream",
     "text": [
      "Training Progress for Epoch 1:   6%|▌         | 42/748 [11:35<3:03:46, 15.62s/it, Gen Loss=11.8889, Disc Loss=0.0002]"
     ]
    },
    {
     "name": "stdout",
     "output_type": "stream",
     "text": [
      "Discriminator Loss: 0.0002 | Generator Loss: 11.8889\n"
     ]
    },
    {
     "name": "stderr",
     "output_type": "stream",
     "text": [
      "\r",
      "Training Progress for Epoch 1:   6%|▌         | 42/748 [11:49<3:03:46, 15.62s/it, Gen Loss=10.5917, Disc Loss=0.0001]"
     ]
    },
    {
     "name": "stdout",
     "output_type": "stream",
     "text": [
      "Discriminator Loss: 0.0001 | Generator Loss: 10.5917\n"
     ]
    },
    {
     "name": "stderr",
     "output_type": "stream",
     "text": [
      "\r",
      "Training Progress for Epoch 1:   6%|▌         | 43/748 [11:50<3:03:19, 15.60s/it, Gen Loss=10.5917, Disc Loss=0.0001]"
     ]
    },
    {
     "name": "stdout",
     "output_type": "stream",
     "text": [
      "New best model saved with Disc Loss: 0.0001\n"
     ]
    },
    {
     "name": "stderr",
     "output_type": "stream",
     "text": [
      "Training Progress for Epoch 1:   6%|▌         | 44/748 [12:07<3:08:08, 16.03s/it, Gen Loss=10.1750, Disc Loss=0.0001]"
     ]
    },
    {
     "name": "stdout",
     "output_type": "stream",
     "text": [
      "Discriminator Loss: 0.0001 | Generator Loss: 10.1750\n"
     ]
    },
    {
     "name": "stderr",
     "output_type": "stream",
     "text": [
      "Training Progress for Epoch 1:   6%|▌         | 45/748 [12:24<3:09:13, 16.15s/it, Gen Loss=10.5904, Disc Loss=0.0002]"
     ]
    },
    {
     "name": "stdout",
     "output_type": "stream",
     "text": [
      "Discriminator Loss: 0.0002 | Generator Loss: 10.5904\n"
     ]
    },
    {
     "name": "stderr",
     "output_type": "stream",
     "text": [
      "Training Progress for Epoch 1:   6%|▌         | 46/748 [12:40<3:08:22, 16.10s/it, Gen Loss=10.3054, Disc Loss=0.0002]"
     ]
    },
    {
     "name": "stdout",
     "output_type": "stream",
     "text": [
      "Discriminator Loss: 0.0002 | Generator Loss: 10.3054\n"
     ]
    },
    {
     "name": "stderr",
     "output_type": "stream",
     "text": [
      "Training Progress for Epoch 1:   6%|▋         | 47/748 [12:54<3:02:52, 15.65s/it, Gen Loss=10.4002, Disc Loss=0.0002]"
     ]
    },
    {
     "name": "stdout",
     "output_type": "stream",
     "text": [
      "Discriminator Loss: 0.0002 | Generator Loss: 10.4002\n"
     ]
    },
    {
     "name": "stderr",
     "output_type": "stream",
     "text": [
      "Training Progress for Epoch 1:   6%|▋         | 48/748 [13:10<3:01:34, 15.56s/it, Gen Loss=9.7139, Disc Loss=0.0003]"
     ]
    },
    {
     "name": "stdout",
     "output_type": "stream",
     "text": [
      "Discriminator Loss: 0.0003 | Generator Loss: 9.7139\n"
     ]
    },
    {
     "name": "stderr",
     "output_type": "stream",
     "text": [
      "Training Progress for Epoch 1:   7%|▋         | 49/748 [13:25<3:01:42, 15.60s/it, Gen Loss=10.2157, Disc Loss=0.0004]"
     ]
    },
    {
     "name": "stdout",
     "output_type": "stream",
     "text": [
      "Discriminator Loss: 0.0004 | Generator Loss: 10.2157\n"
     ]
    },
    {
     "name": "stderr",
     "output_type": "stream",
     "text": [
      "Training Progress for Epoch 1:   7%|▋         | 50/748 [13:41<3:02:36, 15.70s/it, Gen Loss=9.6559, Disc Loss=0.0003]"
     ]
    },
    {
     "name": "stdout",
     "output_type": "stream",
     "text": [
      "Discriminator Loss: 0.0003 | Generator Loss: 9.6559\n"
     ]
    },
    {
     "name": "stderr",
     "output_type": "stream",
     "text": [
      "Training Progress for Epoch 1:   7%|▋         | 51/748 [13:57<3:01:32, 15.63s/it, Gen Loss=9.2183, Disc Loss=0.0003]"
     ]
    },
    {
     "name": "stdout",
     "output_type": "stream",
     "text": [
      "Discriminator Loss: 0.0003 | Generator Loss: 9.2183\n"
     ]
    },
    {
     "name": "stderr",
     "output_type": "stream",
     "text": [
      "Training Progress for Epoch 1:   7%|▋         | 52/748 [14:12<2:59:47, 15.50s/it, Gen Loss=9.8498, Disc Loss=0.0005]"
     ]
    },
    {
     "name": "stdout",
     "output_type": "stream",
     "text": [
      "Discriminator Loss: 0.0005 | Generator Loss: 9.8498\n"
     ]
    },
    {
     "name": "stderr",
     "output_type": "stream",
     "text": [
      "Training Progress for Epoch 1:   7%|▋         | 53/748 [14:28<3:03:29, 15.84s/it, Gen Loss=9.9141, Disc Loss=0.0008]"
     ]
    },
    {
     "name": "stdout",
     "output_type": "stream",
     "text": [
      "Discriminator Loss: 0.0008 | Generator Loss: 9.9141\n"
     ]
    },
    {
     "name": "stderr",
     "output_type": "stream",
     "text": [
      "Training Progress for Epoch 1:   7%|▋         | 54/748 [14:44<3:01:33, 15.70s/it, Gen Loss=10.1787, Disc Loss=0.0005]"
     ]
    },
    {
     "name": "stdout",
     "output_type": "stream",
     "text": [
      "Discriminator Loss: 0.0005 | Generator Loss: 10.1787\n"
     ]
    },
    {
     "name": "stderr",
     "output_type": "stream",
     "text": [
      "Training Progress for Epoch 1:   7%|▋         | 55/748 [15:00<3:01:46, 15.74s/it, Gen Loss=11.5023, Disc Loss=0.0003]"
     ]
    },
    {
     "name": "stdout",
     "output_type": "stream",
     "text": [
      "Discriminator Loss: 0.0003 | Generator Loss: 11.5023\n"
     ]
    },
    {
     "name": "stderr",
     "output_type": "stream",
     "text": [
      "\r",
      "Training Progress for Epoch 1:   7%|▋         | 55/748 [15:15<3:01:46, 15.74s/it, Gen Loss=11.7995, Disc Loss=0.0001]"
     ]
    },
    {
     "name": "stdout",
     "output_type": "stream",
     "text": [
      "Discriminator Loss: 0.0001 | Generator Loss: 11.7995\n"
     ]
    },
    {
     "name": "stderr",
     "output_type": "stream",
     "text": [
      "\r",
      "Training Progress for Epoch 1:   7%|▋         | 56/748 [15:16<3:02:31, 15.83s/it, Gen Loss=11.7995, Disc Loss=0.0001]"
     ]
    },
    {
     "name": "stdout",
     "output_type": "stream",
     "text": [
      "New best model saved with Disc Loss: 0.0001\n"
     ]
    },
    {
     "name": "stderr",
     "output_type": "stream",
     "text": [
      "Training Progress for Epoch 1:   8%|▊         | 57/748 [15:32<3:02:52, 15.88s/it, Gen Loss=10.6305, Disc Loss=0.0004]"
     ]
    },
    {
     "name": "stdout",
     "output_type": "stream",
     "text": [
      "Discriminator Loss: 0.0004 | Generator Loss: 10.6305\n"
     ]
    },
    {
     "name": "stderr",
     "output_type": "stream",
     "text": [
      "Training Progress for Epoch 1:   8%|▊         | 58/748 [15:48<3:05:00, 16.09s/it, Gen Loss=11.3777, Disc Loss=0.0004]"
     ]
    },
    {
     "name": "stdout",
     "output_type": "stream",
     "text": [
      "Discriminator Loss: 0.0004 | Generator Loss: 11.3777\n"
     ]
    },
    {
     "name": "stderr",
     "output_type": "stream",
     "text": [
      "Training Progress for Epoch 1:   8%|▊         | 59/748 [16:04<3:03:01, 15.94s/it, Gen Loss=11.3791, Disc Loss=0.0002]"
     ]
    },
    {
     "name": "stdout",
     "output_type": "stream",
     "text": [
      "Discriminator Loss: 0.0002 | Generator Loss: 11.3791\n"
     ]
    },
    {
     "name": "stderr",
     "output_type": "stream",
     "text": [
      "Training Progress for Epoch 1:   8%|▊         | 60/748 [16:19<2:59:05, 15.62s/it, Gen Loss=12.5556, Disc Loss=0.0003]"
     ]
    },
    {
     "name": "stdout",
     "output_type": "stream",
     "text": [
      "Discriminator Loss: 0.0003 | Generator Loss: 12.5556\n"
     ]
    },
    {
     "name": "stderr",
     "output_type": "stream",
     "text": [
      "Training Progress for Epoch 1:   8%|▊         | 61/748 [16:34<2:57:28, 15.50s/it, Gen Loss=11.2558, Disc Loss=0.0003]"
     ]
    },
    {
     "name": "stdout",
     "output_type": "stream",
     "text": [
      "Discriminator Loss: 0.0003 | Generator Loss: 11.2558\n"
     ]
    },
    {
     "name": "stderr",
     "output_type": "stream",
     "text": [
      "Training Progress for Epoch 1:   8%|▊         | 62/748 [16:48<2:53:29, 15.17s/it, Gen Loss=10.5670, Disc Loss=0.0003]"
     ]
    },
    {
     "name": "stdout",
     "output_type": "stream",
     "text": [
      "Discriminator Loss: 0.0003 | Generator Loss: 10.5670\n"
     ]
    },
    {
     "name": "stderr",
     "output_type": "stream",
     "text": [
      "Training Progress for Epoch 1:   8%|▊         | 63/748 [17:04<2:53:11, 15.17s/it, Gen Loss=10.1140, Disc Loss=0.0005]"
     ]
    },
    {
     "name": "stdout",
     "output_type": "stream",
     "text": [
      "Discriminator Loss: 0.0005 | Generator Loss: 10.1140\n"
     ]
    },
    {
     "name": "stderr",
     "output_type": "stream",
     "text": [
      "Training Progress for Epoch 1:   9%|▊         | 64/748 [17:18<2:51:37, 15.05s/it, Gen Loss=10.1608, Disc Loss=0.0003]"
     ]
    },
    {
     "name": "stdout",
     "output_type": "stream",
     "text": [
      "Discriminator Loss: 0.0003 | Generator Loss: 10.1608\n"
     ]
    },
    {
     "name": "stderr",
     "output_type": "stream",
     "text": [
      "Training Progress for Epoch 1:   9%|▊         | 65/748 [17:34<2:52:25, 15.15s/it, Gen Loss=10.4662, Disc Loss=0.0002]"
     ]
    },
    {
     "name": "stdout",
     "output_type": "stream",
     "text": [
      "Discriminator Loss: 0.0002 | Generator Loss: 10.4662\n"
     ]
    },
    {
     "name": "stderr",
     "output_type": "stream",
     "text": [
      "Training Progress for Epoch 1:   9%|▉         | 66/748 [17:49<2:53:21, 15.25s/it, Gen Loss=11.4442, Disc Loss=0.0012]"
     ]
    },
    {
     "name": "stdout",
     "output_type": "stream",
     "text": [
      "Discriminator Loss: 0.0012 | Generator Loss: 11.4442\n"
     ]
    },
    {
     "name": "stderr",
     "output_type": "stream",
     "text": [
      "Training Progress for Epoch 1:   9%|▉         | 67/748 [18:05<2:53:23, 15.28s/it, Gen Loss=11.0119, Disc Loss=0.0003]"
     ]
    },
    {
     "name": "stdout",
     "output_type": "stream",
     "text": [
      "Discriminator Loss: 0.0003 | Generator Loss: 11.0119\n"
     ]
    },
    {
     "name": "stderr",
     "output_type": "stream",
     "text": [
      "Training Progress for Epoch 1:   9%|▉         | 68/748 [18:19<2:50:14, 15.02s/it, Gen Loss=11.5751, Disc Loss=0.0001]"
     ]
    },
    {
     "name": "stdout",
     "output_type": "stream",
     "text": [
      "Discriminator Loss: 0.0001 | Generator Loss: 11.5751\n"
     ]
    },
    {
     "name": "stderr",
     "output_type": "stream",
     "text": [
      "Training Progress for Epoch 1:   9%|▉         | 69/748 [18:34<2:51:25, 15.15s/it, Gen Loss=11.0347, Disc Loss=0.0003]"
     ]
    },
    {
     "name": "stdout",
     "output_type": "stream",
     "text": [
      "Discriminator Loss: 0.0003 | Generator Loss: 11.0347\n"
     ]
    },
    {
     "name": "stderr",
     "output_type": "stream",
     "text": [
      "Training Progress for Epoch 1:   9%|▉         | 70/748 [18:50<2:53:00, 15.31s/it, Gen Loss=11.0350, Disc Loss=0.0002]"
     ]
    },
    {
     "name": "stdout",
     "output_type": "stream",
     "text": [
      "Discriminator Loss: 0.0002 | Generator Loss: 11.0350\n"
     ]
    },
    {
     "name": "stderr",
     "output_type": "stream",
     "text": [
      "Training Progress for Epoch 1:   9%|▉         | 71/748 [19:04<2:48:51, 14.96s/it, Gen Loss=11.7303, Disc Loss=0.0004]"
     ]
    },
    {
     "name": "stdout",
     "output_type": "stream",
     "text": [
      "Discriminator Loss: 0.0004 | Generator Loss: 11.7303\n"
     ]
    },
    {
     "name": "stderr",
     "output_type": "stream",
     "text": [
      "Training Progress for Epoch 1:  10%|▉         | 72/748 [19:19<2:47:51, 14.90s/it, Gen Loss=10.7953, Disc Loss=0.0002]"
     ]
    },
    {
     "name": "stdout",
     "output_type": "stream",
     "text": [
      "Discriminator Loss: 0.0002 | Generator Loss: 10.7953\n"
     ]
    },
    {
     "name": "stderr",
     "output_type": "stream",
     "text": [
      "Training Progress for Epoch 1:  10%|▉         | 73/748 [19:34<2:48:36, 14.99s/it, Gen Loss=10.7051, Disc Loss=0.0002]"
     ]
    },
    {
     "name": "stdout",
     "output_type": "stream",
     "text": [
      "Discriminator Loss: 0.0002 | Generator Loss: 10.7051\n"
     ]
    },
    {
     "name": "stderr",
     "output_type": "stream",
     "text": [
      "Training Progress for Epoch 1:  10%|▉         | 74/748 [19:49<2:48:31, 15.00s/it, Gen Loss=12.4088, Disc Loss=0.0003]"
     ]
    },
    {
     "name": "stdout",
     "output_type": "stream",
     "text": [
      "Discriminator Loss: 0.0003 | Generator Loss: 12.4088\n"
     ]
    },
    {
     "name": "stderr",
     "output_type": "stream",
     "text": [
      "Training Progress for Epoch 1:  10%|█         | 75/748 [20:04<2:46:53, 14.88s/it, Gen Loss=10.5860, Disc Loss=0.0005]"
     ]
    },
    {
     "name": "stdout",
     "output_type": "stream",
     "text": [
      "Discriminator Loss: 0.0005 | Generator Loss: 10.5860\n"
     ]
    },
    {
     "name": "stderr",
     "output_type": "stream",
     "text": [
      "Training Progress for Epoch 1:  10%|█         | 76/748 [20:18<2:43:54, 14.64s/it, Gen Loss=10.9504, Disc Loss=0.0007]"
     ]
    },
    {
     "name": "stdout",
     "output_type": "stream",
     "text": [
      "Discriminator Loss: 0.0007 | Generator Loss: 10.9504\n"
     ]
    },
    {
     "name": "stderr",
     "output_type": "stream",
     "text": [
      "Training Progress for Epoch 1:  10%|█         | 77/748 [20:33<2:46:13, 14.86s/it, Gen Loss=11.6378, Disc Loss=0.0005]"
     ]
    },
    {
     "name": "stdout",
     "output_type": "stream",
     "text": [
      "Discriminator Loss: 0.0005 | Generator Loss: 11.6378\n"
     ]
    },
    {
     "name": "stderr",
     "output_type": "stream",
     "text": [
      "\r",
      "Training Progress for Epoch 1:  10%|█         | 77/748 [20:49<2:46:13, 14.86s/it, Gen Loss=11.9473, Disc Loss=0.0000]"
     ]
    },
    {
     "name": "stdout",
     "output_type": "stream",
     "text": [
      "Discriminator Loss: 0.0000 | Generator Loss: 11.9473\n"
     ]
    },
    {
     "name": "stderr",
     "output_type": "stream",
     "text": [
      "\r",
      "Training Progress for Epoch 1:  10%|█         | 78/748 [20:50<2:51:27, 15.35s/it, Gen Loss=11.9473, Disc Loss=0.0000]"
     ]
    },
    {
     "name": "stdout",
     "output_type": "stream",
     "text": [
      "New best model saved with Disc Loss: 0.0000\n"
     ]
    },
    {
     "name": "stderr",
     "output_type": "stream",
     "text": [
      "Training Progress for Epoch 1:  11%|█         | 79/748 [21:05<2:51:52, 15.42s/it, Gen Loss=11.5336, Disc Loss=0.0006]"
     ]
    },
    {
     "name": "stdout",
     "output_type": "stream",
     "text": [
      "Discriminator Loss: 0.0006 | Generator Loss: 11.5336\n"
     ]
    },
    {
     "name": "stderr",
     "output_type": "stream",
     "text": [
      "Training Progress for Epoch 1:  11%|█         | 80/748 [21:21<2:51:49, 15.43s/it, Gen Loss=11.7038, Disc Loss=0.0001]"
     ]
    },
    {
     "name": "stdout",
     "output_type": "stream",
     "text": [
      "Discriminator Loss: 0.0001 | Generator Loss: 11.7038\n"
     ]
    },
    {
     "name": "stderr",
     "output_type": "stream",
     "text": [
      "Training Progress for Epoch 1:  11%|█         | 81/748 [21:36<2:51:09, 15.40s/it, Gen Loss=11.7061, Disc Loss=0.0001]"
     ]
    },
    {
     "name": "stdout",
     "output_type": "stream",
     "text": [
      "Discriminator Loss: 0.0001 | Generator Loss: 11.7061\n"
     ]
    },
    {
     "name": "stderr",
     "output_type": "stream",
     "text": [
      "Training Progress for Epoch 1:  11%|█         | 82/748 [21:51<2:49:15, 15.25s/it, Gen Loss=11.2674, Disc Loss=0.0003]"
     ]
    },
    {
     "name": "stdout",
     "output_type": "stream",
     "text": [
      "Discriminator Loss: 0.0003 | Generator Loss: 11.2674\n"
     ]
    },
    {
     "name": "stderr",
     "output_type": "stream",
     "text": [
      "Training Progress for Epoch 1:  11%|█         | 83/748 [22:06<2:48:44, 15.22s/it, Gen Loss=11.0561, Disc Loss=0.0001]"
     ]
    },
    {
     "name": "stdout",
     "output_type": "stream",
     "text": [
      "Discriminator Loss: 0.0001 | Generator Loss: 11.0561\n"
     ]
    },
    {
     "name": "stderr",
     "output_type": "stream",
     "text": [
      "Training Progress for Epoch 1:  11%|█         | 84/748 [22:21<2:46:47, 15.07s/it, Gen Loss=10.9541, Disc Loss=0.0004]"
     ]
    },
    {
     "name": "stdout",
     "output_type": "stream",
     "text": [
      "Discriminator Loss: 0.0004 | Generator Loss: 10.9541\n"
     ]
    },
    {
     "name": "stderr",
     "output_type": "stream",
     "text": [
      "Training Progress for Epoch 1:  11%|█▏        | 85/748 [22:37<2:48:19, 15.23s/it, Gen Loss=10.7919, Disc Loss=0.0002]"
     ]
    },
    {
     "name": "stdout",
     "output_type": "stream",
     "text": [
      "Discriminator Loss: 0.0002 | Generator Loss: 10.7919\n"
     ]
    },
    {
     "name": "stderr",
     "output_type": "stream",
     "text": [
      "Training Progress for Epoch 1:  11%|█▏        | 86/748 [22:51<2:46:03, 15.05s/it, Gen Loss=10.7153, Disc Loss=0.0005]"
     ]
    },
    {
     "name": "stdout",
     "output_type": "stream",
     "text": [
      "Discriminator Loss: 0.0005 | Generator Loss: 10.7153\n"
     ]
    },
    {
     "name": "stderr",
     "output_type": "stream",
     "text": [
      "Training Progress for Epoch 1:  12%|█▏        | 87/748 [23:05<2:43:29, 14.84s/it, Gen Loss=11.4294, Disc Loss=0.0006]"
     ]
    },
    {
     "name": "stdout",
     "output_type": "stream",
     "text": [
      "Discriminator Loss: 0.0006 | Generator Loss: 11.4294\n"
     ]
    },
    {
     "name": "stderr",
     "output_type": "stream",
     "text": [
      "Training Progress for Epoch 1:  12%|█▏        | 88/748 [23:21<2:45:54, 15.08s/it, Gen Loss=10.9964, Disc Loss=0.0004]"
     ]
    },
    {
     "name": "stdout",
     "output_type": "stream",
     "text": [
      "Discriminator Loss: 0.0004 | Generator Loss: 10.9964\n"
     ]
    },
    {
     "name": "stderr",
     "output_type": "stream",
     "text": [
      "Training Progress for Epoch 1:  12%|█▏        | 89/748 [23:35<2:42:37, 14.81s/it, Gen Loss=11.4630, Disc Loss=0.0014]"
     ]
    },
    {
     "name": "stdout",
     "output_type": "stream",
     "text": [
      "Discriminator Loss: 0.0014 | Generator Loss: 11.4630\n"
     ]
    },
    {
     "name": "stderr",
     "output_type": "stream",
     "text": [
      "Training Progress for Epoch 1:  12%|█▏        | 90/748 [23:50<2:42:33, 14.82s/it, Gen Loss=11.3716, Disc Loss=0.0002]"
     ]
    },
    {
     "name": "stdout",
     "output_type": "stream",
     "text": [
      "Discriminator Loss: 0.0002 | Generator Loss: 11.3716\n"
     ]
    },
    {
     "name": "stderr",
     "output_type": "stream",
     "text": [
      "Training Progress for Epoch 1:  12%|█▏        | 91/748 [24:06<2:46:39, 15.22s/it, Gen Loss=12.7032, Disc Loss=0.0003]"
     ]
    },
    {
     "name": "stdout",
     "output_type": "stream",
     "text": [
      "Discriminator Loss: 0.0003 | Generator Loss: 12.7032\n"
     ]
    },
    {
     "name": "stderr",
     "output_type": "stream",
     "text": [
      "Training Progress for Epoch 1:  12%|█▏        | 92/748 [24:22<2:46:50, 15.26s/it, Gen Loss=12.2776, Disc Loss=0.0004]"
     ]
    },
    {
     "name": "stdout",
     "output_type": "stream",
     "text": [
      "Discriminator Loss: 0.0004 | Generator Loss: 12.2776\n"
     ]
    },
    {
     "name": "stderr",
     "output_type": "stream",
     "text": [
      "Training Progress for Epoch 1:  12%|█▏        | 93/748 [24:38<2:48:53, 15.47s/it, Gen Loss=12.7089, Disc Loss=0.0001]"
     ]
    },
    {
     "name": "stdout",
     "output_type": "stream",
     "text": [
      "Discriminator Loss: 0.0001 | Generator Loss: 12.7089\n"
     ]
    },
    {
     "name": "stderr",
     "output_type": "stream",
     "text": [
      "Training Progress for Epoch 1:  13%|█▎        | 94/748 [24:53<2:48:10, 15.43s/it, Gen Loss=12.9291, Disc Loss=0.0001]"
     ]
    },
    {
     "name": "stdout",
     "output_type": "stream",
     "text": [
      "Discriminator Loss: 0.0001 | Generator Loss: 12.9291\n"
     ]
    },
    {
     "name": "stderr",
     "output_type": "stream",
     "text": [
      "Training Progress for Epoch 1:  13%|█▎        | 95/748 [25:08<2:47:42, 15.41s/it, Gen Loss=11.8777, Disc Loss=0.0001]"
     ]
    },
    {
     "name": "stdout",
     "output_type": "stream",
     "text": [
      "Discriminator Loss: 0.0001 | Generator Loss: 11.8777\n"
     ]
    },
    {
     "name": "stderr",
     "output_type": "stream",
     "text": [
      "Training Progress for Epoch 1:  13%|█▎        | 96/748 [25:24<2:48:42, 15.53s/it, Gen Loss=12.0629, Disc Loss=0.0001]"
     ]
    },
    {
     "name": "stdout",
     "output_type": "stream",
     "text": [
      "Discriminator Loss: 0.0001 | Generator Loss: 12.0629\n"
     ]
    },
    {
     "name": "stderr",
     "output_type": "stream",
     "text": [
      "Training Progress for Epoch 1:  13%|█▎        | 97/748 [25:39<2:46:58, 15.39s/it, Gen Loss=11.0490, Disc Loss=0.0003]"
     ]
    },
    {
     "name": "stdout",
     "output_type": "stream",
     "text": [
      "Discriminator Loss: 0.0003 | Generator Loss: 11.0490\n"
     ]
    },
    {
     "name": "stderr",
     "output_type": "stream",
     "text": [
      "Training Progress for Epoch 1:  13%|█▎        | 98/748 [25:54<2:43:59, 15.14s/it, Gen Loss=11.8496, Disc Loss=0.0009]"
     ]
    },
    {
     "name": "stdout",
     "output_type": "stream",
     "text": [
      "Discriminator Loss: 0.0009 | Generator Loss: 11.8496\n"
     ]
    },
    {
     "name": "stderr",
     "output_type": "stream",
     "text": [
      "Training Progress for Epoch 1:  13%|█▎        | 99/748 [26:09<2:43:48, 15.14s/it, Gen Loss=11.3899, Disc Loss=0.0003]"
     ]
    },
    {
     "name": "stdout",
     "output_type": "stream",
     "text": [
      "Discriminator Loss: 0.0003 | Generator Loss: 11.3899\n"
     ]
    },
    {
     "name": "stderr",
     "output_type": "stream",
     "text": [
      "Training Progress for Epoch 1:  13%|█▎        | 100/748 [26:24<2:42:33, 15.05s/it, Gen Loss=11.7135, Disc Loss=0.0004]"
     ]
    },
    {
     "name": "stdout",
     "output_type": "stream",
     "text": [
      "Discriminator Loss: 0.0004 | Generator Loss: 11.7135\n"
     ]
    },
    {
     "name": "stderr",
     "output_type": "stream",
     "text": [
      "Training Progress for Epoch 1:  14%|█▎        | 101/748 [26:40<2:45:16, 15.33s/it, Gen Loss=10.6031, Disc Loss=0.0004]"
     ]
    },
    {
     "name": "stdout",
     "output_type": "stream",
     "text": [
      "Discriminator Loss: 0.0004 | Generator Loss: 10.6031\n"
     ]
    },
    {
     "name": "stderr",
     "output_type": "stream",
     "text": [
      "Training Progress for Epoch 1:  14%|█▎        | 102/748 [26:55<2:44:41, 15.30s/it, Gen Loss=10.6560, Disc Loss=0.0002]"
     ]
    },
    {
     "name": "stdout",
     "output_type": "stream",
     "text": [
      "Discriminator Loss: 0.0002 | Generator Loss: 10.6560\n"
     ]
    },
    {
     "name": "stderr",
     "output_type": "stream",
     "text": [
      "Training Progress for Epoch 1:  14%|█▍        | 103/748 [27:10<2:42:42, 15.14s/it, Gen Loss=11.2618, Disc Loss=0.0003]"
     ]
    },
    {
     "name": "stdout",
     "output_type": "stream",
     "text": [
      "Discriminator Loss: 0.0003 | Generator Loss: 11.2618\n"
     ]
    },
    {
     "name": "stderr",
     "output_type": "stream",
     "text": [
      "Training Progress for Epoch 1:  14%|█▍        | 104/748 [27:25<2:42:41, 15.16s/it, Gen Loss=9.7069, Disc Loss=0.0001]"
     ]
    },
    {
     "name": "stdout",
     "output_type": "stream",
     "text": [
      "Discriminator Loss: 0.0001 | Generator Loss: 9.7069\n"
     ]
    },
    {
     "name": "stderr",
     "output_type": "stream",
     "text": [
      "Training Progress for Epoch 1:  14%|█▍        | 105/748 [27:39<2:39:54, 14.92s/it, Gen Loss=11.8082, Disc Loss=0.0001]"
     ]
    },
    {
     "name": "stdout",
     "output_type": "stream",
     "text": [
      "Discriminator Loss: 0.0001 | Generator Loss: 11.8082\n"
     ]
    },
    {
     "name": "stderr",
     "output_type": "stream",
     "text": [
      "Training Progress for Epoch 1:  14%|█▍        | 106/748 [27:55<2:41:10, 15.06s/it, Gen Loss=10.8675, Disc Loss=0.0001]"
     ]
    },
    {
     "name": "stdout",
     "output_type": "stream",
     "text": [
      "Discriminator Loss: 0.0001 | Generator Loss: 10.8675\n"
     ]
    },
    {
     "name": "stderr",
     "output_type": "stream",
     "text": [
      "Training Progress for Epoch 1:  14%|█▍        | 107/748 [28:09<2:39:27, 14.93s/it, Gen Loss=10.9678, Disc Loss=0.0008]"
     ]
    },
    {
     "name": "stdout",
     "output_type": "stream",
     "text": [
      "Discriminator Loss: 0.0008 | Generator Loss: 10.9678\n"
     ]
    },
    {
     "name": "stderr",
     "output_type": "stream",
     "text": [
      "Training Progress for Epoch 1:  14%|█▍        | 108/748 [28:24<2:40:08, 15.01s/it, Gen Loss=10.6412, Disc Loss=0.0009]"
     ]
    },
    {
     "name": "stdout",
     "output_type": "stream",
     "text": [
      "Discriminator Loss: 0.0009 | Generator Loss: 10.6412\n"
     ]
    },
    {
     "name": "stderr",
     "output_type": "stream",
     "text": [
      "Training Progress for Epoch 1:  15%|█▍        | 109/748 [28:39<2:37:33, 14.79s/it, Gen Loss=11.6509, Disc Loss=0.0007]"
     ]
    },
    {
     "name": "stdout",
     "output_type": "stream",
     "text": [
      "Discriminator Loss: 0.0007 | Generator Loss: 11.6509\n"
     ]
    },
    {
     "name": "stderr",
     "output_type": "stream",
     "text": [
      "Training Progress for Epoch 1:  15%|█▍        | 110/748 [28:53<2:35:14, 14.60s/it, Gen Loss=12.4488, Disc Loss=0.0001]"
     ]
    },
    {
     "name": "stdout",
     "output_type": "stream",
     "text": [
      "Discriminator Loss: 0.0001 | Generator Loss: 12.4488\n"
     ]
    },
    {
     "name": "stderr",
     "output_type": "stream",
     "text": [
      "Training Progress for Epoch 1:  15%|█▍        | 111/748 [29:08<2:35:25, 14.64s/it, Gen Loss=12.0788, Disc Loss=0.0003]"
     ]
    },
    {
     "name": "stdout",
     "output_type": "stream",
     "text": [
      "Discriminator Loss: 0.0003 | Generator Loss: 12.0788\n"
     ]
    },
    {
     "name": "stderr",
     "output_type": "stream",
     "text": [
      "Training Progress for Epoch 1:  15%|█▍        | 112/748 [29:22<2:34:27, 14.57s/it, Gen Loss=13.1379, Disc Loss=0.0005]"
     ]
    },
    {
     "name": "stdout",
     "output_type": "stream",
     "text": [
      "Discriminator Loss: 0.0005 | Generator Loss: 13.1379\n"
     ]
    },
    {
     "name": "stderr",
     "output_type": "stream",
     "text": [
      "Training Progress for Epoch 1:  15%|█▌        | 113/748 [29:36<2:30:56, 14.26s/it, Gen Loss=12.7143, Disc Loss=0.0002]"
     ]
    },
    {
     "name": "stdout",
     "output_type": "stream",
     "text": [
      "Discriminator Loss: 0.0002 | Generator Loss: 12.7143\n"
     ]
    },
    {
     "name": "stderr",
     "output_type": "stream",
     "text": [
      "Training Progress for Epoch 1:  15%|█▌        | 114/748 [29:50<2:32:35, 14.44s/it, Gen Loss=12.7204, Disc Loss=0.0002]"
     ]
    },
    {
     "name": "stdout",
     "output_type": "stream",
     "text": [
      "Discriminator Loss: 0.0002 | Generator Loss: 12.7204\n"
     ]
    },
    {
     "name": "stderr",
     "output_type": "stream",
     "text": [
      "Training Progress for Epoch 1:  15%|█▌        | 115/748 [30:06<2:35:46, 14.77s/it, Gen Loss=12.1391, Disc Loss=0.0001]"
     ]
    },
    {
     "name": "stdout",
     "output_type": "stream",
     "text": [
      "Discriminator Loss: 0.0001 | Generator Loss: 12.1391\n"
     ]
    },
    {
     "name": "stderr",
     "output_type": "stream",
     "text": [
      "Training Progress for Epoch 1:  16%|█▌        | 116/748 [30:21<2:35:59, 14.81s/it, Gen Loss=11.5975, Disc Loss=0.0001]"
     ]
    },
    {
     "name": "stdout",
     "output_type": "stream",
     "text": [
      "Discriminator Loss: 0.0001 | Generator Loss: 11.5975\n"
     ]
    },
    {
     "name": "stderr",
     "output_type": "stream",
     "text": [
      "Training Progress for Epoch 1:  16%|█▌        | 117/748 [30:35<2:33:27, 14.59s/it, Gen Loss=11.7576, Disc Loss=0.0001]"
     ]
    },
    {
     "name": "stdout",
     "output_type": "stream",
     "text": [
      "Discriminator Loss: 0.0001 | Generator Loss: 11.7576\n"
     ]
    },
    {
     "name": "stderr",
     "output_type": "stream",
     "text": [
      "Training Progress for Epoch 1:  16%|█▌        | 118/748 [30:50<2:36:02, 14.86s/it, Gen Loss=11.4014, Disc Loss=0.0005]"
     ]
    },
    {
     "name": "stdout",
     "output_type": "stream",
     "text": [
      "Discriminator Loss: 0.0005 | Generator Loss: 11.4014\n"
     ]
    },
    {
     "name": "stderr",
     "output_type": "stream",
     "text": [
      "Training Progress for Epoch 1:  16%|█▌        | 119/748 [31:06<2:37:40, 15.04s/it, Gen Loss=11.7741, Disc Loss=0.0001]"
     ]
    },
    {
     "name": "stdout",
     "output_type": "stream",
     "text": [
      "Discriminator Loss: 0.0001 | Generator Loss: 11.7741\n"
     ]
    },
    {
     "name": "stderr",
     "output_type": "stream",
     "text": [
      "Training Progress for Epoch 1:  16%|█▌        | 120/748 [31:20<2:34:22, 14.75s/it, Gen Loss=13.9725, Disc Loss=0.0002]"
     ]
    },
    {
     "name": "stdout",
     "output_type": "stream",
     "text": [
      "Discriminator Loss: 0.0002 | Generator Loss: 13.9725\n"
     ]
    },
    {
     "name": "stderr",
     "output_type": "stream",
     "text": [
      "Training Progress for Epoch 1:  16%|█▌        | 121/748 [31:35<2:36:14, 14.95s/it, Gen Loss=10.2273, Disc Loss=0.0006]"
     ]
    },
    {
     "name": "stdout",
     "output_type": "stream",
     "text": [
      "Discriminator Loss: 0.0006 | Generator Loss: 10.2273\n"
     ]
    },
    {
     "name": "stderr",
     "output_type": "stream",
     "text": [
      "Training Progress for Epoch 1:  16%|█▋        | 122/748 [31:50<2:35:05, 14.87s/it, Gen Loss=11.5531, Disc Loss=0.0005]"
     ]
    },
    {
     "name": "stdout",
     "output_type": "stream",
     "text": [
      "Discriminator Loss: 0.0005 | Generator Loss: 11.5531\n"
     ]
    },
    {
     "name": "stderr",
     "output_type": "stream",
     "text": [
      "Training Progress for Epoch 1:  16%|█▋        | 123/748 [32:06<2:36:54, 15.06s/it, Gen Loss=11.6797, Disc Loss=0.0001]"
     ]
    },
    {
     "name": "stdout",
     "output_type": "stream",
     "text": [
      "Discriminator Loss: 0.0001 | Generator Loss: 11.6797\n"
     ]
    },
    {
     "name": "stderr",
     "output_type": "stream",
     "text": [
      "Training Progress for Epoch 1:  17%|█▋        | 124/748 [32:20<2:33:51, 14.79s/it, Gen Loss=10.8379, Disc Loss=0.0003]"
     ]
    },
    {
     "name": "stdout",
     "output_type": "stream",
     "text": [
      "Discriminator Loss: 0.0003 | Generator Loss: 10.8379\n"
     ]
    },
    {
     "name": "stderr",
     "output_type": "stream",
     "text": [
      "Training Progress for Epoch 1:  17%|█▋        | 125/748 [32:35<2:34:09, 14.85s/it, Gen Loss=10.1554, Disc Loss=0.0004]"
     ]
    },
    {
     "name": "stdout",
     "output_type": "stream",
     "text": [
      "Discriminator Loss: 0.0004 | Generator Loss: 10.1554\n"
     ]
    },
    {
     "name": "stderr",
     "output_type": "stream",
     "text": [
      "Training Progress for Epoch 1:  17%|█▋        | 126/748 [32:49<2:33:18, 14.79s/it, Gen Loss=11.1028, Disc Loss=0.0001]"
     ]
    },
    {
     "name": "stdout",
     "output_type": "stream",
     "text": [
      "Discriminator Loss: 0.0001 | Generator Loss: 11.1028\n"
     ]
    },
    {
     "name": "stderr",
     "output_type": "stream",
     "text": [
      "Training Progress for Epoch 1:  17%|█▋        | 127/748 [33:04<2:32:55, 14.78s/it, Gen Loss=11.1800, Disc Loss=0.0003]"
     ]
    },
    {
     "name": "stdout",
     "output_type": "stream",
     "text": [
      "Discriminator Loss: 0.0003 | Generator Loss: 11.1800\n"
     ]
    },
    {
     "name": "stderr",
     "output_type": "stream",
     "text": [
      "Training Progress for Epoch 1:  17%|█▋        | 128/748 [33:18<2:30:42, 14.59s/it, Gen Loss=11.6480, Disc Loss=0.0005]"
     ]
    },
    {
     "name": "stdout",
     "output_type": "stream",
     "text": [
      "Discriminator Loss: 0.0005 | Generator Loss: 11.6480\n"
     ]
    },
    {
     "name": "stderr",
     "output_type": "stream",
     "text": [
      "Training Progress for Epoch 1:  17%|█▋        | 129/748 [33:32<2:28:06, 14.36s/it, Gen Loss=11.6760, Disc Loss=0.0001]"
     ]
    },
    {
     "name": "stdout",
     "output_type": "stream",
     "text": [
      "Discriminator Loss: 0.0001 | Generator Loss: 11.6760\n"
     ]
    },
    {
     "name": "stderr",
     "output_type": "stream",
     "text": [
      "Training Progress for Epoch 1:  17%|█▋        | 130/748 [33:47<2:30:55, 14.65s/it, Gen Loss=13.7843, Disc Loss=0.0001]"
     ]
    },
    {
     "name": "stdout",
     "output_type": "stream",
     "text": [
      "Discriminator Loss: 0.0001 | Generator Loss: 13.7843\n"
     ]
    },
    {
     "name": "stderr",
     "output_type": "stream",
     "text": [
      "Training Progress for Epoch 1:  18%|█▊        | 131/748 [34:01<2:28:50, 14.47s/it, Gen Loss=11.3797, Disc Loss=0.0002]"
     ]
    },
    {
     "name": "stdout",
     "output_type": "stream",
     "text": [
      "Discriminator Loss: 0.0002 | Generator Loss: 11.3797\n"
     ]
    },
    {
     "name": "stderr",
     "output_type": "stream",
     "text": [
      "Training Progress for Epoch 1:  18%|█▊        | 132/748 [34:15<2:25:10, 14.14s/it, Gen Loss=11.8381, Disc Loss=0.0001]"
     ]
    },
    {
     "name": "stdout",
     "output_type": "stream",
     "text": [
      "Discriminator Loss: 0.0001 | Generator Loss: 11.8381\n"
     ]
    },
    {
     "name": "stderr",
     "output_type": "stream",
     "text": [
      "Training Progress for Epoch 1:  18%|█▊        | 133/748 [34:29<2:25:09, 14.16s/it, Gen Loss=11.0922, Disc Loss=0.0001]"
     ]
    },
    {
     "name": "stdout",
     "output_type": "stream",
     "text": [
      "Discriminator Loss: 0.0001 | Generator Loss: 11.0922\n"
     ]
    },
    {
     "name": "stderr",
     "output_type": "stream",
     "text": [
      "Training Progress for Epoch 1:  18%|█▊        | 134/748 [34:43<2:22:59, 13.97s/it, Gen Loss=11.2571, Disc Loss=0.0002]"
     ]
    },
    {
     "name": "stdout",
     "output_type": "stream",
     "text": [
      "Discriminator Loss: 0.0002 | Generator Loss: 11.2571\n"
     ]
    },
    {
     "name": "stderr",
     "output_type": "stream",
     "text": [
      "Training Progress for Epoch 1:  18%|█▊        | 135/748 [34:57<2:23:02, 14.00s/it, Gen Loss=10.9411, Disc Loss=0.0001]"
     ]
    },
    {
     "name": "stdout",
     "output_type": "stream",
     "text": [
      "Discriminator Loss: 0.0001 | Generator Loss: 10.9411\n"
     ]
    },
    {
     "name": "stderr",
     "output_type": "stream",
     "text": [
      "Training Progress for Epoch 1:  18%|█▊        | 136/748 [35:11<2:23:32, 14.07s/it, Gen Loss=10.3379, Disc Loss=0.0002]"
     ]
    },
    {
     "name": "stdout",
     "output_type": "stream",
     "text": [
      "Discriminator Loss: 0.0002 | Generator Loss: 10.3379\n"
     ]
    },
    {
     "name": "stderr",
     "output_type": "stream",
     "text": [
      "Training Progress for Epoch 1:  18%|█▊        | 137/748 [35:25<2:22:53, 14.03s/it, Gen Loss=10.5951, Disc Loss=0.0002]"
     ]
    },
    {
     "name": "stdout",
     "output_type": "stream",
     "text": [
      "Discriminator Loss: 0.0002 | Generator Loss: 10.5951\n"
     ]
    },
    {
     "name": "stderr",
     "output_type": "stream",
     "text": [
      "Training Progress for Epoch 1:  18%|█▊        | 138/748 [35:38<2:19:40, 13.74s/it, Gen Loss=11.4222, Disc Loss=0.0003]"
     ]
    },
    {
     "name": "stdout",
     "output_type": "stream",
     "text": [
      "Discriminator Loss: 0.0003 | Generator Loss: 11.4222\n"
     ]
    },
    {
     "name": "stderr",
     "output_type": "stream",
     "text": [
      "Training Progress for Epoch 1:  19%|█▊        | 139/748 [35:51<2:17:07, 13.51s/it, Gen Loss=11.3713, Disc Loss=0.0002]"
     ]
    },
    {
     "name": "stdout",
     "output_type": "stream",
     "text": [
      "Discriminator Loss: 0.0002 | Generator Loss: 11.3713\n"
     ]
    },
    {
     "name": "stderr",
     "output_type": "stream",
     "text": [
      "\r",
      "Training Progress for Epoch 1:  19%|█▊        | 139/748 [36:05<2:17:07, 13.51s/it, Gen Loss=13.8215, Disc Loss=0.0000]"
     ]
    },
    {
     "name": "stdout",
     "output_type": "stream",
     "text": [
      "Discriminator Loss: 0.0000 | Generator Loss: 13.8215\n"
     ]
    },
    {
     "name": "stderr",
     "output_type": "stream",
     "text": [
      "\r",
      "Training Progress for Epoch 1:  19%|█▊        | 140/748 [36:06<2:20:59, 13.91s/it, Gen Loss=13.8215, Disc Loss=0.0000]"
     ]
    },
    {
     "name": "stdout",
     "output_type": "stream",
     "text": [
      "New best model saved with Disc Loss: 0.0000\n"
     ]
    },
    {
     "name": "stderr",
     "output_type": "stream",
     "text": [
      "Training Progress for Epoch 1:  19%|█▉        | 141/748 [36:22<2:27:22, 14.57s/it, Gen Loss=10.9524, Disc Loss=0.0003]"
     ]
    },
    {
     "name": "stdout",
     "output_type": "stream",
     "text": [
      "Discriminator Loss: 0.0003 | Generator Loss: 10.9524\n"
     ]
    },
    {
     "name": "stderr",
     "output_type": "stream",
     "text": [
      "Training Progress for Epoch 1:  19%|█▉        | 142/748 [36:37<2:28:53, 14.74s/it, Gen Loss=11.4274, Disc Loss=0.0002]"
     ]
    },
    {
     "name": "stdout",
     "output_type": "stream",
     "text": [
      "Discriminator Loss: 0.0002 | Generator Loss: 11.4274\n"
     ]
    },
    {
     "name": "stderr",
     "output_type": "stream",
     "text": [
      "Training Progress for Epoch 1:  19%|█▉        | 143/748 [36:51<2:27:55, 14.67s/it, Gen Loss=10.7469, Disc Loss=0.0003]"
     ]
    },
    {
     "name": "stdout",
     "output_type": "stream",
     "text": [
      "Discriminator Loss: 0.0003 | Generator Loss: 10.7469\n"
     ]
    },
    {
     "name": "stderr",
     "output_type": "stream",
     "text": [
      "Training Progress for Epoch 1:  19%|█▉        | 144/748 [37:06<2:26:26, 14.55s/it, Gen Loss=11.4282, Disc Loss=0.0005]"
     ]
    },
    {
     "name": "stdout",
     "output_type": "stream",
     "text": [
      "Discriminator Loss: 0.0005 | Generator Loss: 11.4282\n"
     ]
    },
    {
     "name": "stderr",
     "output_type": "stream",
     "text": [
      "Training Progress for Epoch 1:  19%|█▉        | 145/748 [37:20<2:24:24, 14.37s/it, Gen Loss=11.7330, Disc Loss=0.0006]"
     ]
    },
    {
     "name": "stdout",
     "output_type": "stream",
     "text": [
      "Discriminator Loss: 0.0006 | Generator Loss: 11.7330\n"
     ]
    },
    {
     "name": "stderr",
     "output_type": "stream",
     "text": [
      "Training Progress for Epoch 1:  20%|█▉        | 146/748 [37:35<2:25:39, 14.52s/it, Gen Loss=12.0555, Disc Loss=0.0002]"
     ]
    },
    {
     "name": "stdout",
     "output_type": "stream",
     "text": [
      "Discriminator Loss: 0.0002 | Generator Loss: 12.0555\n"
     ]
    },
    {
     "name": "stderr",
     "output_type": "stream",
     "text": [
      "Training Progress for Epoch 1:  20%|█▉        | 147/748 [37:49<2:24:08, 14.39s/it, Gen Loss=11.8311, Disc Loss=0.0001]"
     ]
    },
    {
     "name": "stdout",
     "output_type": "stream",
     "text": [
      "Discriminator Loss: 0.0001 | Generator Loss: 11.8311\n"
     ]
    },
    {
     "name": "stderr",
     "output_type": "stream",
     "text": [
      "Training Progress for Epoch 1:  20%|█▉        | 148/748 [38:03<2:22:18, 14.23s/it, Gen Loss=11.9451, Disc Loss=0.0002]"
     ]
    },
    {
     "name": "stdout",
     "output_type": "stream",
     "text": [
      "Discriminator Loss: 0.0002 | Generator Loss: 11.9451\n"
     ]
    },
    {
     "name": "stderr",
     "output_type": "stream",
     "text": [
      "Training Progress for Epoch 1:  20%|█▉        | 149/748 [38:15<2:16:37, 13.69s/it, Gen Loss=11.3870, Disc Loss=0.0002]"
     ]
    },
    {
     "name": "stdout",
     "output_type": "stream",
     "text": [
      "Discriminator Loss: 0.0002 | Generator Loss: 11.3870\n"
     ]
    },
    {
     "name": "stderr",
     "output_type": "stream",
     "text": [
      "Training Progress for Epoch 1:  20%|██        | 150/748 [38:27<2:11:49, 13.23s/it, Gen Loss=11.3729, Disc Loss=0.0002]"
     ]
    },
    {
     "name": "stdout",
     "output_type": "stream",
     "text": [
      "Discriminator Loss: 0.0002 | Generator Loss: 11.3729\n"
     ]
    },
    {
     "name": "stderr",
     "output_type": "stream",
     "text": [
      "Training Progress for Epoch 1:  20%|██        | 151/748 [38:41<2:13:20, 13.40s/it, Gen Loss=10.9920, Disc Loss=0.0002]"
     ]
    },
    {
     "name": "stdout",
     "output_type": "stream",
     "text": [
      "Discriminator Loss: 0.0002 | Generator Loss: 10.9920\n"
     ]
    },
    {
     "name": "stderr",
     "output_type": "stream",
     "text": [
      "Training Progress for Epoch 1:  20%|██        | 152/748 [38:53<2:10:08, 13.10s/it, Gen Loss=10.9726, Disc Loss=0.0002]"
     ]
    },
    {
     "name": "stdout",
     "output_type": "stream",
     "text": [
      "Discriminator Loss: 0.0002 | Generator Loss: 10.9726\n"
     ]
    },
    {
     "name": "stderr",
     "output_type": "stream",
     "text": [
      "Training Progress for Epoch 1:  20%|██        | 153/748 [39:07<2:11:28, 13.26s/it, Gen Loss=12.3361, Disc Loss=0.0004]"
     ]
    },
    {
     "name": "stdout",
     "output_type": "stream",
     "text": [
      "Discriminator Loss: 0.0004 | Generator Loss: 12.3361\n"
     ]
    },
    {
     "name": "stderr",
     "output_type": "stream",
     "text": [
      "Training Progress for Epoch 1:  21%|██        | 154/748 [39:20<2:10:11, 13.15s/it, Gen Loss=11.9322, Disc Loss=0.0001]"
     ]
    },
    {
     "name": "stdout",
     "output_type": "stream",
     "text": [
      "Discriminator Loss: 0.0001 | Generator Loss: 11.9322\n"
     ]
    },
    {
     "name": "stderr",
     "output_type": "stream",
     "text": [
      "Training Progress for Epoch 1:  21%|██        | 155/748 [39:34<2:12:46, 13.43s/it, Gen Loss=11.3980, Disc Loss=0.0001]"
     ]
    },
    {
     "name": "stdout",
     "output_type": "stream",
     "text": [
      "Discriminator Loss: 0.0001 | Generator Loss: 11.3980\n"
     ]
    },
    {
     "name": "stderr",
     "output_type": "stream",
     "text": [
      "Training Progress for Epoch 1:  21%|██        | 156/748 [39:48<2:14:30, 13.63s/it, Gen Loss=10.4412, Disc Loss=0.0003]"
     ]
    },
    {
     "name": "stdout",
     "output_type": "stream",
     "text": [
      "Discriminator Loss: 0.0003 | Generator Loss: 10.4412\n"
     ]
    },
    {
     "name": "stderr",
     "output_type": "stream",
     "text": [
      "Training Progress for Epoch 1:  21%|██        | 157/748 [40:01<2:13:32, 13.56s/it, Gen Loss=10.6354, Disc Loss=0.0002]"
     ]
    },
    {
     "name": "stdout",
     "output_type": "stream",
     "text": [
      "Discriminator Loss: 0.0002 | Generator Loss: 10.6354\n"
     ]
    },
    {
     "name": "stderr",
     "output_type": "stream",
     "text": [
      "Training Progress for Epoch 1:  21%|██        | 158/748 [40:15<2:13:13, 13.55s/it, Gen Loss=10.5355, Disc Loss=0.0003]"
     ]
    },
    {
     "name": "stdout",
     "output_type": "stream",
     "text": [
      "Discriminator Loss: 0.0003 | Generator Loss: 10.5355\n"
     ]
    },
    {
     "name": "stderr",
     "output_type": "stream",
     "text": [
      "Training Progress for Epoch 1:  21%|██▏       | 159/748 [40:29<2:13:47, 13.63s/it, Gen Loss=10.6512, Disc Loss=0.0005]"
     ]
    },
    {
     "name": "stdout",
     "output_type": "stream",
     "text": [
      "Discriminator Loss: 0.0005 | Generator Loss: 10.6512\n"
     ]
    },
    {
     "name": "stderr",
     "output_type": "stream",
     "text": [
      "Training Progress for Epoch 1:  21%|██▏       | 160/748 [40:42<2:13:58, 13.67s/it, Gen Loss=10.8897, Disc Loss=0.0009]"
     ]
    },
    {
     "name": "stdout",
     "output_type": "stream",
     "text": [
      "Discriminator Loss: 0.0009 | Generator Loss: 10.8897\n"
     ]
    },
    {
     "name": "stderr",
     "output_type": "stream",
     "text": [
      "Training Progress for Epoch 1:  22%|██▏       | 161/748 [40:57<2:17:04, 14.01s/it, Gen Loss=10.8378, Disc Loss=0.0001]"
     ]
    },
    {
     "name": "stdout",
     "output_type": "stream",
     "text": [
      "Discriminator Loss: 0.0001 | Generator Loss: 10.8378\n"
     ]
    },
    {
     "name": "stderr",
     "output_type": "stream",
     "text": [
      "Training Progress for Epoch 1:  22%|██▏       | 162/748 [41:11<2:15:26, 13.87s/it, Gen Loss=12.6869, Disc Loss=0.0003]"
     ]
    },
    {
     "name": "stdout",
     "output_type": "stream",
     "text": [
      "Discriminator Loss: 0.0003 | Generator Loss: 12.6869\n"
     ]
    },
    {
     "name": "stderr",
     "output_type": "stream",
     "text": [
      "Training Progress for Epoch 1:  22%|██▏       | 163/748 [41:24<2:14:21, 13.78s/it, Gen Loss=12.3418, Disc Loss=0.0004]"
     ]
    },
    {
     "name": "stdout",
     "output_type": "stream",
     "text": [
      "Discriminator Loss: 0.0004 | Generator Loss: 12.3418\n"
     ]
    },
    {
     "name": "stderr",
     "output_type": "stream",
     "text": [
      "Training Progress for Epoch 1:  22%|██▏       | 164/748 [41:39<2:16:28, 14.02s/it, Gen Loss=11.6280, Disc Loss=0.0003]"
     ]
    },
    {
     "name": "stdout",
     "output_type": "stream",
     "text": [
      "Discriminator Loss: 0.0003 | Generator Loss: 11.6280\n"
     ]
    },
    {
     "name": "stderr",
     "output_type": "stream",
     "text": [
      "Training Progress for Epoch 1:  22%|██▏       | 165/748 [41:54<2:18:57, 14.30s/it, Gen Loss=11.5198, Disc Loss=0.0005]"
     ]
    },
    {
     "name": "stdout",
     "output_type": "stream",
     "text": [
      "Discriminator Loss: 0.0005 | Generator Loss: 11.5198\n"
     ]
    },
    {
     "name": "stderr",
     "output_type": "stream",
     "text": [
      "Training Progress for Epoch 1:  22%|██▏       | 166/748 [42:08<2:18:39, 14.30s/it, Gen Loss=11.1986, Disc Loss=0.0004]"
     ]
    },
    {
     "name": "stdout",
     "output_type": "stream",
     "text": [
      "Discriminator Loss: 0.0004 | Generator Loss: 11.1986\n"
     ]
    },
    {
     "name": "stderr",
     "output_type": "stream",
     "text": [
      "Training Progress for Epoch 1:  22%|██▏       | 167/748 [42:22<2:16:37, 14.11s/it, Gen Loss=11.7187, Disc Loss=0.0002]"
     ]
    },
    {
     "name": "stdout",
     "output_type": "stream",
     "text": [
      "Discriminator Loss: 0.0002 | Generator Loss: 11.7187\n"
     ]
    },
    {
     "name": "stderr",
     "output_type": "stream",
     "text": [
      "Training Progress for Epoch 1:  22%|██▏       | 168/748 [42:37<2:19:27, 14.43s/it, Gen Loss=11.3837, Disc Loss=0.0003]"
     ]
    },
    {
     "name": "stdout",
     "output_type": "stream",
     "text": [
      "Discriminator Loss: 0.0003 | Generator Loss: 11.3837\n"
     ]
    },
    {
     "name": "stderr",
     "output_type": "stream",
     "text": [
      "Training Progress for Epoch 1:  23%|██▎       | 169/748 [42:51<2:17:14, 14.22s/it, Gen Loss=11.2802, Disc Loss=0.0003]"
     ]
    },
    {
     "name": "stdout",
     "output_type": "stream",
     "text": [
      "Discriminator Loss: 0.0003 | Generator Loss: 11.2802\n"
     ]
    },
    {
     "name": "stderr",
     "output_type": "stream",
     "text": [
      "Training Progress for Epoch 1:  23%|██▎       | 170/748 [43:05<2:15:46, 14.09s/it, Gen Loss=12.2456, Disc Loss=0.0001]"
     ]
    },
    {
     "name": "stdout",
     "output_type": "stream",
     "text": [
      "Discriminator Loss: 0.0001 | Generator Loss: 12.2456\n"
     ]
    },
    {
     "name": "stderr",
     "output_type": "stream",
     "text": [
      "Training Progress for Epoch 1:  23%|██▎       | 171/748 [43:18<2:14:44, 14.01s/it, Gen Loss=11.7003, Disc Loss=0.0003]"
     ]
    },
    {
     "name": "stdout",
     "output_type": "stream",
     "text": [
      "Discriminator Loss: 0.0003 | Generator Loss: 11.7003\n"
     ]
    },
    {
     "name": "stderr",
     "output_type": "stream",
     "text": [
      "Training Progress for Epoch 1:  23%|██▎       | 172/748 [43:33<2:15:03, 14.07s/it, Gen Loss=11.5032, Disc Loss=0.0002]"
     ]
    },
    {
     "name": "stdout",
     "output_type": "stream",
     "text": [
      "Discriminator Loss: 0.0002 | Generator Loss: 11.5032\n"
     ]
    },
    {
     "name": "stderr",
     "output_type": "stream",
     "text": [
      "Training Progress for Epoch 1:  23%|██▎       | 173/748 [43:46<2:13:45, 13.96s/it, Gen Loss=11.3767, Disc Loss=0.0005]"
     ]
    },
    {
     "name": "stdout",
     "output_type": "stream",
     "text": [
      "Discriminator Loss: 0.0005 | Generator Loss: 11.3767\n"
     ]
    },
    {
     "name": "stderr",
     "output_type": "stream",
     "text": [
      "Training Progress for Epoch 1:  23%|██▎       | 174/748 [43:59<2:11:10, 13.71s/it, Gen Loss=10.8966, Disc Loss=0.0001]"
     ]
    },
    {
     "name": "stdout",
     "output_type": "stream",
     "text": [
      "Discriminator Loss: 0.0001 | Generator Loss: 10.8966\n"
     ]
    },
    {
     "name": "stderr",
     "output_type": "stream",
     "text": [
      "\r",
      "Training Progress for Epoch 1:  23%|██▎       | 174/748 [44:14<2:11:10, 13.71s/it, Gen Loss=10.4211, Disc Loss=0.0000]"
     ]
    },
    {
     "name": "stdout",
     "output_type": "stream",
     "text": [
      "Discriminator Loss: 0.0000 | Generator Loss: 10.4211\n"
     ]
    },
    {
     "name": "stderr",
     "output_type": "stream",
     "text": [
      "\r",
      "Training Progress for Epoch 1:  23%|██▎       | 175/748 [44:14<2:14:32, 14.09s/it, Gen Loss=10.4211, Disc Loss=0.0000]"
     ]
    },
    {
     "name": "stdout",
     "output_type": "stream",
     "text": [
      "New best model saved with Disc Loss: 0.0000\n"
     ]
    },
    {
     "name": "stderr",
     "output_type": "stream",
     "text": [
      "Training Progress for Epoch 1:  24%|██▎       | 176/748 [44:30<2:17:09, 14.39s/it, Gen Loss=10.9085, Disc Loss=0.0003]"
     ]
    },
    {
     "name": "stdout",
     "output_type": "stream",
     "text": [
      "Discriminator Loss: 0.0003 | Generator Loss: 10.9085\n"
     ]
    },
    {
     "name": "stderr",
     "output_type": "stream",
     "text": [
      "Training Progress for Epoch 1:  24%|██▎       | 177/748 [44:43<2:14:12, 14.10s/it, Gen Loss=15.3712, Disc Loss=0.0012]"
     ]
    },
    {
     "name": "stdout",
     "output_type": "stream",
     "text": [
      "Discriminator Loss: 0.0012 | Generator Loss: 15.3712\n"
     ]
    },
    {
     "name": "stderr",
     "output_type": "stream",
     "text": [
      "Training Progress for Epoch 1:  24%|██▍       | 178/748 [44:56<2:11:04, 13.80s/it, Gen Loss=15.7043, Disc Loss=0.0001]"
     ]
    },
    {
     "name": "stdout",
     "output_type": "stream",
     "text": [
      "Discriminator Loss: 0.0001 | Generator Loss: 15.7043\n"
     ]
    },
    {
     "name": "stderr",
     "output_type": "stream",
     "text": [
      "Training Progress for Epoch 1:  24%|██▍       | 179/748 [45:10<2:10:07, 13.72s/it, Gen Loss=13.7704, Disc Loss=0.0001]"
     ]
    },
    {
     "name": "stdout",
     "output_type": "stream",
     "text": [
      "Discriminator Loss: 0.0001 | Generator Loss: 13.7704\n"
     ]
    },
    {
     "name": "stderr",
     "output_type": "stream",
     "text": [
      "Training Progress for Epoch 1:  24%|██▍       | 180/748 [45:22<2:07:11, 13.44s/it, Gen Loss=12.1677, Disc Loss=0.0001]"
     ]
    },
    {
     "name": "stdout",
     "output_type": "stream",
     "text": [
      "Discriminator Loss: 0.0001 | Generator Loss: 12.1677\n"
     ]
    },
    {
     "name": "stderr",
     "output_type": "stream",
     "text": [
      "Training Progress for Epoch 1:  24%|██▍       | 181/748 [45:35<2:04:16, 13.15s/it, Gen Loss=12.2762, Disc Loss=0.0001]"
     ]
    },
    {
     "name": "stdout",
     "output_type": "stream",
     "text": [
      "Discriminator Loss: 0.0001 | Generator Loss: 12.2762\n"
     ]
    },
    {
     "name": "stderr",
     "output_type": "stream",
     "text": [
      "Training Progress for Epoch 1:  24%|██▍       | 182/748 [45:48<2:03:33, 13.10s/it, Gen Loss=13.7553, Disc Loss=0.0001]"
     ]
    },
    {
     "name": "stdout",
     "output_type": "stream",
     "text": [
      "Discriminator Loss: 0.0001 | Generator Loss: 13.7553\n"
     ]
    },
    {
     "name": "stderr",
     "output_type": "stream",
     "text": [
      "Training Progress for Epoch 1:  24%|██▍       | 183/748 [46:01<2:03:10, 13.08s/it, Gen Loss=14.3704, Disc Loss=0.0000]"
     ]
    },
    {
     "name": "stdout",
     "output_type": "stream",
     "text": [
      "Discriminator Loss: 0.0000 | Generator Loss: 14.3704\n"
     ]
    },
    {
     "name": "stderr",
     "output_type": "stream",
     "text": [
      "Training Progress for Epoch 1:  25%|██▍       | 184/748 [46:14<2:02:15, 13.01s/it, Gen Loss=11.7811, Disc Loss=0.0001]"
     ]
    },
    {
     "name": "stdout",
     "output_type": "stream",
     "text": [
      "Discriminator Loss: 0.0001 | Generator Loss: 11.7811\n"
     ]
    },
    {
     "name": "stderr",
     "output_type": "stream",
     "text": [
      "Training Progress for Epoch 1:  25%|██▍       | 185/748 [46:28<2:05:40, 13.39s/it, Gen Loss=11.7648, Disc Loss=0.0001]"
     ]
    },
    {
     "name": "stdout",
     "output_type": "stream",
     "text": [
      "Discriminator Loss: 0.0001 | Generator Loss: 11.7648\n"
     ]
    },
    {
     "name": "stderr",
     "output_type": "stream",
     "text": [
      "Training Progress for Epoch 1:  25%|██▍       | 186/748 [46:41<2:05:00, 13.35s/it, Gen Loss=11.8836, Disc Loss=0.0002]"
     ]
    },
    {
     "name": "stdout",
     "output_type": "stream",
     "text": [
      "Discriminator Loss: 0.0002 | Generator Loss: 11.8836\n"
     ]
    },
    {
     "name": "stderr",
     "output_type": "stream",
     "text": [
      "Training Progress for Epoch 1:  25%|██▌       | 187/748 [46:55<2:04:59, 13.37s/it, Gen Loss=11.1787, Disc Loss=0.0002]"
     ]
    },
    {
     "name": "stdout",
     "output_type": "stream",
     "text": [
      "Discriminator Loss: 0.0002 | Generator Loss: 11.1787\n"
     ]
    },
    {
     "name": "stderr",
     "output_type": "stream",
     "text": [
      "Training Progress for Epoch 1:  25%|██▌       | 188/748 [47:08<2:05:17, 13.42s/it, Gen Loss=10.8096, Disc Loss=0.0004]"
     ]
    },
    {
     "name": "stdout",
     "output_type": "stream",
     "text": [
      "Discriminator Loss: 0.0004 | Generator Loss: 10.8096\n"
     ]
    },
    {
     "name": "stderr",
     "output_type": "stream",
     "text": [
      "Training Progress for Epoch 1:  25%|██▌       | 189/748 [47:22<2:05:57, 13.52s/it, Gen Loss=10.8759, Disc Loss=0.0002]"
     ]
    },
    {
     "name": "stdout",
     "output_type": "stream",
     "text": [
      "Discriminator Loss: 0.0002 | Generator Loss: 10.8759\n"
     ]
    },
    {
     "name": "stderr",
     "output_type": "stream",
     "text": [
      "Training Progress for Epoch 1:  25%|██▌       | 190/748 [47:36<2:07:50, 13.75s/it, Gen Loss=13.5170, Disc Loss=0.0006]"
     ]
    },
    {
     "name": "stdout",
     "output_type": "stream",
     "text": [
      "Discriminator Loss: 0.0006 | Generator Loss: 13.5170\n"
     ]
    },
    {
     "name": "stderr",
     "output_type": "stream",
     "text": [
      "Training Progress for Epoch 1:  26%|██▌       | 191/748 [47:49<2:06:16, 13.60s/it, Gen Loss=11.5923, Disc Loss=0.0000]"
     ]
    },
    {
     "name": "stdout",
     "output_type": "stream",
     "text": [
      "Discriminator Loss: 0.0000 | Generator Loss: 11.5923\n"
     ]
    },
    {
     "name": "stderr",
     "output_type": "stream",
     "text": [
      "Training Progress for Epoch 1:  26%|██▌       | 192/748 [48:03<2:06:49, 13.69s/it, Gen Loss=10.5306, Disc Loss=0.0002]"
     ]
    },
    {
     "name": "stdout",
     "output_type": "stream",
     "text": [
      "Discriminator Loss: 0.0002 | Generator Loss: 10.5306\n"
     ]
    },
    {
     "name": "stderr",
     "output_type": "stream",
     "text": [
      "Training Progress for Epoch 1:  26%|██▌       | 193/748 [48:16<2:04:01, 13.41s/it, Gen Loss=11.6846, Disc Loss=0.0004]"
     ]
    },
    {
     "name": "stdout",
     "output_type": "stream",
     "text": [
      "Discriminator Loss: 0.0004 | Generator Loss: 11.6846\n"
     ]
    },
    {
     "name": "stderr",
     "output_type": "stream",
     "text": [
      "Training Progress for Epoch 1:  26%|██▌       | 194/748 [48:28<2:00:28, 13.05s/it, Gen Loss=11.2698, Disc Loss=0.0002]"
     ]
    },
    {
     "name": "stdout",
     "output_type": "stream",
     "text": [
      "Discriminator Loss: 0.0002 | Generator Loss: 11.2698\n"
     ]
    },
    {
     "name": "stderr",
     "output_type": "stream",
     "text": [
      "Training Progress for Epoch 1:  26%|██▌       | 195/748 [48:42<2:00:44, 13.10s/it, Gen Loss=12.1712, Disc Loss=0.0004]"
     ]
    },
    {
     "name": "stdout",
     "output_type": "stream",
     "text": [
      "Discriminator Loss: 0.0004 | Generator Loss: 12.1712\n"
     ]
    },
    {
     "name": "stderr",
     "output_type": "stream",
     "text": [
      "Training Progress for Epoch 1:  26%|██▌       | 196/748 [48:55<2:01:05, 13.16s/it, Gen Loss=14.2458, Disc Loss=0.0001]"
     ]
    },
    {
     "name": "stdout",
     "output_type": "stream",
     "text": [
      "Discriminator Loss: 0.0001 | Generator Loss: 14.2458\n"
     ]
    },
    {
     "name": "stderr",
     "output_type": "stream",
     "text": [
      "Training Progress for Epoch 1:  26%|██▋       | 197/748 [49:08<2:01:43, 13.26s/it, Gen Loss=11.2069, Disc Loss=0.0003]"
     ]
    },
    {
     "name": "stdout",
     "output_type": "stream",
     "text": [
      "Discriminator Loss: 0.0003 | Generator Loss: 11.2069\n"
     ]
    },
    {
     "name": "stderr",
     "output_type": "stream",
     "text": [
      "Training Progress for Epoch 1:  26%|██▋       | 198/748 [49:22<2:02:12, 13.33s/it, Gen Loss=11.8576, Disc Loss=0.0001]"
     ]
    },
    {
     "name": "stdout",
     "output_type": "stream",
     "text": [
      "Discriminator Loss: 0.0001 | Generator Loss: 11.8576\n"
     ]
    },
    {
     "name": "stderr",
     "output_type": "stream",
     "text": [
      "Training Progress for Epoch 1:  27%|██▋       | 199/748 [49:35<2:02:50, 13.43s/it, Gen Loss=12.0786, Disc Loss=0.0003]"
     ]
    },
    {
     "name": "stdout",
     "output_type": "stream",
     "text": [
      "Discriminator Loss: 0.0003 | Generator Loss: 12.0786\n"
     ]
    },
    {
     "name": "stderr",
     "output_type": "stream",
     "text": [
      "Training Progress for Epoch 1:  27%|██▋       | 200/748 [49:49<2:03:10, 13.49s/it, Gen Loss=11.8393, Disc Loss=0.0001]"
     ]
    },
    {
     "name": "stdout",
     "output_type": "stream",
     "text": [
      "Discriminator Loss: 0.0001 | Generator Loss: 11.8393\n"
     ]
    },
    {
     "name": "stderr",
     "output_type": "stream",
     "text": [
      "Training Progress for Epoch 1:  27%|██▋       | 201/748 [50:03<2:03:54, 13.59s/it, Gen Loss=11.4492, Disc Loss=0.0001]"
     ]
    },
    {
     "name": "stdout",
     "output_type": "stream",
     "text": [
      "Discriminator Loss: 0.0001 | Generator Loss: 11.4492\n"
     ]
    },
    {
     "name": "stderr",
     "output_type": "stream",
     "text": [
      "Training Progress for Epoch 1:  27%|██▋       | 202/748 [50:16<2:03:04, 13.52s/it, Gen Loss=11.6061, Disc Loss=0.0001]"
     ]
    },
    {
     "name": "stdout",
     "output_type": "stream",
     "text": [
      "Discriminator Loss: 0.0001 | Generator Loss: 11.6061\n"
     ]
    },
    {
     "name": "stderr",
     "output_type": "stream",
     "text": [
      "Training Progress for Epoch 1:  27%|██▋       | 203/748 [50:31<2:05:28, 13.81s/it, Gen Loss=13.2917, Disc Loss=0.0003]"
     ]
    },
    {
     "name": "stdout",
     "output_type": "stream",
     "text": [
      "Discriminator Loss: 0.0003 | Generator Loss: 13.2917\n"
     ]
    },
    {
     "name": "stderr",
     "output_type": "stream",
     "text": [
      "Training Progress for Epoch 1:  27%|██▋       | 204/748 [50:45<2:05:26, 13.84s/it, Gen Loss=11.4062, Disc Loss=0.0003]"
     ]
    },
    {
     "name": "stdout",
     "output_type": "stream",
     "text": [
      "Discriminator Loss: 0.0003 | Generator Loss: 11.4062\n"
     ]
    },
    {
     "name": "stderr",
     "output_type": "stream",
     "text": [
      "Training Progress for Epoch 1:  27%|██▋       | 205/748 [50:58<2:03:39, 13.66s/it, Gen Loss=12.0361, Disc Loss=0.0003]"
     ]
    },
    {
     "name": "stdout",
     "output_type": "stream",
     "text": [
      "Discriminator Loss: 0.0003 | Generator Loss: 12.0361\n"
     ]
    },
    {
     "name": "stderr",
     "output_type": "stream",
     "text": [
      "Training Progress for Epoch 1:  28%|██▊       | 206/748 [51:12<2:03:17, 13.65s/it, Gen Loss=11.4443, Disc Loss=0.0001]"
     ]
    },
    {
     "name": "stdout",
     "output_type": "stream",
     "text": [
      "Discriminator Loss: 0.0001 | Generator Loss: 11.4443\n"
     ]
    },
    {
     "name": "stderr",
     "output_type": "stream",
     "text": [
      "Training Progress for Epoch 1:  28%|██▊       | 207/748 [51:25<2:02:45, 13.61s/it, Gen Loss=11.2951, Disc Loss=0.0001]"
     ]
    },
    {
     "name": "stdout",
     "output_type": "stream",
     "text": [
      "Discriminator Loss: 0.0001 | Generator Loss: 11.2951\n"
     ]
    },
    {
     "name": "stderr",
     "output_type": "stream",
     "text": [
      "Training Progress for Epoch 1:  28%|██▊       | 208/748 [51:39<2:02:11, 13.58s/it, Gen Loss=10.5863, Disc Loss=0.0002]"
     ]
    },
    {
     "name": "stdout",
     "output_type": "stream",
     "text": [
      "Discriminator Loss: 0.0002 | Generator Loss: 10.5863\n"
     ]
    },
    {
     "name": "stderr",
     "output_type": "stream",
     "text": [
      "Training Progress for Epoch 1:  28%|██▊       | 209/748 [51:53<2:03:08, 13.71s/it, Gen Loss=11.3496, Disc Loss=0.0002]"
     ]
    },
    {
     "name": "stdout",
     "output_type": "stream",
     "text": [
      "Discriminator Loss: 0.0002 | Generator Loss: 11.3496\n"
     ]
    },
    {
     "name": "stderr",
     "output_type": "stream",
     "text": [
      "Training Progress for Epoch 1:  28%|██▊       | 210/748 [52:05<2:00:23, 13.43s/it, Gen Loss=10.9438, Disc Loss=0.0000]"
     ]
    },
    {
     "name": "stdout",
     "output_type": "stream",
     "text": [
      "Discriminator Loss: 0.0000 | Generator Loss: 10.9438\n"
     ]
    },
    {
     "name": "stderr",
     "output_type": "stream",
     "text": [
      "Training Progress for Epoch 1:  28%|██▊       | 211/748 [52:19<2:00:10, 13.43s/it, Gen Loss=10.4214, Disc Loss=0.0002]"
     ]
    },
    {
     "name": "stdout",
     "output_type": "stream",
     "text": [
      "Discriminator Loss: 0.0002 | Generator Loss: 10.4214\n"
     ]
    },
    {
     "name": "stderr",
     "output_type": "stream",
     "text": [
      "Training Progress for Epoch 1:  28%|██▊       | 212/748 [52:31<1:57:46, 13.18s/it, Gen Loss=12.8864, Disc Loss=0.0001]"
     ]
    },
    {
     "name": "stdout",
     "output_type": "stream",
     "text": [
      "Discriminator Loss: 0.0001 | Generator Loss: 12.8864\n"
     ]
    },
    {
     "name": "stderr",
     "output_type": "stream",
     "text": [
      "Training Progress for Epoch 1:  28%|██▊       | 213/748 [52:45<1:57:31, 13.18s/it, Gen Loss=11.1699, Disc Loss=0.0001]"
     ]
    },
    {
     "name": "stdout",
     "output_type": "stream",
     "text": [
      "Discriminator Loss: 0.0001 | Generator Loss: 11.1699\n"
     ]
    },
    {
     "name": "stderr",
     "output_type": "stream",
     "text": [
      "Training Progress for Epoch 1:  29%|██▊       | 214/748 [52:58<1:57:29, 13.20s/it, Gen Loss=10.6869, Disc Loss=0.0005]"
     ]
    },
    {
     "name": "stdout",
     "output_type": "stream",
     "text": [
      "Discriminator Loss: 0.0005 | Generator Loss: 10.6869\n"
     ]
    },
    {
     "name": "stderr",
     "output_type": "stream",
     "text": [
      "Training Progress for Epoch 1:  29%|██▊       | 215/748 [53:11<1:57:39, 13.24s/it, Gen Loss=10.4475, Disc Loss=0.0004]"
     ]
    },
    {
     "name": "stdout",
     "output_type": "stream",
     "text": [
      "Discriminator Loss: 0.0004 | Generator Loss: 10.4475\n"
     ]
    },
    {
     "name": "stderr",
     "output_type": "stream",
     "text": [
      "Training Progress for Epoch 1:  29%|██▉       | 216/748 [53:25<1:58:14, 13.34s/it, Gen Loss=10.6446, Disc Loss=0.0001]"
     ]
    },
    {
     "name": "stdout",
     "output_type": "stream",
     "text": [
      "Discriminator Loss: 0.0001 | Generator Loss: 10.6446\n"
     ]
    },
    {
     "name": "stderr",
     "output_type": "stream",
     "text": [
      "Training Progress for Epoch 1:  29%|██▉       | 217/748 [53:38<1:58:00, 13.33s/it, Gen Loss=11.0138, Disc Loss=0.0002]"
     ]
    },
    {
     "name": "stdout",
     "output_type": "stream",
     "text": [
      "Discriminator Loss: 0.0002 | Generator Loss: 11.0138\n"
     ]
    },
    {
     "name": "stderr",
     "output_type": "stream",
     "text": [
      "Training Progress for Epoch 1:  29%|██▉       | 218/748 [53:51<1:57:26, 13.30s/it, Gen Loss=11.7702, Disc Loss=0.0001]"
     ]
    },
    {
     "name": "stdout",
     "output_type": "stream",
     "text": [
      "Discriminator Loss: 0.0001 | Generator Loss: 11.7702\n"
     ]
    },
    {
     "name": "stderr",
     "output_type": "stream",
     "text": [
      "Training Progress for Epoch 1:  29%|██▉       | 219/748 [54:05<1:58:14, 13.41s/it, Gen Loss=10.8860, Disc Loss=0.0002]"
     ]
    },
    {
     "name": "stdout",
     "output_type": "stream",
     "text": [
      "Discriminator Loss: 0.0002 | Generator Loss: 10.8860\n"
     ]
    },
    {
     "name": "stderr",
     "output_type": "stream",
     "text": [
      "Training Progress for Epoch 1:  29%|██▉       | 220/748 [54:18<1:56:49, 13.28s/it, Gen Loss=10.6975, Disc Loss=0.0001]"
     ]
    },
    {
     "name": "stdout",
     "output_type": "stream",
     "text": [
      "Discriminator Loss: 0.0001 | Generator Loss: 10.6975\n"
     ]
    },
    {
     "name": "stderr",
     "output_type": "stream",
     "text": [
      "Training Progress for Epoch 1:  30%|██▉       | 221/748 [54:31<1:56:33, 13.27s/it, Gen Loss=13.7989, Disc Loss=0.0001]"
     ]
    },
    {
     "name": "stdout",
     "output_type": "stream",
     "text": [
      "Discriminator Loss: 0.0001 | Generator Loss: 13.7989\n"
     ]
    },
    {
     "name": "stderr",
     "output_type": "stream",
     "text": [
      "Training Progress for Epoch 1:  30%|██▉       | 222/748 [54:45<1:58:59, 13.57s/it, Gen Loss=14.3825, Disc Loss=0.0001]"
     ]
    },
    {
     "name": "stdout",
     "output_type": "stream",
     "text": [
      "Discriminator Loss: 0.0001 | Generator Loss: 14.3825\n"
     ]
    },
    {
     "name": "stderr",
     "output_type": "stream",
     "text": [
      "\r",
      "Training Progress for Epoch 1:  30%|██▉       | 222/748 [54:59<1:58:59, 13.57s/it, Gen Loss=13.9712, Disc Loss=0.0000]"
     ]
    },
    {
     "name": "stdout",
     "output_type": "stream",
     "text": [
      "Discriminator Loss: 0.0000 | Generator Loss: 13.9712\n"
     ]
    },
    {
     "name": "stderr",
     "output_type": "stream",
     "text": [
      "\r",
      "Training Progress for Epoch 1:  30%|██▉       | 223/748 [55:00<2:01:24, 13.88s/it, Gen Loss=13.9712, Disc Loss=0.0000]"
     ]
    },
    {
     "name": "stdout",
     "output_type": "stream",
     "text": [
      "New best model saved with Disc Loss: 0.0000\n"
     ]
    },
    {
     "name": "stderr",
     "output_type": "stream",
     "text": [
      "Training Progress for Epoch 1:  30%|██▉       | 224/748 [55:15<2:04:47, 14.29s/it, Gen Loss=13.4197, Disc Loss=0.0001]"
     ]
    },
    {
     "name": "stdout",
     "output_type": "stream",
     "text": [
      "Discriminator Loss: 0.0001 | Generator Loss: 13.4197\n"
     ]
    },
    {
     "name": "stderr",
     "output_type": "stream",
     "text": [
      "Training Progress for Epoch 1:  30%|███       | 225/748 [55:28<2:01:17, 13.91s/it, Gen Loss=14.3919, Disc Loss=0.0000]"
     ]
    },
    {
     "name": "stdout",
     "output_type": "stream",
     "text": [
      "Discriminator Loss: 0.0000 | Generator Loss: 14.3919\n"
     ]
    },
    {
     "name": "stderr",
     "output_type": "stream",
     "text": [
      "Training Progress for Epoch 1:  30%|███       | 226/748 [55:42<2:00:07, 13.81s/it, Gen Loss=13.3141, Disc Loss=0.0001]"
     ]
    },
    {
     "name": "stdout",
     "output_type": "stream",
     "text": [
      "Discriminator Loss: 0.0001 | Generator Loss: 13.3141\n"
     ]
    },
    {
     "name": "stderr",
     "output_type": "stream",
     "text": [
      "Training Progress for Epoch 1:  30%|███       | 227/748 [55:55<1:59:20, 13.74s/it, Gen Loss=11.5328, Disc Loss=0.0000]"
     ]
    },
    {
     "name": "stdout",
     "output_type": "stream",
     "text": [
      "Discriminator Loss: 0.0000 | Generator Loss: 11.5328\n"
     ]
    },
    {
     "name": "stderr",
     "output_type": "stream",
     "text": [
      "Training Progress for Epoch 1:  30%|███       | 228/748 [56:08<1:56:10, 13.40s/it, Gen Loss=12.6487, Disc Loss=0.0001]"
     ]
    },
    {
     "name": "stdout",
     "output_type": "stream",
     "text": [
      "Discriminator Loss: 0.0001 | Generator Loss: 12.6487\n"
     ]
    },
    {
     "name": "stderr",
     "output_type": "stream",
     "text": [
      "Training Progress for Epoch 1:  31%|███       | 229/748 [56:21<1:53:51, 13.16s/it, Gen Loss=11.6492, Disc Loss=0.0000]"
     ]
    },
    {
     "name": "stdout",
     "output_type": "stream",
     "text": [
      "Discriminator Loss: 0.0000 | Generator Loss: 11.6492\n"
     ]
    },
    {
     "name": "stderr",
     "output_type": "stream",
     "text": [
      "Training Progress for Epoch 1:  31%|███       | 230/748 [56:34<1:53:05, 13.10s/it, Gen Loss=12.3724, Disc Loss=0.0002]"
     ]
    },
    {
     "name": "stdout",
     "output_type": "stream",
     "text": [
      "Discriminator Loss: 0.0002 | Generator Loss: 12.3724\n"
     ]
    },
    {
     "name": "stderr",
     "output_type": "stream",
     "text": [
      "Training Progress for Epoch 1:  31%|███       | 231/748 [56:47<1:53:59, 13.23s/it, Gen Loss=10.7155, Disc Loss=0.0001]"
     ]
    },
    {
     "name": "stdout",
     "output_type": "stream",
     "text": [
      "Discriminator Loss: 0.0001 | Generator Loss: 10.7155\n"
     ]
    },
    {
     "name": "stderr",
     "output_type": "stream",
     "text": [
      "Training Progress for Epoch 1:  31%|███       | 232/748 [57:00<1:53:38, 13.21s/it, Gen Loss=9.8571, Disc Loss=0.0003]"
     ]
    },
    {
     "name": "stdout",
     "output_type": "stream",
     "text": [
      "Discriminator Loss: 0.0003 | Generator Loss: 9.8571\n"
     ]
    },
    {
     "name": "stderr",
     "output_type": "stream",
     "text": [
      "Training Progress for Epoch 1:  31%|███       | 233/748 [57:13<1:52:51, 13.15s/it, Gen Loss=12.7818, Disc Loss=0.0002]"
     ]
    },
    {
     "name": "stdout",
     "output_type": "stream",
     "text": [
      "Discriminator Loss: 0.0002 | Generator Loss: 12.7818\n"
     ]
    },
    {
     "name": "stderr",
     "output_type": "stream",
     "text": [
      "Training Progress for Epoch 1:  31%|███▏      | 234/748 [57:27<1:52:42, 13.16s/it, Gen Loss=10.5157, Disc Loss=0.0001]"
     ]
    },
    {
     "name": "stdout",
     "output_type": "stream",
     "text": [
      "Discriminator Loss: 0.0001 | Generator Loss: 10.5157\n"
     ]
    },
    {
     "name": "stderr",
     "output_type": "stream",
     "text": [
      "Training Progress for Epoch 1:  31%|███▏      | 235/748 [57:40<1:52:13, 13.13s/it, Gen Loss=10.1228, Disc Loss=0.0002]"
     ]
    },
    {
     "name": "stdout",
     "output_type": "stream",
     "text": [
      "Discriminator Loss: 0.0002 | Generator Loss: 10.1228\n"
     ]
    },
    {
     "name": "stderr",
     "output_type": "stream",
     "text": [
      "Training Progress for Epoch 1:  32%|███▏      | 236/748 [57:53<1:52:54, 13.23s/it, Gen Loss=9.4906, Disc Loss=0.0004]"
     ]
    },
    {
     "name": "stdout",
     "output_type": "stream",
     "text": [
      "Discriminator Loss: 0.0004 | Generator Loss: 9.4906\n"
     ]
    },
    {
     "name": "stderr",
     "output_type": "stream",
     "text": [
      "Training Progress for Epoch 1:  32%|███▏      | 237/748 [58:07<1:53:23, 13.31s/it, Gen Loss=10.1574, Disc Loss=0.0011]"
     ]
    },
    {
     "name": "stdout",
     "output_type": "stream",
     "text": [
      "Discriminator Loss: 0.0011 | Generator Loss: 10.1574\n"
     ]
    },
    {
     "name": "stderr",
     "output_type": "stream",
     "text": [
      "Training Progress for Epoch 1:  32%|███▏      | 238/748 [58:20<1:53:03, 13.30s/it, Gen Loss=12.3093, Disc Loss=0.0001]"
     ]
    },
    {
     "name": "stdout",
     "output_type": "stream",
     "text": [
      "Discriminator Loss: 0.0001 | Generator Loss: 12.3093\n"
     ]
    },
    {
     "name": "stderr",
     "output_type": "stream",
     "text": [
      "Training Progress for Epoch 1:  32%|███▏      | 239/748 [58:33<1:52:58, 13.32s/it, Gen Loss=13.5423, Disc Loss=0.0001]"
     ]
    },
    {
     "name": "stdout",
     "output_type": "stream",
     "text": [
      "Discriminator Loss: 0.0001 | Generator Loss: 13.5423\n"
     ]
    },
    {
     "name": "stderr",
     "output_type": "stream",
     "text": [
      "Training Progress for Epoch 1:  32%|███▏      | 240/748 [58:46<1:51:20, 13.15s/it, Gen Loss=13.5280, Disc Loss=0.0000]"
     ]
    },
    {
     "name": "stdout",
     "output_type": "stream",
     "text": [
      "Discriminator Loss: 0.0000 | Generator Loss: 13.5280\n"
     ]
    },
    {
     "name": "stderr",
     "output_type": "stream",
     "text": [
      "Training Progress for Epoch 1:  32%|███▏      | 241/748 [58:59<1:50:03, 13.02s/it, Gen Loss=13.1724, Disc Loss=0.0000]"
     ]
    },
    {
     "name": "stdout",
     "output_type": "stream",
     "text": [
      "Discriminator Loss: 0.0000 | Generator Loss: 13.1724\n"
     ]
    },
    {
     "name": "stderr",
     "output_type": "stream",
     "text": [
      "Training Progress for Epoch 1:  32%|███▏      | 242/748 [59:11<1:48:24, 12.85s/it, Gen Loss=15.1176, Disc Loss=0.0000]"
     ]
    },
    {
     "name": "stdout",
     "output_type": "stream",
     "text": [
      "Discriminator Loss: 0.0000 | Generator Loss: 15.1176\n"
     ]
    },
    {
     "name": "stderr",
     "output_type": "stream",
     "text": [
      "Training Progress for Epoch 1:  32%|███▏      | 243/748 [59:24<1:49:00, 12.95s/it, Gen Loss=15.2638, Disc Loss=0.0000]"
     ]
    },
    {
     "name": "stdout",
     "output_type": "stream",
     "text": [
      "Discriminator Loss: 0.0000 | Generator Loss: 15.2638\n"
     ]
    },
    {
     "name": "stderr",
     "output_type": "stream",
     "text": [
      "Training Progress for Epoch 1:  33%|███▎      | 244/748 [59:37<1:48:32, 12.92s/it, Gen Loss=13.7579, Disc Loss=0.0001]"
     ]
    },
    {
     "name": "stdout",
     "output_type": "stream",
     "text": [
      "Discriminator Loss: 0.0001 | Generator Loss: 13.7579\n"
     ]
    },
    {
     "name": "stderr",
     "output_type": "stream",
     "text": [
      "Training Progress for Epoch 1:  33%|███▎      | 245/748 [59:51<1:50:49, 13.22s/it, Gen Loss=16.0637, Disc Loss=0.0000]"
     ]
    },
    {
     "name": "stdout",
     "output_type": "stream",
     "text": [
      "Discriminator Loss: 0.0000 | Generator Loss: 16.0637\n"
     ]
    },
    {
     "name": "stderr",
     "output_type": "stream",
     "text": [
      "\r",
      "Training Progress for Epoch 1:  33%|███▎      | 245/748 [1:00:04<1:50:49, 13.22s/it, Gen Loss=14.4465, Disc Loss=0.0000]"
     ]
    },
    {
     "name": "stdout",
     "output_type": "stream",
     "text": [
      "Discriminator Loss: 0.0000 | Generator Loss: 14.4465\n"
     ]
    },
    {
     "name": "stderr",
     "output_type": "stream",
     "text": [
      "\r",
      "Training Progress for Epoch 1:  33%|███▎      | 246/748 [1:00:05<1:52:29, 13.45s/it, Gen Loss=14.4465, Disc Loss=0.0000]"
     ]
    },
    {
     "name": "stdout",
     "output_type": "stream",
     "text": [
      "New best model saved with Disc Loss: 0.0000\n"
     ]
    },
    {
     "name": "stderr",
     "output_type": "stream",
     "text": [
      "Training Progress for Epoch 1:  33%|███▎      | 247/748 [1:00:20<1:55:17, 13.81s/it, Gen Loss=14.0614, Disc Loss=0.0000]"
     ]
    },
    {
     "name": "stdout",
     "output_type": "stream",
     "text": [
      "Discriminator Loss: 0.0000 | Generator Loss: 14.0614\n"
     ]
    },
    {
     "name": "stderr",
     "output_type": "stream",
     "text": [
      "Training Progress for Epoch 1:  33%|███▎      | 248/748 [1:00:32<1:52:24, 13.49s/it, Gen Loss=14.8605, Disc Loss=0.0000]"
     ]
    },
    {
     "name": "stdout",
     "output_type": "stream",
     "text": [
      "Discriminator Loss: 0.0000 | Generator Loss: 14.8605\n"
     ]
    },
    {
     "name": "stderr",
     "output_type": "stream",
     "text": [
      "Training Progress for Epoch 1:  33%|███▎      | 249/748 [1:00:46<1:52:22, 13.51s/it, Gen Loss=14.9361, Disc Loss=0.0000]"
     ]
    },
    {
     "name": "stdout",
     "output_type": "stream",
     "text": [
      "Discriminator Loss: 0.0000 | Generator Loss: 14.9361\n"
     ]
    },
    {
     "name": "stderr",
     "output_type": "stream",
     "text": [
      "Training Progress for Epoch 1:  33%|███▎      | 250/748 [1:00:59<1:51:06, 13.39s/it, Gen Loss=13.7335, Disc Loss=0.0000]"
     ]
    },
    {
     "name": "stdout",
     "output_type": "stream",
     "text": [
      "Discriminator Loss: 0.0000 | Generator Loss: 13.7335\n"
     ]
    },
    {
     "name": "stderr",
     "output_type": "stream",
     "text": [
      "Training Progress for Epoch 1:  34%|███▎      | 251/748 [1:01:12<1:50:48, 13.38s/it, Gen Loss=12.4475, Disc Loss=0.0000]"
     ]
    },
    {
     "name": "stdout",
     "output_type": "stream",
     "text": [
      "Discriminator Loss: 0.0000 | Generator Loss: 12.4475\n"
     ]
    },
    {
     "name": "stderr",
     "output_type": "stream",
     "text": [
      "Training Progress for Epoch 1:  34%|███▎      | 252/748 [1:01:25<1:48:04, 13.07s/it, Gen Loss=13.2207, Disc Loss=0.0000]"
     ]
    },
    {
     "name": "stdout",
     "output_type": "stream",
     "text": [
      "Discriminator Loss: 0.0000 | Generator Loss: 13.2207\n"
     ]
    },
    {
     "name": "stderr",
     "output_type": "stream",
     "text": [
      "Training Progress for Epoch 1:  34%|███▍      | 253/748 [1:01:37<1:46:29, 12.91s/it, Gen Loss=11.5749, Disc Loss=0.0001]"
     ]
    },
    {
     "name": "stdout",
     "output_type": "stream",
     "text": [
      "Discriminator Loss: 0.0001 | Generator Loss: 11.5749\n"
     ]
    },
    {
     "name": "stderr",
     "output_type": "stream",
     "text": [
      "Training Progress for Epoch 1:  34%|███▍      | 254/748 [1:01:50<1:46:40, 12.96s/it, Gen Loss=11.4222, Disc Loss=0.0001]"
     ]
    },
    {
     "name": "stdout",
     "output_type": "stream",
     "text": [
      "Discriminator Loss: 0.0001 | Generator Loss: 11.4222\n"
     ]
    },
    {
     "name": "stderr",
     "output_type": "stream",
     "text": [
      "Training Progress for Epoch 1:  34%|███▍      | 255/748 [1:02:04<1:47:33, 13.09s/it, Gen Loss=10.3247, Disc Loss=0.0001]"
     ]
    },
    {
     "name": "stdout",
     "output_type": "stream",
     "text": [
      "Discriminator Loss: 0.0001 | Generator Loss: 10.3247\n"
     ]
    },
    {
     "name": "stderr",
     "output_type": "stream",
     "text": [
      "Training Progress for Epoch 1:  34%|███▍      | 256/748 [1:02:17<1:48:04, 13.18s/it, Gen Loss=10.8297, Disc Loss=0.0001]"
     ]
    },
    {
     "name": "stdout",
     "output_type": "stream",
     "text": [
      "Discriminator Loss: 0.0001 | Generator Loss: 10.8297\n"
     ]
    },
    {
     "name": "stderr",
     "output_type": "stream",
     "text": [
      "Training Progress for Epoch 1:  34%|███▍      | 257/748 [1:02:31<1:48:20, 13.24s/it, Gen Loss=9.6793, Disc Loss=0.0000]"
     ]
    },
    {
     "name": "stdout",
     "output_type": "stream",
     "text": [
      "Discriminator Loss: 0.0000 | Generator Loss: 9.6793\n"
     ]
    },
    {
     "name": "stderr",
     "output_type": "stream",
     "text": [
      "Training Progress for Epoch 1:  34%|███▍      | 258/748 [1:02:44<1:48:00, 13.23s/it, Gen Loss=13.3395, Disc Loss=0.0001]"
     ]
    },
    {
     "name": "stdout",
     "output_type": "stream",
     "text": [
      "Discriminator Loss: 0.0001 | Generator Loss: 13.3395\n"
     ]
    },
    {
     "name": "stderr",
     "output_type": "stream",
     "text": [
      "Training Progress for Epoch 1:  35%|███▍      | 259/748 [1:02:57<1:48:01, 13.25s/it, Gen Loss=10.3968, Disc Loss=0.0002]"
     ]
    },
    {
     "name": "stdout",
     "output_type": "stream",
     "text": [
      "Discriminator Loss: 0.0002 | Generator Loss: 10.3968\n"
     ]
    },
    {
     "name": "stderr",
     "output_type": "stream",
     "text": [
      "Training Progress for Epoch 1:  35%|███▍      | 260/748 [1:03:10<1:47:29, 13.22s/it, Gen Loss=10.5787, Disc Loss=0.0001]"
     ]
    },
    {
     "name": "stdout",
     "output_type": "stream",
     "text": [
      "Discriminator Loss: 0.0001 | Generator Loss: 10.5787\n"
     ]
    },
    {
     "name": "stderr",
     "output_type": "stream",
     "text": [
      "Training Progress for Epoch 1:  35%|███▍      | 261/748 [1:03:24<1:48:01, 13.31s/it, Gen Loss=11.3200, Disc Loss=0.0002]"
     ]
    },
    {
     "name": "stdout",
     "output_type": "stream",
     "text": [
      "Discriminator Loss: 0.0002 | Generator Loss: 11.3200\n"
     ]
    },
    {
     "name": "stderr",
     "output_type": "stream",
     "text": [
      "Training Progress for Epoch 1:  35%|███▌      | 262/748 [1:03:36<1:45:27, 13.02s/it, Gen Loss=9.1130, Disc Loss=0.0003]"
     ]
    },
    {
     "name": "stdout",
     "output_type": "stream",
     "text": [
      "Discriminator Loss: 0.0003 | Generator Loss: 9.1130\n"
     ]
    },
    {
     "name": "stderr",
     "output_type": "stream",
     "text": [
      "Training Progress for Epoch 1:  35%|███▌      | 263/748 [1:03:49<1:44:29, 12.93s/it, Gen Loss=9.3475, Disc Loss=0.0003]"
     ]
    },
    {
     "name": "stdout",
     "output_type": "stream",
     "text": [
      "Discriminator Loss: 0.0003 | Generator Loss: 9.3475\n"
     ]
    },
    {
     "name": "stderr",
     "output_type": "stream",
     "text": [
      "Training Progress for Epoch 1:  35%|███▌      | 264/748 [1:04:01<1:43:17, 12.80s/it, Gen Loss=8.6922, Disc Loss=0.0001]"
     ]
    },
    {
     "name": "stdout",
     "output_type": "stream",
     "text": [
      "Discriminator Loss: 0.0001 | Generator Loss: 8.6922\n"
     ]
    },
    {
     "name": "stderr",
     "output_type": "stream",
     "text": [
      "Training Progress for Epoch 1:  35%|███▌      | 265/748 [1:04:15<1:44:21, 12.96s/it, Gen Loss=10.8837, Disc Loss=0.0002]"
     ]
    },
    {
     "name": "stdout",
     "output_type": "stream",
     "text": [
      "Discriminator Loss: 0.0002 | Generator Loss: 10.8837\n"
     ]
    },
    {
     "name": "stderr",
     "output_type": "stream",
     "text": [
      "Training Progress for Epoch 1:  36%|███▌      | 266/748 [1:04:29<1:46:56, 13.31s/it, Gen Loss=11.9238, Disc Loss=0.0009]"
     ]
    },
    {
     "name": "stdout",
     "output_type": "stream",
     "text": [
      "Discriminator Loss: 0.0009 | Generator Loss: 11.9238\n"
     ]
    },
    {
     "name": "stderr",
     "output_type": "stream",
     "text": [
      "Training Progress for Epoch 1:  36%|███▌      | 267/748 [1:04:42<1:45:46, 13.19s/it, Gen Loss=11.2409, Disc Loss=0.0002]"
     ]
    },
    {
     "name": "stdout",
     "output_type": "stream",
     "text": [
      "Discriminator Loss: 0.0002 | Generator Loss: 11.2409\n"
     ]
    },
    {
     "name": "stderr",
     "output_type": "stream",
     "text": [
      "Training Progress for Epoch 1:  36%|███▌      | 268/748 [1:04:55<1:46:00, 13.25s/it, Gen Loss=11.6292, Disc Loss=0.0001]"
     ]
    },
    {
     "name": "stdout",
     "output_type": "stream",
     "text": [
      "Discriminator Loss: 0.0001 | Generator Loss: 11.6292\n"
     ]
    },
    {
     "name": "stderr",
     "output_type": "stream",
     "text": [
      "Training Progress for Epoch 1:  36%|███▌      | 269/748 [1:05:08<1:45:10, 13.18s/it, Gen Loss=11.9160, Disc Loss=0.0001]"
     ]
    },
    {
     "name": "stdout",
     "output_type": "stream",
     "text": [
      "Discriminator Loss: 0.0001 | Generator Loss: 11.9160\n"
     ]
    },
    {
     "name": "stderr",
     "output_type": "stream",
     "text": [
      "\r",
      "Training Progress for Epoch 1:  36%|███▌      | 269/748 [1:05:21<1:45:10, 13.18s/it, Gen Loss=11.5932, Disc Loss=0.0000]"
     ]
    },
    {
     "name": "stdout",
     "output_type": "stream",
     "text": [
      "Discriminator Loss: 0.0000 | Generator Loss: 11.5932\n"
     ]
    },
    {
     "name": "stderr",
     "output_type": "stream",
     "text": [
      "\r",
      "Training Progress for Epoch 1:  36%|███▌      | 270/748 [1:05:22<1:46:17, 13.34s/it, Gen Loss=11.5932, Disc Loss=0.0000]"
     ]
    },
    {
     "name": "stdout",
     "output_type": "stream",
     "text": [
      "New best model saved with Disc Loss: 0.0000\n"
     ]
    },
    {
     "name": "stderr",
     "output_type": "stream",
     "text": [
      "Training Progress for Epoch 1:  36%|███▌      | 271/748 [1:05:36<1:48:02, 13.59s/it, Gen Loss=13.9881, Disc Loss=0.0001]"
     ]
    },
    {
     "name": "stdout",
     "output_type": "stream",
     "text": [
      "Discriminator Loss: 0.0001 | Generator Loss: 13.9881\n"
     ]
    },
    {
     "name": "stderr",
     "output_type": "stream",
     "text": [
      "Training Progress for Epoch 1:  36%|███▋      | 272/748 [1:05:50<1:48:28, 13.67s/it, Gen Loss=12.7269, Disc Loss=0.0000]"
     ]
    },
    {
     "name": "stdout",
     "output_type": "stream",
     "text": [
      "Discriminator Loss: 0.0000 | Generator Loss: 12.7269\n"
     ]
    },
    {
     "name": "stderr",
     "output_type": "stream",
     "text": [
      "Training Progress for Epoch 1:  36%|███▋      | 273/748 [1:06:03<1:46:57, 13.51s/it, Gen Loss=12.4317, Disc Loss=0.0000]"
     ]
    },
    {
     "name": "stdout",
     "output_type": "stream",
     "text": [
      "Discriminator Loss: 0.0000 | Generator Loss: 12.4317\n"
     ]
    },
    {
     "name": "stderr",
     "output_type": "stream",
     "text": [
      "Training Progress for Epoch 1:  37%|███▋      | 274/748 [1:06:15<1:43:14, 13.07s/it, Gen Loss=13.0888, Disc Loss=0.0001]"
     ]
    },
    {
     "name": "stdout",
     "output_type": "stream",
     "text": [
      "Discriminator Loss: 0.0001 | Generator Loss: 13.0888\n"
     ]
    },
    {
     "name": "stderr",
     "output_type": "stream",
     "text": [
      "Training Progress for Epoch 1:  37%|███▋      | 275/748 [1:06:28<1:41:57, 12.93s/it, Gen Loss=11.7815, Disc Loss=0.0000]"
     ]
    },
    {
     "name": "stdout",
     "output_type": "stream",
     "text": [
      "Discriminator Loss: 0.0000 | Generator Loss: 11.7815\n"
     ]
    },
    {
     "name": "stderr",
     "output_type": "stream",
     "text": [
      "Training Progress for Epoch 1:  37%|███▋      | 276/748 [1:06:41<1:42:12, 12.99s/it, Gen Loss=12.2269, Disc Loss=0.0001]"
     ]
    },
    {
     "name": "stdout",
     "output_type": "stream",
     "text": [
      "Discriminator Loss: 0.0001 | Generator Loss: 12.2269\n"
     ]
    },
    {
     "name": "stderr",
     "output_type": "stream",
     "text": [
      "Training Progress for Epoch 1:  37%|███▋      | 277/748 [1:06:54<1:41:22, 12.91s/it, Gen Loss=12.5587, Disc Loss=0.0000]"
     ]
    },
    {
     "name": "stdout",
     "output_type": "stream",
     "text": [
      "Discriminator Loss: 0.0000 | Generator Loss: 12.5587\n"
     ]
    },
    {
     "name": "stderr",
     "output_type": "stream",
     "text": [
      "\r",
      "Training Progress for Epoch 1:  37%|███▋      | 277/748 [1:07:07<1:41:22, 12.91s/it, Gen Loss=11.7233, Disc Loss=0.0000]"
     ]
    },
    {
     "name": "stdout",
     "output_type": "stream",
     "text": [
      "Discriminator Loss: 0.0000 | Generator Loss: 11.7233\n"
     ]
    },
    {
     "name": "stderr",
     "output_type": "stream",
     "text": [
      "\r",
      "Training Progress for Epoch 1:  37%|███▋      | 278/748 [1:07:08<1:45:16, 13.44s/it, Gen Loss=11.7233, Disc Loss=0.0000]"
     ]
    },
    {
     "name": "stdout",
     "output_type": "stream",
     "text": [
      "New best model saved with Disc Loss: 0.0000\n"
     ]
    },
    {
     "name": "stderr",
     "output_type": "stream",
     "text": [
      "Training Progress for Epoch 1:  37%|███▋      | 279/748 [1:07:23<1:47:46, 13.79s/it, Gen Loss=17.1744, Disc Loss=0.0001]"
     ]
    },
    {
     "name": "stdout",
     "output_type": "stream",
     "text": [
      "Discriminator Loss: 0.0001 | Generator Loss: 17.1744\n"
     ]
    },
    {
     "name": "stderr",
     "output_type": "stream",
     "text": [
      "Training Progress for Epoch 1:  37%|███▋      | 280/748 [1:07:36<1:46:08, 13.61s/it, Gen Loss=13.5634, Disc Loss=0.0000]"
     ]
    },
    {
     "name": "stdout",
     "output_type": "stream",
     "text": [
      "Discriminator Loss: 0.0000 | Generator Loss: 13.5634\n"
     ]
    },
    {
     "name": "stderr",
     "output_type": "stream",
     "text": [
      "Training Progress for Epoch 1:  38%|███▊      | 281/748 [1:07:49<1:44:51, 13.47s/it, Gen Loss=13.8261, Disc Loss=0.0000]"
     ]
    },
    {
     "name": "stdout",
     "output_type": "stream",
     "text": [
      "Discriminator Loss: 0.0000 | Generator Loss: 13.8261\n"
     ]
    },
    {
     "name": "stderr",
     "output_type": "stream",
     "text": [
      "Training Progress for Epoch 1:  38%|███▊      | 282/748 [1:08:02<1:44:14, 13.42s/it, Gen Loss=12.6675, Disc Loss=0.0000]"
     ]
    },
    {
     "name": "stdout",
     "output_type": "stream",
     "text": [
      "Discriminator Loss: 0.0000 | Generator Loss: 12.6675\n"
     ]
    },
    {
     "name": "stderr",
     "output_type": "stream",
     "text": [
      "Training Progress for Epoch 1:  38%|███▊      | 283/748 [1:08:16<1:43:50, 13.40s/it, Gen Loss=12.4947, Disc Loss=0.0001]"
     ]
    },
    {
     "name": "stdout",
     "output_type": "stream",
     "text": [
      "Discriminator Loss: 0.0001 | Generator Loss: 12.4947\n"
     ]
    },
    {
     "name": "stderr",
     "output_type": "stream",
     "text": [
      "Training Progress for Epoch 1:  38%|███▊      | 284/748 [1:08:29<1:43:32, 13.39s/it, Gen Loss=12.1214, Disc Loss=0.0001]"
     ]
    },
    {
     "name": "stdout",
     "output_type": "stream",
     "text": [
      "Discriminator Loss: 0.0001 | Generator Loss: 12.1214\n"
     ]
    },
    {
     "name": "stderr",
     "output_type": "stream",
     "text": [
      "Training Progress for Epoch 1:  38%|███▊      | 285/748 [1:08:42<1:43:02, 13.35s/it, Gen Loss=11.6392, Disc Loss=0.0001]"
     ]
    },
    {
     "name": "stdout",
     "output_type": "stream",
     "text": [
      "Discriminator Loss: 0.0001 | Generator Loss: 11.6392\n"
     ]
    },
    {
     "name": "stderr",
     "output_type": "stream",
     "text": [
      "Training Progress for Epoch 1:  38%|███▊      | 286/748 [1:08:55<1:40:16, 13.02s/it, Gen Loss=10.2232, Disc Loss=0.0001]"
     ]
    },
    {
     "name": "stdout",
     "output_type": "stream",
     "text": [
      "Discriminator Loss: 0.0001 | Generator Loss: 10.2232\n"
     ]
    },
    {
     "name": "stderr",
     "output_type": "stream",
     "text": [
      "Training Progress for Epoch 1:  38%|███▊      | 287/748 [1:09:08<1:39:47, 12.99s/it, Gen Loss=10.0531, Disc Loss=0.0001]"
     ]
    },
    {
     "name": "stdout",
     "output_type": "stream",
     "text": [
      "Discriminator Loss: 0.0001 | Generator Loss: 10.0531\n"
     ]
    },
    {
     "name": "stderr",
     "output_type": "stream",
     "text": [
      "Training Progress for Epoch 1:  39%|███▊      | 288/748 [1:09:21<1:39:56, 13.04s/it, Gen Loss=10.1998, Disc Loss=0.0001]"
     ]
    },
    {
     "name": "stdout",
     "output_type": "stream",
     "text": [
      "Discriminator Loss: 0.0001 | Generator Loss: 10.1998\n"
     ]
    },
    {
     "name": "stderr",
     "output_type": "stream",
     "text": [
      "Training Progress for Epoch 1:  39%|███▊      | 289/748 [1:09:34<1:39:59, 13.07s/it, Gen Loss=10.8967, Disc Loss=0.0006]"
     ]
    },
    {
     "name": "stdout",
     "output_type": "stream",
     "text": [
      "Discriminator Loss: 0.0006 | Generator Loss: 10.8967\n"
     ]
    },
    {
     "name": "stderr",
     "output_type": "stream",
     "text": [
      "Training Progress for Epoch 1:  39%|███▉      | 290/748 [1:09:47<1:39:27, 13.03s/it, Gen Loss=9.6453, Disc Loss=0.0001]"
     ]
    },
    {
     "name": "stdout",
     "output_type": "stream",
     "text": [
      "Discriminator Loss: 0.0001 | Generator Loss: 9.6453\n"
     ]
    },
    {
     "name": "stderr",
     "output_type": "stream",
     "text": [
      "Training Progress for Epoch 1:  39%|███▉      | 291/748 [1:10:01<1:41:07, 13.28s/it, Gen Loss=11.1197, Disc Loss=0.0001]"
     ]
    },
    {
     "name": "stdout",
     "output_type": "stream",
     "text": [
      "Discriminator Loss: 0.0001 | Generator Loss: 11.1197\n"
     ]
    },
    {
     "name": "stderr",
     "output_type": "stream",
     "text": [
      "Training Progress for Epoch 1:  39%|███▉      | 292/748 [1:10:14<1:41:22, 13.34s/it, Gen Loss=9.5232, Disc Loss=0.0000]"
     ]
    },
    {
     "name": "stdout",
     "output_type": "stream",
     "text": [
      "Discriminator Loss: 0.0000 | Generator Loss: 9.5232\n"
     ]
    },
    {
     "name": "stderr",
     "output_type": "stream",
     "text": [
      "Training Progress for Epoch 1:  39%|███▉      | 293/748 [1:10:27<1:40:24, 13.24s/it, Gen Loss=9.7713, Disc Loss=0.0002]"
     ]
    },
    {
     "name": "stdout",
     "output_type": "stream",
     "text": [
      "Discriminator Loss: 0.0002 | Generator Loss: 9.7713\n"
     ]
    },
    {
     "name": "stderr",
     "output_type": "stream",
     "text": [
      "Training Progress for Epoch 1:  39%|███▉      | 294/748 [1:10:41<1:41:36, 13.43s/it, Gen Loss=9.8357, Disc Loss=0.0003]"
     ]
    },
    {
     "name": "stdout",
     "output_type": "stream",
     "text": [
      "Discriminator Loss: 0.0003 | Generator Loss: 9.8357\n"
     ]
    },
    {
     "name": "stderr",
     "output_type": "stream",
     "text": [
      "Training Progress for Epoch 1:  39%|███▉      | 295/748 [1:10:54<1:41:01, 13.38s/it, Gen Loss=10.7318, Disc Loss=0.0001]"
     ]
    },
    {
     "name": "stdout",
     "output_type": "stream",
     "text": [
      "Discriminator Loss: 0.0001 | Generator Loss: 10.7318\n"
     ]
    },
    {
     "name": "stderr",
     "output_type": "stream",
     "text": [
      "Training Progress for Epoch 1:  40%|███▉      | 296/748 [1:11:07<1:38:10, 13.03s/it, Gen Loss=9.9077, Disc Loss=0.0003]"
     ]
    },
    {
     "name": "stdout",
     "output_type": "stream",
     "text": [
      "Discriminator Loss: 0.0003 | Generator Loss: 9.9077\n"
     ]
    },
    {
     "name": "stderr",
     "output_type": "stream",
     "text": [
      "Training Progress for Epoch 1:  40%|███▉      | 297/748 [1:11:19<1:37:35, 12.98s/it, Gen Loss=10.2599, Disc Loss=0.0000]"
     ]
    },
    {
     "name": "stdout",
     "output_type": "stream",
     "text": [
      "Discriminator Loss: 0.0000 | Generator Loss: 10.2599\n"
     ]
    },
    {
     "name": "stderr",
     "output_type": "stream",
     "text": [
      "Training Progress for Epoch 1:  40%|███▉      | 298/748 [1:11:32<1:36:52, 12.92s/it, Gen Loss=12.0447, Disc Loss=0.0000]"
     ]
    },
    {
     "name": "stdout",
     "output_type": "stream",
     "text": [
      "Discriminator Loss: 0.0000 | Generator Loss: 12.0447\n"
     ]
    },
    {
     "name": "stderr",
     "output_type": "stream",
     "text": [
      "Training Progress for Epoch 1:  40%|███▉      | 299/748 [1:11:45<1:36:08, 12.85s/it, Gen Loss=13.8191, Disc Loss=0.0000]"
     ]
    },
    {
     "name": "stdout",
     "output_type": "stream",
     "text": [
      "Discriminator Loss: 0.0000 | Generator Loss: 13.8191\n"
     ]
    },
    {
     "name": "stderr",
     "output_type": "stream",
     "text": [
      "Training Progress for Epoch 1:  40%|████      | 300/748 [1:11:58<1:36:56, 12.98s/it, Gen Loss=13.2288, Disc Loss=0.0000]"
     ]
    },
    {
     "name": "stdout",
     "output_type": "stream",
     "text": [
      "Discriminator Loss: 0.0000 | Generator Loss: 13.2288\n"
     ]
    },
    {
     "name": "stderr",
     "output_type": "stream",
     "text": [
      "Training Progress for Epoch 1:  40%|████      | 301/748 [1:12:11<1:36:28, 12.95s/it, Gen Loss=11.6992, Disc Loss=0.0001]"
     ]
    },
    {
     "name": "stdout",
     "output_type": "stream",
     "text": [
      "Discriminator Loss: 0.0001 | Generator Loss: 11.6992\n"
     ]
    },
    {
     "name": "stderr",
     "output_type": "stream",
     "text": [
      "Training Progress for Epoch 1:  40%|████      | 302/748 [1:12:24<1:36:44, 13.01s/it, Gen Loss=12.4261, Disc Loss=0.0000]"
     ]
    },
    {
     "name": "stdout",
     "output_type": "stream",
     "text": [
      "Discriminator Loss: 0.0000 | Generator Loss: 12.4261\n"
     ]
    },
    {
     "name": "stderr",
     "output_type": "stream",
     "text": [
      "Training Progress for Epoch 1:  41%|████      | 303/748 [1:12:38<1:38:38, 13.30s/it, Gen Loss=11.4996, Disc Loss=0.0000]"
     ]
    },
    {
     "name": "stdout",
     "output_type": "stream",
     "text": [
      "Discriminator Loss: 0.0000 | Generator Loss: 11.4996\n"
     ]
    },
    {
     "name": "stderr",
     "output_type": "stream",
     "text": [
      "Training Progress for Epoch 1:  41%|████      | 304/748 [1:12:51<1:38:01, 13.25s/it, Gen Loss=11.9647, Disc Loss=0.0001]"
     ]
    },
    {
     "name": "stdout",
     "output_type": "stream",
     "text": [
      "Discriminator Loss: 0.0001 | Generator Loss: 11.9647\n"
     ]
    },
    {
     "name": "stderr",
     "output_type": "stream",
     "text": [
      "Training Progress for Epoch 1:  41%|████      | 305/748 [1:13:03<1:35:18, 12.91s/it, Gen Loss=10.7367, Disc Loss=0.0000]"
     ]
    },
    {
     "name": "stdout",
     "output_type": "stream",
     "text": [
      "Discriminator Loss: 0.0000 | Generator Loss: 10.7367\n"
     ]
    },
    {
     "name": "stderr",
     "output_type": "stream",
     "text": [
      "Training Progress for Epoch 1:  41%|████      | 306/748 [1:13:16<1:34:07, 12.78s/it, Gen Loss=10.4655, Disc Loss=0.0000]"
     ]
    },
    {
     "name": "stdout",
     "output_type": "stream",
     "text": [
      "Discriminator Loss: 0.0000 | Generator Loss: 10.4655\n"
     ]
    },
    {
     "name": "stderr",
     "output_type": "stream",
     "text": [
      "Training Progress for Epoch 1:  41%|████      | 307/748 [1:13:29<1:34:23, 12.84s/it, Gen Loss=10.8867, Disc Loss=0.0001]"
     ]
    },
    {
     "name": "stdout",
     "output_type": "stream",
     "text": [
      "Discriminator Loss: 0.0001 | Generator Loss: 10.8867\n"
     ]
    },
    {
     "name": "stderr",
     "output_type": "stream",
     "text": [
      "Training Progress for Epoch 1:  41%|████      | 308/748 [1:13:42<1:34:48, 12.93s/it, Gen Loss=10.4527, Disc Loss=0.0001]"
     ]
    },
    {
     "name": "stdout",
     "output_type": "stream",
     "text": [
      "Discriminator Loss: 0.0001 | Generator Loss: 10.4527\n"
     ]
    },
    {
     "name": "stderr",
     "output_type": "stream",
     "text": [
      "Training Progress for Epoch 1:  41%|████▏     | 309/748 [1:13:55<1:35:31, 13.06s/it, Gen Loss=9.8370, Disc Loss=0.0001]"
     ]
    },
    {
     "name": "stdout",
     "output_type": "stream",
     "text": [
      "Discriminator Loss: 0.0001 | Generator Loss: 9.8370\n"
     ]
    },
    {
     "name": "stderr",
     "output_type": "stream",
     "text": [
      "Training Progress for Epoch 1:  41%|████▏     | 310/748 [1:14:09<1:36:04, 13.16s/it, Gen Loss=9.6581, Disc Loss=0.0001]"
     ]
    },
    {
     "name": "stdout",
     "output_type": "stream",
     "text": [
      "Discriminator Loss: 0.0001 | Generator Loss: 9.6581\n"
     ]
    },
    {
     "name": "stderr",
     "output_type": "stream",
     "text": [
      "Training Progress for Epoch 1:  42%|████▏     | 311/748 [1:14:22<1:35:52, 13.16s/it, Gen Loss=10.6475, Disc Loss=0.0003]"
     ]
    },
    {
     "name": "stdout",
     "output_type": "stream",
     "text": [
      "Discriminator Loss: 0.0003 | Generator Loss: 10.6475\n"
     ]
    },
    {
     "name": "stderr",
     "output_type": "stream",
     "text": [
      "Training Progress for Epoch 1:  42%|████▏     | 312/748 [1:14:35<1:36:32, 13.28s/it, Gen Loss=10.5865, Disc Loss=0.0001]"
     ]
    },
    {
     "name": "stdout",
     "output_type": "stream",
     "text": [
      "Discriminator Loss: 0.0001 | Generator Loss: 10.5865\n"
     ]
    },
    {
     "name": "stderr",
     "output_type": "stream",
     "text": [
      "Training Progress for Epoch 1:  42%|████▏     | 313/748 [1:14:49<1:36:51, 13.36s/it, Gen Loss=9.9354, Disc Loss=0.0001]"
     ]
    },
    {
     "name": "stdout",
     "output_type": "stream",
     "text": [
      "Discriminator Loss: 0.0001 | Generator Loss: 9.9354\n"
     ]
    },
    {
     "name": "stderr",
     "output_type": "stream",
     "text": [
      "Training Progress for Epoch 1:  42%|████▏     | 314/748 [1:15:01<1:34:04, 13.01s/it, Gen Loss=10.7842, Disc Loss=0.0001]"
     ]
    },
    {
     "name": "stdout",
     "output_type": "stream",
     "text": [
      "Discriminator Loss: 0.0001 | Generator Loss: 10.7842\n"
     ]
    },
    {
     "name": "stderr",
     "output_type": "stream",
     "text": [
      "Training Progress for Epoch 1:  42%|████▏     | 315/748 [1:15:14<1:33:04, 12.90s/it, Gen Loss=10.9878, Disc Loss=0.0002]"
     ]
    },
    {
     "name": "stdout",
     "output_type": "stream",
     "text": [
      "Discriminator Loss: 0.0002 | Generator Loss: 10.9878\n"
     ]
    },
    {
     "name": "stderr",
     "output_type": "stream",
     "text": [
      "Training Progress for Epoch 1:  42%|████▏     | 316/748 [1:15:27<1:32:49, 12.89s/it, Gen Loss=29.4819, Disc Loss=0.0506]"
     ]
    },
    {
     "name": "stdout",
     "output_type": "stream",
     "text": [
      "Discriminator Loss: 0.0506 | Generator Loss: 29.4819\n"
     ]
    },
    {
     "name": "stderr",
     "output_type": "stream",
     "text": [
      "Training Progress for Epoch 1:  42%|████▏     | 317/748 [1:15:39<1:32:02, 12.81s/it, Gen Loss=33.2423, Disc Loss=0.0000]"
     ]
    },
    {
     "name": "stdout",
     "output_type": "stream",
     "text": [
      "Discriminator Loss: 0.0000 | Generator Loss: 33.2423\n"
     ]
    },
    {
     "name": "stderr",
     "output_type": "stream",
     "text": [
      "Training Progress for Epoch 1:  43%|████▎     | 318/748 [1:15:53<1:33:13, 13.01s/it, Gen Loss=33.9012, Disc Loss=0.0001]"
     ]
    },
    {
     "name": "stdout",
     "output_type": "stream",
     "text": [
      "Discriminator Loss: 0.0001 | Generator Loss: 33.9012\n"
     ]
    },
    {
     "name": "stderr",
     "output_type": "stream",
     "text": [
      "Training Progress for Epoch 1:  43%|████▎     | 319/748 [1:16:06<1:33:08, 13.03s/it, Gen Loss=34.6234, Disc Loss=0.0006]"
     ]
    },
    {
     "name": "stdout",
     "output_type": "stream",
     "text": [
      "Discriminator Loss: 0.0006 | Generator Loss: 34.6234\n"
     ]
    },
    {
     "name": "stderr",
     "output_type": "stream",
     "text": [
      "Training Progress for Epoch 1:  43%|████▎     | 320/748 [1:16:18<1:31:56, 12.89s/it, Gen Loss=34.7443, Disc Loss=0.0021]"
     ]
    },
    {
     "name": "stdout",
     "output_type": "stream",
     "text": [
      "Discriminator Loss: 0.0021 | Generator Loss: 34.7443\n"
     ]
    },
    {
     "name": "stderr",
     "output_type": "stream",
     "text": [
      "Training Progress for Epoch 1:  43%|████▎     | 321/748 [1:16:32<1:32:47, 13.04s/it, Gen Loss=36.6860, Disc Loss=0.0112]"
     ]
    },
    {
     "name": "stdout",
     "output_type": "stream",
     "text": [
      "Discriminator Loss: 0.0112 | Generator Loss: 36.6860\n"
     ]
    },
    {
     "name": "stderr",
     "output_type": "stream",
     "text": [
      "Training Progress for Epoch 1:  43%|████▎     | 322/748 [1:16:45<1:32:31, 13.03s/it, Gen Loss=30.1876, Disc Loss=0.0007]"
     ]
    },
    {
     "name": "stdout",
     "output_type": "stream",
     "text": [
      "Discriminator Loss: 0.0007 | Generator Loss: 30.1876\n"
     ]
    },
    {
     "name": "stderr",
     "output_type": "stream",
     "text": [
      "Training Progress for Epoch 1:  43%|████▎     | 323/748 [1:16:58<1:32:14, 13.02s/it, Gen Loss=26.5497, Disc Loss=0.0006]"
     ]
    },
    {
     "name": "stdout",
     "output_type": "stream",
     "text": [
      "Discriminator Loss: 0.0006 | Generator Loss: 26.5497\n"
     ]
    },
    {
     "name": "stderr",
     "output_type": "stream",
     "text": [
      "Training Progress for Epoch 1:  43%|████▎     | 324/748 [1:17:10<1:30:33, 12.81s/it, Gen Loss=25.7782, Disc Loss=0.0011]"
     ]
    },
    {
     "name": "stdout",
     "output_type": "stream",
     "text": [
      "Discriminator Loss: 0.0011 | Generator Loss: 25.7782\n"
     ]
    },
    {
     "name": "stderr",
     "output_type": "stream",
     "text": [
      "Training Progress for Epoch 1:  43%|████▎     | 325/748 [1:17:23<1:31:09, 12.93s/it, Gen Loss=23.6582, Disc Loss=0.0001]"
     ]
    },
    {
     "name": "stdout",
     "output_type": "stream",
     "text": [
      "Discriminator Loss: 0.0001 | Generator Loss: 23.6582\n"
     ]
    },
    {
     "name": "stderr",
     "output_type": "stream",
     "text": [
      "Training Progress for Epoch 1:  44%|████▎     | 326/748 [1:17:37<1:32:01, 13.08s/it, Gen Loss=19.5608, Disc Loss=0.0001]"
     ]
    },
    {
     "name": "stdout",
     "output_type": "stream",
     "text": [
      "Discriminator Loss: 0.0001 | Generator Loss: 19.5608\n"
     ]
    },
    {
     "name": "stderr",
     "output_type": "stream",
     "text": [
      "Training Progress for Epoch 1:  44%|████▎     | 327/748 [1:17:49<1:30:48, 12.94s/it, Gen Loss=20.1766, Disc Loss=0.0002]"
     ]
    },
    {
     "name": "stdout",
     "output_type": "stream",
     "text": [
      "Discriminator Loss: 0.0002 | Generator Loss: 20.1766\n"
     ]
    },
    {
     "name": "stderr",
     "output_type": "stream",
     "text": [
      "Training Progress for Epoch 1:  44%|████▍     | 328/748 [1:18:03<1:31:00, 13.00s/it, Gen Loss=17.2467, Disc Loss=0.0012]"
     ]
    },
    {
     "name": "stdout",
     "output_type": "stream",
     "text": [
      "Discriminator Loss: 0.0012 | Generator Loss: 17.2467\n"
     ]
    },
    {
     "name": "stderr",
     "output_type": "stream",
     "text": [
      "Training Progress for Epoch 1:  44%|████▍     | 329/748 [1:18:15<1:30:39, 12.98s/it, Gen Loss=16.3726, Disc Loss=0.0025]"
     ]
    },
    {
     "name": "stdout",
     "output_type": "stream",
     "text": [
      "Discriminator Loss: 0.0025 | Generator Loss: 16.3726\n"
     ]
    },
    {
     "name": "stderr",
     "output_type": "stream",
     "text": [
      "Training Progress for Epoch 1:  44%|████▍     | 330/748 [1:18:29<1:31:22, 13.12s/it, Gen Loss=24.0572, Disc Loss=0.0201]"
     ]
    },
    {
     "name": "stdout",
     "output_type": "stream",
     "text": [
      "Discriminator Loss: 0.0201 | Generator Loss: 24.0572\n"
     ]
    },
    {
     "name": "stderr",
     "output_type": "stream",
     "text": [
      "Training Progress for Epoch 1:  44%|████▍     | 331/748 [1:18:42<1:31:41, 13.19s/it, Gen Loss=33.6824, Disc Loss=0.0001]"
     ]
    },
    {
     "name": "stdout",
     "output_type": "stream",
     "text": [
      "Discriminator Loss: 0.0001 | Generator Loss: 33.6824\n"
     ]
    },
    {
     "name": "stderr",
     "output_type": "stream",
     "text": [
      "Training Progress for Epoch 1:  44%|████▍     | 332/748 [1:18:55<1:31:15, 13.16s/it, Gen Loss=39.8999, Disc Loss=0.0001]"
     ]
    },
    {
     "name": "stdout",
     "output_type": "stream",
     "text": [
      "Discriminator Loss: 0.0001 | Generator Loss: 39.8999\n"
     ]
    },
    {
     "name": "stderr",
     "output_type": "stream",
     "text": [
      "Training Progress for Epoch 1:  45%|████▍     | 333/748 [1:19:08<1:29:28, 12.94s/it, Gen Loss=41.4357, Disc Loss=0.0001]"
     ]
    },
    {
     "name": "stdout",
     "output_type": "stream",
     "text": [
      "Discriminator Loss: 0.0001 | Generator Loss: 41.4357\n"
     ]
    },
    {
     "name": "stderr",
     "output_type": "stream",
     "text": [
      "Training Progress for Epoch 1:  45%|████▍     | 334/748 [1:19:20<1:28:02, 12.76s/it, Gen Loss=40.5478, Disc Loss=0.0026]"
     ]
    },
    {
     "name": "stdout",
     "output_type": "stream",
     "text": [
      "Discriminator Loss: 0.0026 | Generator Loss: 40.5478\n"
     ]
    },
    {
     "name": "stderr",
     "output_type": "stream",
     "text": [
      "Training Progress for Epoch 1:  45%|████▍     | 335/748 [1:19:33<1:27:39, 12.73s/it, Gen Loss=41.8976, Disc Loss=0.0001]"
     ]
    },
    {
     "name": "stdout",
     "output_type": "stream",
     "text": [
      "Discriminator Loss: 0.0001 | Generator Loss: 41.8976\n"
     ]
    },
    {
     "name": "stderr",
     "output_type": "stream",
     "text": [
      "Training Progress for Epoch 1:  45%|████▍     | 336/748 [1:19:46<1:27:37, 12.76s/it, Gen Loss=41.5430, Disc Loss=0.0013]"
     ]
    },
    {
     "name": "stdout",
     "output_type": "stream",
     "text": [
      "Discriminator Loss: 0.0013 | Generator Loss: 41.5430\n"
     ]
    },
    {
     "name": "stderr",
     "output_type": "stream",
     "text": [
      "Training Progress for Epoch 1:  45%|████▌     | 337/748 [1:19:59<1:29:12, 13.02s/it, Gen Loss=38.7350, Disc Loss=0.0020]"
     ]
    },
    {
     "name": "stdout",
     "output_type": "stream",
     "text": [
      "Discriminator Loss: 0.0020 | Generator Loss: 38.7350\n"
     ]
    },
    {
     "name": "stderr",
     "output_type": "stream",
     "text": [
      "Training Progress for Epoch 1:  45%|████▌     | 338/748 [1:20:12<1:29:12, 13.05s/it, Gen Loss=38.3162, Disc Loss=0.0000]"
     ]
    },
    {
     "name": "stdout",
     "output_type": "stream",
     "text": [
      "Discriminator Loss: 0.0000 | Generator Loss: 38.3162\n"
     ]
    },
    {
     "name": "stderr",
     "output_type": "stream",
     "text": [
      "Training Progress for Epoch 1:  45%|████▌     | 339/748 [1:20:26<1:29:37, 13.15s/it, Gen Loss=35.4783, Disc Loss=0.0005]"
     ]
    },
    {
     "name": "stdout",
     "output_type": "stream",
     "text": [
      "Discriminator Loss: 0.0005 | Generator Loss: 35.4783\n"
     ]
    },
    {
     "name": "stderr",
     "output_type": "stream",
     "text": [
      "Training Progress for Epoch 1:  45%|████▌     | 340/748 [1:20:39<1:29:54, 13.22s/it, Gen Loss=34.1009, Disc Loss=0.0008]"
     ]
    },
    {
     "name": "stdout",
     "output_type": "stream",
     "text": [
      "Discriminator Loss: 0.0008 | Generator Loss: 34.1009\n"
     ]
    },
    {
     "name": "stderr",
     "output_type": "stream",
     "text": [
      "Training Progress for Epoch 1:  46%|████▌     | 341/748 [1:20:52<1:28:09, 13.00s/it, Gen Loss=32.3404, Disc Loss=0.0003]"
     ]
    },
    {
     "name": "stdout",
     "output_type": "stream",
     "text": [
      "Discriminator Loss: 0.0003 | Generator Loss: 32.3404\n"
     ]
    },
    {
     "name": "stderr",
     "output_type": "stream",
     "text": [
      "Training Progress for Epoch 1:  46%|████▌     | 342/748 [1:21:03<1:25:29, 12.64s/it, Gen Loss=30.9289, Disc Loss=0.0012]"
     ]
    },
    {
     "name": "stdout",
     "output_type": "stream",
     "text": [
      "Discriminator Loss: 0.0012 | Generator Loss: 30.9289\n"
     ]
    },
    {
     "name": "stderr",
     "output_type": "stream",
     "text": [
      "Training Progress for Epoch 1:  46%|████▌     | 343/748 [1:21:16<1:25:20, 12.64s/it, Gen Loss=27.8695, Disc Loss=0.0002]"
     ]
    },
    {
     "name": "stdout",
     "output_type": "stream",
     "text": [
      "Discriminator Loss: 0.0002 | Generator Loss: 27.8695\n"
     ]
    },
    {
     "name": "stderr",
     "output_type": "stream",
     "text": [
      "Training Progress for Epoch 1:  46%|████▌     | 344/748 [1:21:29<1:25:10, 12.65s/it, Gen Loss=26.7535, Disc Loss=0.0001]"
     ]
    },
    {
     "name": "stdout",
     "output_type": "stream",
     "text": [
      "Discriminator Loss: 0.0001 | Generator Loss: 26.7535\n"
     ]
    },
    {
     "name": "stderr",
     "output_type": "stream",
     "text": [
      "Training Progress for Epoch 1:  46%|████▌     | 345/748 [1:21:42<1:25:56, 12.80s/it, Gen Loss=24.8047, Disc Loss=0.0002]"
     ]
    },
    {
     "name": "stdout",
     "output_type": "stream",
     "text": [
      "Discriminator Loss: 0.0002 | Generator Loss: 24.8047\n"
     ]
    },
    {
     "name": "stderr",
     "output_type": "stream",
     "text": [
      "\r",
      "Training Progress for Epoch 1:  46%|████▌     | 345/748 [1:21:55<1:25:56, 12.80s/it, Gen Loss=21.1297, Disc Loss=0.0000]"
     ]
    },
    {
     "name": "stdout",
     "output_type": "stream",
     "text": [
      "Discriminator Loss: 0.0000 | Generator Loss: 21.1297\n"
     ]
    },
    {
     "name": "stderr",
     "output_type": "stream",
     "text": [
      "\r",
      "Training Progress for Epoch 1:  46%|████▋     | 346/748 [1:21:56<1:27:37, 13.08s/it, Gen Loss=21.1297, Disc Loss=0.0000]"
     ]
    },
    {
     "name": "stdout",
     "output_type": "stream",
     "text": [
      "New best model saved with Disc Loss: 0.0000\n"
     ]
    },
    {
     "name": "stderr",
     "output_type": "stream",
     "text": [
      "Training Progress for Epoch 1:  46%|████▋     | 347/748 [1:22:10<1:29:48, 13.44s/it, Gen Loss=20.4266, Disc Loss=0.0000]"
     ]
    },
    {
     "name": "stdout",
     "output_type": "stream",
     "text": [
      "Discriminator Loss: 0.0000 | Generator Loss: 20.4266\n"
     ]
    },
    {
     "name": "stderr",
     "output_type": "stream",
     "text": [
      "Training Progress for Epoch 1:  47%|████▋     | 348/748 [1:22:23<1:28:58, 13.35s/it, Gen Loss=20.0586, Disc Loss=0.0000]"
     ]
    },
    {
     "name": "stdout",
     "output_type": "stream",
     "text": [
      "Discriminator Loss: 0.0000 | Generator Loss: 20.0586\n"
     ]
    },
    {
     "name": "stderr",
     "output_type": "stream",
     "text": [
      "Training Progress for Epoch 1:  47%|████▋     | 349/748 [1:22:36<1:28:01, 13.24s/it, Gen Loss=16.0038, Disc Loss=0.0002]"
     ]
    },
    {
     "name": "stdout",
     "output_type": "stream",
     "text": [
      "Discriminator Loss: 0.0002 | Generator Loss: 16.0038\n"
     ]
    },
    {
     "name": "stderr",
     "output_type": "stream",
     "text": [
      "Training Progress for Epoch 1:  47%|████▋     | 350/748 [1:22:48<1:25:42, 12.92s/it, Gen Loss=15.4628, Disc Loss=0.0007]"
     ]
    },
    {
     "name": "stdout",
     "output_type": "stream",
     "text": [
      "Discriminator Loss: 0.0007 | Generator Loss: 15.4628\n"
     ]
    },
    {
     "name": "stderr",
     "output_type": "stream",
     "text": [
      "Training Progress for Epoch 1:  47%|████▋     | 351/748 [1:23:01<1:24:44, 12.81s/it, Gen Loss=13.0308, Disc Loss=0.0000]"
     ]
    },
    {
     "name": "stdout",
     "output_type": "stream",
     "text": [
      "Discriminator Loss: 0.0000 | Generator Loss: 13.0308\n"
     ]
    },
    {
     "name": "stderr",
     "output_type": "stream",
     "text": [
      "Training Progress for Epoch 1:  47%|████▋     | 352/748 [1:23:13<1:23:28, 12.65s/it, Gen Loss=13.2936, Disc Loss=0.0004]"
     ]
    },
    {
     "name": "stdout",
     "output_type": "stream",
     "text": [
      "Discriminator Loss: 0.0004 | Generator Loss: 13.2936\n"
     ]
    },
    {
     "name": "stderr",
     "output_type": "stream",
     "text": [
      "Training Progress for Epoch 1:  47%|████▋     | 353/748 [1:23:26<1:23:52, 12.74s/it, Gen Loss=27.5024, Disc Loss=0.0072]"
     ]
    },
    {
     "name": "stdout",
     "output_type": "stream",
     "text": [
      "Discriminator Loss: 0.0072 | Generator Loss: 27.5024\n"
     ]
    },
    {
     "name": "stderr",
     "output_type": "stream",
     "text": [
      "\r",
      "Training Progress for Epoch 1:  47%|████▋     | 353/748 [1:23:39<1:23:52, 12.74s/it, Gen Loss=33.1240, Disc Loss=0.0000]"
     ]
    },
    {
     "name": "stdout",
     "output_type": "stream",
     "text": [
      "Discriminator Loss: 0.0000 | Generator Loss: 33.1240\n"
     ]
    },
    {
     "name": "stderr",
     "output_type": "stream",
     "text": [
      "\r",
      "Training Progress for Epoch 1:  47%|████▋     | 354/748 [1:23:40<1:25:59, 13.09s/it, Gen Loss=33.1240, Disc Loss=0.0000]"
     ]
    },
    {
     "name": "stdout",
     "output_type": "stream",
     "text": [
      "New best model saved with Disc Loss: 0.0000\n"
     ]
    },
    {
     "name": "stderr",
     "output_type": "stream",
     "text": [
      "Training Progress for Epoch 1:  47%|████▋     | 355/748 [1:23:54<1:27:35, 13.37s/it, Gen Loss=44.2481, Disc Loss=0.0000]"
     ]
    },
    {
     "name": "stdout",
     "output_type": "stream",
     "text": [
      "Discriminator Loss: 0.0000 | Generator Loss: 44.2481\n"
     ]
    },
    {
     "name": "stderr",
     "output_type": "stream",
     "text": [
      "Training Progress for Epoch 1:  48%|████▊     | 356/748 [1:24:07<1:26:47, 13.28s/it, Gen Loss=49.4557, Disc Loss=0.0000]"
     ]
    },
    {
     "name": "stdout",
     "output_type": "stream",
     "text": [
      "Discriminator Loss: 0.0000 | Generator Loss: 49.4557\n"
     ]
    },
    {
     "name": "stderr",
     "output_type": "stream",
     "text": [
      "Training Progress for Epoch 1:  48%|████▊     | 357/748 [1:24:20<1:26:27, 13.27s/it, Gen Loss=47.2362, Disc Loss=0.0000]"
     ]
    },
    {
     "name": "stdout",
     "output_type": "stream",
     "text": [
      "Discriminator Loss: 0.0000 | Generator Loss: 47.2362\n"
     ]
    },
    {
     "name": "stderr",
     "output_type": "stream",
     "text": [
      "Training Progress for Epoch 1:  48%|████▊     | 358/748 [1:24:33<1:25:29, 13.15s/it, Gen Loss=48.2941, Disc Loss=0.0001]"
     ]
    },
    {
     "name": "stdout",
     "output_type": "stream",
     "text": [
      "Discriminator Loss: 0.0001 | Generator Loss: 48.2941\n"
     ]
    },
    {
     "name": "stderr",
     "output_type": "stream",
     "text": [
      "Training Progress for Epoch 1:  48%|████▊     | 359/748 [1:24:46<1:24:06, 12.97s/it, Gen Loss=48.7193, Disc Loss=0.0002]"
     ]
    },
    {
     "name": "stdout",
     "output_type": "stream",
     "text": [
      "Discriminator Loss: 0.0002 | Generator Loss: 48.7193\n"
     ]
    },
    {
     "name": "stderr",
     "output_type": "stream",
     "text": [
      "Training Progress for Epoch 1:  48%|████▊     | 360/748 [1:24:58<1:22:50, 12.81s/it, Gen Loss=47.7563, Disc Loss=0.0003]"
     ]
    },
    {
     "name": "stdout",
     "output_type": "stream",
     "text": [
      "Discriminator Loss: 0.0003 | Generator Loss: 47.7563\n"
     ]
    },
    {
     "name": "stderr",
     "output_type": "stream",
     "text": [
      "Training Progress for Epoch 1:  48%|████▊     | 361/748 [1:25:11<1:23:21, 12.92s/it, Gen Loss=47.8185, Disc Loss=0.0005]"
     ]
    },
    {
     "name": "stdout",
     "output_type": "stream",
     "text": [
      "Discriminator Loss: 0.0005 | Generator Loss: 47.8185\n"
     ]
    },
    {
     "name": "stderr",
     "output_type": "stream",
     "text": [
      "Training Progress for Epoch 1:  48%|████▊     | 362/748 [1:25:24<1:23:09, 12.93s/it, Gen Loss=46.5628, Disc Loss=0.0001]"
     ]
    },
    {
     "name": "stdout",
     "output_type": "stream",
     "text": [
      "Discriminator Loss: 0.0001 | Generator Loss: 46.5628\n"
     ]
    },
    {
     "name": "stderr",
     "output_type": "stream",
     "text": [
      "Training Progress for Epoch 1:  49%|████▊     | 363/748 [1:25:38<1:23:55, 13.08s/it, Gen Loss=46.7458, Disc Loss=0.0002]"
     ]
    },
    {
     "name": "stdout",
     "output_type": "stream",
     "text": [
      "Discriminator Loss: 0.0002 | Generator Loss: 46.7458\n"
     ]
    },
    {
     "name": "stderr",
     "output_type": "stream",
     "text": [
      "Training Progress for Epoch 1:  49%|████▊     | 364/748 [1:25:51<1:24:19, 13.18s/it, Gen Loss=47.1293, Disc Loss=0.0001]"
     ]
    },
    {
     "name": "stdout",
     "output_type": "stream",
     "text": [
      "Discriminator Loss: 0.0001 | Generator Loss: 47.1293\n"
     ]
    },
    {
     "name": "stderr",
     "output_type": "stream",
     "text": [
      "Training Progress for Epoch 1:  49%|████▉     | 365/748 [1:26:04<1:23:00, 13.01s/it, Gen Loss=45.1098, Disc Loss=0.0005]"
     ]
    },
    {
     "name": "stdout",
     "output_type": "stream",
     "text": [
      "Discriminator Loss: 0.0005 | Generator Loss: 45.1098\n"
     ]
    },
    {
     "name": "stderr",
     "output_type": "stream",
     "text": [
      "Training Progress for Epoch 1:  49%|████▉     | 366/748 [1:26:17<1:23:50, 13.17s/it, Gen Loss=42.6215, Disc Loss=0.0001]"
     ]
    },
    {
     "name": "stdout",
     "output_type": "stream",
     "text": [
      "Discriminator Loss: 0.0001 | Generator Loss: 42.6215\n"
     ]
    },
    {
     "name": "stderr",
     "output_type": "stream",
     "text": [
      "Training Progress for Epoch 1:  49%|████▉     | 367/748 [1:26:31<1:24:43, 13.34s/it, Gen Loss=42.6829, Disc Loss=0.0000]"
     ]
    },
    {
     "name": "stdout",
     "output_type": "stream",
     "text": [
      "Discriminator Loss: 0.0000 | Generator Loss: 42.6829\n"
     ]
    },
    {
     "name": "stderr",
     "output_type": "stream",
     "text": [
      "Training Progress for Epoch 1:  49%|████▉     | 368/748 [1:26:44<1:23:23, 13.17s/it, Gen Loss=41.6134, Disc Loss=0.0001]"
     ]
    },
    {
     "name": "stdout",
     "output_type": "stream",
     "text": [
      "Discriminator Loss: 0.0001 | Generator Loss: 41.6134\n"
     ]
    },
    {
     "name": "stderr",
     "output_type": "stream",
     "text": [
      "Training Progress for Epoch 1:  49%|████▉     | 369/748 [1:26:56<1:21:47, 12.95s/it, Gen Loss=39.2387, Disc Loss=0.0000]"
     ]
    },
    {
     "name": "stdout",
     "output_type": "stream",
     "text": [
      "Discriminator Loss: 0.0000 | Generator Loss: 39.2387\n"
     ]
    },
    {
     "name": "stderr",
     "output_type": "stream",
     "text": [
      "Training Progress for Epoch 1:  49%|████▉     | 370/748 [1:27:09<1:21:22, 12.92s/it, Gen Loss=39.9485, Disc Loss=0.0001]"
     ]
    },
    {
     "name": "stdout",
     "output_type": "stream",
     "text": [
      "Discriminator Loss: 0.0001 | Generator Loss: 39.9485\n"
     ]
    },
    {
     "name": "stderr",
     "output_type": "stream",
     "text": [
      "Training Progress for Epoch 1:  50%|████▉     | 371/748 [1:27:22<1:21:10, 12.92s/it, Gen Loss=38.3307, Disc Loss=0.0000]"
     ]
    },
    {
     "name": "stdout",
     "output_type": "stream",
     "text": [
      "Discriminator Loss: 0.0000 | Generator Loss: 38.3307\n"
     ]
    },
    {
     "name": "stderr",
     "output_type": "stream",
     "text": [
      "Training Progress for Epoch 1:  50%|████▉     | 372/748 [1:27:35<1:20:30, 12.85s/it, Gen Loss=38.6691, Disc Loss=0.0000]"
     ]
    },
    {
     "name": "stdout",
     "output_type": "stream",
     "text": [
      "Discriminator Loss: 0.0000 | Generator Loss: 38.6691\n"
     ]
    },
    {
     "name": "stderr",
     "output_type": "stream",
     "text": [
      "Training Progress for Epoch 1:  50%|████▉     | 373/748 [1:27:48<1:21:19, 13.01s/it, Gen Loss=39.0697, Disc Loss=0.0000]"
     ]
    },
    {
     "name": "stdout",
     "output_type": "stream",
     "text": [
      "Discriminator Loss: 0.0000 | Generator Loss: 39.0697\n"
     ]
    },
    {
     "name": "stderr",
     "output_type": "stream",
     "text": [
      "Training Progress for Epoch 1:  50%|█████     | 374/748 [1:28:01<1:20:37, 12.93s/it, Gen Loss=37.5791, Disc Loss=0.0000]"
     ]
    },
    {
     "name": "stdout",
     "output_type": "stream",
     "text": [
      "Discriminator Loss: 0.0000 | Generator Loss: 37.5791\n"
     ]
    },
    {
     "name": "stderr",
     "output_type": "stream",
     "text": [
      "Training Progress for Epoch 1:  50%|█████     | 375/748 [1:28:14<1:20:51, 13.01s/it, Gen Loss=35.9397, Disc Loss=0.0000]"
     ]
    },
    {
     "name": "stdout",
     "output_type": "stream",
     "text": [
      "Discriminator Loss: 0.0000 | Generator Loss: 35.9397\n"
     ]
    },
    {
     "name": "stderr",
     "output_type": "stream",
     "text": [
      "Training Progress for Epoch 1:  50%|█████     | 376/748 [1:28:27<1:20:37, 13.00s/it, Gen Loss=36.4007, Disc Loss=0.0002]"
     ]
    },
    {
     "name": "stdout",
     "output_type": "stream",
     "text": [
      "Discriminator Loss: 0.0002 | Generator Loss: 36.4007\n"
     ]
    },
    {
     "name": "stderr",
     "output_type": "stream",
     "text": [
      "Training Progress for Epoch 1:  50%|█████     | 377/748 [1:28:39<1:19:19, 12.83s/it, Gen Loss=34.4261, Disc Loss=0.0000]"
     ]
    },
    {
     "name": "stdout",
     "output_type": "stream",
     "text": [
      "Discriminator Loss: 0.0000 | Generator Loss: 34.4261\n"
     ]
    },
    {
     "name": "stderr",
     "output_type": "stream",
     "text": [
      "Training Progress for Epoch 1:  51%|█████     | 378/748 [1:28:52<1:18:23, 12.71s/it, Gen Loss=33.0581, Disc Loss=0.0000]"
     ]
    },
    {
     "name": "stdout",
     "output_type": "stream",
     "text": [
      "Discriminator Loss: 0.0000 | Generator Loss: 33.0581\n"
     ]
    },
    {
     "name": "stderr",
     "output_type": "stream",
     "text": [
      "Training Progress for Epoch 1:  51%|█████     | 379/748 [1:29:04<1:17:53, 12.66s/it, Gen Loss=34.5838, Disc Loss=0.0001]"
     ]
    },
    {
     "name": "stdout",
     "output_type": "stream",
     "text": [
      "Discriminator Loss: 0.0001 | Generator Loss: 34.5838\n"
     ]
    },
    {
     "name": "stderr",
     "output_type": "stream",
     "text": [
      "Training Progress for Epoch 1:  51%|█████     | 380/748 [1:29:17<1:17:46, 12.68s/it, Gen Loss=32.2269, Disc Loss=0.0000]"
     ]
    },
    {
     "name": "stdout",
     "output_type": "stream",
     "text": [
      "Discriminator Loss: 0.0000 | Generator Loss: 32.2269\n"
     ]
    },
    {
     "name": "stderr",
     "output_type": "stream",
     "text": [
      "Training Progress for Epoch 1:  51%|█████     | 381/748 [1:29:30<1:17:48, 12.72s/it, Gen Loss=30.1969, Disc Loss=0.0021]"
     ]
    },
    {
     "name": "stdout",
     "output_type": "stream",
     "text": [
      "Discriminator Loss: 0.0021 | Generator Loss: 30.1969\n"
     ]
    },
    {
     "name": "stderr",
     "output_type": "stream",
     "text": [
      "Training Progress for Epoch 1:  51%|█████     | 382/748 [1:29:42<1:17:24, 12.69s/it, Gen Loss=31.4559, Disc Loss=0.0000]"
     ]
    },
    {
     "name": "stdout",
     "output_type": "stream",
     "text": [
      "Discriminator Loss: 0.0000 | Generator Loss: 31.4559\n"
     ]
    },
    {
     "name": "stderr",
     "output_type": "stream",
     "text": [
      "Training Progress for Epoch 1:  51%|█████     | 383/748 [1:29:55<1:17:42, 12.77s/it, Gen Loss=28.8042, Disc Loss=0.0000]"
     ]
    },
    {
     "name": "stdout",
     "output_type": "stream",
     "text": [
      "Discriminator Loss: 0.0000 | Generator Loss: 28.8042\n"
     ]
    },
    {
     "name": "stderr",
     "output_type": "stream",
     "text": [
      "Training Progress for Epoch 1:  51%|█████▏    | 384/748 [1:30:09<1:18:11, 12.89s/it, Gen Loss=27.8997, Disc Loss=0.0000]"
     ]
    },
    {
     "name": "stdout",
     "output_type": "stream",
     "text": [
      "Discriminator Loss: 0.0000 | Generator Loss: 27.8997\n"
     ]
    },
    {
     "name": "stderr",
     "output_type": "stream",
     "text": [
      "Training Progress for Epoch 1:  51%|█████▏    | 385/748 [1:30:21<1:17:57, 12.89s/it, Gen Loss=30.1500, Disc Loss=0.0000]"
     ]
    },
    {
     "name": "stdout",
     "output_type": "stream",
     "text": [
      "Discriminator Loss: 0.0000 | Generator Loss: 30.1500\n"
     ]
    },
    {
     "name": "stderr",
     "output_type": "stream",
     "text": [
      "Training Progress for Epoch 1:  52%|█████▏    | 386/748 [1:30:34<1:16:11, 12.63s/it, Gen Loss=28.8893, Disc Loss=0.0000]"
     ]
    },
    {
     "name": "stdout",
     "output_type": "stream",
     "text": [
      "Discriminator Loss: 0.0000 | Generator Loss: 28.8893\n"
     ]
    },
    {
     "name": "stderr",
     "output_type": "stream",
     "text": [
      "Training Progress for Epoch 1:  52%|█████▏    | 387/748 [1:30:46<1:16:07, 12.65s/it, Gen Loss=27.5850, Disc Loss=0.0000]"
     ]
    },
    {
     "name": "stdout",
     "output_type": "stream",
     "text": [
      "Discriminator Loss: 0.0000 | Generator Loss: 27.5850\n"
     ]
    },
    {
     "name": "stderr",
     "output_type": "stream",
     "text": [
      "Training Progress for Epoch 1:  52%|█████▏    | 388/748 [1:30:59<1:16:15, 12.71s/it, Gen Loss=26.4217, Disc Loss=0.0000]"
     ]
    },
    {
     "name": "stdout",
     "output_type": "stream",
     "text": [
      "Discriminator Loss: 0.0000 | Generator Loss: 26.4217\n"
     ]
    },
    {
     "name": "stderr",
     "output_type": "stream",
     "text": [
      "Training Progress for Epoch 1:  52%|█████▏    | 389/748 [1:31:12<1:16:15, 12.74s/it, Gen Loss=24.4692, Disc Loss=0.0000]"
     ]
    },
    {
     "name": "stdout",
     "output_type": "stream",
     "text": [
      "Discriminator Loss: 0.0000 | Generator Loss: 24.4692\n"
     ]
    },
    {
     "name": "stderr",
     "output_type": "stream",
     "text": [
      "Training Progress for Epoch 1:  52%|█████▏    | 390/748 [1:31:24<1:15:45, 12.70s/it, Gen Loss=27.4328, Disc Loss=0.0000]"
     ]
    },
    {
     "name": "stdout",
     "output_type": "stream",
     "text": [
      "Discriminator Loss: 0.0000 | Generator Loss: 27.4328\n"
     ]
    },
    {
     "name": "stderr",
     "output_type": "stream",
     "text": [
      "\r",
      "Training Progress for Epoch 1:  52%|█████▏    | 390/748 [1:31:31<1:24:00, 14.08s/it, Gen Loss=27.4328, Disc Loss=0.0000]\n"
     ]
    },
    {
     "ename": "KeyboardInterrupt",
     "evalue": "",
     "output_type": "error",
     "traceback": [
      "\u001b[0;31m---------------------------------------------------------------------------\u001b[0m",
      "\u001b[0;31mKeyboardInterrupt\u001b[0m                         Traceback (most recent call last)",
      "\u001b[0;32m<ipython-input-36-2c74f1838e9d>\u001b[0m in \u001b[0;36m<cell line: 1>\u001b[0;34m()\u001b[0m\n\u001b[0;32m----> 1\u001b[0;31m \u001b[0mtrain_model\u001b[0m\u001b[0;34m(\u001b[0m\u001b[0mencoder\u001b[0m\u001b[0;34m,\u001b[0m \u001b[0mgenerator\u001b[0m\u001b[0;34m,\u001b[0m \u001b[0mdiscriminator\u001b[0m\u001b[0;34m,\u001b[0m \u001b[0mdata_loader\u001b[0m\u001b[0;34m,\u001b[0m \u001b[0mnum_epochs\u001b[0m\u001b[0;34m=\u001b[0m\u001b[0;36m20\u001b[0m\u001b[0;34m,\u001b[0m \u001b[0mlr\u001b[0m\u001b[0;34m=\u001b[0m\u001b[0;36m0.0002\u001b[0m\u001b[0;34m,\u001b[0m \u001b[0msave_path\u001b[0m\u001b[0;34m=\u001b[0m\u001b[0;34m\"/content/drive/MyDrive/sngan-models\"\u001b[0m\u001b[0;34m)\u001b[0m\u001b[0;34m\u001b[0m\u001b[0;34m\u001b[0m\u001b[0m\n\u001b[0m",
      "\u001b[0;32m<ipython-input-33-2bb1bf2460d9>\u001b[0m in \u001b[0;36mtrain_model\u001b[0;34m(encoder, generator, discriminator, data_loader, num_epochs, lr, save_path)\u001b[0m\n\u001b[1;32m     41\u001b[0m             \u001b[0mfake_loss\u001b[0m \u001b[0;34m=\u001b[0m \u001b[0mgan_loss_fn\u001b[0m\u001b[0;34m(\u001b[0m\u001b[0mdiscriminator\u001b[0m\u001b[0;34m(\u001b[0m\u001b[0mfake_images\u001b[0m\u001b[0;34m.\u001b[0m\u001b[0mdetach\u001b[0m\u001b[0;34m(\u001b[0m\u001b[0;34m)\u001b[0m\u001b[0;34m,\u001b[0m \u001b[0mlatent_vector\u001b[0m\u001b[0;34m)\u001b[0m\u001b[0;34m,\u001b[0m \u001b[0mfake_labels\u001b[0m\u001b[0;34m)\u001b[0m\u001b[0;34m\u001b[0m\u001b[0;34m\u001b[0m\u001b[0m\n\u001b[1;32m     42\u001b[0m             \u001b[0mdisc_loss\u001b[0m \u001b[0;34m=\u001b[0m \u001b[0mreal_loss\u001b[0m \u001b[0;34m+\u001b[0m \u001b[0mfake_loss\u001b[0m\u001b[0;34m\u001b[0m\u001b[0;34m\u001b[0m\u001b[0m\n\u001b[0;32m---> 43\u001b[0;31m             \u001b[0mdisc_loss\u001b[0m\u001b[0;34m.\u001b[0m\u001b[0mbackward\u001b[0m\u001b[0;34m(\u001b[0m\u001b[0;34m)\u001b[0m\u001b[0;34m\u001b[0m\u001b[0;34m\u001b[0m\u001b[0m\n\u001b[0m\u001b[1;32m     44\u001b[0m             \u001b[0moptimizer_disc\u001b[0m\u001b[0;34m.\u001b[0m\u001b[0mstep\u001b[0m\u001b[0;34m(\u001b[0m\u001b[0;34m)\u001b[0m\u001b[0;34m\u001b[0m\u001b[0;34m\u001b[0m\u001b[0m\n\u001b[1;32m     45\u001b[0m \u001b[0;34m\u001b[0m\u001b[0m\n",
      "\u001b[0;32m/usr/local/lib/python3.10/dist-packages/torch/_tensor.py\u001b[0m in \u001b[0;36mbackward\u001b[0;34m(self, gradient, retain_graph, create_graph, inputs)\u001b[0m\n\u001b[1;32m    579\u001b[0m                 \u001b[0minputs\u001b[0m\u001b[0;34m=\u001b[0m\u001b[0minputs\u001b[0m\u001b[0;34m,\u001b[0m\u001b[0;34m\u001b[0m\u001b[0;34m\u001b[0m\u001b[0m\n\u001b[1;32m    580\u001b[0m             )\n\u001b[0;32m--> 581\u001b[0;31m         torch.autograd.backward(\n\u001b[0m\u001b[1;32m    582\u001b[0m             \u001b[0mself\u001b[0m\u001b[0;34m,\u001b[0m \u001b[0mgradient\u001b[0m\u001b[0;34m,\u001b[0m \u001b[0mretain_graph\u001b[0m\u001b[0;34m,\u001b[0m \u001b[0mcreate_graph\u001b[0m\u001b[0;34m,\u001b[0m \u001b[0minputs\u001b[0m\u001b[0;34m=\u001b[0m\u001b[0minputs\u001b[0m\u001b[0;34m\u001b[0m\u001b[0;34m\u001b[0m\u001b[0m\n\u001b[1;32m    583\u001b[0m         )\n",
      "\u001b[0;32m/usr/local/lib/python3.10/dist-packages/torch/autograd/__init__.py\u001b[0m in \u001b[0;36mbackward\u001b[0;34m(tensors, grad_tensors, retain_graph, create_graph, grad_variables, inputs)\u001b[0m\n\u001b[1;32m    345\u001b[0m     \u001b[0;31m# some Python versions print out the first line of a multi-line function\u001b[0m\u001b[0;34m\u001b[0m\u001b[0;34m\u001b[0m\u001b[0m\n\u001b[1;32m    346\u001b[0m     \u001b[0;31m# calls in the traceback and some print out the last line\u001b[0m\u001b[0;34m\u001b[0m\u001b[0;34m\u001b[0m\u001b[0m\n\u001b[0;32m--> 347\u001b[0;31m     _engine_run_backward(\n\u001b[0m\u001b[1;32m    348\u001b[0m         \u001b[0mtensors\u001b[0m\u001b[0;34m,\u001b[0m\u001b[0;34m\u001b[0m\u001b[0;34m\u001b[0m\u001b[0m\n\u001b[1;32m    349\u001b[0m         \u001b[0mgrad_tensors_\u001b[0m\u001b[0;34m,\u001b[0m\u001b[0;34m\u001b[0m\u001b[0;34m\u001b[0m\u001b[0m\n",
      "\u001b[0;32m/usr/local/lib/python3.10/dist-packages/torch/autograd/graph.py\u001b[0m in \u001b[0;36m_engine_run_backward\u001b[0;34m(t_outputs, *args, **kwargs)\u001b[0m\n\u001b[1;32m    823\u001b[0m         \u001b[0munregister_hooks\u001b[0m \u001b[0;34m=\u001b[0m \u001b[0m_register_logging_hooks_on_whole_graph\u001b[0m\u001b[0;34m(\u001b[0m\u001b[0mt_outputs\u001b[0m\u001b[0;34m)\u001b[0m\u001b[0;34m\u001b[0m\u001b[0;34m\u001b[0m\u001b[0m\n\u001b[1;32m    824\u001b[0m     \u001b[0;32mtry\u001b[0m\u001b[0;34m:\u001b[0m\u001b[0;34m\u001b[0m\u001b[0;34m\u001b[0m\u001b[0m\n\u001b[0;32m--> 825\u001b[0;31m         return Variable._execution_engine.run_backward(  # Calls into the C++ engine to run the backward pass\n\u001b[0m\u001b[1;32m    826\u001b[0m             \u001b[0mt_outputs\u001b[0m\u001b[0;34m,\u001b[0m \u001b[0;34m*\u001b[0m\u001b[0margs\u001b[0m\u001b[0;34m,\u001b[0m \u001b[0;34m**\u001b[0m\u001b[0mkwargs\u001b[0m\u001b[0;34m\u001b[0m\u001b[0;34m\u001b[0m\u001b[0m\n\u001b[1;32m    827\u001b[0m         )  # Calls into the C++ engine to run the backward pass\n",
      "\u001b[0;31mKeyboardInterrupt\u001b[0m: "
     ]
    }
   ],
   "source": [
    "train_model(encoder, generator, discriminator, data_loader, num_epochs=20, lr=0.0002, save_path=\"/content/drive/MyDrive/sngan-models\")"
   ]
  },
  {
   "cell_type": "code",
   "execution_count": null,
   "id": "536948f9",
   "metadata": {
    "id": "-2atxqt832ng"
   },
   "outputs": [],
   "source": [
    "# Load Generator\n",
    "generator = Generator()\n",
    "generator.load_state_dict(torch.load(\"/content/drive/MyDrive/sngan-models/gen.pth\"))\n",
    "generator.to(device)\n",
    "\n",
    "# Load Discriminator\n",
    "discriminator = Discriminator()\n",
    "discriminator.load_state_dict(torch.load(\"/content/drive/MyDrive/sngan-models/disc.pth\"))\n",
    "discriminator.to(device)"
   ]
  },
  {
   "cell_type": "code",
   "execution_count": null,
   "id": "4ab863f0",
   "metadata": {},
   "outputs": [],
   "source": []
  }
 ],
 "metadata": {
  "kernelspec": {
   "display_name": "Python 3 (ipykernel)",
   "language": "python",
   "name": "python3"
  },
  "language_info": {
   "codemirror_mode": {
    "name": "ipython",
    "version": 3
   },
   "file_extension": ".py",
   "mimetype": "text/x-python",
   "name": "python",
   "nbconvert_exporter": "python",
   "pygments_lexer": "ipython3",
   "version": "3.10.0"
  }
 },
 "nbformat": 4,
 "nbformat_minor": 5
}
