{
 "cells": [
  {
   "cell_type": "code",
   "execution_count": 17,
   "metadata": {
    "id": "ZLfVMQz5rJS5"
   },
   "outputs": [],
   "source": [
    "from PIL import Image\n",
    "import os\n",
    "import torch\n",
    "import numpy as np\n",
    "import pandas as pd\n",
    "import torch\n",
    "import torch.nn as nn\n",
    "import torch.optim as optim\n",
    "from torch.utils.data import Dataset, DataLoader\n",
    "from torchvision import transforms\n",
    "import torch.nn.functional as F\n",
    "from tqdm import tqdm\n",
    "from torch.nn.utils import spectral_norm"
   ]
  },
  {
   "cell_type": "code",
   "execution_count": 18,
   "metadata": {
    "colab": {
     "base_uri": "https://localhost:8080/"
    },
    "id": "jsUveJRh01Cf",
    "outputId": "78134c73-b218-4b56-8918-f393c902cec8"
   },
   "outputs": [
    {
     "name": "stdout",
     "output_type": "stream",
     "text": [
      "Using CUDA\n"
     ]
    }
   ],
   "source": [
    "if torch.cuda.is_available():\n",
    "    device = torch.device(\"cuda\")\n",
    "    print(\"Using CUDA\")\n",
    "else:\n",
    "    device = torch.device(\"cpu\")\n",
    "    print(\"Using CPU\")"
   ]
  },
  {
   "cell_type": "code",
   "execution_count": 19,
   "metadata": {
    "id": "vwIUg_LwX7By",
    "outputId": "9cc5b350-b5cb-437b-a067-6e26120ac1aa"
   },
   "outputs": [
    {
     "name": "stderr",
     "output_type": "stream",
     "text": [
      "C:\\Users\\hp\\AppData\\Local\\Temp\\ipykernel_17800\\663694788.py:1: FutureWarning: You are using `torch.load` with `weights_only=False` (the current default value), which uses the default pickle module implicitly. It is possible to construct malicious pickle data which will execute arbitrary code during unpickling (See https://github.com/pytorch/pytorch/blob/main/SECURITY.md#untrusted-models for more details). In a future release, the default value for `weights_only` will be flipped to `True`. This limits the functions that could be executed during unpickling. Arbitrary objects will no longer be allowed to be loaded via this mode unless they are explicitly allowlisted by the user via `torch.serialization.add_safe_globals`. We recommend you start setting `weights_only=True` for any use case where you don't have full control of the loaded file. Please open an issue on GitHub for any issues related to this experimental feature.\n",
      "  subject_data=torch.load(r'C:\\Users\\hp\\Desktop\\M.Tech\\ML\\ML_Project\\ML_Project-main\\instances_&_dict\\data_with_embeddings.pth')\n"
     ]
    }
   ],
   "source": [
    "subject_data=torch.load(r'C:\\Users\\hp\\Desktop\\M.Tech\\ML\\ML_Project\\ML_Project-main\\instances_&_dict\\data_with_embeddings.pth')"
   ]
  },
  {
   "cell_type": "code",
   "execution_count": 20,
   "metadata": {
    "id": "7gaxaGL34bVr",
    "outputId": "cf5d8b7d-2895-4870-bc5c-9ca954b15292"
   },
   "outputs": [],
   "source": [
    "class EEGImageDataset():\n",
    "    def __init__(self, subject_data, subject_no, image_folder, synset_csv, transform=None, eeg_length=440):\n",
    "        \"\"\"\n",
    "        Args:\n",
    "            subject_data (dict): Dictionary with keys `dataset`, `labels`, `images`, `z`.\n",
    "            subject_no (int): The subject number to filter data.\n",
    "            image_folder (str): Path to the main image folder.\n",
    "            synset_csv (str): Path to the synset CSV file with `images` and `folder` columns.\n",
    "            transform (callable, optional): Optional transform to be applied on the images.\n",
    "            eeg_length (int): Fixed length for the EEG data (e.g., 440).\n",
    "        \"\"\"\n",
    "        self.eeg_embeddings = subject_data[subject_no][\"z\"]  # Precomputed EEG embeddings\n",
    "        self.labels = subject_data[subject_no][\"Labels\"]  # Labels for the subject\n",
    "        self.image_folder = image_folder\n",
    "        self.synset_df = pd.read_csv(synset_csv)  # Read the synset CSV file\n",
    "        self.transform = transform\n",
    "        self.eeg_length = eeg_length  # Length of EEG signals, but we don't crop here\n",
    "\n",
    "        # Ensure we have the same number of EEG samples and images\n",
    "        num_eegs = len(self.eeg_embeddings)\n",
    "        num_images = len(self.synset_df)\n",
    "\n",
    "        if num_eegs < num_images:\n",
    "            self.synset_df = self.synset_df.iloc[:num_eegs]  # Truncate images to match EEGs\n",
    "        elif num_eegs > num_images:\n",
    "            raise ValueError(f\"More EEG samples ({num_eegs}) than images ({num_images})\")\n",
    "\n",
    "    def __len__(self):\n",
    "        return len(self.eeg_embeddings)\n",
    "\n",
    "    def __getitem__(self, idx):\n",
    "        eeg_embedding = self.eeg_embeddings[idx].to(torch.float32)  # Shape: (embedding_size)\n",
    "\n",
    "        label = self.labels[idx]\n",
    "\n",
    "        image_filename = self.synset_df.iloc[idx][\"images\"] + \".JPEG\"\n",
    "        folder_name = self.synset_df.iloc[idx][\"folder\"]\n",
    "        image_path = os.path.join(self.image_folder, folder_name, image_filename)\n",
    "\n",
    "        image = Image.open(image_path).convert(\"RGB\")\n",
    "\n",
    "        if self.transform:\n",
    "            image = self.transform(image)\n",
    "\n",
    "        return {\"eeg\": eeg_embedding, \"image\": image, \"label\": label}\n"
   ]
  },
  {
   "cell_type": "code",
   "execution_count": 21,
   "metadata": {},
   "outputs": [
    {
     "name": "stdout",
     "output_type": "stream",
     "text": [
      "EEG Embeddings shape: torch.Size([16, 128])\n",
      "Image shape: torch.Size([16, 3, 128, 128])\n",
      "z tensor([14,  3, 16,  0, 22, 24, 39, 15, 15, 20, 38, 10, 32,  0, 36, 28],\n",
      "       device='cuda:0')\n"
     ]
    }
   ],
   "source": [
    "# Define transformations for the images (optional)\n",
    "image_transforms = transforms.Compose([\n",
    "    transforms.ToTensor(),  # Convert PIL image to tensor\n",
    "])\n",
    "\n",
    "image_folder_path = r\"C:\\Users\\hp\\Desktop\\M.Tech\\ML\\ML_Project\\ML_Project-main\\Subset_128x128\"\n",
    "synset_csv_path = r\"C:\\Users\\hp\\Desktop\\M.Tech\\ML\\ML_Project\\ML_Project-main\\Subset\\synsetIds.csv\"\n",
    "\n",
    "# Define the subject number to train for\n",
    "subject_no = 1  # Change this to train for a different subject (1, 2, 3, ..., 6)\n",
    "\n",
    "# Create the dataset for the specific subject\n",
    "eeg_image_dataset = EEGImageDataset(\n",
    "    subject_data=subject_data,\n",
    "    subject_no=subject_no,\n",
    "    image_folder=image_folder_path,\n",
    "    synset_csv=synset_csv_path,\n",
    "    transform=image_transforms\n",
    ")\n",
    "\n",
    "# Create a DataLoader for batching\n",
    "data_loader = DataLoader(eeg_image_dataset, batch_size=16, shuffle=True,drop_last=True)\n",
    "\n",
    "# Example: Iterate through the DataLoader and pass to GAN\n",
    "for batch in data_loader:\n",
    "    # Pass EEG embeddings (batch['eeg']) and images (batch['image']) to the GAN\n",
    "    eeg_embeddings = batch[\"eeg\"]  # Shape: (batch_size, embedding_size)\n",
    "    images = batch[\"image\"]  # Shape: (batch_size, 3, 128, 128)\n",
    "    labels = batch[\"label\"]  # Shape: (batch_size,)\n",
    "\n",
    "    # Example: Pass embeddings and images to the GAN's generator\n",
    "    # Assuming generator takes both EEG embeddings (z) and images as input\n",
    "    # generated_images = generator(eeg_embeddings, images)\n",
    "\n",
    "    # For debugging purposes, let's print the shapes\n",
    "    print(\"EEG Embeddings shape:\", eeg_embeddings.shape)\n",
    "    print(\"Image shape:\", images.shape)\n",
    "    print(\"z\", labels)\n",
    "    break"
   ]
  },
  {
   "cell_type": "code",
   "execution_count": 5,
   "metadata": {
    "id": "F_r57mKn6SNo"
   },
   "outputs": [],
   "source": [
    "# ResBlockUp (used in Generator)\n",
    "class ResBlockUp(nn.Module):\n",
    "    def __init__(self, in_channels, out_channels):\n",
    "        super(ResBlockUp, self).__init__()\n",
    "        self.conv1 = nn.Conv2d(in_channels, out_channels, kernel_size=3, padding=1)\n",
    "        self.conv2 = nn.Conv2d(out_channels, out_channels, kernel_size=3, padding=1)\n",
    "        self.bn1 = nn.BatchNorm2d(in_channels)\n",
    "        self.bn2 = nn.BatchNorm2d(out_channels)\n",
    "        self.upsample = nn.Upsample(scale_factor=2, mode='nearest')\n",
    "        self.shortcut = nn.Conv2d(in_channels, out_channels, kernel_size=1)\n",
    "\n",
    "    def forward(self, x):\n",
    "        shortcut = self.upsample(self.shortcut(x))\n",
    "        x = self.bn1(x)\n",
    "        x = F.relu(x)\n",
    "        x = self.upsample(x)\n",
    "        x = self.conv1(x)\n",
    "        x = self.bn2(x)\n",
    "        x = F.relu(x)\n",
    "        x = self.conv2(x)\n",
    "        return x + shortcut\n",
    "\n",
    "\n",
    "# ResBlockDown (used in Discriminator)\n",
    "class ResBlockDown(nn.Module):\n",
    "    def __init__(self, in_channels, out_channels):\n",
    "        super(ResBlockDown, self).__init__()\n",
    "        self.conv1 = spectral_norm(nn.Conv2d(in_channels, out_channels, kernel_size=3, padding=1))  # Apply spectral norm\n",
    "        self.conv2 = spectral_norm(nn.Conv2d(out_channels, out_channels, kernel_size=3, padding=1))  # Apply spectral norm\n",
    "        self.bn1 = nn.BatchNorm2d(in_channels)\n",
    "        self.bn2 = nn.BatchNorm2d(out_channels)\n",
    "        self.downsample = nn.AvgPool2d(kernel_size=2)\n",
    "        self.shortcut = nn.Conv2d(in_channels, out_channels, kernel_size=1, stride=2)\n",
    "\n",
    "    def forward(self, x):\n",
    "        shortcut = self.shortcut(x)\n",
    "        x = self.bn1(x)\n",
    "        x = F.relu(x)\n",
    "        x = self.conv1(x)\n",
    "        x = self.bn2(x)\n",
    "        x = F.relu(x)\n",
    "        x = self.conv2(x)\n",
    "        x = self.downsample(x)\n",
    "        return x + shortcut\n",
    "\n",
    "\n",
    "# Generator\n",
    "class Generator(nn.Module):\n",
    "    def __init__(self, noise_dim=100, class_dim=128):\n",
    "        super(Generator, self).__init__()\n",
    "        self.fc = nn.Linear(noise_dim + class_dim, 4 * 4 * 1024)\n",
    "        self.resblock1 = ResBlockUp(1024, 512)\n",
    "        self.resblock2 = ResBlockUp(512, 256)\n",
    "        self.resblock3 = ResBlockUp(256, 128)\n",
    "        self.resblock4 = ResBlockUp(128, 64)\n",
    "        self.bn = nn.BatchNorm2d(64)\n",
    "        self.conv = nn.Conv2d(64, 3, kernel_size=3, padding=1)\n",
    "        self.tanh = nn.Tanh()\n",
    "\n",
    "    def forward(self, noise, class_embedding):\n",
    "        x = torch.cat([noise, class_embedding], dim=1)  # Concatenate noise and class embedding\n",
    "        x = self.fc(x).view(-1, 1024, 4, 4)  # Reshape to 4×4×1024\n",
    "        x = self.resblock1(x)\n",
    "        x = self.resblock2(x)\n",
    "        x = self.resblock3(x)\n",
    "        x = self.resblock4(x)\n",
    "        x = self.bn(x)\n",
    "        x = F.relu(x)\n",
    "        x = self.conv(x)\n",
    "        return self.tanh(x)\n",
    "\n",
    "\n",
    "# Discriminator\n",
    "class Discriminator(nn.Module):\n",
    "    def __init__(self, class_dim=128):\n",
    "        super(Discriminator, self).__init__()\n",
    "        # Initial ResBlock layers\n",
    "        self.resblock1 = ResBlockDown(3, 64)\n",
    "        self.resblock2 = ResBlockDown(64, 128)\n",
    "        self.resblock3 = ResBlockDown(128, 256)\n",
    "\n",
    "        # Embedding layer for class embeddings\n",
    "        self.embed = nn.Linear(class_dim, 256)  # Project class embedding to match feature map channels\n",
    "\n",
    "        # Continue ResBlocks after concatenation\n",
    "        self.resblock4 = ResBlockDown(256 + 256, 512)  # Adjust input to account for concatenation\n",
    "        self.resblock5 = ResBlockDown(512, 1024)\n",
    "        self.resblock6 = ResBlockDown(1024, 1024)\n",
    "\n",
    "        # Final layers\n",
    "        self.relu = nn.ReLU()\n",
    "        self.global_sum_pooling = nn.AdaptiveAvgPool2d((1, 1))\n",
    "        self.fc = nn.Linear(1024, 1)\n",
    "\n",
    "    def forward(self, img, class_embedding):\n",
    "        # Initial feature extraction\n",
    "        h = self.resblock1(img)\n",
    "        h = self.resblock2(h)\n",
    "        h = self.resblock3(h)\n",
    "\n",
    "        # Get the spatial dimensions of the feature map\n",
    "        feature_map_size = h.shape[-2:]  # (height, width)\n",
    "\n",
    "        # Embed class and reshape to match feature map dimensions\n",
    "        condition_embed = self.embed(class_embedding).unsqueeze(-1).unsqueeze(-1)\n",
    "        condition_embed = condition_embed.expand(-1, -1, *feature_map_size)\n",
    "\n",
    "        # Concatenate class embedding with the feature map\n",
    "        h = torch.cat([h, condition_embed], dim=1)  # Concatenate along channel dimension\n",
    "\n",
    "        # Continue feature extraction\n",
    "        h = self.resblock4(h)\n",
    "        h = self.resblock5(h)\n",
    "        h = self.resblock6(h)\n",
    "\n",
    "        # Final processing\n",
    "        h = self.relu(h)\n",
    "        h = self.global_sum_pooling(h).view(h.size(0), -1)  # Flatten\n",
    "        return self.fc(h)"
   ]
  },
  {
   "cell_type": "code",
   "execution_count": 6,
   "metadata": {
    "id": "fM8LBTE2tyk5"
   },
   "outputs": [],
   "source": [
    "import torch\n",
    "import torch.nn as nn\n",
    "from tqdm import tqdm\n",
    "\n",
    "def train_gan(generator, discriminator, optimizer_gen, optimizer_disc, subject_data, subject_no, dataloader, noise_dim, num_epochs, lr, device):\n",
    "\n",
    "    # Loss function\n",
    "    criterion = nn.BCEWithLogitsLoss()\n",
    "\n",
    "    for epoch in range(num_epochs):\n",
    "        generator.train()\n",
    "        discriminator.train()\n",
    "\n",
    "        epoch_gen_loss = 0.0\n",
    "        epoch_disc_loss = 0.0\n",
    "\n",
    "        with tqdm(dataloader, desc=f\"Epoch {epoch + 1}/{num_epochs}\") as pbar:\n",
    "            for batch in pbar:\n",
    "                real_images = batch[\"image\"].to(device)\n",
    "                eeg_embeddings = batch[\"eeg\"].to(device)  # Precomputed embeddings ('z')\n",
    "\n",
    "                # Modify EEG embeddings for the first 500 epochs and next 250 epochs\n",
    "                if epoch < (num_epochs*2)/3:\n",
    "                    # Set EEG embeddings to zero for the first 500 epochs\n",
    "                    eeg_embeddings = torch.zeros_like(eeg_embeddings).to(device)\n",
    "                elif epoch >=(num_epochs*2)/3:\n",
    "                    # Use original EEG embeddings for the next 250 epochs (500-750)\n",
    "                    pass\n",
    "                else:\n",
    "                    pass\n",
    "\n",
    "                # === Train Discriminator ===\n",
    "                optimizer_disc.zero_grad()\n",
    "                batch_size = real_images.size(0)\n",
    "                noise = torch.randn(batch_size, noise_dim).to(device)  # Random noise for the generator\n",
    "\n",
    "                # Generate fake images using the generator\n",
    "                fake_images = generator(noise, eeg_embeddings)\n",
    "\n",
    "                # Real and fake labels\n",
    "                real_labels = torch.full((batch_size, 1), 0.8).to(device)  # Smooth real labels\n",
    "                fake_labels = torch.full((batch_size, 1), 0.0).to(device)\n",
    "\n",
    "                # Discriminator loss (real images vs. fake images)\n",
    "                real_loss = torch.mean(torch.log(discriminator(real_images, eeg_embeddings) + 1e-8))  # log(D(x))\n",
    "                fake_loss = torch.mean(torch.log(1 - discriminator(fake_images.detach(), eeg_embeddings) + 1e-8))  # log(1-D(G(z)))\n",
    "                disc_loss = -(real_loss + fake_loss)\n",
    "                disc_loss.backward()\n",
    "                optimizer_disc.step()\n",
    "\n",
    "                # === Train Generator ===\n",
    "                optimizer_gen.zero_grad()\n",
    "                fake_images = generator(noise, eeg_embeddings)  # Generate fake images\n",
    "                gen_loss = criterion(discriminator(fake_images, eeg_embeddings), real_labels)  # Fool Discriminator\n",
    "                gen_loss.backward()\n",
    "                optimizer_gen.step()\n",
    "\n",
    "                # Update epoch losses\n",
    "                epoch_gen_loss += gen_loss.item()\n",
    "                epoch_disc_loss += disc_loss.item()\n",
    "\n",
    "                # Debugging outputs\n",
    "                if batch_size > 0 and epoch == 0:  # Log first batch outputs\n",
    "                    print(f\"Real Loss: {real_loss.item():.4f}, Fake Loss: {fake_loss.item():.4f}\")\n",
    "                    print(f\"Fake Images Mean: {fake_images.mean().item():.4f}\")\n",
    "\n",
    "                # Update tqdm progress bar\n",
    "                pbar.set_postfix({\n",
    "                    \"Gen Loss\": f\"{gen_loss.item():.4f}\",\n",
    "                    \"Disc Loss\": f\"{disc_loss.item():.4f}\"\n",
    "                })\n",
    "\n",
    "        # Print epoch statistics\n",
    "        print(f\"Epoch [{epoch + 1}/{num_epochs}] | Gen Loss: {epoch_gen_loss / len(dataloader):.4f} | Disc Loss: {epoch_disc_loss / len(dataloader):.4f}\")\n"
   ]
  },
  {
   "cell_type": "code",
   "execution_count": null,
   "metadata": {
    "colab": {
     "base_uri": "https://localhost:8080/"
    },
    "id": "S06DZuhauXlp",
    "outputId": "6818c53f-57f3-48f3-dbee-04d15aceaf5e"
   },
   "outputs": [
    {
     "name": "stderr",
     "output_type": "stream",
     "text": [
      "Epoch 1/30:   1%|▎                                  | 1/125 [00:00<00:58,  2.11it/s, Gen Loss=0.6833, Disc Loss=1.3777]"
     ]
    },
    {
     "name": "stdout",
     "output_type": "stream",
     "text": [
      "Real Loss: 0.6649, Fake Loss: 0.7128\n",
      "Fake Images Mean: 0.0065\n"
     ]
    },
    {
     "name": "stderr",
     "output_type": "stream",
     "text": [
      "Epoch 1/30:   2%|▌                                  | 2/125 [00:00<00:41,  2.93it/s, Gen Loss=0.6779, Disc Loss=1.3958]"
     ]
    },
    {
     "name": "stdout",
     "output_type": "stream",
     "text": [
      "Real Loss: 0.6727, Fake Loss: 0.7232\n",
      "Fake Images Mean: 0.0056\n"
     ]
    },
    {
     "name": "stderr",
     "output_type": "stream",
     "text": [
      "Epoch 1/30:   2%|▊                                  | 3/125 [00:00<00:34,  3.50it/s, Gen Loss=0.6817, Disc Loss=1.3839]"
     ]
    },
    {
     "name": "stdout",
     "output_type": "stream",
     "text": [
      "Real Loss: 0.6702, Fake Loss: 0.7137\n",
      "Fake Images Mean: 0.0071\n"
     ]
    },
    {
     "name": "stderr",
     "output_type": "stream",
     "text": [
      "Epoch 1/30:   3%|█                                  | 4/125 [00:01<00:31,  3.88it/s, Gen Loss=0.6822, Disc Loss=1.3786]"
     ]
    },
    {
     "name": "stdout",
     "output_type": "stream",
     "text": [
      "Real Loss: 0.6653, Fake Loss: 0.7133\n",
      "Fake Images Mean: 0.0041\n"
     ]
    },
    {
     "name": "stderr",
     "output_type": "stream",
     "text": [
      "Epoch 1/30:   4%|█▍                                 | 5/125 [00:01<00:29,  4.12it/s, Gen Loss=0.6754, Disc Loss=1.3893]"
     ]
    },
    {
     "name": "stdout",
     "output_type": "stream",
     "text": [
      "Real Loss: 0.6643, Fake Loss: 0.7250\n",
      "Fake Images Mean: 0.0052\n"
     ]
    },
    {
     "name": "stderr",
     "output_type": "stream",
     "text": [
      "Epoch 1/30:   5%|█▋                                 | 6/125 [00:01<00:27,  4.27it/s, Gen Loss=0.6837, Disc Loss=1.3833]"
     ]
    },
    {
     "name": "stdout",
     "output_type": "stream",
     "text": [
      "Real Loss: 0.6722, Fake Loss: 0.7111\n",
      "Fake Images Mean: 0.0067\n"
     ]
    },
    {
     "name": "stderr",
     "output_type": "stream",
     "text": [
      "Epoch 1/30:   6%|█▉                                 | 7/125 [00:01<00:26,  4.37it/s, Gen Loss=0.6779, Disc Loss=1.3865]"
     ]
    },
    {
     "name": "stdout",
     "output_type": "stream",
     "text": [
      "Real Loss: 0.6658, Fake Loss: 0.7207\n",
      "Fake Images Mean: 0.0061\n"
     ]
    },
    {
     "name": "stderr",
     "output_type": "stream",
     "text": [
      "Epoch 1/30:   6%|██▏                                | 8/125 [00:02<00:26,  4.42it/s, Gen Loss=0.6803, Disc Loss=1.3857]"
     ]
    },
    {
     "name": "stdout",
     "output_type": "stream",
     "text": [
      "Real Loss: 0.6692, Fake Loss: 0.7165\n",
      "Fake Images Mean: 0.0053\n"
     ]
    },
    {
     "name": "stderr",
     "output_type": "stream",
     "text": [
      "Epoch 1/30:   7%|██▌                                | 9/125 [00:02<00:25,  4.47it/s, Gen Loss=0.6893, Disc Loss=1.3726]"
     ]
    },
    {
     "name": "stdout",
     "output_type": "stream",
     "text": [
      "Real Loss: 0.6721, Fake Loss: 0.7005\n",
      "Fake Images Mean: 0.0046\n"
     ]
    },
    {
     "name": "stderr",
     "output_type": "stream",
     "text": [
      "Epoch 1/30:   8%|██▋                               | 10/125 [00:02<00:25,  4.51it/s, Gen Loss=0.6806, Disc Loss=1.3830]"
     ]
    },
    {
     "name": "stdout",
     "output_type": "stream",
     "text": [
      "Real Loss: 0.6673, Fake Loss: 0.7158\n",
      "Fake Images Mean: 0.0054\n"
     ]
    },
    {
     "name": "stderr",
     "output_type": "stream",
     "text": [
      "Epoch 1/30:   9%|██▉                               | 11/125 [00:02<00:25,  4.48it/s, Gen Loss=0.6817, Disc Loss=1.3837]"
     ]
    },
    {
     "name": "stdout",
     "output_type": "stream",
     "text": [
      "Real Loss: 0.6649, Fake Loss: 0.7149\n",
      "Fake Images Mean: 0.0056\n",
      "Real Loss: 0.6684, Fake Loss: 0.7153\n",
      "Fake Images Mean: 0.0068\n"
     ]
    },
    {
     "name": "stderr",
     "output_type": "stream",
     "text": [
      "Epoch 1/30:  10%|███▌                              | 13/125 [00:03<00:24,  4.56it/s, Gen Loss=0.6776, Disc Loss=1.3901]"
     ]
    },
    {
     "name": "stdout",
     "output_type": "stream",
     "text": [
      "Real Loss: 0.6688, Fake Loss: 0.7214\n",
      "Fake Images Mean: 0.0060\n"
     ]
    },
    {
     "name": "stderr",
     "output_type": "stream",
     "text": [
      "Epoch 1/30:  11%|███▊                              | 14/125 [00:03<00:24,  4.59it/s, Gen Loss=0.6774, Disc Loss=1.3930]"
     ]
    },
    {
     "name": "stdout",
     "output_type": "stream",
     "text": [
      "Real Loss: 0.6716, Fake Loss: 0.7214\n",
      "Fake Images Mean: 0.0050\n"
     ]
    },
    {
     "name": "stderr",
     "output_type": "stream",
     "text": [
      "Epoch 1/30:  12%|████                              | 15/125 [00:03<00:23,  4.62it/s, Gen Loss=0.6786, Disc Loss=1.3900]"
     ]
    },
    {
     "name": "stdout",
     "output_type": "stream",
     "text": [
      "Real Loss: 0.6706, Fake Loss: 0.7194\n",
      "Fake Images Mean: 0.0054\n"
     ]
    },
    {
     "name": "stderr",
     "output_type": "stream",
     "text": [
      "Epoch 1/30:  13%|████▎                             | 16/125 [00:03<00:23,  4.63it/s, Gen Loss=0.6819, Disc Loss=1.3839]"
     ]
    },
    {
     "name": "stdout",
     "output_type": "stream",
     "text": [
      "Real Loss: 0.6718, Fake Loss: 0.7085\n",
      "Fake Images Mean: 0.0048\n",
      "Real Loss: 0.6703, Fake Loss: 0.7136\n",
      "Fake Images Mean: 0.0048\n"
     ]
    },
    {
     "name": "stderr",
     "output_type": "stream",
     "text": [
      "Epoch 1/30:  14%|████▉                             | 18/125 [00:04<00:22,  4.66it/s, Gen Loss=0.6824, Disc Loss=1.3830]"
     ]
    },
    {
     "name": "stdout",
     "output_type": "stream",
     "text": [
      "Real Loss: 0.6678, Fake Loss: 0.7195\n",
      "Fake Images Mean: 0.0054\n",
      "Real Loss: 0.6708, Fake Loss: 0.7123\n",
      "Fake Images Mean: 0.0058\n"
     ]
    },
    {
     "name": "stderr",
     "output_type": "stream",
     "text": [
      "Epoch 1/30:  16%|█████▍                            | 20/125 [00:04<00:22,  4.64it/s, Gen Loss=0.6835, Disc Loss=1.3808]"
     ]
    },
    {
     "name": "stdout",
     "output_type": "stream",
     "text": [
      "Real Loss: 0.6695, Fake Loss: 0.7113\n",
      "Fake Images Mean: 0.0059\n"
     ]
    },
    {
     "name": "stderr",
     "output_type": "stream",
     "text": [
      "Epoch 1/30:  17%|█████▋                            | 21/125 [00:04<00:22,  4.60it/s, Gen Loss=0.6835, Disc Loss=1.3831]"
     ]
    },
    {
     "name": "stdout",
     "output_type": "stream",
     "text": [
      "Real Loss: 0.6714, Fake Loss: 0.7117\n",
      "Fake Images Mean: 0.0052\n"
     ]
    },
    {
     "name": "stderr",
     "output_type": "stream",
     "text": [
      "Epoch 1/30:  18%|█████▉                            | 22/125 [00:05<00:22,  4.61it/s, Gen Loss=0.6857, Disc Loss=1.3695]"
     ]
    },
    {
     "name": "stdout",
     "output_type": "stream",
     "text": [
      "Real Loss: 0.6630, Fake Loss: 0.7064\n",
      "Fake Images Mean: 0.0048\n"
     ]
    },
    {
     "name": "stderr",
     "output_type": "stream",
     "text": [
      "Epoch 1/30:  18%|██████▎                           | 23/125 [00:05<00:22,  4.62it/s, Gen Loss=0.6862, Disc Loss=1.3718]"
     ]
    },
    {
     "name": "stdout",
     "output_type": "stream",
     "text": [
      "Real Loss: 0.6696, Fake Loss: 0.7120\n",
      "Fake Images Mean: 0.0066\n",
      "Real Loss: 0.6657, Fake Loss: 0.7061\n",
      "Fake Images Mean: 0.0067\n"
     ]
    },
    {
     "name": "stderr",
     "output_type": "stream",
     "text": [
      "Epoch 1/30:  20%|██████▊                           | 25/125 [00:05<00:21,  4.66it/s, Gen Loss=0.6815, Disc Loss=1.3852]"
     ]
    },
    {
     "name": "stdout",
     "output_type": "stream",
     "text": [
      "Real Loss: 0.6710, Fake Loss: 0.7142\n",
      "Fake Images Mean: 0.0052\n"
     ]
    },
    {
     "name": "stderr",
     "output_type": "stream",
     "text": [
      "Epoch 1/30:  21%|███████                           | 26/125 [00:06<00:21,  4.63it/s, Gen Loss=0.6789, Disc Loss=1.3909]"
     ]
    },
    {
     "name": "stdout",
     "output_type": "stream",
     "text": [
      "Real Loss: 0.6677, Fake Loss: 0.7086\n",
      "Fake Images Mean: 0.0065\n",
      "Real Loss: 0.6714, Fake Loss: 0.7195\n",
      "Fake Images Mean: 0.0070\n"
     ]
    },
    {
     "name": "stderr",
     "output_type": "stream",
     "text": [
      "Epoch 1/30:  22%|███████▌                          | 28/125 [00:06<00:20,  4.66it/s, Gen Loss=0.6805, Disc Loss=1.3819]"
     ]
    },
    {
     "name": "stdout",
     "output_type": "stream",
     "text": [
      "Real Loss: 0.6658, Fake Loss: 0.7161\n",
      "Fake Images Mean: 0.0059\n"
     ]
    },
    {
     "name": "stderr",
     "output_type": "stream",
     "text": [
      "Epoch 1/30:  23%|███████▉                          | 29/125 [00:06<00:20,  4.64it/s, Gen Loss=0.6788, Disc Loss=1.3910]"
     ]
    },
    {
     "name": "stdout",
     "output_type": "stream",
     "text": [
      "Real Loss: 0.6717, Fake Loss: 0.7193\n",
      "Fake Images Mean: 0.0049\n"
     ]
    },
    {
     "name": "stderr",
     "output_type": "stream",
     "text": [
      "Epoch 1/30:  24%|████████▏                         | 30/125 [00:06<00:20,  4.64it/s, Gen Loss=0.6786, Disc Loss=1.3900]"
     ]
    },
    {
     "name": "stdout",
     "output_type": "stream",
     "text": [
      "Real Loss: 0.6713, Fake Loss: 0.7187\n",
      "Fake Images Mean: 0.0059\n"
     ]
    },
    {
     "name": "stderr",
     "output_type": "stream",
     "text": [
      "Epoch 1/30:  25%|████████▍                         | 31/125 [00:07<00:20,  4.61it/s, Gen Loss=0.6795, Disc Loss=1.3885]"
     ]
    },
    {
     "name": "stdout",
     "output_type": "stream",
     "text": [
      "Real Loss: 0.6692, Fake Loss: 0.7193\n",
      "Fake Images Mean: 0.0056\n"
     ]
    },
    {
     "name": "stderr",
     "output_type": "stream",
     "text": [
      "Epoch 1/30:  26%|████████▋                         | 32/125 [00:07<00:19,  4.65it/s, Gen Loss=0.6829, Disc Loss=1.3788]"
     ]
    },
    {
     "name": "stdout",
     "output_type": "stream",
     "text": [
      "Real Loss: 0.6667, Fake Loss: 0.7121\n",
      "Fake Images Mean: 0.0066\n"
     ]
    },
    {
     "name": "stderr",
     "output_type": "stream",
     "text": [
      "Epoch 1/30:  26%|████████▉                         | 33/125 [00:07<00:19,  4.64it/s, Gen Loss=0.6826, Disc Loss=1.3819]"
     ]
    },
    {
     "name": "stdout",
     "output_type": "stream",
     "text": [
      "Real Loss: 0.6699, Fake Loss: 0.7120\n",
      "Fake Images Mean: 0.0049\n"
     ]
    },
    {
     "name": "stderr",
     "output_type": "stream",
     "text": [
      "Epoch 1/30:  27%|█████████▏                        | 34/125 [00:07<00:19,  4.55it/s, Gen Loss=0.6865, Disc Loss=1.3719]"
     ]
    },
    {
     "name": "stdout",
     "output_type": "stream",
     "text": [
      "Real Loss: 0.6665, Fake Loss: 0.7054\n",
      "Fake Images Mean: 0.0064\n"
     ]
    },
    {
     "name": "stderr",
     "output_type": "stream",
     "text": [
      "Epoch 1/30:  28%|█████████▌                        | 35/125 [00:08<00:19,  4.58it/s, Gen Loss=0.6811, Disc Loss=1.3796]"
     ]
    },
    {
     "name": "stdout",
     "output_type": "stream",
     "text": [
      "Real Loss: 0.6696, Fake Loss: 0.7092\n",
      "Fake Images Mean: 0.0060\n",
      "Real Loss: 0.6647, Fake Loss: 0.7149\n",
      "Fake Images Mean: 0.0045\n"
     ]
    },
    {
     "name": "stderr",
     "output_type": "stream",
     "text": [
      "Epoch 1/30:  30%|██████████                        | 37/125 [00:08<00:19,  4.61it/s, Gen Loss=0.6802, Disc Loss=1.3817]"
     ]
    },
    {
     "name": "stdout",
     "output_type": "stream",
     "text": [
      "Real Loss: 0.6653, Fake Loss: 0.7164\n",
      "Fake Images Mean: 0.0046\n"
     ]
    },
    {
     "name": "stderr",
     "output_type": "stream",
     "text": [
      "Epoch 1/30:  30%|██████████▎                       | 38/125 [00:08<00:18,  4.65it/s, Gen Loss=0.6812, Disc Loss=1.3853]"
     ]
    },
    {
     "name": "stdout",
     "output_type": "stream",
     "text": [
      "Real Loss: 0.6747, Fake Loss: 0.7080\n",
      "Fake Images Mean: 0.0064\n",
      "Real Loss: 0.6701, Fake Loss: 0.7152\n",
      "Fake Images Mean: 0.0059\n"
     ]
    },
    {
     "name": "stderr",
     "output_type": "stream",
     "text": [
      "Epoch 1/30:  32%|██████████▉                       | 40/125 [00:08<00:18,  4.66it/s, Gen Loss=0.6859, Disc Loss=1.3727]"
     ]
    },
    {
     "name": "stdout",
     "output_type": "stream",
     "text": [
      "Real Loss: 0.6661, Fake Loss: 0.7065\n",
      "Fake Images Mean: 0.0062\n"
     ]
    },
    {
     "name": "stderr",
     "output_type": "stream",
     "text": [
      "Epoch 1/30:  33%|███████████▏                      | 41/125 [00:09<00:18,  4.63it/s, Gen Loss=0.6872, Disc Loss=1.3707]"
     ]
    },
    {
     "name": "stdout",
     "output_type": "stream",
     "text": [
      "Real Loss: 0.6667, Fake Loss: 0.7040\n",
      "Fake Images Mean: 0.0061\n"
     ]
    },
    {
     "name": "stderr",
     "output_type": "stream",
     "text": [
      "Epoch 1/30:  34%|███████████▍                      | 42/125 [00:09<00:17,  4.62it/s, Gen Loss=0.6790, Disc Loss=1.3877]"
     ]
    },
    {
     "name": "stdout",
     "output_type": "stream",
     "text": [
      "Real Loss: 0.6677, Fake Loss: 0.7200\n",
      "Fake Images Mean: 0.0055\n"
     ]
    },
    {
     "name": "stderr",
     "output_type": "stream",
     "text": [
      "Epoch 1/30:  34%|███████████▋                      | 43/125 [00:09<00:17,  4.61it/s, Gen Loss=0.6871, Disc Loss=1.3709]"
     ]
    },
    {
     "name": "stdout",
     "output_type": "stream",
     "text": [
      "Real Loss: 0.6661, Fake Loss: 0.7048\n",
      "Fake Images Mean: 0.0066\n"
     ]
    },
    {
     "name": "stderr",
     "output_type": "stream",
     "text": [
      "Epoch 1/30:  35%|███████████▉                      | 44/125 [00:10<00:17,  4.60it/s, Gen Loss=0.6789, Disc Loss=1.3904]"
     ]
    },
    {
     "name": "stdout",
     "output_type": "stream",
     "text": [
      "Real Loss: 0.6702, Fake Loss: 0.7101\n",
      "Fake Images Mean: 0.0059\n",
      "Real Loss: 0.6716, Fake Loss: 0.7188\n",
      "Fake Images Mean: 0.0043\n"
     ]
    },
    {
     "name": "stderr",
     "output_type": "stream",
     "text": [
      "Epoch 1/30:  37%|████████████▌                     | 46/125 [00:10<00:16,  4.66it/s, Gen Loss=0.6870, Disc Loss=1.3761]"
     ]
    },
    {
     "name": "stdout",
     "output_type": "stream",
     "text": [
      "Real Loss: 0.6697, Fake Loss: 0.7064\n",
      "Fake Images Mean: 0.0049\n"
     ]
    },
    {
     "name": "stderr",
     "output_type": "stream",
     "text": [
      "Epoch 1/30:  38%|████████████▊                     | 47/125 [00:10<00:16,  4.63it/s, Gen Loss=0.6792, Disc Loss=1.3940]"
     ]
    },
    {
     "name": "stdout",
     "output_type": "stream",
     "text": [
      "Real Loss: 0.6756, Fake Loss: 0.7183\n",
      "Fake Images Mean: 0.0055\n"
     ]
    },
    {
     "name": "stderr",
     "output_type": "stream",
     "text": [
      "Epoch 1/30:  38%|█████████████                     | 48/125 [00:10<00:16,  4.63it/s, Gen Loss=0.6813, Disc Loss=1.3850]"
     ]
    },
    {
     "name": "stdout",
     "output_type": "stream",
     "text": [
      "Real Loss: 0.6698, Fake Loss: 0.7152\n",
      "Fake Images Mean: 0.0054\n"
     ]
    },
    {
     "name": "stderr",
     "output_type": "stream",
     "text": [
      "Epoch 1/30:  39%|█████████████▎                    | 49/125 [00:10<00:16,  4.63it/s, Gen Loss=0.6842, Disc Loss=1.3836]"
     ]
    },
    {
     "name": "stdout",
     "output_type": "stream",
     "text": [
      "Real Loss: 0.6731, Fake Loss: 0.7105\n",
      "Fake Images Mean: 0.0064\n"
     ]
    },
    {
     "name": "stderr",
     "output_type": "stream",
     "text": [
      "Epoch 1/30:  40%|█████████████▌                    | 50/125 [00:11<00:16,  4.59it/s, Gen Loss=0.6764, Disc Loss=1.3903]"
     ]
    },
    {
     "name": "stdout",
     "output_type": "stream",
     "text": [
      "Real Loss: 0.6663, Fake Loss: 0.7239\n",
      "Fake Images Mean: 0.0057\n"
     ]
    },
    {
     "name": "stderr",
     "output_type": "stream",
     "text": [
      "Epoch 1/30:  41%|█████████████▊                    | 51/125 [00:11<00:16,  4.58it/s, Gen Loss=0.6802, Disc Loss=1.3884]"
     ]
    },
    {
     "name": "stdout",
     "output_type": "stream",
     "text": [
      "Real Loss: 0.6707, Fake Loss: 0.7176\n",
      "Fake Images Mean: 0.0051\n"
     ]
    },
    {
     "name": "stderr",
     "output_type": "stream",
     "text": [
      "Epoch 1/30:  42%|██████████████▏                   | 52/125 [00:11<00:15,  4.63it/s, Gen Loss=0.6825, Disc Loss=1.3831]"
     ]
    },
    {
     "name": "stdout",
     "output_type": "stream",
     "text": [
      "Real Loss: 0.6711, Fake Loss: 0.7085\n",
      "Fake Images Mean: 0.0057\n",
      "Real Loss: 0.6704, Fake Loss: 0.7127\n",
      "Fake Images Mean: 0.0050\n"
     ]
    },
    {
     "name": "stderr",
     "output_type": "stream",
     "text": [
      "Epoch 1/30:  43%|██████████████▋                   | 54/125 [00:11<00:15,  4.59it/s, Gen Loss=0.6771, Disc Loss=1.3938]"
     ]
    },
    {
     "name": "stdout",
     "output_type": "stream",
     "text": [
      "Real Loss: 0.6717, Fake Loss: 0.7220\n",
      "Fake Images Mean: 0.0047\n"
     ]
    },
    {
     "name": "stderr",
     "output_type": "stream",
     "text": [
      "Epoch 1/30:  44%|██████████████▉                   | 55/125 [00:12<00:15,  4.62it/s, Gen Loss=0.6827, Disc Loss=1.3818]"
     ]
    },
    {
     "name": "stdout",
     "output_type": "stream",
     "text": [
      "Real Loss: 0.6685, Fake Loss: 0.7133\n",
      "Fake Images Mean: 0.0049\n"
     ]
    },
    {
     "name": "stderr",
     "output_type": "stream",
     "text": [
      "Epoch 1/30:  45%|███████████████▏                  | 56/125 [00:12<00:14,  4.61it/s, Gen Loss=0.6870, Disc Loss=1.3682]"
     ]
    },
    {
     "name": "stdout",
     "output_type": "stream",
     "text": [
      "Real Loss: 0.6640, Fake Loss: 0.7042\n",
      "Fake Images Mean: 0.0052\n"
     ]
    },
    {
     "name": "stderr",
     "output_type": "stream",
     "text": [
      "Epoch 1/30:  46%|███████████████▌                  | 57/125 [00:12<00:14,  4.62it/s, Gen Loss=0.6842, Disc Loss=1.3743]"
     ]
    },
    {
     "name": "stdout",
     "output_type": "stream",
     "text": [
      "Real Loss: 0.6653, Fake Loss: 0.7090\n",
      "Fake Images Mean: 0.0057\n"
     ]
    },
    {
     "name": "stderr",
     "output_type": "stream",
     "text": [
      "Epoch 1/30:  46%|███████████████▊                  | 58/125 [00:13<00:14,  4.64it/s, Gen Loss=0.6842, Disc Loss=1.3836]"
     ]
    },
    {
     "name": "stdout",
     "output_type": "stream",
     "text": [
      "Real Loss: 0.6696, Fake Loss: 0.7001\n",
      "Fake Images Mean: 0.0063\n",
      "Real Loss: 0.6736, Fake Loss: 0.7100\n",
      "Fake Images Mean: 0.0073\n"
     ]
    },
    {
     "name": "stderr",
     "output_type": "stream",
     "text": [
      "Epoch 1/30:  48%|████████████████▎                 | 60/125 [00:13<00:14,  4.62it/s, Gen Loss=0.6851, Disc Loss=1.3812]"
     ]
    },
    {
     "name": "stdout",
     "output_type": "stream",
     "text": [
      "Real Loss: 0.6733, Fake Loss: 0.7079\n",
      "Fake Images Mean: 0.0053\n"
     ]
    },
    {
     "name": "stderr",
     "output_type": "stream",
     "text": [
      "Epoch 1/30:  49%|████████████████▌                 | 61/125 [00:13<00:13,  4.61it/s, Gen Loss=0.6824, Disc Loss=1.3840]"
     ]
    },
    {
     "name": "stdout",
     "output_type": "stream",
     "text": [
      "Real Loss: 0.6716, Fake Loss: 0.7124\n",
      "Fake Images Mean: 0.0063\n"
     ]
    },
    {
     "name": "stderr",
     "output_type": "stream",
     "text": [
      "Epoch 1/30:  50%|████████████████▊                 | 62/125 [00:13<00:13,  4.65it/s, Gen Loss=0.6855, Disc Loss=1.3762]"
     ]
    },
    {
     "name": "stdout",
     "output_type": "stream",
     "text": [
      "Real Loss: 0.6712, Fake Loss: 0.7096\n",
      "Fake Images Mean: 0.0066\n",
      "Real Loss: 0.6694, Fake Loss: 0.7068\n",
      "Fake Images Mean: 0.0062\n"
     ]
    },
    {
     "name": "stderr",
     "output_type": "stream",
     "text": [
      "Epoch 1/30:  51%|█████████████████▍                | 64/125 [00:14<00:13,  4.63it/s, Gen Loss=0.6863, Disc Loss=1.3745]"
     ]
    },
    {
     "name": "stdout",
     "output_type": "stream",
     "text": [
      "Real Loss: 0.6681, Fake Loss: 0.7063\n",
      "Fake Images Mean: 0.0059\n"
     ]
    },
    {
     "name": "stderr",
     "output_type": "stream",
     "text": [
      "Epoch 1/30:  52%|█████████████████▋                | 65/125 [00:14<00:12,  4.63it/s, Gen Loss=0.6826, Disc Loss=1.3861]"
     ]
    },
    {
     "name": "stdout",
     "output_type": "stream",
     "text": [
      "Real Loss: 0.6737, Fake Loss: 0.7123\n",
      "Fake Images Mean: 0.0053\n"
     ]
    },
    {
     "name": "stderr",
     "output_type": "stream",
     "text": [
      "Epoch 1/30:  53%|█████████████████▉                | 66/125 [00:14<00:12,  4.62it/s, Gen Loss=0.6842, Disc Loss=1.3801]"
     ]
    },
    {
     "name": "stdout",
     "output_type": "stream",
     "text": [
      "Real Loss: 0.6705, Fake Loss: 0.7095\n",
      "Fake Images Mean: 0.0078\n"
     ]
    },
    {
     "name": "stderr",
     "output_type": "stream",
     "text": [
      "Epoch 1/30:  54%|██████████████████▏               | 67/125 [00:14<00:12,  4.56it/s, Gen Loss=0.6834, Disc Loss=1.3822]"
     ]
    },
    {
     "name": "stdout",
     "output_type": "stream",
     "text": [
      "Real Loss: 0.6710, Fake Loss: 0.7112\n",
      "Fake Images Mean: 0.0058\n"
     ]
    },
    {
     "name": "stderr",
     "output_type": "stream",
     "text": [
      "Epoch 1/30:  54%|██████████████████▍               | 68/125 [00:15<00:12,  4.59it/s, Gen Loss=0.6870, Disc Loss=1.3759]"
     ]
    },
    {
     "name": "stdout",
     "output_type": "stream",
     "text": [
      "Real Loss: 0.6714, Fake Loss: 0.7045\n",
      "Fake Images Mean: 0.0065\n"
     ]
    },
    {
     "name": "stderr",
     "output_type": "stream",
     "text": [
      "Epoch 1/30:  55%|██████████████████▊               | 69/125 [00:15<00:12,  4.57it/s, Gen Loss=0.6812, Disc Loss=1.3798]"
     ]
    },
    {
     "name": "stdout",
     "output_type": "stream",
     "text": [
      "Real Loss: 0.6697, Fake Loss: 0.7175\n",
      "Fake Images Mean: 0.0054\n",
      "Real Loss: 0.6648, Fake Loss: 0.7150\n",
      "Fake Images Mean: 0.0046\n"
     ]
    },
    {
     "name": "stderr",
     "output_type": "stream",
     "text": [
      "Epoch 1/30:  57%|███████████████████▎              | 71/125 [00:15<00:11,  4.62it/s, Gen Loss=0.6841, Disc Loss=1.3795]"
     ]
    },
    {
     "name": "stdout",
     "output_type": "stream",
     "text": [
      "Real Loss: 0.6672, Fake Loss: 0.7073\n",
      "Fake Images Mean: 0.0058\n",
      "Real Loss: 0.6692, Fake Loss: 0.7103\n",
      "Fake Images Mean: 0.0068\n"
     ]
    },
    {
     "name": "stderr",
     "output_type": "stream",
     "text": [
      "Epoch 1/30:  58%|███████████████████▊              | 73/125 [00:16<00:11,  4.61it/s, Gen Loss=0.6822, Disc Loss=1.3823]"
     ]
    },
    {
     "name": "stdout",
     "output_type": "stream",
     "text": [
      "Real Loss: 0.6691, Fake Loss: 0.7132\n",
      "Fake Images Mean: 0.0061\n"
     ]
    },
    {
     "name": "stderr",
     "output_type": "stream",
     "text": [
      "Epoch 1/30:  59%|████████████████████▏             | 74/125 [00:16<00:11,  4.63it/s, Gen Loss=0.6791, Disc Loss=1.3869]"
     ]
    },
    {
     "name": "stdout",
     "output_type": "stream",
     "text": [
      "Real Loss: 0.6660, Fake Loss: 0.7209\n",
      "Fake Images Mean: 0.0063\n"
     ]
    },
    {
     "name": "stderr",
     "output_type": "stream",
     "text": [
      "Epoch 1/30:  60%|████████████████████▍             | 75/125 [00:16<00:10,  4.64it/s, Gen Loss=0.6819, Disc Loss=1.3835]"
     ]
    },
    {
     "name": "stdout",
     "output_type": "stream",
     "text": [
      "Real Loss: 0.6684, Fake Loss: 0.7151\n",
      "Fake Images Mean: 0.0053\n"
     ]
    },
    {
     "name": "stderr",
     "output_type": "stream",
     "text": [
      "Epoch 1/30:  61%|████████████████████▋             | 76/125 [00:16<00:10,  4.64it/s, Gen Loss=0.6813, Disc Loss=1.3905]"
     ]
    },
    {
     "name": "stdout",
     "output_type": "stream",
     "text": [
      "Real Loss: 0.6757, Fake Loss: 0.7148\n",
      "Fake Images Mean: 0.0060\n"
     ]
    },
    {
     "name": "stderr",
     "output_type": "stream",
     "text": [
      "Epoch 1/30:  62%|████████████████████▉             | 77/125 [00:17<00:10,  4.66it/s, Gen Loss=0.6748, Disc Loss=1.3964]"
     ]
    },
    {
     "name": "stdout",
     "output_type": "stream",
     "text": [
      "Real Loss: 0.6685, Fake Loss: 0.7181\n",
      "Fake Images Mean: 0.0057\n",
      "Real Loss: 0.6703, Fake Loss: 0.7262\n",
      "Fake Images Mean: 0.0053\n"
     ]
    },
    {
     "name": "stderr",
     "output_type": "stream",
     "text": [
      "Epoch 1/30:  63%|█████████████████████▍            | 79/125 [00:17<00:09,  4.67it/s, Gen Loss=0.6817, Disc Loss=1.3833]"
     ]
    },
    {
     "name": "stdout",
     "output_type": "stream",
     "text": [
      "Real Loss: 0.6688, Fake Loss: 0.7145\n",
      "Fake Images Mean: 0.0056\n"
     ]
    },
    {
     "name": "stderr",
     "output_type": "stream",
     "text": [
      "Epoch 1/30:  64%|█████████████████████▊            | 80/125 [00:17<00:09,  4.67it/s, Gen Loss=0.6809, Disc Loss=1.3859]"
     ]
    },
    {
     "name": "stdout",
     "output_type": "stream",
     "text": [
      "Real Loss: 0.6705, Fake Loss: 0.7154\n",
      "Fake Images Mean: 0.0063\n"
     ]
    },
    {
     "name": "stderr",
     "output_type": "stream",
     "text": [
      "Epoch 1/30:  65%|██████████████████████            | 81/125 [00:17<00:09,  4.67it/s, Gen Loss=0.6840, Disc Loss=1.3841]"
     ]
    },
    {
     "name": "stdout",
     "output_type": "stream",
     "text": [
      "Real Loss: 0.6726, Fake Loss: 0.7115\n",
      "Fake Images Mean: 0.0058\n"
     ]
    },
    {
     "name": "stderr",
     "output_type": "stream",
     "text": [
      "Epoch 1/30:  66%|██████████████████████▎           | 82/125 [00:18<00:09,  4.69it/s, Gen Loss=0.6803, Disc Loss=1.3887]"
     ]
    },
    {
     "name": "stdout",
     "output_type": "stream",
     "text": [
      "Real Loss: 0.6718, Fake Loss: 0.7170\n",
      "Fake Images Mean: 0.0056\n"
     ]
    },
    {
     "name": "stderr",
     "output_type": "stream",
     "text": [
      "Epoch 1/30:  66%|██████████████████████▌           | 83/125 [00:18<00:08,  4.68it/s, Gen Loss=0.6868, Disc Loss=1.3751]"
     ]
    },
    {
     "name": "stdout",
     "output_type": "stream",
     "text": [
      "Real Loss: 0.6703, Fake Loss: 0.7048\n",
      "Fake Images Mean: 0.0050\n"
     ]
    },
    {
     "name": "stderr",
     "output_type": "stream",
     "text": [
      "Epoch 1/30:  67%|██████████████████████▊           | 84/125 [00:18<00:08,  4.67it/s, Gen Loss=0.6860, Disc Loss=1.3731]"
     ]
    },
    {
     "name": "stdout",
     "output_type": "stream",
     "text": [
      "Real Loss: 0.6671, Fake Loss: 0.7060\n",
      "Fake Images Mean: 0.0059\n"
     ]
    },
    {
     "name": "stderr",
     "output_type": "stream",
     "text": [
      "Epoch 1/30:  68%|███████████████████████           | 85/125 [00:18<00:08,  4.63it/s, Gen Loss=0.6817, Disc Loss=1.3814]"
     ]
    },
    {
     "name": "stdout",
     "output_type": "stream",
     "text": [
      "Real Loss: 0.6675, Fake Loss: 0.7140\n",
      "Fake Images Mean: 0.0074\n"
     ]
    },
    {
     "name": "stderr",
     "output_type": "stream",
     "text": [
      "Epoch 1/30:  69%|███████████████████████▍          | 86/125 [00:18<00:08,  4.59it/s, Gen Loss=0.6855, Disc Loss=1.3771]"
     ]
    },
    {
     "name": "stdout",
     "output_type": "stream",
     "text": [
      "Real Loss: 0.6697, Fake Loss: 0.7073\n",
      "Fake Images Mean: 0.0061\n"
     ]
    },
    {
     "name": "stderr",
     "output_type": "stream",
     "text": [
      "Epoch 1/30:  70%|███████████████████████▋          | 87/125 [00:19<00:08,  4.58it/s, Gen Loss=0.6818, Disc Loss=1.3787]"
     ]
    },
    {
     "name": "stdout",
     "output_type": "stream",
     "text": [
      "Real Loss: 0.6647, Fake Loss: 0.7141\n",
      "Fake Images Mean: 0.0054\n"
     ]
    },
    {
     "name": "stderr",
     "output_type": "stream",
     "text": [
      "Epoch 1/30:  70%|███████████████████████▉          | 88/125 [00:19<00:08,  4.60it/s, Gen Loss=0.6811, Disc Loss=1.3844]"
     ]
    },
    {
     "name": "stdout",
     "output_type": "stream",
     "text": [
      "Real Loss: 0.6691, Fake Loss: 0.7153\n",
      "Fake Images Mean: 0.0064\n"
     ]
    },
    {
     "name": "stderr",
     "output_type": "stream",
     "text": [
      "Epoch 1/30:  71%|████████████████████████▏         | 89/125 [00:19<00:07,  4.59it/s, Gen Loss=0.6836, Disc Loss=1.3844]"
     ]
    },
    {
     "name": "stdout",
     "output_type": "stream",
     "text": [
      "Real Loss: 0.6675, Fake Loss: 0.7035\n",
      "Fake Images Mean: 0.0046\n",
      "Real Loss: 0.6718, Fake Loss: 0.7126\n",
      "Fake Images Mean: 0.0057\n"
     ]
    },
    {
     "name": "stderr",
     "output_type": "stream",
     "text": [
      "Epoch 1/30:  73%|████████████████████████▊         | 91/125 [00:19<00:07,  4.61it/s, Gen Loss=0.6929, Disc Loss=1.3665]"
     ]
    },
    {
     "name": "stdout",
     "output_type": "stream",
     "text": [
      "Real Loss: 0.6708, Fake Loss: 0.6957\n",
      "Fake Images Mean: 0.0060\n"
     ]
    },
    {
     "name": "stderr",
     "output_type": "stream",
     "text": [
      "Epoch 1/30:  74%|█████████████████████████         | 92/125 [00:20<00:07,  4.61it/s, Gen Loss=0.6841, Disc Loss=1.3796]"
     ]
    },
    {
     "name": "stdout",
     "output_type": "stream",
     "text": [
      "Real Loss: 0.6694, Fake Loss: 0.7102\n",
      "Fake Images Mean: 0.0063\n"
     ]
    },
    {
     "name": "stderr",
     "output_type": "stream",
     "text": [
      "Epoch 1/30:  74%|█████████████████████████▎        | 93/125 [00:20<00:06,  4.62it/s, Gen Loss=0.6854, Disc Loss=1.3768]"
     ]
    },
    {
     "name": "stdout",
     "output_type": "stream",
     "text": [
      "Real Loss: 0.6649, Fake Loss: 0.6997\n",
      "Fake Images Mean: 0.0063\n",
      "Real Loss: 0.6693, Fake Loss: 0.7075\n",
      "Fake Images Mean: 0.0047\n"
     ]
    },
    {
     "name": "stderr",
     "output_type": "stream",
     "text": [
      "Epoch 1/30:  76%|█████████████████████████▊        | 95/125 [00:20<00:06,  4.63it/s, Gen Loss=0.6783, Disc Loss=1.3915]"
     ]
    },
    {
     "name": "stdout",
     "output_type": "stream",
     "text": [
      "Real Loss: 0.6715, Fake Loss: 0.7200\n",
      "Fake Images Mean: 0.0050\n"
     ]
    },
    {
     "name": "stderr",
     "output_type": "stream",
     "text": [
      "Epoch 1/30:  77%|██████████████████████████        | 96/125 [00:21<00:06,  4.63it/s, Gen Loss=0.6728, Disc Loss=1.3993]"
     ]
    },
    {
     "name": "stdout",
     "output_type": "stream",
     "text": [
      "Real Loss: 0.6695, Fake Loss: 0.7298\n",
      "Fake Images Mean: 0.0057\n"
     ]
    },
    {
     "name": "stderr",
     "output_type": "stream",
     "text": [
      "Epoch 1/30:  78%|██████████████████████████▍       | 97/125 [00:21<00:06,  4.61it/s, Gen Loss=0.6785, Disc Loss=1.3898]"
     ]
    },
    {
     "name": "stdout",
     "output_type": "stream",
     "text": [
      "Real Loss: 0.6700, Fake Loss: 0.7198\n",
      "Fake Images Mean: 0.0064\n"
     ]
    },
    {
     "name": "stderr",
     "output_type": "stream",
     "text": [
      "Epoch 1/30:  78%|██████████████████████████▋       | 98/125 [00:21<00:05,  4.62it/s, Gen Loss=0.6824, Disc Loss=1.3774]"
     ]
    },
    {
     "name": "stdout",
     "output_type": "stream",
     "text": [
      "Real Loss: 0.6646, Fake Loss: 0.7128\n",
      "Fake Images Mean: 0.0061\n"
     ]
    },
    {
     "name": "stderr",
     "output_type": "stream",
     "text": [
      "Epoch 1/30:  79%|██████████████████████████▉       | 99/125 [00:21<00:05,  4.61it/s, Gen Loss=0.6852, Disc Loss=1.3817]"
     ]
    },
    {
     "name": "stdout",
     "output_type": "stream",
     "text": [
      "Real Loss: 0.6737, Fake Loss: 0.7081\n",
      "Fake Images Mean: 0.0052\n"
     ]
    },
    {
     "name": "stderr",
     "output_type": "stream",
     "text": [
      "Epoch 1/30:  80%|██████████████████████████▍      | 100/125 [00:21<00:05,  4.59it/s, Gen Loss=0.6822, Disc Loss=1.3801]"
     ]
    },
    {
     "name": "stdout",
     "output_type": "stream",
     "text": [
      "Real Loss: 0.6666, Fake Loss: 0.7136\n",
      "Fake Images Mean: 0.0060\n"
     ]
    },
    {
     "name": "stderr",
     "output_type": "stream",
     "text": [
      "Epoch 1/30:  81%|██████████████████████████▋      | 101/125 [00:22<00:05,  4.60it/s, Gen Loss=0.6798, Disc Loss=1.3903]"
     ]
    },
    {
     "name": "stdout",
     "output_type": "stream",
     "text": [
      "Real Loss: 0.6726, Fake Loss: 0.7176\n",
      "Fake Images Mean: 0.0059\n"
     ]
    },
    {
     "name": "stderr",
     "output_type": "stream",
     "text": [
      "Epoch 1/30:  82%|██████████████████████████▉      | 102/125 [00:22<00:04,  4.63it/s, Gen Loss=0.6800, Disc Loss=1.3826]"
     ]
    },
    {
     "name": "stdout",
     "output_type": "stream",
     "text": [
      "Real Loss: 0.6659, Fake Loss: 0.7167\n",
      "Fake Images Mean: 0.0049\n"
     ]
    },
    {
     "name": "stderr",
     "output_type": "stream",
     "text": [
      "Epoch 1/30:  82%|███████████████████████████▏     | 103/125 [00:22<00:04,  4.61it/s, Gen Loss=0.6849, Disc Loss=1.3785]"
     ]
    },
    {
     "name": "stdout",
     "output_type": "stream",
     "text": [
      "Real Loss: 0.6694, Fake Loss: 0.7091\n",
      "Fake Images Mean: 0.0055\n"
     ]
    },
    {
     "name": "stderr",
     "output_type": "stream",
     "text": [
      "Epoch 1/30:  83%|███████████████████████████▍     | 104/125 [00:22<00:04,  4.60it/s, Gen Loss=0.6834, Disc Loss=1.3781]"
     ]
    },
    {
     "name": "stdout",
     "output_type": "stream",
     "text": [
      "Real Loss: 0.6665, Fake Loss: 0.7116\n",
      "Fake Images Mean: 0.0066\n"
     ]
    },
    {
     "name": "stderr",
     "output_type": "stream",
     "text": [
      "Epoch 1/30:  84%|███████████████████████████▋     | 105/125 [00:23<00:04,  4.60it/s, Gen Loss=0.6887, Disc Loss=1.3715]"
     ]
    },
    {
     "name": "stdout",
     "output_type": "stream",
     "text": [
      "Real Loss: 0.6692, Fake Loss: 0.7022\n",
      "Fake Images Mean: 0.0054\n"
     ]
    },
    {
     "name": "stderr",
     "output_type": "stream",
     "text": [
      "Epoch 1/30:  85%|███████████████████████████▉     | 106/125 [00:23<00:04,  4.60it/s, Gen Loss=0.6821, Disc Loss=1.3803]"
     ]
    },
    {
     "name": "stdout",
     "output_type": "stream",
     "text": [
      "Real Loss: 0.6664, Fake Loss: 0.7139\n",
      "Fake Images Mean: 0.0043\n"
     ]
    },
    {
     "name": "stderr",
     "output_type": "stream",
     "text": [
      "Epoch 1/30:  86%|████████████████████████████▏    | 107/125 [00:23<00:03,  4.63it/s, Gen Loss=0.6776, Disc Loss=1.3944]"
     ]
    },
    {
     "name": "stdout",
     "output_type": "stream",
     "text": [
      "Real Loss: 0.6714, Fake Loss: 0.7230\n",
      "Fake Images Mean: 0.0052\n"
     ]
    },
    {
     "name": "stderr",
     "output_type": "stream",
     "text": [
      "Epoch 1/30:  86%|████████████████████████████▌    | 108/125 [00:23<00:03,  4.63it/s, Gen Loss=0.6880, Disc Loss=1.3730]"
     ]
    },
    {
     "name": "stdout",
     "output_type": "stream",
     "text": [
      "Real Loss: 0.6692, Fake Loss: 0.7038\n",
      "Fake Images Mean: 0.0049\n"
     ]
    },
    {
     "name": "stderr",
     "output_type": "stream",
     "text": [
      "Epoch 1/30:  87%|████████████████████████████▊    | 109/125 [00:23<00:03,  4.60it/s, Gen Loss=0.6896, Disc Loss=1.3681]"
     ]
    },
    {
     "name": "stdout",
     "output_type": "stream",
     "text": [
      "Real Loss: 0.6668, Fake Loss: 0.7013\n",
      "Fake Images Mean: 0.0058\n"
     ]
    },
    {
     "name": "stderr",
     "output_type": "stream",
     "text": [
      "Epoch 1/30:  88%|█████████████████████████████    | 110/125 [00:24<00:03,  4.63it/s, Gen Loss=0.6833, Disc Loss=1.3834]"
     ]
    },
    {
     "name": "stdout",
     "output_type": "stream",
     "text": [
      "Real Loss: 0.6698, Fake Loss: 0.7159\n",
      "Fake Images Mean: 0.0067\n",
      "Real Loss: 0.6720, Fake Loss: 0.7114\n",
      "Fake Images Mean: 0.0060\n"
     ]
    },
    {
     "name": "stderr",
     "output_type": "stream",
     "text": [
      "Epoch 1/30:  90%|█████████████████████████████▌   | 112/125 [00:24<00:02,  4.63it/s, Gen Loss=0.6864, Disc Loss=1.3742]"
     ]
    },
    {
     "name": "stdout",
     "output_type": "stream",
     "text": [
      "Real Loss: 0.6685, Fake Loss: 0.7056\n",
      "Fake Images Mean: 0.0070\n"
     ]
    },
    {
     "name": "stderr",
     "output_type": "stream",
     "text": [
      "Epoch 1/30:  90%|█████████████████████████████▊   | 113/125 [00:24<00:02,  4.65it/s, Gen Loss=0.6870, Disc Loss=1.3771]"
     ]
    },
    {
     "name": "stdout",
     "output_type": "stream",
     "text": [
      "Real Loss: 0.6721, Fake Loss: 0.7118\n",
      "Fake Images Mean: 0.0052\n",
      "Real Loss: 0.6707, Fake Loss: 0.7064\n",
      "Fake Images Mean: 0.0055\n"
     ]
    },
    {
     "name": "stderr",
     "output_type": "stream",
     "text": [
      "Epoch 1/30:  92%|██████████████████████████████▎  | 115/125 [00:25<00:02,  4.63it/s, Gen Loss=0.6853, Disc Loss=1.3790]"
     ]
    },
    {
     "name": "stdout",
     "output_type": "stream",
     "text": [
      "Real Loss: 0.6708, Fake Loss: 0.7082\n",
      "Fake Images Mean: 0.0059\n"
     ]
    },
    {
     "name": "stderr",
     "output_type": "stream",
     "text": [
      "Epoch 1/30:  93%|██████████████████████████████▌  | 116/125 [00:25<00:01,  4.64it/s, Gen Loss=0.6795, Disc Loss=1.3877]"
     ]
    },
    {
     "name": "stdout",
     "output_type": "stream",
     "text": [
      "Real Loss: 0.6702, Fake Loss: 0.7175\n",
      "Fake Images Mean: 0.0052\n"
     ]
    },
    {
     "name": "stderr",
     "output_type": "stream",
     "text": [
      "Epoch 1/30:  94%|██████████████████████████████▉  | 117/125 [00:25<00:01,  4.59it/s, Gen Loss=0.6858, Disc Loss=1.3741]"
     ]
    },
    {
     "name": "stdout",
     "output_type": "stream",
     "text": [
      "Real Loss: 0.6665, Fake Loss: 0.7076\n",
      "Fake Images Mean: 0.0055\n"
     ]
    },
    {
     "name": "stderr",
     "output_type": "stream",
     "text": [
      "Epoch 1/30:  94%|███████████████████████████████▏ | 118/125 [00:25<00:01,  4.62it/s, Gen Loss=0.6819, Disc Loss=1.3829]"
     ]
    },
    {
     "name": "stdout",
     "output_type": "stream",
     "text": [
      "Real Loss: 0.6698, Fake Loss: 0.7131\n",
      "Fake Images Mean: 0.0055\n"
     ]
    },
    {
     "name": "stderr",
     "output_type": "stream",
     "text": [
      "Epoch 1/30:  95%|███████████████████████████████▍ | 119/125 [00:26<00:01,  4.62it/s, Gen Loss=0.6816, Disc Loss=1.3815]"
     ]
    },
    {
     "name": "stdout",
     "output_type": "stream",
     "text": [
      "Real Loss: 0.6669, Fake Loss: 0.7146\n",
      "Fake Images Mean: 0.0068\n"
     ]
    },
    {
     "name": "stderr",
     "output_type": "stream",
     "text": [
      "Epoch 1/30:  96%|███████████████████████████████▋ | 120/125 [00:26<00:01,  4.64it/s, Gen Loss=0.6751, Disc Loss=1.4005]"
     ]
    },
    {
     "name": "stdout",
     "output_type": "stream",
     "text": [
      "Real Loss: 0.6742, Fake Loss: 0.7263\n",
      "Fake Images Mean: 0.0050\n"
     ]
    },
    {
     "name": "stderr",
     "output_type": "stream",
     "text": [
      "Epoch 1/30:  97%|███████████████████████████████▉ | 121/125 [00:26<00:00,  4.62it/s, Gen Loss=0.6882, Disc Loss=1.3737]"
     ]
    },
    {
     "name": "stdout",
     "output_type": "stream",
     "text": [
      "Real Loss: 0.6698, Fake Loss: 0.7038\n",
      "Fake Images Mean: 0.0052\n"
     ]
    },
    {
     "name": "stderr",
     "output_type": "stream",
     "text": [
      "Epoch 1/30:  98%|████████████████████████████████▏| 122/125 [00:26<00:00,  4.61it/s, Gen Loss=0.6819, Disc Loss=1.3813]"
     ]
    },
    {
     "name": "stdout",
     "output_type": "stream",
     "text": [
      "Real Loss: 0.6726, Fake Loss: 0.7068\n",
      "Fake Images Mean: 0.0049\n",
      "Real Loss: 0.6678, Fake Loss: 0.7135\n",
      "Fake Images Mean: 0.0055\n"
     ]
    },
    {
     "name": "stderr",
     "output_type": "stream",
     "text": [
      "Epoch 1/30: 100%|█████████████████████████████████| 125/125 [00:27<00:00,  4.60it/s, Gen Loss=0.6792, Disc Loss=1.3844]\n"
     ]
    },
    {
     "name": "stdout",
     "output_type": "stream",
     "text": [
      "Real Loss: 0.6624, Fake Loss: 0.7191\n",
      "Fake Images Mean: 0.0059\n",
      "Real Loss: 0.6673, Fake Loss: 0.7170\n",
      "Fake Images Mean: 0.0089\n",
      "Epoch [1/30] | Gen Loss: 0.6827 | Disc Loss: 1.3819\n"
     ]
    },
    {
     "name": "stderr",
     "output_type": "stream",
     "text": [
      "Epoch 2/30: 100%|█████████████████████████████████| 125/125 [00:26<00:00,  4.65it/s, Gen Loss=0.6745, Disc Loss=1.4043]\n"
     ]
    },
    {
     "name": "stdout",
     "output_type": "stream",
     "text": [
      "Epoch [2/30] | Gen Loss: 0.6821 | Disc Loss: 1.3833\n"
     ]
    },
    {
     "name": "stderr",
     "output_type": "stream",
     "text": [
      "Epoch 3/30: 100%|█████████████████████████████████| 125/125 [00:27<00:00,  4.62it/s, Gen Loss=0.6920, Disc Loss=1.3853]\n"
     ]
    },
    {
     "name": "stdout",
     "output_type": "stream",
     "text": [
      "Epoch [3/30] | Gen Loss: 0.6817 | Disc Loss: 1.3842\n"
     ]
    },
    {
     "name": "stderr",
     "output_type": "stream",
     "text": [
      "Epoch 4/30: 100%|█████████████████████████████████| 125/125 [00:27<00:00,  4.62it/s, Gen Loss=0.7065, Disc Loss=1.3492]\n"
     ]
    },
    {
     "name": "stdout",
     "output_type": "stream",
     "text": [
      "Epoch [4/30] | Gen Loss: 0.6823 | Disc Loss: 1.3827\n"
     ]
    },
    {
     "name": "stderr",
     "output_type": "stream",
     "text": [
      "Epoch 5/30: 100%|█████████████████████████████████| 125/125 [00:27<00:00,  4.61it/s, Gen Loss=0.6721, Disc Loss=1.3869]\n"
     ]
    },
    {
     "name": "stdout",
     "output_type": "stream",
     "text": [
      "Epoch [5/30] | Gen Loss: 0.6820 | Disc Loss: 1.3833\n"
     ]
    },
    {
     "name": "stderr",
     "output_type": "stream",
     "text": [
      "Epoch 6/30: 100%|█████████████████████████████████| 125/125 [00:27<00:00,  4.61it/s, Gen Loss=0.6899, Disc Loss=1.3675]\n"
     ]
    },
    {
     "name": "stdout",
     "output_type": "stream",
     "text": [
      "Epoch [6/30] | Gen Loss: 0.6824 | Disc Loss: 1.3827\n"
     ]
    },
    {
     "name": "stderr",
     "output_type": "stream",
     "text": [
      "Epoch 7/30: 100%|█████████████████████████████████| 125/125 [00:27<00:00,  4.62it/s, Gen Loss=0.7043, Disc Loss=1.3635]\n"
     ]
    },
    {
     "name": "stdout",
     "output_type": "stream",
     "text": [
      "Epoch [7/30] | Gen Loss: 0.6818 | Disc Loss: 1.3838\n"
     ]
    },
    {
     "name": "stderr",
     "output_type": "stream",
     "text": [
      "Epoch 8/30: 100%|█████████████████████████████████| 125/125 [00:27<00:00,  4.62it/s, Gen Loss=0.6832, Disc Loss=1.3783]\n"
     ]
    },
    {
     "name": "stdout",
     "output_type": "stream",
     "text": [
      "Epoch [8/30] | Gen Loss: 0.6822 | Disc Loss: 1.3827\n"
     ]
    },
    {
     "name": "stderr",
     "output_type": "stream",
     "text": [
      "Epoch 9/30: 100%|█████████████████████████████████| 125/125 [00:26<00:00,  4.63it/s, Gen Loss=0.6909, Disc Loss=1.3758]\n"
     ]
    },
    {
     "name": "stdout",
     "output_type": "stream",
     "text": [
      "Epoch [9/30] | Gen Loss: 0.6819 | Disc Loss: 1.3835\n"
     ]
    },
    {
     "name": "stderr",
     "output_type": "stream",
     "text": [
      "Epoch 10/30: 100%|████████████████████████████████| 125/125 [00:27<00:00,  4.61it/s, Gen Loss=0.6534, Disc Loss=1.4483]\n"
     ]
    },
    {
     "name": "stdout",
     "output_type": "stream",
     "text": [
      "Epoch [10/30] | Gen Loss: 0.6815 | Disc Loss: 1.3842\n"
     ]
    },
    {
     "name": "stderr",
     "output_type": "stream",
     "text": [
      "Epoch 11/30: 100%|████████████████████████████████| 125/125 [00:26<00:00,  4.64it/s, Gen Loss=0.7180, Disc Loss=1.3257]\n"
     ]
    },
    {
     "name": "stdout",
     "output_type": "stream",
     "text": [
      "Epoch [11/30] | Gen Loss: 0.6827 | Disc Loss: 1.3821\n"
     ]
    },
    {
     "name": "stderr",
     "output_type": "stream",
     "text": [
      "Epoch 12/30: 100%|████████████████████████████████| 125/125 [00:26<00:00,  4.63it/s, Gen Loss=0.6914, Disc Loss=1.3616]\n"
     ]
    },
    {
     "name": "stdout",
     "output_type": "stream",
     "text": [
      "Epoch [12/30] | Gen Loss: 0.6829 | Disc Loss: 1.3819\n"
     ]
    },
    {
     "name": "stderr",
     "output_type": "stream",
     "text": [
      "Epoch 13/30: 100%|████████████████████████████████| 125/125 [00:26<00:00,  4.66it/s, Gen Loss=0.6769, Disc Loss=1.3891]\n"
     ]
    },
    {
     "name": "stdout",
     "output_type": "stream",
     "text": [
      "Epoch [13/30] | Gen Loss: 0.6824 | Disc Loss: 1.3827\n"
     ]
    },
    {
     "name": "stderr",
     "output_type": "stream",
     "text": [
      "Epoch 14/30: 100%|████████████████████████████████| 125/125 [00:26<00:00,  4.64it/s, Gen Loss=0.6673, Disc Loss=1.4290]\n"
     ]
    },
    {
     "name": "stdout",
     "output_type": "stream",
     "text": [
      "Epoch [14/30] | Gen Loss: 0.6815 | Disc Loss: 1.3844\n"
     ]
    },
    {
     "name": "stderr",
     "output_type": "stream",
     "text": [
      "Epoch 15/30: 100%|████████████████████████████████| 125/125 [00:27<00:00,  4.62it/s, Gen Loss=0.6581, Disc Loss=1.4282]\n"
     ]
    },
    {
     "name": "stdout",
     "output_type": "stream",
     "text": [
      "Epoch [15/30] | Gen Loss: 0.6818 | Disc Loss: 1.3839\n"
     ]
    },
    {
     "name": "stderr",
     "output_type": "stream",
     "text": [
      "Epoch 16/30: 100%|████████████████████████████████| 125/125 [00:26<00:00,  4.63it/s, Gen Loss=0.7007, Disc Loss=1.3325]\n"
     ]
    },
    {
     "name": "stdout",
     "output_type": "stream",
     "text": [
      "Epoch [16/30] | Gen Loss: 0.6824 | Disc Loss: 1.3826\n"
     ]
    },
    {
     "name": "stderr",
     "output_type": "stream",
     "text": [
      "Epoch 17/30: 100%|████████████████████████████████| 125/125 [00:26<00:00,  4.65it/s, Gen Loss=0.6756, Disc Loss=1.4117]\n"
     ]
    },
    {
     "name": "stdout",
     "output_type": "stream",
     "text": [
      "Epoch [17/30] | Gen Loss: 0.6820 | Disc Loss: 1.3834\n"
     ]
    },
    {
     "name": "stderr",
     "output_type": "stream",
     "text": [
      "Epoch 18/30: 100%|████████████████████████████████| 125/125 [00:26<00:00,  4.68it/s, Gen Loss=0.6766, Disc Loss=1.4107]\n"
     ]
    },
    {
     "name": "stdout",
     "output_type": "stream",
     "text": [
      "Epoch [18/30] | Gen Loss: 0.6819 | Disc Loss: 1.3836\n"
     ]
    },
    {
     "name": "stderr",
     "output_type": "stream",
     "text": [
      "Epoch 19/30: 100%|████████████████████████████████| 125/125 [00:26<00:00,  4.69it/s, Gen Loss=0.7214, Disc Loss=1.3198]\n"
     ]
    },
    {
     "name": "stdout",
     "output_type": "stream",
     "text": [
      "Epoch [19/30] | Gen Loss: 0.6823 | Disc Loss: 1.3826\n"
     ]
    },
    {
     "name": "stderr",
     "output_type": "stream",
     "text": [
      "Epoch 20/30:  38%|████████████▍                    | 47/125 [00:10<00:16,  4.59it/s, Gen Loss=0.6840, Disc Loss=1.3785]\n"
     ]
    },
    {
     "ename": "KeyboardInterrupt",
     "evalue": "",
     "output_type": "error",
     "traceback": [
      "\u001b[1;31m---------------------------------------------------------------------------\u001b[0m",
      "\u001b[1;31mKeyboardInterrupt\u001b[0m                         Traceback (most recent call last)",
      "Cell \u001b[1;32mIn[158], line 44\u001b[0m\n\u001b[0;32m     41\u001b[0m data_loader \u001b[38;5;241m=\u001b[39m DataLoader(eeg_image_dataset, batch_size\u001b[38;5;241m=\u001b[39mbatch_size, shuffle\u001b[38;5;241m=\u001b[39m\u001b[38;5;28;01mTrue\u001b[39;00m)\n\u001b[0;32m     43\u001b[0m \u001b[38;5;66;03m# Start training\u001b[39;00m\n\u001b[1;32m---> 44\u001b[0m train_gan(generator, discriminator,optimizer_gen, optimizer_disc, subject_data, subject_no, data_loader, noise_dim, num_epochs, lr, device)\n",
      "Cell \u001b[1;32mIn[153], line 18\u001b[0m, in \u001b[0;36mtrain_gan\u001b[1;34m(generator, discriminator, optimizer_gen, optimizer_disc, subject_data, subject_no, dataloader, noise_dim, num_epochs, lr, device)\u001b[0m\n\u001b[0;32m     15\u001b[0m epoch_disc_loss \u001b[38;5;241m=\u001b[39m \u001b[38;5;241m0.0\u001b[39m\n\u001b[0;32m     17\u001b[0m \u001b[38;5;28;01mwith\u001b[39;00m tqdm(dataloader, desc\u001b[38;5;241m=\u001b[39m\u001b[38;5;124mf\u001b[39m\u001b[38;5;124m\"\u001b[39m\u001b[38;5;124mEpoch \u001b[39m\u001b[38;5;132;01m{\u001b[39;00mepoch\u001b[38;5;250m \u001b[39m\u001b[38;5;241m+\u001b[39m\u001b[38;5;250m \u001b[39m\u001b[38;5;241m1\u001b[39m\u001b[38;5;132;01m}\u001b[39;00m\u001b[38;5;124m/\u001b[39m\u001b[38;5;132;01m{\u001b[39;00mnum_epochs\u001b[38;5;132;01m}\u001b[39;00m\u001b[38;5;124m\"\u001b[39m) \u001b[38;5;28;01mas\u001b[39;00m pbar:\n\u001b[1;32m---> 18\u001b[0m     \u001b[38;5;28;01mfor\u001b[39;00m batch \u001b[38;5;129;01min\u001b[39;00m pbar:\n\u001b[0;32m     19\u001b[0m         real_images \u001b[38;5;241m=\u001b[39m batch[\u001b[38;5;124m\"\u001b[39m\u001b[38;5;124mimage\u001b[39m\u001b[38;5;124m\"\u001b[39m]\u001b[38;5;241m.\u001b[39mto(device)\n\u001b[0;32m     20\u001b[0m         eeg_embeddings \u001b[38;5;241m=\u001b[39m batch[\u001b[38;5;124m\"\u001b[39m\u001b[38;5;124meeg\u001b[39m\u001b[38;5;124m\"\u001b[39m]\u001b[38;5;241m.\u001b[39mto(device)  \u001b[38;5;66;03m# Precomputed embeddings ('z')\u001b[39;00m\n",
      "File \u001b[1;32m~\\anaconda3\\Lib\\site-packages\\tqdm\\std.py:1181\u001b[0m, in \u001b[0;36mtqdm.__iter__\u001b[1;34m(self)\u001b[0m\n\u001b[0;32m   1178\u001b[0m time \u001b[38;5;241m=\u001b[39m \u001b[38;5;28mself\u001b[39m\u001b[38;5;241m.\u001b[39m_time\n\u001b[0;32m   1180\u001b[0m \u001b[38;5;28;01mtry\u001b[39;00m:\n\u001b[1;32m-> 1181\u001b[0m     \u001b[38;5;28;01mfor\u001b[39;00m obj \u001b[38;5;129;01min\u001b[39;00m iterable:\n\u001b[0;32m   1182\u001b[0m         \u001b[38;5;28;01myield\u001b[39;00m obj\n\u001b[0;32m   1183\u001b[0m         \u001b[38;5;66;03m# Update and possibly print the progressbar.\u001b[39;00m\n\u001b[0;32m   1184\u001b[0m         \u001b[38;5;66;03m# Note: does not call self.update(1) for speed optimisation.\u001b[39;00m\n",
      "File \u001b[1;32m~\\anaconda3\\Lib\\site-packages\\torch\\utils\\data\\dataloader.py:701\u001b[0m, in \u001b[0;36m_BaseDataLoaderIter.__next__\u001b[1;34m(self)\u001b[0m\n\u001b[0;32m    698\u001b[0m \u001b[38;5;28;01mif\u001b[39;00m \u001b[38;5;28mself\u001b[39m\u001b[38;5;241m.\u001b[39m_sampler_iter \u001b[38;5;129;01mis\u001b[39;00m \u001b[38;5;28;01mNone\u001b[39;00m:\n\u001b[0;32m    699\u001b[0m     \u001b[38;5;66;03m# TODO(https://github.com/pytorch/pytorch/issues/76750)\u001b[39;00m\n\u001b[0;32m    700\u001b[0m     \u001b[38;5;28mself\u001b[39m\u001b[38;5;241m.\u001b[39m_reset()  \u001b[38;5;66;03m# type: ignore[call-arg]\u001b[39;00m\n\u001b[1;32m--> 701\u001b[0m data \u001b[38;5;241m=\u001b[39m \u001b[38;5;28mself\u001b[39m\u001b[38;5;241m.\u001b[39m_next_data()\n\u001b[0;32m    702\u001b[0m \u001b[38;5;28mself\u001b[39m\u001b[38;5;241m.\u001b[39m_num_yielded \u001b[38;5;241m+\u001b[39m\u001b[38;5;241m=\u001b[39m \u001b[38;5;241m1\u001b[39m\n\u001b[0;32m    703\u001b[0m \u001b[38;5;28;01mif\u001b[39;00m (\n\u001b[0;32m    704\u001b[0m     \u001b[38;5;28mself\u001b[39m\u001b[38;5;241m.\u001b[39m_dataset_kind \u001b[38;5;241m==\u001b[39m _DatasetKind\u001b[38;5;241m.\u001b[39mIterable\n\u001b[0;32m    705\u001b[0m     \u001b[38;5;129;01mand\u001b[39;00m \u001b[38;5;28mself\u001b[39m\u001b[38;5;241m.\u001b[39m_IterableDataset_len_called \u001b[38;5;129;01mis\u001b[39;00m \u001b[38;5;129;01mnot\u001b[39;00m \u001b[38;5;28;01mNone\u001b[39;00m\n\u001b[0;32m    706\u001b[0m     \u001b[38;5;129;01mand\u001b[39;00m \u001b[38;5;28mself\u001b[39m\u001b[38;5;241m.\u001b[39m_num_yielded \u001b[38;5;241m>\u001b[39m \u001b[38;5;28mself\u001b[39m\u001b[38;5;241m.\u001b[39m_IterableDataset_len_called\n\u001b[0;32m    707\u001b[0m ):\n",
      "File \u001b[1;32m~\\anaconda3\\Lib\\site-packages\\torch\\utils\\data\\dataloader.py:757\u001b[0m, in \u001b[0;36m_SingleProcessDataLoaderIter._next_data\u001b[1;34m(self)\u001b[0m\n\u001b[0;32m    755\u001b[0m \u001b[38;5;28;01mdef\u001b[39;00m \u001b[38;5;21m_next_data\u001b[39m(\u001b[38;5;28mself\u001b[39m):\n\u001b[0;32m    756\u001b[0m     index \u001b[38;5;241m=\u001b[39m \u001b[38;5;28mself\u001b[39m\u001b[38;5;241m.\u001b[39m_next_index()  \u001b[38;5;66;03m# may raise StopIteration\u001b[39;00m\n\u001b[1;32m--> 757\u001b[0m     data \u001b[38;5;241m=\u001b[39m \u001b[38;5;28mself\u001b[39m\u001b[38;5;241m.\u001b[39m_dataset_fetcher\u001b[38;5;241m.\u001b[39mfetch(index)  \u001b[38;5;66;03m# may raise StopIteration\u001b[39;00m\n\u001b[0;32m    758\u001b[0m     \u001b[38;5;28;01mif\u001b[39;00m \u001b[38;5;28mself\u001b[39m\u001b[38;5;241m.\u001b[39m_pin_memory:\n\u001b[0;32m    759\u001b[0m         data \u001b[38;5;241m=\u001b[39m _utils\u001b[38;5;241m.\u001b[39mpin_memory\u001b[38;5;241m.\u001b[39mpin_memory(data, \u001b[38;5;28mself\u001b[39m\u001b[38;5;241m.\u001b[39m_pin_memory_device)\n",
      "File \u001b[1;32m~\\anaconda3\\Lib\\site-packages\\torch\\utils\\data\\_utils\\fetch.py:52\u001b[0m, in \u001b[0;36m_MapDatasetFetcher.fetch\u001b[1;34m(self, possibly_batched_index)\u001b[0m\n\u001b[0;32m     50\u001b[0m         data \u001b[38;5;241m=\u001b[39m \u001b[38;5;28mself\u001b[39m\u001b[38;5;241m.\u001b[39mdataset\u001b[38;5;241m.\u001b[39m__getitems__(possibly_batched_index)\n\u001b[0;32m     51\u001b[0m     \u001b[38;5;28;01melse\u001b[39;00m:\n\u001b[1;32m---> 52\u001b[0m         data \u001b[38;5;241m=\u001b[39m [\u001b[38;5;28mself\u001b[39m\u001b[38;5;241m.\u001b[39mdataset[idx] \u001b[38;5;28;01mfor\u001b[39;00m idx \u001b[38;5;129;01min\u001b[39;00m possibly_batched_index]\n\u001b[0;32m     53\u001b[0m \u001b[38;5;28;01melse\u001b[39;00m:\n\u001b[0;32m     54\u001b[0m     data \u001b[38;5;241m=\u001b[39m \u001b[38;5;28mself\u001b[39m\u001b[38;5;241m.\u001b[39mdataset[possibly_batched_index]\n",
      "Cell \u001b[1;32mIn[27], line 51\u001b[0m, in \u001b[0;36mEEGImageDataset.__getitem__\u001b[1;34m(self, idx)\u001b[0m\n\u001b[0;32m     48\u001b[0m image_path \u001b[38;5;241m=\u001b[39m os\u001b[38;5;241m.\u001b[39mpath\u001b[38;5;241m.\u001b[39mjoin(\u001b[38;5;28mself\u001b[39m\u001b[38;5;241m.\u001b[39mimage_folder, folder_name, image_filename)\n\u001b[0;32m     50\u001b[0m \u001b[38;5;66;03m# Load the image using PIL\u001b[39;00m\n\u001b[1;32m---> 51\u001b[0m image \u001b[38;5;241m=\u001b[39m Image\u001b[38;5;241m.\u001b[39mopen(image_path)\u001b[38;5;241m.\u001b[39mconvert(\u001b[38;5;124m\"\u001b[39m\u001b[38;5;124mRGB\u001b[39m\u001b[38;5;124m\"\u001b[39m)\n\u001b[0;32m     53\u001b[0m \u001b[38;5;66;03m# Apply image transformations if provided\u001b[39;00m\n\u001b[0;32m     54\u001b[0m \u001b[38;5;28;01mif\u001b[39;00m \u001b[38;5;28mself\u001b[39m\u001b[38;5;241m.\u001b[39mtransform:\n",
      "File \u001b[1;32m~\\anaconda3\\Lib\\site-packages\\PIL\\Image.py:3274\u001b[0m, in \u001b[0;36mopen\u001b[1;34m(fp, mode, formats)\u001b[0m\n\u001b[0;32m   3272\u001b[0m filename: \u001b[38;5;28mstr\u001b[39m \u001b[38;5;241m|\u001b[39m \u001b[38;5;28mbytes\u001b[39m \u001b[38;5;241m=\u001b[39m \u001b[38;5;124m\"\u001b[39m\u001b[38;5;124m\"\u001b[39m\n\u001b[0;32m   3273\u001b[0m \u001b[38;5;28;01mif\u001b[39;00m is_path(fp):\n\u001b[1;32m-> 3274\u001b[0m     filename \u001b[38;5;241m=\u001b[39m os\u001b[38;5;241m.\u001b[39mpath\u001b[38;5;241m.\u001b[39mrealpath(os\u001b[38;5;241m.\u001b[39mfspath(fp))\n\u001b[0;32m   3276\u001b[0m \u001b[38;5;28;01mif\u001b[39;00m filename:\n\u001b[0;32m   3277\u001b[0m     fp \u001b[38;5;241m=\u001b[39m builtins\u001b[38;5;241m.\u001b[39mopen(filename, \u001b[38;5;124m\"\u001b[39m\u001b[38;5;124mrb\u001b[39m\u001b[38;5;124m\"\u001b[39m)\n",
      "File \u001b[1;32m<frozen ntpath>:714\u001b[0m, in \u001b[0;36mrealpath\u001b[1;34m(path, strict)\u001b[0m\n",
      "\u001b[1;31mKeyboardInterrupt\u001b[0m: "
     ]
    }
   ],
   "source": [
    "# Assign hyperparameters\n",
    "noise_dim = 100\n",
    "latent_dim = 128  # Latent vector size from EEGEncoder\n",
    "num_epochs = 30\n",
    "batch_size = 16\n",
    "lr = 0.0002\n",
    "\n",
    "# Initialize models\n",
    "generator = Generator(noise_dim=noise_dim, class_dim=latent_dim).to(device)\n",
    "discriminator = Discriminator(class_dim=latent_dim).to(device)\n",
    "\n",
    "optimizer_gen = torch.optim.Adam(generator.parameters(), lr=lr, betas=(0.5, 0.999))\n",
    "optimizer_disc = torch.optim.Adam(discriminator.parameters(), lr=lr * 0.5, betas=(0.5, 0.999))\n",
    "\n",
    "# Load dataset and dataloader\n",
    "image_folder_path = r\"C:\\Users\\CSE IIT BHILAI\\EpochHunters\\Subset_128x128\\Subset_128x128\"\n",
    "synset_csv_path = r\"C:\\Users\\CSE IIT BHILAI\\EpochHunters\\synsetIds.csv\"\n",
    "\n",
    "# Define image transformations\n",
    "image_transforms = transforms.Compose([\n",
    "    transforms.ToTensor(),  # Convert PIL image to tensor\n",
    "])\n",
    "\n",
    "# Load the dataset\n",
    "eeg_image_dataset = EEGImageDataset(\n",
    "    subject_data=subject_data,\n",
    "    subject_no=subject_no,\n",
    "    image_folder=image_folder_path,\n",
    "    synset_csv=synset_csv_path,\n",
    "    transform=image_transforms\n",
    ")\n",
    "\n",
    "# Create DataLoader\n",
    "data_loader = DataLoader(eeg_image_dataset, batch_size=batch_size, shuffle=True)\n",
    "\n",
    "# Start training\n",
    "train_gan(generator, discriminator,optimizer_gen, optimizer_disc, subject_data, subject_no, data_loader, noise_dim, num_epochs, lr, device)"
   ]
  },
  {
   "cell_type": "code",
   "execution_count": null,
   "metadata": {
    "id": "m8QD6bITufrZ",
    "outputId": "8f98f377-5b93-4270-a7c3-202ff0f42f2f",
    "scrolled": true
   },
   "outputs": [
    {
     "name": "stderr",
     "output_type": "stream",
     "text": [
      "Epoch 1/750:   1%|▎                                 | 1/125 [00:00<00:54,  2.26it/s, Gen Loss=2.1920, Disc Loss=0.8810]"
     ]
    },
    {
     "name": "stdout",
     "output_type": "stream",
     "text": [
      "Real Loss: 0.7152, Fake Loss: 0.6879\n",
      "Fake Images Mean: 0.0018\n",
      "Real Loss: 0.5266, Fake Loss: 0.3544\n",
      "Fake Images Mean: 0.0046\n"
     ]
    },
    {
     "name": "stderr",
     "output_type": "stream",
     "text": [
      "Epoch 1/750:   2%|▊                                 | 3/125 [00:01<00:30,  4.06it/s, Gen Loss=1.3699, Disc Loss=0.4518]"
     ]
    },
    {
     "name": "stdout",
     "output_type": "stream",
     "text": [
      "Real Loss: 0.3830, Fake Loss: 0.1498\n",
      "Fake Images Mean: 0.0044\n",
      "Real Loss: 0.4203, Fake Loss: 0.0314\n",
      "Fake Images Mean: -0.0080\n"
     ]
    },
    {
     "name": "stderr",
     "output_type": "stream",
     "text": [
      "Epoch 1/750:   4%|█▎                                | 5/125 [00:01<00:25,  4.77it/s, Gen Loss=4.7764, Disc Loss=0.5341]"
     ]
    },
    {
     "name": "stdout",
     "output_type": "stream",
     "text": [
      "Real Loss: 0.5619, Fake Loss: 0.5810\n",
      "Fake Images Mean: -0.0199\n",
      "Real Loss: 0.5309, Fake Loss: 0.0032\n",
      "Fake Images Mean: -0.0152\n"
     ]
    },
    {
     "name": "stderr",
     "output_type": "stream",
     "text": [
      "Epoch 1/750:   6%|█▉                                | 7/125 [00:01<00:23,  5.05it/s, Gen Loss=4.4798, Disc Loss=0.3865]"
     ]
    },
    {
     "name": "stdout",
     "output_type": "stream",
     "text": [
      "Real Loss: 0.3680, Fake Loss: 0.0099\n",
      "Fake Images Mean: -0.0135\n",
      "Real Loss: 0.3722, Fake Loss: 0.0143\n",
      "Fake Images Mean: -0.0074\n"
     ]
    },
    {
     "name": "stderr",
     "output_type": "stream",
     "text": [
      "Epoch 1/750:   7%|██▍                               | 9/125 [00:02<00:22,  5.15it/s, Gen Loss=3.9888, Disc Loss=0.3873]"
     ]
    },
    {
     "name": "stdout",
     "output_type": "stream",
     "text": [
      "Real Loss: 0.3468, Fake Loss: 0.0087\n",
      "Fake Images Mean: -0.0175\n",
      "Real Loss: 0.3807, Fake Loss: 0.0067\n",
      "Fake Images Mean: -0.0432\n"
     ]
    },
    {
     "name": "stderr",
     "output_type": "stream",
     "text": [
      "Epoch 1/750:   9%|██▉                              | 11/125 [00:02<00:21,  5.23it/s, Gen Loss=4.6836, Disc Loss=0.3409]"
     ]
    },
    {
     "name": "stdout",
     "output_type": "stream",
     "text": [
      "Real Loss: 0.3530, Fake Loss: 0.0159\n",
      "Fake Images Mean: -0.0567\n",
      "Real Loss: 0.3303, Fake Loss: 0.0106\n",
      "Fake Images Mean: -0.0605\n"
     ]
    },
    {
     "name": "stderr",
     "output_type": "stream",
     "text": [
      "Epoch 1/750:  10%|███▍                             | 13/125 [00:02<00:21,  5.25it/s, Gen Loss=4.8538, Disc Loss=0.3404]"
     ]
    },
    {
     "name": "stdout",
     "output_type": "stream",
     "text": [
      "Real Loss: 0.3389, Fake Loss: 0.0067\n",
      "Fake Images Mean: -0.0576\n",
      "Real Loss: 0.3340, Fake Loss: 0.0064\n",
      "Fake Images Mean: -0.0472\n"
     ]
    },
    {
     "name": "stderr",
     "output_type": "stream",
     "text": [
      "Epoch 1/750:  12%|███▉                             | 15/125 [00:03<00:20,  5.32it/s, Gen Loss=4.9546, Disc Loss=0.3342]"
     ]
    },
    {
     "name": "stdout",
     "output_type": "stream",
     "text": [
      "Real Loss: 0.3311, Fake Loss: 0.0054\n",
      "Fake Images Mean: -0.0485\n",
      "Real Loss: 0.3297, Fake Loss: 0.0045\n",
      "Fake Images Mean: -0.0527\n"
     ]
    },
    {
     "name": "stderr",
     "output_type": "stream",
     "text": [
      "Epoch 1/750:  14%|████▍                            | 17/125 [00:03<00:20,  5.31it/s, Gen Loss=5.0360, Disc Loss=0.3358]"
     ]
    },
    {
     "name": "stdout",
     "output_type": "stream",
     "text": [
      "Real Loss: 0.3309, Fake Loss: 0.0048\n",
      "Fake Images Mean: -0.0646\n",
      "Real Loss: 0.3324, Fake Loss: 0.0034\n",
      "Fake Images Mean: -0.0703\n"
     ]
    },
    {
     "name": "stderr",
     "output_type": "stream",
     "text": [
      "Epoch 1/750:  15%|█████                            | 19/125 [00:04<00:19,  5.35it/s, Gen Loss=5.1809, Disc Loss=0.3360]"
     ]
    },
    {
     "name": "stdout",
     "output_type": "stream",
     "text": [
      "Real Loss: 0.3333, Fake Loss: 0.0048\n",
      "Fake Images Mean: -0.0773\n",
      "Real Loss: 0.3321, Fake Loss: 0.0039\n",
      "Fake Images Mean: -0.0930\n"
     ]
    },
    {
     "name": "stderr",
     "output_type": "stream",
     "text": [
      "Epoch 1/750:  18%|█████▊                           | 22/125 [00:04<00:19,  5.39it/s, Gen Loss=5.1582, Disc Loss=0.3314]"
     ]
    },
    {
     "name": "stdout",
     "output_type": "stream",
     "text": [
      "Real Loss: 0.3285, Fake Loss: 0.0037\n",
      "Fake Images Mean: -0.1072\n",
      "Real Loss: 0.3265, Fake Loss: 0.0049\n",
      "Fake Images Mean: -0.1155\n"
     ]
    },
    {
     "name": "stderr",
     "output_type": "stream",
     "text": [
      "Epoch 1/750:  18%|██████                           | 23/125 [00:04<00:18,  5.39it/s, Gen Loss=5.3519, Disc Loss=0.3344]"
     ]
    },
    {
     "name": "stdout",
     "output_type": "stream",
     "text": [
      "Real Loss: 0.3272, Fake Loss: 0.0039\n",
      "Fake Images Mean: -0.1126\n",
      "Real Loss: 0.3298, Fake Loss: 0.0046\n",
      "Fake Images Mean: -0.1169\n"
     ]
    },
    {
     "name": "stderr",
     "output_type": "stream",
     "text": [
      "Epoch 1/750:  20%|██████▌                          | 25/125 [00:05<00:18,  5.36it/s, Gen Loss=5.7018, Disc Loss=0.3370]"
     ]
    },
    {
     "name": "stdout",
     "output_type": "stream",
     "text": [
      "Real Loss: 0.3291, Fake Loss: 0.0030\n",
      "Fake Images Mean: -0.1259\n",
      "Real Loss: 0.3337, Fake Loss: 0.0033\n",
      "Fake Images Mean: -0.1346\n"
     ]
    },
    {
     "name": "stderr",
     "output_type": "stream",
     "text": [
      "Epoch 1/750:  22%|███████▏                         | 27/125 [00:05<00:18,  5.39it/s, Gen Loss=5.6740, Disc Loss=0.3549]"
     ]
    },
    {
     "name": "stdout",
     "output_type": "stream",
     "text": [
      "Real Loss: 0.3362, Fake Loss: 0.0021\n",
      "Fake Images Mean: -0.1551\n",
      "Real Loss: 0.3511, Fake Loss: 0.0039\n",
      "Fake Images Mean: -0.1676\n"
     ]
    },
    {
     "name": "stderr",
     "output_type": "stream",
     "text": [
      "Epoch 1/750:  24%|███████▉                         | 30/125 [00:05<00:17,  5.32it/s, Gen Loss=5.5162, Disc Loss=0.3455]"
     ]
    },
    {
     "name": "stdout",
     "output_type": "stream",
     "text": [
      "Real Loss: 0.3372, Fake Loss: 0.0023\n",
      "Fake Images Mean: -0.1759\n",
      "Real Loss: 0.3410, Fake Loss: 0.0045\n",
      "Fake Images Mean: -0.2081\n"
     ]
    },
    {
     "name": "stderr",
     "output_type": "stream",
     "text": [
      "Epoch 1/750:  25%|████████▏                        | 31/125 [00:06<00:17,  5.35it/s, Gen Loss=5.6343, Disc Loss=0.3447]"
     ]
    },
    {
     "name": "stdout",
     "output_type": "stream",
     "text": [
      "Real Loss: 0.3365, Fake Loss: 0.0032\n",
      "Fake Images Mean: -0.2271\n",
      "Real Loss: 0.3409, Fake Loss: 0.0038\n",
      "Fake Images Mean: -0.2211\n"
     ]
    },
    {
     "name": "stderr",
     "output_type": "stream",
     "text": [
      "Epoch 1/750:  26%|████████▋                        | 33/125 [00:06<00:17,  5.38it/s, Gen Loss=5.7639, Disc Loss=0.3386]"
     ]
    },
    {
     "name": "stdout",
     "output_type": "stream",
     "text": [
      "Real Loss: 0.3334, Fake Loss: 0.0039\n",
      "Fake Images Mean: -0.2425\n",
      "Real Loss: 0.3355, Fake Loss: 0.0031\n",
      "Fake Images Mean: -0.2459\n"
     ]
    },
    {
     "name": "stderr",
     "output_type": "stream",
     "text": [
      "Epoch 1/750:  29%|█████████▌                       | 36/125 [00:06<00:16,  5.41it/s, Gen Loss=5.7818, Disc Loss=0.3381]"
     ]
    },
    {
     "name": "stdout",
     "output_type": "stream",
     "text": [
      "Real Loss: 0.3339, Fake Loss: 0.0020\n",
      "Fake Images Mean: -0.2580\n",
      "Real Loss: 0.3353, Fake Loss: 0.0027\n",
      "Fake Images Mean: -0.2497\n"
     ]
    },
    {
     "name": "stderr",
     "output_type": "stream",
     "text": [
      "Epoch 1/750:  30%|█████████▊                       | 37/125 [00:07<00:16,  5.38it/s, Gen Loss=5.7183, Disc Loss=0.3303]"
     ]
    },
    {
     "name": "stdout",
     "output_type": "stream",
     "text": [
      "Real Loss: 0.3313, Fake Loss: 0.0022\n",
      "Fake Images Mean: -0.2530\n",
      "Real Loss: 0.3281, Fake Loss: 0.0022\n",
      "Fake Images Mean: -0.2635\n"
     ]
    },
    {
     "name": "stderr",
     "output_type": "stream",
     "text": [
      "Epoch 1/750:  31%|██████████▎                      | 39/125 [00:07<00:16,  5.37it/s, Gen Loss=5.5861, Disc Loss=0.3337]"
     ]
    },
    {
     "name": "stdout",
     "output_type": "stream",
     "text": [
      "Real Loss: 0.3268, Fake Loss: 0.0019\n",
      "Fake Images Mean: -0.2546\n",
      "Real Loss: 0.3321, Fake Loss: 0.0016\n",
      "Fake Images Mean: -0.2729\n"
     ]
    },
    {
     "name": "stderr",
     "output_type": "stream",
     "text": [
      "Epoch 1/750:  33%|██████████▊                      | 41/125 [00:08<00:15,  5.37it/s, Gen Loss=5.4358, Disc Loss=0.3373]"
     ]
    },
    {
     "name": "stdout",
     "output_type": "stream",
     "text": [
      "Real Loss: 0.3341, Fake Loss: 0.0023\n",
      "Fake Images Mean: -0.2697\n",
      "Real Loss: 0.3356, Fake Loss: 0.0016\n",
      "Fake Images Mean: -0.2999\n"
     ]
    },
    {
     "name": "stderr",
     "output_type": "stream",
     "text": [
      "Epoch 1/750:  34%|███████████▎                     | 43/125 [00:08<00:15,  5.37it/s, Gen Loss=5.5061, Disc Loss=0.3353]"
     ]
    },
    {
     "name": "stdout",
     "output_type": "stream",
     "text": [
      "Real Loss: 0.3434, Fake Loss: 0.0031\n",
      "Fake Images Mean: -0.2753\n",
      "Real Loss: 0.3335, Fake Loss: 0.0018\n",
      "Fake Images Mean: -0.3136\n"
     ]
    },
    {
     "name": "stderr",
     "output_type": "stream",
     "text": [
      "Epoch 1/750:  37%|████████████▏                    | 46/125 [00:08<00:14,  5.38it/s, Gen Loss=5.4460, Disc Loss=0.3385]"
     ]
    },
    {
     "name": "stdout",
     "output_type": "stream",
     "text": [
      "Real Loss: 0.3364, Fake Loss: 0.0026\n",
      "Fake Images Mean: -0.3170\n",
      "Real Loss: 0.3370, Fake Loss: 0.0015\n",
      "Fake Images Mean: -0.3319\n"
     ]
    },
    {
     "name": "stderr",
     "output_type": "stream",
     "text": [
      "Epoch 1/750:  38%|████████████▍                    | 47/125 [00:09<00:14,  5.35it/s, Gen Loss=5.5981, Disc Loss=0.3359]"
     ]
    },
    {
     "name": "stdout",
     "output_type": "stream",
     "text": [
      "Real Loss: 0.3542, Fake Loss: 0.0026\n",
      "Fake Images Mean: -0.3365\n",
      "Real Loss: 0.3342, Fake Loss: 0.0018\n",
      "Fake Images Mean: -0.3247\n"
     ]
    },
    {
     "name": "stderr",
     "output_type": "stream",
     "text": [
      "Epoch 1/750:  39%|████████████▉                    | 49/125 [00:09<00:14,  5.31it/s, Gen Loss=5.8997, Disc Loss=0.3291]"
     ]
    },
    {
     "name": "stdout",
     "output_type": "stream",
     "text": [
      "Real Loss: 0.3271, Fake Loss: 0.0023\n",
      "Fake Images Mean: -0.3472\n",
      "Real Loss: 0.3268, Fake Loss: 0.0023\n",
      "Fake Images Mean: -0.3630\n"
     ]
    },
    {
     "name": "stderr",
     "output_type": "stream",
     "text": [
      "Epoch 1/750:  41%|█████████████▍                   | 51/125 [00:09<00:14,  5.28it/s, Gen Loss=5.8922, Disc Loss=0.3734]"
     ]
    },
    {
     "name": "stdout",
     "output_type": "stream",
     "text": [
      "Real Loss: 0.3388, Fake Loss: 0.0014\n",
      "Fake Images Mean: -0.3647\n",
      "Real Loss: 0.3706, Fake Loss: 0.0028\n",
      "Fake Images Mean: -0.3655\n"
     ]
    },
    {
     "name": "stderr",
     "output_type": "stream",
     "text": [
      "Epoch 1/750:  42%|█████████████▉                   | 53/125 [00:10<00:13,  5.31it/s, Gen Loss=5.9258, Disc Loss=0.3269]"
     ]
    },
    {
     "name": "stdout",
     "output_type": "stream",
     "text": [
      "Real Loss: 0.3298, Fake Loss: 0.0021\n",
      "Fake Images Mean: -0.3639\n",
      "Real Loss: 0.3254, Fake Loss: 0.0015\n",
      "Fake Images Mean: -0.3536\n"
     ]
    },
    {
     "name": "stderr",
     "output_type": "stream",
     "text": [
      "Epoch 1/750:  44%|██████████████▌                  | 55/125 [00:10<00:13,  5.29it/s, Gen Loss=5.6756, Disc Loss=0.3297]"
     ]
    },
    {
     "name": "stdout",
     "output_type": "stream",
     "text": [
      "Real Loss: 0.3266, Fake Loss: 0.0017\n",
      "Fake Images Mean: -0.3684\n",
      "Real Loss: 0.3278, Fake Loss: 0.0019\n",
      "Fake Images Mean: -0.3826\n"
     ]
    },
    {
     "name": "stderr",
     "output_type": "stream",
     "text": [
      "Epoch 1/750:  46%|███████████████                  | 57/125 [00:11<00:12,  5.23it/s, Gen Loss=5.8888, Disc Loss=0.3308]"
     ]
    },
    {
     "name": "stdout",
     "output_type": "stream",
     "text": [
      "Real Loss: 0.3295, Fake Loss: 0.0022\n",
      "Fake Images Mean: -0.3848\n",
      "Real Loss: 0.3295, Fake Loss: 0.0013\n",
      "Fake Images Mean: -0.3722\n"
     ]
    },
    {
     "name": "stderr",
     "output_type": "stream",
     "text": [
      "Epoch 1/750:  47%|███████████████▌                 | 59/125 [00:11<00:12,  5.28it/s, Gen Loss=6.0131, Disc Loss=0.3311]"
     ]
    },
    {
     "name": "stdout",
     "output_type": "stream",
     "text": [
      "Real Loss: 0.3317, Fake Loss: 0.0018\n",
      "Fake Images Mean: -0.3946\n",
      "Real Loss: 0.3300, Fake Loss: 0.0010\n",
      "Fake Images Mean: -0.3941\n"
     ]
    },
    {
     "name": "stderr",
     "output_type": "stream",
     "text": [
      "Epoch 1/750:  50%|████████████████▎                | 62/125 [00:11<00:11,  5.36it/s, Gen Loss=6.1845, Disc Loss=0.3272]"
     ]
    },
    {
     "name": "stdout",
     "output_type": "stream",
     "text": [
      "Real Loss: 0.3289, Fake Loss: 0.0014\n",
      "Fake Images Mean: -0.3975\n",
      "Real Loss: 0.3259, Fake Loss: 0.0013\n",
      "Fake Images Mean: -0.3960\n"
     ]
    },
    {
     "name": "stderr",
     "output_type": "stream",
     "text": [
      "Epoch 1/750:  50%|████████████████▋                | 63/125 [00:12<00:11,  5.36it/s, Gen Loss=6.4446, Disc Loss=0.3351]"
     ]
    },
    {
     "name": "stdout",
     "output_type": "stream",
     "text": [
      "Real Loss: 0.3272, Fake Loss: 0.0012\n",
      "Fake Images Mean: -0.4004\n",
      "Real Loss: 0.3338, Fake Loss: 0.0013\n",
      "Fake Images Mean: -0.4175\n"
     ]
    },
    {
     "name": "stderr",
     "output_type": "stream",
     "text": [
      "Epoch 1/750:  52%|█████████████████▏               | 65/125 [00:12<00:11,  5.28it/s, Gen Loss=6.1350, Disc Loss=0.3562]"
     ]
    },
    {
     "name": "stdout",
     "output_type": "stream",
     "text": [
      "Real Loss: 0.3379, Fake Loss: 0.0011\n",
      "Fake Images Mean: -0.4223\n",
      "Real Loss: 0.3543, Fake Loss: 0.0019\n",
      "Fake Images Mean: -0.4215\n"
     ]
    },
    {
     "name": "stderr",
     "output_type": "stream",
     "text": [
      "Epoch 1/750:  54%|█████████████████▉               | 68/125 [00:12<00:10,  5.38it/s, Gen Loss=5.9339, Disc Loss=0.3280]"
     ]
    },
    {
     "name": "stdout",
     "output_type": "stream",
     "text": [
      "Real Loss: 0.3283, Fake Loss: 0.0015\n",
      "Fake Images Mean: -0.4328\n",
      "Real Loss: 0.3268, Fake Loss: 0.0013\n",
      "Fake Images Mean: -0.4371\n"
     ]
    },
    {
     "name": "stderr",
     "output_type": "stream",
     "text": [
      "Epoch 1/750:  55%|██████████████████▏              | 69/125 [00:13<00:10,  5.39it/s, Gen Loss=5.7485, Disc Loss=0.3388]"
     ]
    },
    {
     "name": "stdout",
     "output_type": "stream",
     "text": [
      "Real Loss: 0.3316, Fake Loss: 0.0017\n",
      "Fake Images Mean: -0.4354\n",
      "Real Loss: 0.3378, Fake Loss: 0.0010\n",
      "Fake Images Mean: -0.4564\n"
     ]
    },
    {
     "name": "stderr",
     "output_type": "stream",
     "text": [
      "Epoch 1/750:  58%|███████████████████              | 72/125 [00:13<00:09,  5.42it/s, Gen Loss=5.7991, Disc Loss=0.3332]"
     ]
    },
    {
     "name": "stdout",
     "output_type": "stream",
     "text": [
      "Real Loss: 0.3549, Fake Loss: 0.0019\n",
      "Fake Images Mean: -0.4543\n",
      "Real Loss: 0.3317, Fake Loss: 0.0015\n",
      "Fake Images Mean: -0.4591\n"
     ]
    },
    {
     "name": "stderr",
     "output_type": "stream",
     "text": [
      "Epoch 1/750:  58%|███████████████████▎             | 73/125 [00:14<00:09,  5.41it/s, Gen Loss=6.3771, Disc Loss=0.3269]"
     ]
    },
    {
     "name": "stdout",
     "output_type": "stream",
     "text": [
      "Real Loss: 0.3282, Fake Loss: 0.0014\n",
      "Fake Images Mean: -0.4613\n",
      "Real Loss: 0.3258, Fake Loss: 0.0010\n",
      "Fake Images Mean: -0.4420\n"
     ]
    },
    {
     "name": "stderr",
     "output_type": "stream",
     "text": [
      "Epoch 1/750:  60%|███████████████████▊             | 75/125 [00:14<00:09,  5.36it/s, Gen Loss=6.3907, Disc Loss=0.3308]"
     ]
    },
    {
     "name": "stdout",
     "output_type": "stream",
     "text": [
      "Real Loss: 0.3274, Fake Loss: 0.0012\n",
      "Fake Images Mean: -0.4692\n",
      "Real Loss: 0.3295, Fake Loss: 0.0013\n",
      "Fake Images Mean: -0.4611\n"
     ]
    },
    {
     "name": "stderr",
     "output_type": "stream",
     "text": [
      "Epoch 1/750:  62%|████████████████████▎            | 77/125 [00:14<00:08,  5.34it/s, Gen Loss=6.4231, Disc Loss=0.3272]"
     ]
    },
    {
     "name": "stdout",
     "output_type": "stream",
     "text": [
      "Real Loss: 0.3272, Fake Loss: 0.0009\n",
      "Fake Images Mean: -0.4588\n",
      "Real Loss: 0.3262, Fake Loss: 0.0010\n",
      "Fake Images Mean: -0.4585\n"
     ]
    },
    {
     "name": "stderr",
     "output_type": "stream",
     "text": [
      "Epoch 1/750:  63%|████████████████████▊            | 79/125 [00:15<00:08,  5.31it/s, Gen Loss=6.5513, Disc Loss=0.3262]"
     ]
    },
    {
     "name": "stdout",
     "output_type": "stream",
     "text": [
      "Real Loss: 0.3254, Fake Loss: 0.0009\n",
      "Fake Images Mean: -0.4695\n",
      "Real Loss: 0.3255, Fake Loss: 0.0007\n",
      "Fake Images Mean: -0.4917\n"
     ]
    },
    {
     "name": "stderr",
     "output_type": "stream",
     "text": [
      "Epoch 1/750:  65%|█████████████████████▍           | 81/125 [00:15<00:08,  5.29it/s, Gen Loss=6.4980, Disc Loss=0.3264]"
     ]
    },
    {
     "name": "stdout",
     "output_type": "stream",
     "text": [
      "Real Loss: 0.3255, Fake Loss: 0.0007\n",
      "Fake Images Mean: -0.4841\n",
      "Real Loss: 0.3257, Fake Loss: 0.0007\n",
      "Fake Images Mean: -0.4884\n"
     ]
    },
    {
     "name": "stderr",
     "output_type": "stream",
     "text": [
      "Epoch 1/750:  66%|█████████████████████▉           | 83/125 [00:15<00:07,  5.26it/s, Gen Loss=6.5165, Disc Loss=0.3281]"
     ]
    },
    {
     "name": "stdout",
     "output_type": "stream",
     "text": [
      "Real Loss: 0.3264, Fake Loss: 0.0009\n",
      "Fake Images Mean: -0.4802\n",
      "Real Loss: 0.3275, Fake Loss: 0.0006\n",
      "Fake Images Mean: -0.4759\n"
     ]
    },
    {
     "name": "stderr",
     "output_type": "stream",
     "text": [
      "Epoch 1/750:  68%|██████████████████████▍          | 85/125 [00:16<00:07,  5.30it/s, Gen Loss=6.4501, Disc Loss=0.3278]"
     ]
    },
    {
     "name": "stdout",
     "output_type": "stream",
     "text": [
      "Real Loss: 0.3283, Fake Loss: 0.0009\n",
      "Fake Images Mean: -0.4739\n",
      "Real Loss: 0.3271, Fake Loss: 0.0007\n",
      "Fake Images Mean: -0.4635\n"
     ]
    },
    {
     "name": "stderr",
     "output_type": "stream",
     "text": [
      "Epoch 1/750:  70%|██████████████████████▉          | 87/125 [00:16<00:07,  5.28it/s, Gen Loss=6.2661, Disc Loss=0.3289]"
     ]
    },
    {
     "name": "stdout",
     "output_type": "stream",
     "text": [
      "Real Loss: 0.3274, Fake Loss: 0.0009\n",
      "Fake Images Mean: -0.4637\n",
      "Real Loss: 0.3280, Fake Loss: 0.0008\n",
      "Fake Images Mean: -0.4649\n"
     ]
    },
    {
     "name": "stderr",
     "output_type": "stream",
     "text": [
      "Epoch 1/750:  72%|███████████████████████▊         | 90/125 [00:17<00:06,  5.34it/s, Gen Loss=6.5770, Disc Loss=0.3280]"
     ]
    },
    {
     "name": "stdout",
     "output_type": "stream",
     "text": [
      "Real Loss: 0.3294, Fake Loss: 0.0009\n",
      "Fake Images Mean: -0.4685\n",
      "Real Loss: 0.3274, Fake Loss: 0.0006\n",
      "Fake Images Mean: -0.4816\n"
     ]
    },
    {
     "name": "stderr",
     "output_type": "stream",
     "text": [
      "Epoch 1/750:  73%|████████████████████████         | 91/125 [00:17<00:06,  5.36it/s, Gen Loss=6.6873, Disc Loss=0.3269]"
     ]
    },
    {
     "name": "stdout",
     "output_type": "stream",
     "text": [
      "Real Loss: 0.3265, Fake Loss: 0.0009\n",
      "Fake Images Mean: -0.4731\n",
      "Real Loss: 0.3264, Fake Loss: 0.0006\n",
      "Fake Images Mean: -0.4851\n"
     ]
    },
    {
     "name": "stderr",
     "output_type": "stream",
     "text": [
      "Epoch 1/750:  74%|████████████████████████▌        | 93/125 [00:17<00:05,  5.37it/s, Gen Loss=6.8520, Disc Loss=0.3272]"
     ]
    },
    {
     "name": "stdout",
     "output_type": "stream",
     "text": [
      "Real Loss: 0.3255, Fake Loss: 0.0008\n",
      "Fake Images Mean: -0.4651\n",
      "Real Loss: 0.3265, Fake Loss: 0.0007\n",
      "Fake Images Mean: -0.4733\n"
     ]
    },
    {
     "name": "stderr",
     "output_type": "stream",
     "text": [
      "Epoch 1/750:  76%|█████████████████████████        | 95/125 [00:18<00:05,  5.35it/s, Gen Loss=6.8675, Disc Loss=0.3390]"
     ]
    },
    {
     "name": "stdout",
     "output_type": "stream",
     "text": [
      "Real Loss: 0.3301, Fake Loss: 0.0005\n",
      "Fake Images Mean: -0.4616\n",
      "Real Loss: 0.3382, Fake Loss: 0.0009\n",
      "Fake Images Mean: -0.4471\n"
     ]
    },
    {
     "name": "stderr",
     "output_type": "stream",
     "text": [
      "Epoch 1/750:  78%|█████████████████████████▌       | 97/125 [00:18<00:05,  5.36it/s, Gen Loss=6.7446, Disc Loss=0.3518]"
     ]
    },
    {
     "name": "stdout",
     "output_type": "stream",
     "text": [
      "Real Loss: 0.3364, Fake Loss: 0.0005\n",
      "Fake Images Mean: -0.4601\n",
      "Real Loss: 0.3508, Fake Loss: 0.0011\n",
      "Fake Images Mean: -0.4456\n"
     ]
    },
    {
     "name": "stderr",
     "output_type": "stream",
     "text": [
      "Epoch 1/750:  80%|█████████████████████████▌      | 100/125 [00:18<00:04,  5.38it/s, Gen Loss=6.4634, Disc Loss=0.3364]"
     ]
    },
    {
     "name": "stdout",
     "output_type": "stream",
     "text": [
      "Real Loss: 0.3361, Fake Loss: 0.0007\n",
      "Fake Images Mean: -0.4456\n",
      "Real Loss: 0.3351, Fake Loss: 0.0012\n",
      "Fake Images Mean: -0.4410\n"
     ]
    },
    {
     "name": "stderr",
     "output_type": "stream",
     "text": [
      "Epoch 1/750:  81%|█████████████████████████▊      | 101/125 [00:19<00:04,  5.39it/s, Gen Loss=6.5087, Disc Loss=0.3271]"
     ]
    },
    {
     "name": "stdout",
     "output_type": "stream",
     "text": [
      "Real Loss: 0.3276, Fake Loss: 0.0008\n",
      "Fake Images Mean: -0.4348\n",
      "Real Loss: 0.3262, Fake Loss: 0.0008\n",
      "Fake Images Mean: -0.4250\n"
     ]
    },
    {
     "name": "stderr",
     "output_type": "stream",
     "text": [
      "Epoch 1/750:  82%|██████████████████████████▎     | 103/125 [00:19<00:04,  5.38it/s, Gen Loss=6.3565, Disc Loss=0.3300]"
     ]
    },
    {
     "name": "stdout",
     "output_type": "stream",
     "text": [
      "Real Loss: 0.3258, Fake Loss: 0.0008\n",
      "Fake Images Mean: -0.4352\n",
      "Real Loss: 0.3294, Fake Loss: 0.0007\n",
      "Fake Images Mean: -0.4506\n"
     ]
    },
    {
     "name": "stderr",
     "output_type": "stream",
     "text": [
      "Epoch 1/750:  84%|██████████████████████████▉     | 105/125 [00:20<00:03,  5.32it/s, Gen Loss=6.4865, Disc Loss=0.3288]"
     ]
    },
    {
     "name": "stdout",
     "output_type": "stream",
     "text": [
      "Real Loss: 0.3308, Fake Loss: 0.0009\n",
      "Fake Images Mean: -0.4267\n",
      "Real Loss: 0.3281, Fake Loss: 0.0006\n",
      "Fake Images Mean: -0.4327\n"
     ]
    },
    {
     "name": "stderr",
     "output_type": "stream",
     "text": [
      "Epoch 1/750:  86%|███████████████████████████▍    | 107/125 [00:20<00:03,  5.36it/s, Gen Loss=6.5004, Disc Loss=0.3294]"
     ]
    },
    {
     "name": "stdout",
     "output_type": "stream",
     "text": [
      "Real Loss: 0.3285, Fake Loss: 0.0008\n",
      "Fake Images Mean: -0.4315\n",
      "Real Loss: 0.3289, Fake Loss: 0.0006\n",
      "Fake Images Mean: -0.4248\n"
     ]
    },
    {
     "name": "stderr",
     "output_type": "stream",
     "text": [
      "Epoch 1/750:  87%|███████████████████████████▉    | 109/125 [00:20<00:03,  5.32it/s, Gen Loss=6.0436, Disc Loss=0.3420]"
     ]
    },
    {
     "name": "stdout",
     "output_type": "stream",
     "text": [
      "Real Loss: 0.3355, Fake Loss: 0.0008\n",
      "Fake Images Mean: -0.4422\n",
      "Real Loss: 0.3415, Fake Loss: 0.0005\n",
      "Fake Images Mean: -0.4006\n"
     ]
    },
    {
     "name": "stderr",
     "output_type": "stream",
     "text": [
      "Epoch 1/750:  89%|████████████████████████████▍   | 111/125 [00:21<00:02,  5.33it/s, Gen Loss=6.6073, Disc Loss=0.3282]"
     ]
    },
    {
     "name": "stdout",
     "output_type": "stream",
     "text": [
      "Real Loss: 0.3617, Fake Loss: 0.0015\n",
      "Fake Images Mean: -0.4080\n",
      "Real Loss: 0.3275, Fake Loss: 0.0007\n",
      "Fake Images Mean: -0.3991\n"
     ]
    },
    {
     "name": "stderr",
     "output_type": "stream",
     "text": [
      "Epoch 1/750:  90%|████████████████████████████▉   | 113/125 [00:21<00:02,  5.32it/s, Gen Loss=6.5627, Disc Loss=0.3333]"
     ]
    },
    {
     "name": "stdout",
     "output_type": "stream",
     "text": [
      "Real Loss: 0.3281, Fake Loss: 0.0008\n",
      "Fake Images Mean: -0.4224\n",
      "Real Loss: 0.3322, Fake Loss: 0.0011\n",
      "Fake Images Mean: -0.4282\n"
     ]
    },
    {
     "name": "stderr",
     "output_type": "stream",
     "text": [
      "Epoch 1/750:  92%|█████████████████████████████▍  | 115/125 [00:21<00:01,  5.35it/s, Gen Loss=6.5497, Disc Loss=0.3263]"
     ]
    },
    {
     "name": "stdout",
     "output_type": "stream",
     "text": [
      "Real Loss: 0.3270, Fake Loss: 0.0008\n",
      "Fake Images Mean: -0.4183\n",
      "Real Loss: 0.3255, Fake Loss: 0.0008\n",
      "Fake Images Mean: -0.3991\n"
     ]
    },
    {
     "name": "stderr",
     "output_type": "stream",
     "text": [
      "Epoch 1/750:  94%|█████████████████████████████▉  | 117/125 [00:22<00:01,  5.31it/s, Gen Loss=6.7506, Disc Loss=0.3271]"
     ]
    },
    {
     "name": "stdout",
     "output_type": "stream",
     "text": [
      "Real Loss: 0.3262, Fake Loss: 0.0008\n",
      "Fake Images Mean: -0.3983\n"
     ]
    },
    {
     "name": "stderr",
     "output_type": "stream",
     "text": [
      "Epoch 1/750:  94%|██████████████████████████████▏ | 118/125 [00:22<00:01,  5.26it/s, Gen Loss=6.7244, Disc Loss=0.3457]"
     ]
    },
    {
     "name": "stdout",
     "output_type": "stream",
     "text": [
      "Real Loss: 0.3332, Fake Loss: 0.0006\n",
      "Fake Images Mean: -0.3923\n",
      "Real Loss: 0.3446, Fake Loss: 0.0011\n",
      "Fake Images Mean: -0.4071\n"
     ]
    },
    {
     "name": "stderr",
     "output_type": "stream",
     "text": [
      "Epoch 1/750:  96%|██████████████████████████████▋ | 120/125 [00:22<00:00,  5.25it/s, Gen Loss=6.6911, Disc Loss=0.3263]"
     ]
    },
    {
     "name": "stdout",
     "output_type": "stream",
     "text": [
      "Real Loss: 0.3287, Fake Loss: 0.0006\n",
      "Fake Images Mean: -0.3949\n",
      "Real Loss: 0.3256, Fake Loss: 0.0007\n",
      "Fake Images Mean: -0.3933\n"
     ]
    },
    {
     "name": "stderr",
     "output_type": "stream",
     "text": [
      "Epoch 1/750:  98%|███████████████████████████████▏| 122/125 [00:23<00:00,  5.31it/s, Gen Loss=6.6551, Disc Loss=0.3266]"
     ]
    },
    {
     "name": "stdout",
     "output_type": "stream",
     "text": [
      "Real Loss: 0.3252, Fake Loss: 0.0006\n",
      "Fake Images Mean: -0.3971\n",
      "Real Loss: 0.3260, Fake Loss: 0.0006\n",
      "Fake Images Mean: -0.3902\n"
     ]
    },
    {
     "name": "stderr",
     "output_type": "stream",
     "text": [
      "Epoch 1/750: 100%|████████████████████████████████| 125/125 [00:23<00:00,  5.31it/s, Gen Loss=6.7565, Disc Loss=0.3310]\n"
     ]
    },
    {
     "name": "stdout",
     "output_type": "stream",
     "text": [
      "Real Loss: 0.3273, Fake Loss: 0.0007\n",
      "Fake Images Mean: -0.4043\n",
      "Real Loss: 0.3307, Fake Loss: 0.0003\n",
      "Fake Images Mean: -0.4189\n",
      "Epoch [1/750] | Gen Loss: 5.8385 | Disc Loss: 0.3593\n"
     ]
    },
    {
     "name": "stderr",
     "output_type": "stream",
     "text": [
      "Epoch 2/750: 100%|████████████████████████████████| 125/125 [00:23<00:00,  5.32it/s, Gen Loss=8.1022, Disc Loss=0.3285]\n"
     ]
    },
    {
     "name": "stdout",
     "output_type": "stream",
     "text": [
      "Epoch [2/750] | Gen Loss: 7.3843 | Disc Loss: 0.3278\n"
     ]
    },
    {
     "name": "stderr",
     "output_type": "stream",
     "text": [
      "Epoch 3/750: 100%|████████████████████████████████| 125/125 [00:23<00:00,  5.30it/s, Gen Loss=8.2502, Disc Loss=0.3286]\n"
     ]
    },
    {
     "name": "stdout",
     "output_type": "stream",
     "text": [
      "Epoch [3/750] | Gen Loss: 8.0321 | Disc Loss: 0.3269\n"
     ]
    },
    {
     "name": "stderr",
     "output_type": "stream",
     "text": [
      "Epoch 4/750: 100%|████████████████████████████████| 125/125 [00:23<00:00,  5.27it/s, Gen Loss=9.6271, Disc Loss=0.3259]\n"
     ]
    },
    {
     "name": "stdout",
     "output_type": "stream",
     "text": [
      "Epoch [4/750] | Gen Loss: 8.7029 | Disc Loss: 0.3264\n"
     ]
    },
    {
     "name": "stderr",
     "output_type": "stream",
     "text": [
      "Epoch 5/750: 100%|███████████████████████████████| 125/125 [00:23<00:00,  5.24it/s, Gen Loss=10.6335, Disc Loss=0.3252]\n"
     ]
    },
    {
     "name": "stdout",
     "output_type": "stream",
     "text": [
      "Epoch [5/750] | Gen Loss: 9.4459 | Disc Loss: 0.3261\n"
     ]
    },
    {
     "name": "stderr",
     "output_type": "stream",
     "text": [
      "Epoch 6/750: 100%|███████████████████████████████| 125/125 [00:23<00:00,  5.25it/s, Gen Loss=11.3208, Disc Loss=0.3255]\n"
     ]
    },
    {
     "name": "stdout",
     "output_type": "stream",
     "text": [
      "Epoch [6/750] | Gen Loss: 9.5262 | Disc Loss: 0.3259\n"
     ]
    },
    {
     "name": "stderr",
     "output_type": "stream",
     "text": [
      "Epoch 7/750: 100%|███████████████████████████████| 125/125 [00:23<00:00,  5.27it/s, Gen Loss=11.6705, Disc Loss=0.3265]\n"
     ]
    },
    {
     "name": "stdout",
     "output_type": "stream",
     "text": [
      "Epoch [7/750] | Gen Loss: 9.8464 | Disc Loss: 0.3256\n"
     ]
    },
    {
     "name": "stderr",
     "output_type": "stream",
     "text": [
      "Epoch 8/750: 100%|███████████████████████████████| 125/125 [00:23<00:00,  5.27it/s, Gen Loss=11.8443, Disc Loss=0.3251]\n"
     ]
    },
    {
     "name": "stdout",
     "output_type": "stream",
     "text": [
      "Epoch [8/750] | Gen Loss: 10.1403 | Disc Loss: 0.3256\n"
     ]
    },
    {
     "name": "stderr",
     "output_type": "stream",
     "text": [
      "Epoch 9/750: 100%|███████████████████████████████| 125/125 [00:23<00:00,  5.24it/s, Gen Loss=12.1522, Disc Loss=0.3252]\n"
     ]
    },
    {
     "name": "stdout",
     "output_type": "stream",
     "text": [
      "Epoch [9/750] | Gen Loss: 10.5017 | Disc Loss: 0.3255\n"
     ]
    },
    {
     "name": "stderr",
     "output_type": "stream",
     "text": [
      "Epoch 10/750: 100%|██████████████████████████████| 125/125 [00:23<00:00,  5.22it/s, Gen Loss=13.4439, Disc Loss=0.3251]\n"
     ]
    },
    {
     "name": "stdout",
     "output_type": "stream",
     "text": [
      "Epoch [10/750] | Gen Loss: 10.5900 | Disc Loss: 0.3254\n"
     ]
    },
    {
     "name": "stderr",
     "output_type": "stream",
     "text": [
      "Epoch 11/750: 100%|██████████████████████████████| 125/125 [00:23<00:00,  5.25it/s, Gen Loss=12.6392, Disc Loss=0.3259]\n"
     ]
    },
    {
     "name": "stdout",
     "output_type": "stream",
     "text": [
      "Epoch [11/750] | Gen Loss: 10.7059 | Disc Loss: 0.3253\n"
     ]
    },
    {
     "name": "stderr",
     "output_type": "stream",
     "text": [
      "Epoch 12/750: 100%|██████████████████████████████| 125/125 [00:23<00:00,  5.29it/s, Gen Loss=13.0363, Disc Loss=0.3251]\n"
     ]
    },
    {
     "name": "stdout",
     "output_type": "stream",
     "text": [
      "Epoch [12/750] | Gen Loss: 10.4419 | Disc Loss: 0.3255\n"
     ]
    },
    {
     "name": "stderr",
     "output_type": "stream",
     "text": [
      "Epoch 13/750: 100%|██████████████████████████████| 125/125 [00:23<00:00,  5.27it/s, Gen Loss=13.5885, Disc Loss=0.3252]\n"
     ]
    },
    {
     "name": "stdout",
     "output_type": "stream",
     "text": [
      "Epoch [13/750] | Gen Loss: 10.9944 | Disc Loss: 0.3253\n"
     ]
    },
    {
     "name": "stderr",
     "output_type": "stream",
     "text": [
      "Epoch 14/750: 100%|██████████████████████████████| 125/125 [00:23<00:00,  5.21it/s, Gen Loss=13.2852, Disc Loss=0.3251]\n"
     ]
    },
    {
     "name": "stdout",
     "output_type": "stream",
     "text": [
      "Epoch [14/750] | Gen Loss: 11.3142 | Disc Loss: 0.3254\n"
     ]
    },
    {
     "name": "stderr",
     "output_type": "stream",
     "text": [
      "Epoch 15/750: 100%|██████████████████████████████| 125/125 [00:23<00:00,  5.22it/s, Gen Loss=14.5403, Disc Loss=0.3251]\n"
     ]
    },
    {
     "name": "stdout",
     "output_type": "stream",
     "text": [
      "Epoch [15/750] | Gen Loss: 11.4938 | Disc Loss: 0.3253\n"
     ]
    },
    {
     "name": "stderr",
     "output_type": "stream",
     "text": [
      "Epoch 16/750: 100%|██████████████████████████████| 125/125 [00:23<00:00,  5.25it/s, Gen Loss=14.6134, Disc Loss=0.3251]\n"
     ]
    },
    {
     "name": "stdout",
     "output_type": "stream",
     "text": [
      "Epoch [16/750] | Gen Loss: 11.7100 | Disc Loss: 0.3253\n"
     ]
    },
    {
     "name": "stderr",
     "output_type": "stream",
     "text": [
      "Epoch 17/750: 100%|██████████████████████████████| 125/125 [00:24<00:00,  5.18it/s, Gen Loss=15.2239, Disc Loss=0.3251]\n"
     ]
    },
    {
     "name": "stdout",
     "output_type": "stream",
     "text": [
      "Epoch [17/750] | Gen Loss: 11.8352 | Disc Loss: 0.3253\n"
     ]
    },
    {
     "name": "stderr",
     "output_type": "stream",
     "text": [
      "Epoch 18/750: 100%|██████████████████████████████| 125/125 [00:24<00:00,  5.19it/s, Gen Loss=15.3918, Disc Loss=0.3251]\n"
     ]
    },
    {
     "name": "stdout",
     "output_type": "stream",
     "text": [
      "Epoch [18/750] | Gen Loss: 12.0291 | Disc Loss: 0.3252\n"
     ]
    },
    {
     "name": "stderr",
     "output_type": "stream",
     "text": [
      "Epoch 19/750: 100%|██████████████████████████████| 125/125 [00:23<00:00,  5.22it/s, Gen Loss=15.3353, Disc Loss=0.3251]\n"
     ]
    },
    {
     "name": "stdout",
     "output_type": "stream",
     "text": [
      "Epoch [19/750] | Gen Loss: 12.3170 | Disc Loss: 0.3252\n"
     ]
    },
    {
     "name": "stderr",
     "output_type": "stream",
     "text": [
      "Epoch 20/750: 100%|██████████████████████████████| 125/125 [00:23<00:00,  5.29it/s, Gen Loss=15.4470, Disc Loss=0.3253]\n"
     ]
    },
    {
     "name": "stdout",
     "output_type": "stream",
     "text": [
      "Epoch [20/750] | Gen Loss: 12.2490 | Disc Loss: 0.3253\n"
     ]
    },
    {
     "name": "stderr",
     "output_type": "stream",
     "text": [
      "Epoch 21/750: 100%|██████████████████████████████| 125/125 [00:23<00:00,  5.24it/s, Gen Loss=15.8898, Disc Loss=0.3251]\n"
     ]
    },
    {
     "name": "stdout",
     "output_type": "stream",
     "text": [
      "Epoch [21/750] | Gen Loss: 12.3235 | Disc Loss: 0.3252\n"
     ]
    },
    {
     "name": "stderr",
     "output_type": "stream",
     "text": [
      "Epoch 22/750: 100%|██████████████████████████████| 125/125 [00:23<00:00,  5.26it/s, Gen Loss=15.9918, Disc Loss=0.3251]\n"
     ]
    },
    {
     "name": "stdout",
     "output_type": "stream",
     "text": [
      "Epoch [22/750] | Gen Loss: 12.4860 | Disc Loss: 0.3253\n"
     ]
    },
    {
     "name": "stderr",
     "output_type": "stream",
     "text": [
      "Epoch 23/750: 100%|██████████████████████████████| 125/125 [00:23<00:00,  5.25it/s, Gen Loss=16.0015, Disc Loss=0.3252]\n"
     ]
    },
    {
     "name": "stdout",
     "output_type": "stream",
     "text": [
      "Epoch [23/750] | Gen Loss: 12.5432 | Disc Loss: 0.3252\n"
     ]
    },
    {
     "name": "stderr",
     "output_type": "stream",
     "text": [
      "Epoch 24/750: 100%|██████████████████████████████| 125/125 [00:23<00:00,  5.24it/s, Gen Loss=15.9918, Disc Loss=0.3251]\n"
     ]
    },
    {
     "name": "stdout",
     "output_type": "stream",
     "text": [
      "Epoch [24/750] | Gen Loss: 12.6033 | Disc Loss: 0.3252\n"
     ]
    },
    {
     "name": "stderr",
     "output_type": "stream",
     "text": [
      "Epoch 25/750: 100%|██████████████████████████████| 125/125 [00:23<00:00,  5.21it/s, Gen Loss=15.8541, Disc Loss=0.3253]\n"
     ]
    },
    {
     "name": "stdout",
     "output_type": "stream",
     "text": [
      "Epoch [25/750] | Gen Loss: 12.7469 | Disc Loss: 0.3252\n"
     ]
    },
    {
     "name": "stderr",
     "output_type": "stream",
     "text": [
      "Epoch 26/750: 100%|██████████████████████████████| 125/125 [00:23<00:00,  5.24it/s, Gen Loss=16.5562, Disc Loss=0.3251]\n"
     ]
    },
    {
     "name": "stdout",
     "output_type": "stream",
     "text": [
      "Epoch [26/750] | Gen Loss: 12.5454 | Disc Loss: 0.3253\n"
     ]
    },
    {
     "name": "stderr",
     "output_type": "stream",
     "text": [
      "Epoch 27/750: 100%|██████████████████████████████| 125/125 [00:23<00:00,  5.26it/s, Gen Loss=16.3962, Disc Loss=0.3257]\n"
     ]
    },
    {
     "name": "stdout",
     "output_type": "stream",
     "text": [
      "Epoch [27/750] | Gen Loss: 12.8474 | Disc Loss: 0.3252\n"
     ]
    },
    {
     "name": "stderr",
     "output_type": "stream",
     "text": [
      "Epoch 28/750: 100%|██████████████████████████████| 125/125 [00:23<00:00,  5.29it/s, Gen Loss=16.2131, Disc Loss=0.3251]\n"
     ]
    },
    {
     "name": "stdout",
     "output_type": "stream",
     "text": [
      "Epoch [28/750] | Gen Loss: 12.7707 | Disc Loss: 0.3253\n"
     ]
    },
    {
     "name": "stderr",
     "output_type": "stream",
     "text": [
      "Epoch 29/750: 100%|██████████████████████████████| 125/125 [00:23<00:00,  5.27it/s, Gen Loss=16.8883, Disc Loss=0.3251]\n"
     ]
    },
    {
     "name": "stdout",
     "output_type": "stream",
     "text": [
      "Epoch [29/750] | Gen Loss: 12.9241 | Disc Loss: 0.3252\n"
     ]
    },
    {
     "name": "stderr",
     "output_type": "stream",
     "text": [
      "Epoch 30/750: 100%|██████████████████████████████| 125/125 [00:23<00:00,  5.23it/s, Gen Loss=16.4495, Disc Loss=0.3251]\n"
     ]
    },
    {
     "name": "stdout",
     "output_type": "stream",
     "text": [
      "Epoch [30/750] | Gen Loss: 13.0124 | Disc Loss: 0.3252\n"
     ]
    },
    {
     "name": "stderr",
     "output_type": "stream",
     "text": [
      "Epoch 31/750: 100%|██████████████████████████████| 125/125 [00:23<00:00,  5.25it/s, Gen Loss=15.9871, Disc Loss=0.3255]\n"
     ]
    },
    {
     "name": "stdout",
     "output_type": "stream",
     "text": [
      "Epoch [31/750] | Gen Loss: 13.0615 | Disc Loss: 0.3252\n"
     ]
    },
    {
     "name": "stderr",
     "output_type": "stream",
     "text": [
      "Epoch 32/750: 100%|██████████████████████████████| 125/125 [00:23<00:00,  5.27it/s, Gen Loss=16.1036, Disc Loss=0.3253]\n"
     ]
    },
    {
     "name": "stdout",
     "output_type": "stream",
     "text": [
      "Epoch [32/750] | Gen Loss: 12.9753 | Disc Loss: 0.3252\n"
     ]
    },
    {
     "name": "stderr",
     "output_type": "stream",
     "text": [
      "Epoch 33/750: 100%|██████████████████████████████| 125/125 [00:23<00:00,  5.27it/s, Gen Loss=16.9819, Disc Loss=0.3251]\n"
     ]
    },
    {
     "name": "stdout",
     "output_type": "stream",
     "text": [
      "Epoch [33/750] | Gen Loss: 13.0811 | Disc Loss: 0.3252\n"
     ]
    },
    {
     "name": "stderr",
     "output_type": "stream",
     "text": [
      "Epoch 34/750: 100%|██████████████████████████████| 125/125 [00:23<00:00,  5.23it/s, Gen Loss=15.8017, Disc Loss=0.3251]\n"
     ]
    },
    {
     "name": "stdout",
     "output_type": "stream",
     "text": [
      "Epoch [34/750] | Gen Loss: 13.2040 | Disc Loss: 0.3252\n"
     ]
    },
    {
     "name": "stderr",
     "output_type": "stream",
     "text": [
      "Epoch 35/750: 100%|██████████████████████████████| 125/125 [00:23<00:00,  5.24it/s, Gen Loss=16.3370, Disc Loss=0.3252]\n"
     ]
    },
    {
     "name": "stdout",
     "output_type": "stream",
     "text": [
      "Epoch [35/750] | Gen Loss: 13.2928 | Disc Loss: 0.3252\n"
     ]
    },
    {
     "name": "stderr",
     "output_type": "stream",
     "text": [
      "Epoch 36/750: 100%|██████████████████████████████| 125/125 [00:23<00:00,  5.23it/s, Gen Loss=16.4682, Disc Loss=0.3251]\n"
     ]
    },
    {
     "name": "stdout",
     "output_type": "stream",
     "text": [
      "Epoch [36/750] | Gen Loss: 13.4848 | Disc Loss: 0.3252\n"
     ]
    },
    {
     "name": "stderr",
     "output_type": "stream",
     "text": [
      "Epoch 37/750: 100%|██████████████████████████████| 125/125 [00:23<00:00,  5.25it/s, Gen Loss=16.5432, Disc Loss=0.3252]\n"
     ]
    },
    {
     "name": "stdout",
     "output_type": "stream",
     "text": [
      "Epoch [37/750] | Gen Loss: 13.4603 | Disc Loss: 0.3252\n"
     ]
    },
    {
     "name": "stderr",
     "output_type": "stream",
     "text": [
      "Epoch 38/750: 100%|██████████████████████████████| 125/125 [00:23<00:00,  5.28it/s, Gen Loss=16.2495, Disc Loss=0.3253]\n"
     ]
    },
    {
     "name": "stdout",
     "output_type": "stream",
     "text": [
      "Epoch [38/750] | Gen Loss: 13.4769 | Disc Loss: 0.3252\n"
     ]
    },
    {
     "name": "stderr",
     "output_type": "stream",
     "text": [
      "Epoch 39/750: 100%|██████████████████████████████| 125/125 [00:23<00:00,  5.25it/s, Gen Loss=16.6651, Disc Loss=0.3251]\n"
     ]
    },
    {
     "name": "stdout",
     "output_type": "stream",
     "text": [
      "Epoch [39/750] | Gen Loss: 13.4963 | Disc Loss: 0.3252\n"
     ]
    },
    {
     "name": "stderr",
     "output_type": "stream",
     "text": [
      "Epoch 40/750: 100%|██████████████████████████████| 125/125 [00:23<00:00,  5.23it/s, Gen Loss=16.4828, Disc Loss=0.3251]\n"
     ]
    },
    {
     "name": "stdout",
     "output_type": "stream",
     "text": [
      "Epoch [40/750] | Gen Loss: 13.6297 | Disc Loss: 0.3252\n"
     ]
    },
    {
     "name": "stderr",
     "output_type": "stream",
     "text": [
      "Epoch 41/750: 100%|██████████████████████████████| 125/125 [00:23<00:00,  5.24it/s, Gen Loss=16.6869, Disc Loss=0.3252]\n"
     ]
    },
    {
     "name": "stdout",
     "output_type": "stream",
     "text": [
      "Epoch [41/750] | Gen Loss: 13.6609 | Disc Loss: 0.3251\n"
     ]
    },
    {
     "name": "stderr",
     "output_type": "stream",
     "text": [
      "Epoch 42/750: 100%|██████████████████████████████| 125/125 [00:23<00:00,  5.26it/s, Gen Loss=16.8120, Disc Loss=0.3252]\n"
     ]
    },
    {
     "name": "stdout",
     "output_type": "stream",
     "text": [
      "Epoch [42/750] | Gen Loss: 13.2913 | Disc Loss: 0.3252\n"
     ]
    },
    {
     "name": "stderr",
     "output_type": "stream",
     "text": [
      "Epoch 43/750: 100%|██████████████████████████████| 125/125 [00:23<00:00,  5.28it/s, Gen Loss=17.4211, Disc Loss=0.3252]\n"
     ]
    },
    {
     "name": "stdout",
     "output_type": "stream",
     "text": [
      "Epoch [43/750] | Gen Loss: 13.6852 | Disc Loss: 0.3251\n"
     ]
    },
    {
     "name": "stderr",
     "output_type": "stream",
     "text": [
      "Epoch 44/750: 100%|██████████████████████████████| 125/125 [00:23<00:00,  5.25it/s, Gen Loss=16.6607, Disc Loss=0.3251]\n"
     ]
    },
    {
     "name": "stdout",
     "output_type": "stream",
     "text": [
      "Epoch [44/750] | Gen Loss: 13.6478 | Disc Loss: 0.3252\n"
     ]
    },
    {
     "name": "stderr",
     "output_type": "stream",
     "text": [
      "Epoch 45/750: 100%|██████████████████████████████| 125/125 [00:23<00:00,  5.25it/s, Gen Loss=16.6188, Disc Loss=0.3252]\n"
     ]
    },
    {
     "name": "stdout",
     "output_type": "stream",
     "text": [
      "Epoch [45/750] | Gen Loss: 13.6584 | Disc Loss: 0.3252\n"
     ]
    },
    {
     "name": "stderr",
     "output_type": "stream",
     "text": [
      "Epoch 46/750: 100%|██████████████████████████████| 125/125 [00:23<00:00,  5.25it/s, Gen Loss=16.5560, Disc Loss=0.3251]\n"
     ]
    },
    {
     "name": "stdout",
     "output_type": "stream",
     "text": [
      "Epoch [46/750] | Gen Loss: 13.6793 | Disc Loss: 0.3252\n"
     ]
    },
    {
     "name": "stderr",
     "output_type": "stream",
     "text": [
      "Epoch 47/750: 100%|██████████████████████████████| 125/125 [00:23<00:00,  5.27it/s, Gen Loss=17.8846, Disc Loss=0.3251]\n"
     ]
    },
    {
     "name": "stdout",
     "output_type": "stream",
     "text": [
      "Epoch [47/750] | Gen Loss: 13.9901 | Disc Loss: 0.3252\n"
     ]
    },
    {
     "name": "stderr",
     "output_type": "stream",
     "text": [
      "Epoch 48/750: 100%|██████████████████████████████| 125/125 [00:23<00:00,  5.26it/s, Gen Loss=16.7991, Disc Loss=0.3251]\n"
     ]
    },
    {
     "name": "stdout",
     "output_type": "stream",
     "text": [
      "Epoch [48/750] | Gen Loss: 14.0419 | Disc Loss: 0.3252\n"
     ]
    },
    {
     "name": "stderr",
     "output_type": "stream",
     "text": [
      "Epoch 49/750: 100%|██████████████████████████████| 125/125 [00:23<00:00,  5.23it/s, Gen Loss=17.6398, Disc Loss=0.3252]\n"
     ]
    },
    {
     "name": "stdout",
     "output_type": "stream",
     "text": [
      "Epoch [49/750] | Gen Loss: 14.2121 | Disc Loss: 0.3252\n"
     ]
    },
    {
     "name": "stderr",
     "output_type": "stream",
     "text": [
      "Epoch 50/750: 100%|██████████████████████████████| 125/125 [00:23<00:00,  5.24it/s, Gen Loss=17.0201, Disc Loss=0.3252]\n"
     ]
    },
    {
     "name": "stdout",
     "output_type": "stream",
     "text": [
      "Epoch [50/750] | Gen Loss: 14.0837 | Disc Loss: 0.3252\n"
     ]
    },
    {
     "name": "stderr",
     "output_type": "stream",
     "text": [
      "Epoch 51/750: 100%|██████████████████████████████| 125/125 [00:23<00:00,  5.23it/s, Gen Loss=16.7234, Disc Loss=0.3251]\n"
     ]
    },
    {
     "name": "stdout",
     "output_type": "stream",
     "text": [
      "Epoch [51/750] | Gen Loss: 14.1097 | Disc Loss: 0.3252\n"
     ]
    },
    {
     "name": "stderr",
     "output_type": "stream",
     "text": [
      "Epoch 52/750: 100%|██████████████████████████████| 125/125 [00:23<00:00,  5.24it/s, Gen Loss=16.4624, Disc Loss=0.3251]\n"
     ]
    },
    {
     "name": "stdout",
     "output_type": "stream",
     "text": [
      "Epoch [52/750] | Gen Loss: 14.0175 | Disc Loss: 0.3252\n"
     ]
    },
    {
     "name": "stderr",
     "output_type": "stream",
     "text": [
      "Epoch 53/750: 100%|██████████████████████████████| 125/125 [00:23<00:00,  5.26it/s, Gen Loss=17.6769, Disc Loss=0.3251]\n"
     ]
    },
    {
     "name": "stdout",
     "output_type": "stream",
     "text": [
      "Epoch [53/750] | Gen Loss: 14.5117 | Disc Loss: 0.3251\n"
     ]
    },
    {
     "name": "stderr",
     "output_type": "stream",
     "text": [
      "Epoch 54/750: 100%|██████████████████████████████| 125/125 [00:23<00:00,  5.23it/s, Gen Loss=16.1582, Disc Loss=0.3251]\n"
     ]
    },
    {
     "name": "stdout",
     "output_type": "stream",
     "text": [
      "Epoch [54/750] | Gen Loss: 14.5612 | Disc Loss: 0.3252\n"
     ]
    },
    {
     "name": "stderr",
     "output_type": "stream",
     "text": [
      "Epoch 55/750: 100%|██████████████████████████████| 125/125 [00:23<00:00,  5.23it/s, Gen Loss=16.8773, Disc Loss=0.3252]\n"
     ]
    },
    {
     "name": "stdout",
     "output_type": "stream",
     "text": [
      "Epoch [55/750] | Gen Loss: 14.3369 | Disc Loss: 0.3252\n"
     ]
    },
    {
     "name": "stderr",
     "output_type": "stream",
     "text": [
      "Epoch 56/750: 100%|██████████████████████████████| 125/125 [00:23<00:00,  5.25it/s, Gen Loss=16.5685, Disc Loss=0.3251]\n"
     ]
    },
    {
     "name": "stdout",
     "output_type": "stream",
     "text": [
      "Epoch [56/750] | Gen Loss: 14.1217 | Disc Loss: 0.3252\n"
     ]
    },
    {
     "name": "stderr",
     "output_type": "stream",
     "text": [
      "Epoch 57/750: 100%|██████████████████████████████| 125/125 [00:23<00:00,  5.28it/s, Gen Loss=16.7925, Disc Loss=0.3251]\n"
     ]
    },
    {
     "name": "stdout",
     "output_type": "stream",
     "text": [
      "Epoch [57/750] | Gen Loss: 14.4893 | Disc Loss: 0.3251\n"
     ]
    },
    {
     "name": "stderr",
     "output_type": "stream",
     "text": [
      "Epoch 58/750: 100%|██████████████████████████████| 125/125 [00:23<00:00,  5.29it/s, Gen Loss=17.2740, Disc Loss=0.3252]\n"
     ]
    },
    {
     "name": "stdout",
     "output_type": "stream",
     "text": [
      "Epoch [58/750] | Gen Loss: 14.3351 | Disc Loss: 0.3251\n"
     ]
    },
    {
     "name": "stderr",
     "output_type": "stream",
     "text": [
      "Epoch 59/750: 100%|███████████████████████████████| 125/125 [00:23<00:00,  5.25it/s, Gen Loss=7.4779, Disc Loss=0.3364]\n"
     ]
    },
    {
     "name": "stdout",
     "output_type": "stream",
     "text": [
      "Epoch [59/750] | Gen Loss: 6.2256 | Disc Loss: 1.0440\n"
     ]
    },
    {
     "name": "stderr",
     "output_type": "stream",
     "text": [
      "Epoch 60/750: 100%|███████████████████████████████| 125/125 [00:23<00:00,  5.25it/s, Gen Loss=7.4887, Disc Loss=0.3442]\n"
     ]
    },
    {
     "name": "stdout",
     "output_type": "stream",
     "text": [
      "Epoch [60/750] | Gen Loss: 5.8903 | Disc Loss: 0.3308\n"
     ]
    },
    {
     "name": "stderr",
     "output_type": "stream",
     "text": [
      "Epoch 61/750: 100%|███████████████████████████████| 125/125 [00:23<00:00,  5.26it/s, Gen Loss=8.3340, Disc Loss=0.3253]\n"
     ]
    },
    {
     "name": "stdout",
     "output_type": "stream",
     "text": [
      "Epoch [61/750] | Gen Loss: 6.3639 | Disc Loss: 0.3284\n"
     ]
    },
    {
     "name": "stderr",
     "output_type": "stream",
     "text": [
      "Epoch 62/750: 100%|███████████████████████████████| 125/125 [00:23<00:00,  5.28it/s, Gen Loss=8.1177, Disc Loss=0.3257]\n"
     ]
    },
    {
     "name": "stdout",
     "output_type": "stream",
     "text": [
      "Epoch [62/750] | Gen Loss: 6.9633 | Disc Loss: 0.3271\n"
     ]
    },
    {
     "name": "stderr",
     "output_type": "stream",
     "text": [
      "Epoch 63/750: 100%|███████████████████████████████| 125/125 [00:23<00:00,  5.28it/s, Gen Loss=8.4555, Disc Loss=0.3262]\n"
     ]
    },
    {
     "name": "stdout",
     "output_type": "stream",
     "text": [
      "Epoch [63/750] | Gen Loss: 7.1966 | Disc Loss: 0.3266\n"
     ]
    },
    {
     "name": "stderr",
     "output_type": "stream",
     "text": [
      "Epoch 64/750: 100%|███████████████████████████████| 125/125 [00:23<00:00,  5.22it/s, Gen Loss=9.9502, Disc Loss=0.3316]\n"
     ]
    },
    {
     "name": "stdout",
     "output_type": "stream",
     "text": [
      "Epoch [64/750] | Gen Loss: 7.1805 | Disc Loss: 0.3263\n"
     ]
    },
    {
     "name": "stderr",
     "output_type": "stream",
     "text": [
      "Epoch 65/750: 100%|███████████████████████████████| 125/125 [00:23<00:00,  5.25it/s, Gen Loss=8.8742, Disc Loss=0.3288]\n"
     ]
    },
    {
     "name": "stdout",
     "output_type": "stream",
     "text": [
      "Epoch [65/750] | Gen Loss: 7.6920 | Disc Loss: 0.3263\n"
     ]
    },
    {
     "name": "stderr",
     "output_type": "stream",
     "text": [
      "Epoch 66/750: 100%|███████████████████████████████| 125/125 [00:23<00:00,  5.23it/s, Gen Loss=9.1210, Disc Loss=0.3254]\n"
     ]
    },
    {
     "name": "stdout",
     "output_type": "stream",
     "text": [
      "Epoch [66/750] | Gen Loss: 7.8052 | Disc Loss: 0.3261\n"
     ]
    },
    {
     "name": "stderr",
     "output_type": "stream",
     "text": [
      "Epoch 67/750: 100%|███████████████████████████████| 125/125 [00:23<00:00,  5.26it/s, Gen Loss=9.7101, Disc Loss=0.3262]\n"
     ]
    },
    {
     "name": "stdout",
     "output_type": "stream",
     "text": [
      "Epoch [67/750] | Gen Loss: 7.8472 | Disc Loss: 0.3260\n"
     ]
    },
    {
     "name": "stderr",
     "output_type": "stream",
     "text": [
      "Epoch 68/750: 100%|███████████████████████████████| 125/125 [00:23<00:00,  5.24it/s, Gen Loss=9.3616, Disc Loss=0.3282]\n"
     ]
    },
    {
     "name": "stdout",
     "output_type": "stream",
     "text": [
      "Epoch [68/750] | Gen Loss: 7.9003 | Disc Loss: 0.3260\n"
     ]
    },
    {
     "name": "stderr",
     "output_type": "stream",
     "text": [
      "Epoch 69/750: 100%|███████████████████████████████| 125/125 [00:23<00:00,  5.25it/s, Gen Loss=9.7410, Disc Loss=0.3251]\n"
     ]
    },
    {
     "name": "stdout",
     "output_type": "stream",
     "text": [
      "Epoch [69/750] | Gen Loss: 7.9587 | Disc Loss: 0.3259\n"
     ]
    },
    {
     "name": "stderr",
     "output_type": "stream",
     "text": [
      "Epoch 70/750: 100%|███████████████████████████████| 125/125 [00:23<00:00,  5.23it/s, Gen Loss=9.6565, Disc Loss=0.3253]\n"
     ]
    },
    {
     "name": "stdout",
     "output_type": "stream",
     "text": [
      "Epoch [70/750] | Gen Loss: 8.1374 | Disc Loss: 0.3258\n"
     ]
    },
    {
     "name": "stderr",
     "output_type": "stream",
     "text": [
      "Epoch 71/750: 100%|██████████████████████████████| 125/125 [00:23<00:00,  5.25it/s, Gen Loss=10.1157, Disc Loss=0.3266]\n"
     ]
    },
    {
     "name": "stdout",
     "output_type": "stream",
     "text": [
      "Epoch [71/750] | Gen Loss: 8.5515 | Disc Loss: 0.3257\n"
     ]
    },
    {
     "name": "stderr",
     "output_type": "stream",
     "text": [
      "Epoch 72/750: 100%|██████████████████████████████| 125/125 [00:23<00:00,  5.26it/s, Gen Loss=10.1577, Disc Loss=0.3267]\n"
     ]
    },
    {
     "name": "stdout",
     "output_type": "stream",
     "text": [
      "Epoch [72/750] | Gen Loss: 8.4718 | Disc Loss: 0.3258\n"
     ]
    },
    {
     "name": "stderr",
     "output_type": "stream",
     "text": [
      "Epoch 73/750: 100%|██████████████████████████████| 125/125 [00:23<00:00,  5.27it/s, Gen Loss=10.9712, Disc Loss=0.3251]\n"
     ]
    },
    {
     "name": "stdout",
     "output_type": "stream",
     "text": [
      "Epoch [73/750] | Gen Loss: 8.6236 | Disc Loss: 0.3258\n"
     ]
    },
    {
     "name": "stderr",
     "output_type": "stream",
     "text": [
      "Epoch 74/750: 100%|██████████████████████████████| 125/125 [00:23<00:00,  5.25it/s, Gen Loss=10.4128, Disc Loss=0.3252]\n"
     ]
    },
    {
     "name": "stdout",
     "output_type": "stream",
     "text": [
      "Epoch [74/750] | Gen Loss: 8.7805 | Disc Loss: 0.3256\n"
     ]
    },
    {
     "name": "stderr",
     "output_type": "stream",
     "text": [
      "Epoch 75/750: 100%|██████████████████████████████| 125/125 [00:23<00:00,  5.24it/s, Gen Loss=11.5645, Disc Loss=0.3258]\n"
     ]
    },
    {
     "name": "stdout",
     "output_type": "stream",
     "text": [
      "Epoch [75/750] | Gen Loss: 8.8258 | Disc Loss: 0.3256\n"
     ]
    },
    {
     "name": "stderr",
     "output_type": "stream",
     "text": [
      "Epoch 76/750: 100%|███████████████████████████████| 125/125 [00:23<00:00,  5.25it/s, Gen Loss=9.5033, Disc Loss=0.3255]\n"
     ]
    },
    {
     "name": "stdout",
     "output_type": "stream",
     "text": [
      "Epoch [76/750] | Gen Loss: 7.9897 | Disc Loss: 0.3292\n"
     ]
    },
    {
     "name": "stderr",
     "output_type": "stream",
     "text": [
      "Epoch 77/750: 100%|██████████████████████████████| 125/125 [00:23<00:00,  5.28it/s, Gen Loss=10.1507, Disc Loss=0.3251]\n"
     ]
    },
    {
     "name": "stdout",
     "output_type": "stream",
     "text": [
      "Epoch [77/750] | Gen Loss: 8.2878 | Disc Loss: 0.3256\n"
     ]
    },
    {
     "name": "stderr",
     "output_type": "stream",
     "text": [
      "Epoch 78/750: 100%|██████████████████████████████| 125/125 [00:23<00:00,  5.26it/s, Gen Loss=10.7347, Disc Loss=0.3252]\n"
     ]
    },
    {
     "name": "stdout",
     "output_type": "stream",
     "text": [
      "Epoch [78/750] | Gen Loss: 8.8356 | Disc Loss: 0.3254\n"
     ]
    },
    {
     "name": "stderr",
     "output_type": "stream",
     "text": [
      "Epoch 79/750: 100%|██████████████████████████████| 125/125 [00:23<00:00,  5.25it/s, Gen Loss=10.1210, Disc Loss=0.3252]\n"
     ]
    },
    {
     "name": "stdout",
     "output_type": "stream",
     "text": [
      "Epoch [79/750] | Gen Loss: 9.1402 | Disc Loss: 0.3254\n"
     ]
    },
    {
     "name": "stderr",
     "output_type": "stream",
     "text": [
      "Epoch 80/750: 100%|██████████████████████████████| 125/125 [00:23<00:00,  5.23it/s, Gen Loss=11.2628, Disc Loss=0.3267]\n"
     ]
    },
    {
     "name": "stdout",
     "output_type": "stream",
     "text": [
      "Epoch [80/750] | Gen Loss: 9.0916 | Disc Loss: 0.3254\n"
     ]
    },
    {
     "name": "stderr",
     "output_type": "stream",
     "text": [
      "Epoch 81/750: 100%|██████████████████████████████| 125/125 [00:23<00:00,  5.24it/s, Gen Loss=12.0213, Disc Loss=0.3258]\n"
     ]
    },
    {
     "name": "stdout",
     "output_type": "stream",
     "text": [
      "Epoch [81/750] | Gen Loss: 9.0586 | Disc Loss: 0.3255\n"
     ]
    },
    {
     "name": "stderr",
     "output_type": "stream",
     "text": [
      "Epoch 82/750: 100%|██████████████████████████████| 125/125 [00:23<00:00,  5.27it/s, Gen Loss=11.8669, Disc Loss=0.3270]\n"
     ]
    },
    {
     "name": "stdout",
     "output_type": "stream",
     "text": [
      "Epoch [82/750] | Gen Loss: 8.9202 | Disc Loss: 0.3256\n"
     ]
    },
    {
     "name": "stderr",
     "output_type": "stream",
     "text": [
      "Epoch 83/750: 100%|██████████████████████████████| 125/125 [00:23<00:00,  5.25it/s, Gen Loss=11.1000, Disc Loss=0.3251]\n"
     ]
    },
    {
     "name": "stdout",
     "output_type": "stream",
     "text": [
      "Epoch [83/750] | Gen Loss: 8.9774 | Disc Loss: 0.3257\n"
     ]
    },
    {
     "name": "stderr",
     "output_type": "stream",
     "text": [
      "Epoch 84/750: 100%|██████████████████████████████| 125/125 [00:23<00:00,  5.25it/s, Gen Loss=12.2266, Disc Loss=0.3267]\n"
     ]
    },
    {
     "name": "stdout",
     "output_type": "stream",
     "text": [
      "Epoch [84/750] | Gen Loss: 9.0975 | Disc Loss: 0.3257\n"
     ]
    },
    {
     "name": "stderr",
     "output_type": "stream",
     "text": [
      "Epoch 85/750: 100%|██████████████████████████████| 125/125 [00:23<00:00,  5.25it/s, Gen Loss=10.8176, Disc Loss=0.3251]\n"
     ]
    },
    {
     "name": "stdout",
     "output_type": "stream",
     "text": [
      "Epoch [85/750] | Gen Loss: 9.2848 | Disc Loss: 0.3257\n"
     ]
    },
    {
     "name": "stderr",
     "output_type": "stream",
     "text": [
      "Epoch 86/750: 100%|██████████████████████████████| 125/125 [00:23<00:00,  5.25it/s, Gen Loss=11.3103, Disc Loss=0.3251]\n"
     ]
    },
    {
     "name": "stdout",
     "output_type": "stream",
     "text": [
      "Epoch [86/750] | Gen Loss: 9.3531 | Disc Loss: 0.3254\n"
     ]
    },
    {
     "name": "stderr",
     "output_type": "stream",
     "text": [
      "Epoch 87/750: 100%|██████████████████████████████| 125/125 [00:23<00:00,  5.24it/s, Gen Loss=11.3049, Disc Loss=0.3254]\n"
     ]
    },
    {
     "name": "stdout",
     "output_type": "stream",
     "text": [
      "Epoch [87/750] | Gen Loss: 9.3758 | Disc Loss: 0.3256\n"
     ]
    },
    {
     "name": "stderr",
     "output_type": "stream",
     "text": [
      "Epoch 88/750: 100%|██████████████████████████████| 125/125 [00:23<00:00,  5.29it/s, Gen Loss=11.0952, Disc Loss=0.3255]\n"
     ]
    },
    {
     "name": "stdout",
     "output_type": "stream",
     "text": [
      "Epoch [88/750] | Gen Loss: 9.4776 | Disc Loss: 0.3255\n"
     ]
    },
    {
     "name": "stderr",
     "output_type": "stream",
     "text": [
      "Epoch 89/750: 100%|██████████████████████████████| 125/125 [00:23<00:00,  5.28it/s, Gen Loss=10.4297, Disc Loss=0.3255]\n"
     ]
    },
    {
     "name": "stdout",
     "output_type": "stream",
     "text": [
      "Epoch [89/750] | Gen Loss: 9.4703 | Disc Loss: 0.3256\n"
     ]
    },
    {
     "name": "stderr",
     "output_type": "stream",
     "text": [
      "Epoch 90/750: 100%|██████████████████████████████| 125/125 [00:23<00:00,  5.25it/s, Gen Loss=11.3858, Disc Loss=0.3251]\n"
     ]
    },
    {
     "name": "stdout",
     "output_type": "stream",
     "text": [
      "Epoch [90/750] | Gen Loss: 9.2023 | Disc Loss: 0.3260\n"
     ]
    },
    {
     "name": "stderr",
     "output_type": "stream",
     "text": [
      "Epoch 91/750: 100%|██████████████████████████████| 125/125 [00:23<00:00,  5.24it/s, Gen Loss=11.6989, Disc Loss=0.3251]\n"
     ]
    },
    {
     "name": "stdout",
     "output_type": "stream",
     "text": [
      "Epoch [91/750] | Gen Loss: 9.4898 | Disc Loss: 0.3254\n"
     ]
    },
    {
     "name": "stderr",
     "output_type": "stream",
     "text": [
      "Epoch 92/750: 100%|██████████████████████████████| 125/125 [00:23<00:00,  5.28it/s, Gen Loss=11.4235, Disc Loss=0.3259]\n"
     ]
    },
    {
     "name": "stdout",
     "output_type": "stream",
     "text": [
      "Epoch [92/750] | Gen Loss: 9.5727 | Disc Loss: 0.3254\n"
     ]
    },
    {
     "name": "stderr",
     "output_type": "stream",
     "text": [
      "Epoch 93/750: 100%|██████████████████████████████| 125/125 [00:23<00:00,  5.27it/s, Gen Loss=10.5883, Disc Loss=0.3275]\n"
     ]
    },
    {
     "name": "stdout",
     "output_type": "stream",
     "text": [
      "Epoch [93/750] | Gen Loss: 9.6019 | Disc Loss: 0.3255\n"
     ]
    },
    {
     "name": "stderr",
     "output_type": "stream",
     "text": [
      "Epoch 94/750: 100%|██████████████████████████████| 125/125 [00:23<00:00,  5.25it/s, Gen Loss=11.6642, Disc Loss=0.3251]\n"
     ]
    },
    {
     "name": "stdout",
     "output_type": "stream",
     "text": [
      "Epoch [94/750] | Gen Loss: 9.2902 | Disc Loss: 0.3258\n"
     ]
    },
    {
     "name": "stderr",
     "output_type": "stream",
     "text": [
      "Epoch 95/750: 100%|██████████████████████████████| 125/125 [00:23<00:00,  5.22it/s, Gen Loss=11.7744, Disc Loss=0.3255]\n"
     ]
    },
    {
     "name": "stdout",
     "output_type": "stream",
     "text": [
      "Epoch [95/750] | Gen Loss: 9.3114 | Disc Loss: 0.3254\n"
     ]
    },
    {
     "name": "stderr",
     "output_type": "stream",
     "text": [
      "Epoch 96/750: 100%|██████████████████████████████| 125/125 [00:23<00:00,  5.24it/s, Gen Loss=11.5558, Disc Loss=0.3252]\n"
     ]
    },
    {
     "name": "stdout",
     "output_type": "stream",
     "text": [
      "Epoch [96/750] | Gen Loss: 9.6664 | Disc Loss: 0.3254\n"
     ]
    },
    {
     "name": "stderr",
     "output_type": "stream",
     "text": [
      "Epoch 97/750: 100%|██████████████████████████████| 125/125 [00:23<00:00,  5.23it/s, Gen Loss=12.0465, Disc Loss=0.3258]\n"
     ]
    },
    {
     "name": "stdout",
     "output_type": "stream",
     "text": [
      "Epoch [97/750] | Gen Loss: 9.7684 | Disc Loss: 0.3254\n"
     ]
    },
    {
     "name": "stderr",
     "output_type": "stream",
     "text": [
      "Epoch 98/750: 100%|██████████████████████████████| 125/125 [00:23<00:00,  5.26it/s, Gen Loss=12.1827, Disc Loss=0.3251]\n"
     ]
    },
    {
     "name": "stdout",
     "output_type": "stream",
     "text": [
      "Epoch [98/750] | Gen Loss: 10.1034 | Disc Loss: 0.3254\n"
     ]
    },
    {
     "name": "stderr",
     "output_type": "stream",
     "text": [
      "Epoch 99/750: 100%|██████████████████████████████| 125/125 [00:23<00:00,  5.25it/s, Gen Loss=11.5458, Disc Loss=0.3264]\n"
     ]
    },
    {
     "name": "stdout",
     "output_type": "stream",
     "text": [
      "Epoch [99/750] | Gen Loss: 10.0377 | Disc Loss: 0.3253\n"
     ]
    },
    {
     "name": "stderr",
     "output_type": "stream",
     "text": [
      "Epoch 100/750: 100%|█████████████████████████████| 125/125 [00:23<00:00,  5.24it/s, Gen Loss=12.2128, Disc Loss=0.3253]\n"
     ]
    },
    {
     "name": "stdout",
     "output_type": "stream",
     "text": [
      "Epoch [100/750] | Gen Loss: 9.8724 | Disc Loss: 0.3255\n"
     ]
    },
    {
     "name": "stderr",
     "output_type": "stream",
     "text": [
      "Epoch 101/750: 100%|█████████████████████████████| 125/125 [00:23<00:00,  5.25it/s, Gen Loss=11.8616, Disc Loss=0.3254]\n"
     ]
    },
    {
     "name": "stdout",
     "output_type": "stream",
     "text": [
      "Epoch [101/750] | Gen Loss: 10.0934 | Disc Loss: 0.3254\n"
     ]
    },
    {
     "name": "stderr",
     "output_type": "stream",
     "text": [
      "Epoch 102/750: 100%|█████████████████████████████| 125/125 [00:23<00:00,  5.28it/s, Gen Loss=12.2939, Disc Loss=0.3254]\n"
     ]
    },
    {
     "name": "stdout",
     "output_type": "stream",
     "text": [
      "Epoch [102/750] | Gen Loss: 10.2626 | Disc Loss: 0.3253\n"
     ]
    },
    {
     "name": "stderr",
     "output_type": "stream",
     "text": [
      "Epoch 103/750: 100%|█████████████████████████████| 125/125 [00:23<00:00,  5.28it/s, Gen Loss=12.9111, Disc Loss=0.3256]\n"
     ]
    },
    {
     "name": "stdout",
     "output_type": "stream",
     "text": [
      "Epoch [103/750] | Gen Loss: 10.5297 | Disc Loss: 0.3253\n"
     ]
    },
    {
     "name": "stderr",
     "output_type": "stream",
     "text": [
      "Epoch 104/750: 100%|█████████████████████████████| 125/125 [00:23<00:00,  5.28it/s, Gen Loss=12.7851, Disc Loss=0.3251]\n"
     ]
    },
    {
     "name": "stdout",
     "output_type": "stream",
     "text": [
      "Epoch [104/750] | Gen Loss: 10.7084 | Disc Loss: 0.3253\n"
     ]
    },
    {
     "name": "stderr",
     "output_type": "stream",
     "text": [
      "Epoch 105/750: 100%|█████████████████████████████| 125/125 [00:23<00:00,  5.26it/s, Gen Loss=12.5866, Disc Loss=0.3253]\n"
     ]
    },
    {
     "name": "stdout",
     "output_type": "stream",
     "text": [
      "Epoch [105/750] | Gen Loss: 10.8117 | Disc Loss: 0.3254\n"
     ]
    },
    {
     "name": "stderr",
     "output_type": "stream",
     "text": [
      "Epoch 106/750: 100%|█████████████████████████████| 125/125 [00:23<00:00,  5.24it/s, Gen Loss=12.7421, Disc Loss=0.3252]\n"
     ]
    },
    {
     "name": "stdout",
     "output_type": "stream",
     "text": [
      "Epoch [106/750] | Gen Loss: 11.1884 | Disc Loss: 0.3253\n"
     ]
    },
    {
     "name": "stderr",
     "output_type": "stream",
     "text": [
      "Epoch 107/750: 100%|█████████████████████████████| 125/125 [00:23<00:00,  5.27it/s, Gen Loss=13.4729, Disc Loss=0.3252]\n"
     ]
    },
    {
     "name": "stdout",
     "output_type": "stream",
     "text": [
      "Epoch [107/750] | Gen Loss: 11.3789 | Disc Loss: 0.3254\n"
     ]
    },
    {
     "name": "stderr",
     "output_type": "stream",
     "text": [
      "Epoch 108/750: 100%|█████████████████████████████| 125/125 [00:23<00:00,  5.27it/s, Gen Loss=13.7037, Disc Loss=0.3251]\n"
     ]
    },
    {
     "name": "stdout",
     "output_type": "stream",
     "text": [
      "Epoch [108/750] | Gen Loss: 11.6272 | Disc Loss: 0.3253\n"
     ]
    },
    {
     "name": "stderr",
     "output_type": "stream",
     "text": [
      "Epoch 109/750: 100%|█████████████████████████████| 125/125 [00:23<00:00,  5.25it/s, Gen Loss=13.9127, Disc Loss=0.3258]\n"
     ]
    },
    {
     "name": "stdout",
     "output_type": "stream",
     "text": [
      "Epoch [109/750] | Gen Loss: 11.8829 | Disc Loss: 0.3252\n"
     ]
    },
    {
     "name": "stderr",
     "output_type": "stream",
     "text": [
      "Epoch 110/750: 100%|█████████████████████████████| 125/125 [00:23<00:00,  5.23it/s, Gen Loss=13.4271, Disc Loss=0.3252]\n"
     ]
    },
    {
     "name": "stdout",
     "output_type": "stream",
     "text": [
      "Epoch [110/750] | Gen Loss: 11.6385 | Disc Loss: 0.3254\n"
     ]
    },
    {
     "name": "stderr",
     "output_type": "stream",
     "text": [
      "Epoch 111/750: 100%|█████████████████████████████| 125/125 [00:23<00:00,  5.22it/s, Gen Loss=13.3127, Disc Loss=0.3252]\n"
     ]
    },
    {
     "name": "stdout",
     "output_type": "stream",
     "text": [
      "Epoch [111/750] | Gen Loss: 11.7587 | Disc Loss: 0.3252\n"
     ]
    },
    {
     "name": "stderr",
     "output_type": "stream",
     "text": [
      "Epoch 112/750: 100%|█████████████████████████████| 125/125 [00:23<00:00,  5.26it/s, Gen Loss=13.3297, Disc Loss=0.3251]\n"
     ]
    },
    {
     "name": "stdout",
     "output_type": "stream",
     "text": [
      "Epoch [112/750] | Gen Loss: 11.7024 | Disc Loss: 0.3252\n"
     ]
    },
    {
     "name": "stderr",
     "output_type": "stream",
     "text": [
      "Epoch 113/750: 100%|█████████████████████████████| 125/125 [00:23<00:00,  5.26it/s, Gen Loss=13.6245, Disc Loss=0.3251]\n"
     ]
    },
    {
     "name": "stdout",
     "output_type": "stream",
     "text": [
      "Epoch [113/750] | Gen Loss: 11.4470 | Disc Loss: 0.3253\n"
     ]
    },
    {
     "name": "stderr",
     "output_type": "stream",
     "text": [
      "Epoch 114/750: 100%|█████████████████████████████| 125/125 [00:23<00:00,  5.27it/s, Gen Loss=13.7043, Disc Loss=0.3251]\n"
     ]
    },
    {
     "name": "stdout",
     "output_type": "stream",
     "text": [
      "Epoch [114/750] | Gen Loss: 11.4789 | Disc Loss: 0.3252\n"
     ]
    },
    {
     "name": "stderr",
     "output_type": "stream",
     "text": [
      "Epoch 115/750: 100%|█████████████████████████████| 125/125 [00:23<00:00,  5.23it/s, Gen Loss=14.7250, Disc Loss=0.3251]\n"
     ]
    },
    {
     "name": "stdout",
     "output_type": "stream",
     "text": [
      "Epoch [115/750] | Gen Loss: 11.6751 | Disc Loss: 0.3252\n"
     ]
    },
    {
     "name": "stderr",
     "output_type": "stream",
     "text": [
      "Epoch 116/750: 100%|█████████████████████████████| 125/125 [00:23<00:00,  5.24it/s, Gen Loss=14.8739, Disc Loss=0.3257]\n"
     ]
    },
    {
     "name": "stdout",
     "output_type": "stream",
     "text": [
      "Epoch [116/750] | Gen Loss: 11.8922 | Disc Loss: 0.3252\n"
     ]
    },
    {
     "name": "stderr",
     "output_type": "stream",
     "text": [
      "Epoch 117/750: 100%|█████████████████████████████| 125/125 [00:23<00:00,  5.25it/s, Gen Loss=13.7656, Disc Loss=0.3254]\n"
     ]
    },
    {
     "name": "stdout",
     "output_type": "stream",
     "text": [
      "Epoch [117/750] | Gen Loss: 11.1689 | Disc Loss: 0.3253\n"
     ]
    },
    {
     "name": "stderr",
     "output_type": "stream",
     "text": [
      "Epoch 118/750: 100%|█████████████████████████████| 125/125 [00:23<00:00,  5.28it/s, Gen Loss=13.9590, Disc Loss=0.3254]\n"
     ]
    },
    {
     "name": "stdout",
     "output_type": "stream",
     "text": [
      "Epoch [118/750] | Gen Loss: 11.3937 | Disc Loss: 0.3252\n"
     ]
    },
    {
     "name": "stderr",
     "output_type": "stream",
     "text": [
      "Epoch 119/750: 100%|█████████████████████████████| 125/125 [00:23<00:00,  5.27it/s, Gen Loss=14.4371, Disc Loss=0.3251]\n"
     ]
    },
    {
     "name": "stdout",
     "output_type": "stream",
     "text": [
      "Epoch [119/750] | Gen Loss: 11.6916 | Disc Loss: 0.3252\n"
     ]
    },
    {
     "name": "stderr",
     "output_type": "stream",
     "text": [
      "Epoch 120/750: 100%|█████████████████████████████| 125/125 [00:23<00:00,  5.25it/s, Gen Loss=15.2255, Disc Loss=0.3251]\n"
     ]
    },
    {
     "name": "stdout",
     "output_type": "stream",
     "text": [
      "Epoch [120/750] | Gen Loss: 12.0771 | Disc Loss: 0.3252\n"
     ]
    },
    {
     "name": "stderr",
     "output_type": "stream",
     "text": [
      "Epoch 121/750: 100%|█████████████████████████████| 125/125 [00:23<00:00,  5.23it/s, Gen Loss=15.2831, Disc Loss=0.3251]\n"
     ]
    },
    {
     "name": "stdout",
     "output_type": "stream",
     "text": [
      "Epoch [121/750] | Gen Loss: 12.3142 | Disc Loss: 0.3251\n"
     ]
    },
    {
     "name": "stderr",
     "output_type": "stream",
     "text": [
      "Epoch 122/750: 100%|█████████████████████████████| 125/125 [00:23<00:00,  5.27it/s, Gen Loss=14.8008, Disc Loss=0.3251]\n"
     ]
    },
    {
     "name": "stdout",
     "output_type": "stream",
     "text": [
      "Epoch [122/750] | Gen Loss: 12.4869 | Disc Loss: 0.3252\n"
     ]
    },
    {
     "name": "stderr",
     "output_type": "stream",
     "text": [
      "Epoch 123/750: 100%|█████████████████████████████| 125/125 [00:23<00:00,  5.28it/s, Gen Loss=14.7667, Disc Loss=0.3251]\n"
     ]
    },
    {
     "name": "stdout",
     "output_type": "stream",
     "text": [
      "Epoch [123/750] | Gen Loss: 12.3375 | Disc Loss: 0.3252\n"
     ]
    },
    {
     "name": "stderr",
     "output_type": "stream",
     "text": [
      "Epoch 124/750: 100%|█████████████████████████████| 125/125 [00:23<00:00,  5.25it/s, Gen Loss=14.7807, Disc Loss=0.3251]\n"
     ]
    },
    {
     "name": "stdout",
     "output_type": "stream",
     "text": [
      "Epoch [124/750] | Gen Loss: 12.5564 | Disc Loss: 0.3252\n"
     ]
    },
    {
     "name": "stderr",
     "output_type": "stream",
     "text": [
      "Epoch 125/750: 100%|█████████████████████████████| 125/125 [00:23<00:00,  5.26it/s, Gen Loss=14.0594, Disc Loss=0.3252]\n"
     ]
    },
    {
     "name": "stdout",
     "output_type": "stream",
     "text": [
      "Epoch [125/750] | Gen Loss: 12.6513 | Disc Loss: 0.3251\n"
     ]
    },
    {
     "name": "stderr",
     "output_type": "stream",
     "text": [
      "Epoch 126/750: 100%|█████████████████████████████| 125/125 [00:23<00:00,  5.23it/s, Gen Loss=14.8927, Disc Loss=0.3252]\n"
     ]
    },
    {
     "name": "stdout",
     "output_type": "stream",
     "text": [
      "Epoch [126/750] | Gen Loss: 12.3994 | Disc Loss: 0.3252\n"
     ]
    },
    {
     "name": "stderr",
     "output_type": "stream",
     "text": [
      "Epoch 127/750: 100%|█████████████████████████████| 125/125 [00:23<00:00,  5.24it/s, Gen Loss=15.3219, Disc Loss=0.3251]\n"
     ]
    },
    {
     "name": "stdout",
     "output_type": "stream",
     "text": [
      "Epoch [127/750] | Gen Loss: 12.7839 | Disc Loss: 0.3252\n"
     ]
    },
    {
     "name": "stderr",
     "output_type": "stream",
     "text": [
      "Epoch 128/750: 100%|█████████████████████████████| 125/125 [00:23<00:00,  5.27it/s, Gen Loss=14.4462, Disc Loss=0.3251]\n"
     ]
    },
    {
     "name": "stdout",
     "output_type": "stream",
     "text": [
      "Epoch [128/750] | Gen Loss: 12.8700 | Disc Loss: 0.3252\n"
     ]
    },
    {
     "name": "stderr",
     "output_type": "stream",
     "text": [
      "Epoch 129/750: 100%|█████████████████████████████| 125/125 [00:23<00:00,  5.26it/s, Gen Loss=13.5641, Disc Loss=0.3252]\n"
     ]
    },
    {
     "name": "stdout",
     "output_type": "stream",
     "text": [
      "Epoch [129/750] | Gen Loss: 12.6012 | Disc Loss: 0.3252\n"
     ]
    },
    {
     "name": "stderr",
     "output_type": "stream",
     "text": [
      "Epoch 130/750: 100%|█████████████████████████████| 125/125 [00:23<00:00,  5.26it/s, Gen Loss=14.5977, Disc Loss=0.3253]\n"
     ]
    },
    {
     "name": "stdout",
     "output_type": "stream",
     "text": [
      "Epoch [130/750] | Gen Loss: 12.3849 | Disc Loss: 0.3252\n"
     ]
    },
    {
     "name": "stderr",
     "output_type": "stream",
     "text": [
      "Epoch 131/750: 100%|█████████████████████████████| 125/125 [00:23<00:00,  5.24it/s, Gen Loss=14.1513, Disc Loss=0.3251]\n"
     ]
    },
    {
     "name": "stdout",
     "output_type": "stream",
     "text": [
      "Epoch [131/750] | Gen Loss: 12.8491 | Disc Loss: 0.3252\n"
     ]
    },
    {
     "name": "stderr",
     "output_type": "stream",
     "text": [
      "Epoch 132/750: 100%|█████████████████████████████| 125/125 [00:23<00:00,  5.27it/s, Gen Loss=14.8647, Disc Loss=0.3251]\n"
     ]
    },
    {
     "name": "stdout",
     "output_type": "stream",
     "text": [
      "Epoch [132/750] | Gen Loss: 13.3241 | Disc Loss: 0.3251\n"
     ]
    },
    {
     "name": "stderr",
     "output_type": "stream",
     "text": [
      "Epoch 133/750: 100%|█████████████████████████████| 125/125 [00:23<00:00,  5.27it/s, Gen Loss=15.1755, Disc Loss=0.3254]\n"
     ]
    },
    {
     "name": "stdout",
     "output_type": "stream",
     "text": [
      "Epoch [133/750] | Gen Loss: 12.9899 | Disc Loss: 0.3251\n"
     ]
    },
    {
     "name": "stderr",
     "output_type": "stream",
     "text": [
      "Epoch 134/750: 100%|█████████████████████████████| 125/125 [00:23<00:00,  5.26it/s, Gen Loss=14.8213, Disc Loss=0.3251]\n"
     ]
    },
    {
     "name": "stdout",
     "output_type": "stream",
     "text": [
      "Epoch [134/750] | Gen Loss: 12.8732 | Disc Loss: 0.3252\n"
     ]
    },
    {
     "name": "stderr",
     "output_type": "stream",
     "text": [
      "Epoch 135/750: 100%|█████████████████████████████| 125/125 [00:23<00:00,  5.24it/s, Gen Loss=15.2848, Disc Loss=0.3251]\n"
     ]
    },
    {
     "name": "stdout",
     "output_type": "stream",
     "text": [
      "Epoch [135/750] | Gen Loss: 13.1595 | Disc Loss: 0.3251\n"
     ]
    },
    {
     "name": "stderr",
     "output_type": "stream",
     "text": [
      "Epoch 136/750: 100%|█████████████████████████████| 125/125 [00:23<00:00,  5.23it/s, Gen Loss=14.8741, Disc Loss=0.3252]\n"
     ]
    },
    {
     "name": "stdout",
     "output_type": "stream",
     "text": [
      "Epoch [136/750] | Gen Loss: 12.8470 | Disc Loss: 0.3251\n"
     ]
    },
    {
     "name": "stderr",
     "output_type": "stream",
     "text": [
      "Epoch 137/750: 100%|█████████████████████████████| 125/125 [00:23<00:00,  5.26it/s, Gen Loss=15.0253, Disc Loss=0.3251]\n"
     ]
    },
    {
     "name": "stdout",
     "output_type": "stream",
     "text": [
      "Epoch [137/750] | Gen Loss: 13.1325 | Disc Loss: 0.3252\n"
     ]
    },
    {
     "name": "stderr",
     "output_type": "stream",
     "text": [
      "Epoch 138/750: 100%|█████████████████████████████| 125/125 [00:23<00:00,  5.28it/s, Gen Loss=15.2225, Disc Loss=0.3251]\n"
     ]
    },
    {
     "name": "stdout",
     "output_type": "stream",
     "text": [
      "Epoch [138/750] | Gen Loss: 13.4958 | Disc Loss: 0.3251\n"
     ]
    },
    {
     "name": "stderr",
     "output_type": "stream",
     "text": [
      "Epoch 139/750: 100%|█████████████████████████████| 125/125 [00:23<00:00,  5.26it/s, Gen Loss=14.9387, Disc Loss=0.3251]\n"
     ]
    },
    {
     "name": "stdout",
     "output_type": "stream",
     "text": [
      "Epoch [139/750] | Gen Loss: 13.3814 | Disc Loss: 0.3251\n"
     ]
    },
    {
     "name": "stderr",
     "output_type": "stream",
     "text": [
      "Epoch 140/750: 100%|█████████████████████████████| 125/125 [00:23<00:00,  5.25it/s, Gen Loss=15.2840, Disc Loss=0.3251]\n"
     ]
    },
    {
     "name": "stdout",
     "output_type": "stream",
     "text": [
      "Epoch [140/750] | Gen Loss: 13.2545 | Disc Loss: 0.3251\n"
     ]
    },
    {
     "name": "stderr",
     "output_type": "stream",
     "text": [
      "Epoch 141/750: 100%|█████████████████████████████| 125/125 [00:23<00:00,  5.21it/s, Gen Loss=15.4507, Disc Loss=0.3251]\n"
     ]
    },
    {
     "name": "stdout",
     "output_type": "stream",
     "text": [
      "Epoch [141/750] | Gen Loss: 13.4681 | Disc Loss: 0.3251\n"
     ]
    },
    {
     "name": "stderr",
     "output_type": "stream",
     "text": [
      "Epoch 142/750: 100%|█████████████████████████████| 125/125 [00:23<00:00,  5.25it/s, Gen Loss=15.0150, Disc Loss=0.3251]\n"
     ]
    },
    {
     "name": "stdout",
     "output_type": "stream",
     "text": [
      "Epoch [142/750] | Gen Loss: 13.5610 | Disc Loss: 0.3251\n"
     ]
    },
    {
     "name": "stderr",
     "output_type": "stream",
     "text": [
      "Epoch 143/750: 100%|█████████████████████████████| 125/125 [00:23<00:00,  5.25it/s, Gen Loss=15.6623, Disc Loss=0.3251]\n"
     ]
    },
    {
     "name": "stdout",
     "output_type": "stream",
     "text": [
      "Epoch [143/750] | Gen Loss: 13.5216 | Disc Loss: 0.3251\n"
     ]
    },
    {
     "name": "stderr",
     "output_type": "stream",
     "text": [
      "Epoch 144/750: 100%|█████████████████████████████| 125/125 [00:23<00:00,  5.25it/s, Gen Loss=15.6778, Disc Loss=0.3251]\n"
     ]
    },
    {
     "name": "stdout",
     "output_type": "stream",
     "text": [
      "Epoch [144/750] | Gen Loss: 13.7168 | Disc Loss: 0.3251\n"
     ]
    },
    {
     "name": "stderr",
     "output_type": "stream",
     "text": [
      "Epoch 145/750: 100%|█████████████████████████████| 125/125 [00:23<00:00,  5.26it/s, Gen Loss=15.7938, Disc Loss=0.3253]\n"
     ]
    },
    {
     "name": "stdout",
     "output_type": "stream",
     "text": [
      "Epoch [145/750] | Gen Loss: 13.6499 | Disc Loss: 0.3252\n"
     ]
    },
    {
     "name": "stderr",
     "output_type": "stream",
     "text": [
      "Epoch 146/750: 100%|█████████████████████████████| 125/125 [00:23<00:00,  5.23it/s, Gen Loss=15.7778, Disc Loss=0.3251]\n"
     ]
    },
    {
     "name": "stdout",
     "output_type": "stream",
     "text": [
      "Epoch [146/750] | Gen Loss: 13.8781 | Disc Loss: 0.3251\n"
     ]
    },
    {
     "name": "stderr",
     "output_type": "stream",
     "text": [
      "Epoch 147/750: 100%|█████████████████████████████| 125/125 [00:23<00:00,  5.23it/s, Gen Loss=16.1277, Disc Loss=0.3251]\n"
     ]
    },
    {
     "name": "stdout",
     "output_type": "stream",
     "text": [
      "Epoch [147/750] | Gen Loss: 13.8811 | Disc Loss: 0.3251\n"
     ]
    },
    {
     "name": "stderr",
     "output_type": "stream",
     "text": [
      "Epoch 148/750: 100%|█████████████████████████████| 125/125 [00:23<00:00,  5.28it/s, Gen Loss=15.7392, Disc Loss=0.3252]\n"
     ]
    },
    {
     "name": "stdout",
     "output_type": "stream",
     "text": [
      "Epoch [148/750] | Gen Loss: 13.8444 | Disc Loss: 0.3251\n"
     ]
    },
    {
     "name": "stderr",
     "output_type": "stream",
     "text": [
      "Epoch 149/750: 100%|█████████████████████████████| 125/125 [00:23<00:00,  5.27it/s, Gen Loss=15.5758, Disc Loss=0.3251]\n"
     ]
    },
    {
     "name": "stdout",
     "output_type": "stream",
     "text": [
      "Epoch [149/750] | Gen Loss: 13.6113 | Disc Loss: 0.3251\n"
     ]
    },
    {
     "name": "stderr",
     "output_type": "stream",
     "text": [
      "Epoch 150/750: 100%|█████████████████████████████| 125/125 [00:23<00:00,  5.26it/s, Gen Loss=15.7725, Disc Loss=0.3251]\n"
     ]
    },
    {
     "name": "stdout",
     "output_type": "stream",
     "text": [
      "Epoch [150/750] | Gen Loss: 13.8166 | Disc Loss: 0.3251\n"
     ]
    },
    {
     "name": "stderr",
     "output_type": "stream",
     "text": [
      "Epoch 151/750: 100%|█████████████████████████████| 125/125 [00:23<00:00,  5.24it/s, Gen Loss=16.3885, Disc Loss=0.3251]\n"
     ]
    },
    {
     "name": "stdout",
     "output_type": "stream",
     "text": [
      "Epoch [151/750] | Gen Loss: 13.9651 | Disc Loss: 0.3251\n"
     ]
    },
    {
     "name": "stderr",
     "output_type": "stream",
     "text": [
      "Epoch 152/750: 100%|█████████████████████████████| 125/125 [00:23<00:00,  5.25it/s, Gen Loss=16.6332, Disc Loss=0.3251]\n"
     ]
    },
    {
     "name": "stdout",
     "output_type": "stream",
     "text": [
      "Epoch [152/750] | Gen Loss: 14.0555 | Disc Loss: 0.3251\n"
     ]
    },
    {
     "name": "stderr",
     "output_type": "stream",
     "text": [
      "Epoch 153/750: 100%|█████████████████████████████| 125/125 [00:23<00:00,  5.27it/s, Gen Loss=16.3666, Disc Loss=0.3252]\n"
     ]
    },
    {
     "name": "stdout",
     "output_type": "stream",
     "text": [
      "Epoch [153/750] | Gen Loss: 14.0455 | Disc Loss: 0.3251\n"
     ]
    },
    {
     "name": "stderr",
     "output_type": "stream",
     "text": [
      "Epoch 154/750: 100%|█████████████████████████████| 125/125 [00:23<00:00,  5.28it/s, Gen Loss=10.4388, Disc Loss=0.3251]\n"
     ]
    },
    {
     "name": "stdout",
     "output_type": "stream",
     "text": [
      "Epoch [154/750] | Gen Loss: 8.7803 | Disc Loss: 0.3593\n"
     ]
    },
    {
     "name": "stderr",
     "output_type": "stream",
     "text": [
      "Epoch 155/750: 100%|█████████████████████████████| 125/125 [00:23<00:00,  5.22it/s, Gen Loss=11.5445, Disc Loss=0.3251]\n"
     ]
    },
    {
     "name": "stdout",
     "output_type": "stream",
     "text": [
      "Epoch [155/750] | Gen Loss: 9.0345 | Disc Loss: 0.3254\n"
     ]
    },
    {
     "name": "stderr",
     "output_type": "stream",
     "text": [
      "Epoch 156/750: 100%|█████████████████████████████| 125/125 [00:23<00:00,  5.24it/s, Gen Loss=11.4489, Disc Loss=0.3251]\n"
     ]
    },
    {
     "name": "stdout",
     "output_type": "stream",
     "text": [
      "Epoch [156/750] | Gen Loss: 9.6472 | Disc Loss: 0.3252\n"
     ]
    },
    {
     "name": "stderr",
     "output_type": "stream",
     "text": [
      "Epoch 157/750: 100%|█████████████████████████████| 125/125 [00:23<00:00,  5.25it/s, Gen Loss=12.8961, Disc Loss=0.3251]\n"
     ]
    },
    {
     "name": "stdout",
     "output_type": "stream",
     "text": [
      "Epoch [157/750] | Gen Loss: 9.7878 | Disc Loss: 0.3252\n"
     ]
    },
    {
     "name": "stderr",
     "output_type": "stream",
     "text": [
      "Epoch 158/750: 100%|█████████████████████████████| 125/125 [00:23<00:00,  5.24it/s, Gen Loss=12.9864, Disc Loss=0.3251]\n"
     ]
    },
    {
     "name": "stdout",
     "output_type": "stream",
     "text": [
      "Epoch [158/750] | Gen Loss: 10.1743 | Disc Loss: 0.3252\n"
     ]
    },
    {
     "name": "stderr",
     "output_type": "stream",
     "text": [
      "Epoch 159/750: 100%|█████████████████████████████| 125/125 [00:23<00:00,  5.26it/s, Gen Loss=13.2265, Disc Loss=0.3252]\n"
     ]
    },
    {
     "name": "stdout",
     "output_type": "stream",
     "text": [
      "Epoch [159/750] | Gen Loss: 10.3236 | Disc Loss: 0.3251\n"
     ]
    },
    {
     "name": "stderr",
     "output_type": "stream",
     "text": [
      "Epoch 160/750: 100%|█████████████████████████████| 125/125 [00:23<00:00,  5.24it/s, Gen Loss=13.1685, Disc Loss=0.3251]\n"
     ]
    },
    {
     "name": "stdout",
     "output_type": "stream",
     "text": [
      "Epoch [160/750] | Gen Loss: 10.4199 | Disc Loss: 0.3251\n"
     ]
    },
    {
     "name": "stderr",
     "output_type": "stream",
     "text": [
      "Epoch 161/750: 100%|█████████████████████████████| 125/125 [00:23<00:00,  5.23it/s, Gen Loss=12.2594, Disc Loss=0.3253]\n"
     ]
    },
    {
     "name": "stdout",
     "output_type": "stream",
     "text": [
      "Epoch [161/750] | Gen Loss: 10.6608 | Disc Loss: 0.3251\n"
     ]
    },
    {
     "name": "stderr",
     "output_type": "stream",
     "text": [
      "Epoch 162/750: 100%|█████████████████████████████| 125/125 [00:23<00:00,  5.25it/s, Gen Loss=13.2589, Disc Loss=0.3251]\n"
     ]
    },
    {
     "name": "stdout",
     "output_type": "stream",
     "text": [
      "Epoch [162/750] | Gen Loss: 10.7533 | Disc Loss: 0.3251\n"
     ]
    },
    {
     "name": "stderr",
     "output_type": "stream",
     "text": [
      "Epoch 163/750: 100%|█████████████████████████████| 125/125 [00:23<00:00,  5.26it/s, Gen Loss=12.4329, Disc Loss=0.3251]\n"
     ]
    },
    {
     "name": "stdout",
     "output_type": "stream",
     "text": [
      "Epoch [163/750] | Gen Loss: 10.9720 | Disc Loss: 0.3251\n"
     ]
    },
    {
     "name": "stderr",
     "output_type": "stream",
     "text": [
      "Epoch 164/750: 100%|█████████████████████████████| 125/125 [00:23<00:00,  5.27it/s, Gen Loss=13.0266, Disc Loss=0.3251]\n"
     ]
    },
    {
     "name": "stdout",
     "output_type": "stream",
     "text": [
      "Epoch [164/750] | Gen Loss: 11.0570 | Disc Loss: 0.3251\n"
     ]
    },
    {
     "name": "stderr",
     "output_type": "stream",
     "text": [
      "Epoch 165/750: 100%|█████████████████████████████| 125/125 [00:23<00:00,  5.25it/s, Gen Loss=13.3858, Disc Loss=0.3251]\n"
     ]
    },
    {
     "name": "stdout",
     "output_type": "stream",
     "text": [
      "Epoch [165/750] | Gen Loss: 11.3026 | Disc Loss: 0.3251\n"
     ]
    },
    {
     "name": "stderr",
     "output_type": "stream",
     "text": [
      "Epoch 166/750: 100%|█████████████████████████████| 125/125 [00:23<00:00,  5.24it/s, Gen Loss=13.1117, Disc Loss=0.3251]\n"
     ]
    },
    {
     "name": "stdout",
     "output_type": "stream",
     "text": [
      "Epoch [166/750] | Gen Loss: 11.4523 | Disc Loss: 0.3251\n"
     ]
    },
    {
     "name": "stderr",
     "output_type": "stream",
     "text": [
      "Epoch 167/750: 100%|█████████████████████████████| 125/125 [00:23<00:00,  5.26it/s, Gen Loss=13.7385, Disc Loss=0.3251]\n"
     ]
    },
    {
     "name": "stdout",
     "output_type": "stream",
     "text": [
      "Epoch [167/750] | Gen Loss: 11.6811 | Disc Loss: 0.3251\n"
     ]
    },
    {
     "name": "stderr",
     "output_type": "stream",
     "text": [
      "Epoch 168/750: 100%|█████████████████████████████| 125/125 [00:23<00:00,  5.27it/s, Gen Loss=14.0136, Disc Loss=0.3252]\n"
     ]
    },
    {
     "name": "stdout",
     "output_type": "stream",
     "text": [
      "Epoch [168/750] | Gen Loss: 11.8520 | Disc Loss: 0.3251\n"
     ]
    },
    {
     "name": "stderr",
     "output_type": "stream",
     "text": [
      "Epoch 169/750: 100%|█████████████████████████████| 125/125 [00:23<00:00,  5.27it/s, Gen Loss=14.0189, Disc Loss=0.3266]\n"
     ]
    },
    {
     "name": "stdout",
     "output_type": "stream",
     "text": [
      "Epoch [169/750] | Gen Loss: 11.9035 | Disc Loss: 0.3251\n"
     ]
    },
    {
     "name": "stderr",
     "output_type": "stream",
     "text": [
      "Epoch 170/750: 100%|█████████████████████████████| 125/125 [00:23<00:00,  5.24it/s, Gen Loss=15.0187, Disc Loss=0.3251]\n"
     ]
    },
    {
     "name": "stdout",
     "output_type": "stream",
     "text": [
      "Epoch [170/750] | Gen Loss: 11.1891 | Disc Loss: 0.3252\n"
     ]
    },
    {
     "name": "stderr",
     "output_type": "stream",
     "text": [
      "Epoch 171/750: 100%|█████████████████████████████| 125/125 [00:23<00:00,  5.21it/s, Gen Loss=15.1219, Disc Loss=0.3251]\n"
     ]
    },
    {
     "name": "stdout",
     "output_type": "stream",
     "text": [
      "Epoch [171/750] | Gen Loss: 11.7498 | Disc Loss: 0.3251\n"
     ]
    },
    {
     "name": "stderr",
     "output_type": "stream",
     "text": [
      "Epoch 172/750: 100%|█████████████████████████████| 125/125 [00:23<00:00,  5.22it/s, Gen Loss=13.9055, Disc Loss=0.3251]\n"
     ]
    },
    {
     "name": "stdout",
     "output_type": "stream",
     "text": [
      "Epoch [172/750] | Gen Loss: 12.0335 | Disc Loss: 0.3251\n"
     ]
    },
    {
     "name": "stderr",
     "output_type": "stream",
     "text": [
      "Epoch 173/750: 100%|█████████████████████████████| 125/125 [00:23<00:00,  5.25it/s, Gen Loss=14.3774, Disc Loss=0.3251]\n"
     ]
    },
    {
     "name": "stdout",
     "output_type": "stream",
     "text": [
      "Epoch [173/750] | Gen Loss: 12.0812 | Disc Loss: 0.3251\n"
     ]
    },
    {
     "name": "stderr",
     "output_type": "stream",
     "text": [
      "Epoch 174/750: 100%|█████████████████████████████| 125/125 [00:23<00:00,  5.24it/s, Gen Loss=15.9438, Disc Loss=0.3251]\n"
     ]
    },
    {
     "name": "stdout",
     "output_type": "stream",
     "text": [
      "Epoch [174/750] | Gen Loss: 11.8750 | Disc Loss: 0.3251\n"
     ]
    },
    {
     "name": "stderr",
     "output_type": "stream",
     "text": [
      "Epoch 175/750: 100%|█████████████████████████████| 125/125 [00:23<00:00,  5.27it/s, Gen Loss=15.5202, Disc Loss=0.3251]\n"
     ]
    },
    {
     "name": "stdout",
     "output_type": "stream",
     "text": [
      "Epoch [175/750] | Gen Loss: 11.5643 | Disc Loss: 0.3251\n"
     ]
    },
    {
     "name": "stderr",
     "output_type": "stream",
     "text": [
      "Epoch 176/750: 100%|█████████████████████████████| 125/125 [00:23<00:00,  5.22it/s, Gen Loss=16.1466, Disc Loss=0.3251]\n"
     ]
    },
    {
     "name": "stdout",
     "output_type": "stream",
     "text": [
      "Epoch [176/750] | Gen Loss: 11.7217 | Disc Loss: 0.3251\n"
     ]
    },
    {
     "name": "stderr",
     "output_type": "stream",
     "text": [
      "Epoch 177/750: 100%|█████████████████████████████| 125/125 [00:23<00:00,  5.24it/s, Gen Loss=15.6709, Disc Loss=0.3251]\n"
     ]
    },
    {
     "name": "stdout",
     "output_type": "stream",
     "text": [
      "Epoch [177/750] | Gen Loss: 12.1408 | Disc Loss: 0.3251\n"
     ]
    },
    {
     "name": "stderr",
     "output_type": "stream",
     "text": [
      "Epoch 178/750: 100%|█████████████████████████████| 125/125 [00:23<00:00,  5.27it/s, Gen Loss=15.7618, Disc Loss=0.3251]\n"
     ]
    },
    {
     "name": "stdout",
     "output_type": "stream",
     "text": [
      "Epoch [178/750] | Gen Loss: 12.1636 | Disc Loss: 0.3251\n"
     ]
    },
    {
     "name": "stderr",
     "output_type": "stream",
     "text": [
      "Epoch 179/750: 100%|█████████████████████████████| 125/125 [00:23<00:00,  5.27it/s, Gen Loss=15.5069, Disc Loss=0.3251]\n"
     ]
    },
    {
     "name": "stdout",
     "output_type": "stream",
     "text": [
      "Epoch [179/750] | Gen Loss: 12.3263 | Disc Loss: 0.3251\n"
     ]
    },
    {
     "name": "stderr",
     "output_type": "stream",
     "text": [
      "Epoch 180/750: 100%|█████████████████████████████| 125/125 [00:23<00:00,  5.25it/s, Gen Loss=16.1590, Disc Loss=0.3251]\n"
     ]
    },
    {
     "name": "stdout",
     "output_type": "stream",
     "text": [
      "Epoch [180/750] | Gen Loss: 12.3974 | Disc Loss: 0.3251\n"
     ]
    },
    {
     "name": "stderr",
     "output_type": "stream",
     "text": [
      "Epoch 181/750: 100%|█████████████████████████████| 125/125 [00:24<00:00,  5.21it/s, Gen Loss=16.3852, Disc Loss=0.3251]\n"
     ]
    },
    {
     "name": "stdout",
     "output_type": "stream",
     "text": [
      "Epoch [181/750] | Gen Loss: 12.4836 | Disc Loss: 0.3251\n"
     ]
    },
    {
     "name": "stderr",
     "output_type": "stream",
     "text": [
      "Epoch 182/750: 100%|█████████████████████████████| 125/125 [00:23<00:00,  5.22it/s, Gen Loss=16.2511, Disc Loss=0.3251]\n"
     ]
    },
    {
     "name": "stdout",
     "output_type": "stream",
     "text": [
      "Epoch [182/750] | Gen Loss: 12.4434 | Disc Loss: 0.3251\n"
     ]
    },
    {
     "name": "stderr",
     "output_type": "stream",
     "text": [
      "Epoch 183/750: 100%|█████████████████████████████| 125/125 [00:23<00:00,  5.26it/s, Gen Loss=16.1822, Disc Loss=0.3251]\n"
     ]
    },
    {
     "name": "stdout",
     "output_type": "stream",
     "text": [
      "Epoch [183/750] | Gen Loss: 12.4212 | Disc Loss: 0.3251\n"
     ]
    },
    {
     "name": "stderr",
     "output_type": "stream",
     "text": [
      "Epoch 184/750: 100%|█████████████████████████████| 125/125 [00:23<00:00,  5.25it/s, Gen Loss=15.8917, Disc Loss=0.3251]\n"
     ]
    },
    {
     "name": "stdout",
     "output_type": "stream",
     "text": [
      "Epoch [184/750] | Gen Loss: 12.7247 | Disc Loss: 0.3251\n"
     ]
    },
    {
     "name": "stderr",
     "output_type": "stream",
     "text": [
      "Epoch 185/750: 100%|█████████████████████████████| 125/125 [00:23<00:00,  5.25it/s, Gen Loss=15.9348, Disc Loss=0.3251]\n"
     ]
    },
    {
     "name": "stdout",
     "output_type": "stream",
     "text": [
      "Epoch [185/750] | Gen Loss: 12.6349 | Disc Loss: 0.3251\n"
     ]
    },
    {
     "name": "stderr",
     "output_type": "stream",
     "text": [
      "Epoch 186/750: 100%|█████████████████████████████| 125/125 [00:23<00:00,  5.25it/s, Gen Loss=15.8461, Disc Loss=0.3251]\n"
     ]
    },
    {
     "name": "stdout",
     "output_type": "stream",
     "text": [
      "Epoch [186/750] | Gen Loss: 12.7799 | Disc Loss: 0.3251\n"
     ]
    },
    {
     "name": "stderr",
     "output_type": "stream",
     "text": [
      "Epoch 187/750: 100%|█████████████████████████████| 125/125 [00:23<00:00,  5.24it/s, Gen Loss=16.1372, Disc Loss=0.3251]\n"
     ]
    },
    {
     "name": "stdout",
     "output_type": "stream",
     "text": [
      "Epoch [187/750] | Gen Loss: 12.6905 | Disc Loss: 0.3251\n"
     ]
    },
    {
     "name": "stderr",
     "output_type": "stream",
     "text": [
      "Epoch 188/750: 100%|█████████████████████████████| 125/125 [00:23<00:00,  5.25it/s, Gen Loss=16.4297, Disc Loss=0.3251]\n"
     ]
    },
    {
     "name": "stdout",
     "output_type": "stream",
     "text": [
      "Epoch [188/750] | Gen Loss: 12.9189 | Disc Loss: 0.3251\n"
     ]
    },
    {
     "name": "stderr",
     "output_type": "stream",
     "text": [
      "Epoch 189/750: 100%|█████████████████████████████| 125/125 [00:23<00:00,  5.25it/s, Gen Loss=16.1795, Disc Loss=0.3251]\n"
     ]
    },
    {
     "name": "stdout",
     "output_type": "stream",
     "text": [
      "Epoch [189/750] | Gen Loss: 12.9437 | Disc Loss: 0.3251\n"
     ]
    },
    {
     "name": "stderr",
     "output_type": "stream",
     "text": [
      "Epoch 190/750: 100%|█████████████████████████████| 125/125 [00:23<00:00,  5.25it/s, Gen Loss=15.8993, Disc Loss=0.3251]\n"
     ]
    },
    {
     "name": "stdout",
     "output_type": "stream",
     "text": [
      "Epoch [190/750] | Gen Loss: 13.0634 | Disc Loss: 0.3251\n"
     ]
    },
    {
     "name": "stderr",
     "output_type": "stream",
     "text": [
      "Epoch 191/750: 100%|█████████████████████████████| 125/125 [00:23<00:00,  5.24it/s, Gen Loss=16.1403, Disc Loss=0.3251]\n"
     ]
    },
    {
     "name": "stdout",
     "output_type": "stream",
     "text": [
      "Epoch [191/750] | Gen Loss: 13.1493 | Disc Loss: 0.3251\n"
     ]
    },
    {
     "name": "stderr",
     "output_type": "stream",
     "text": [
      "Epoch 192/750: 100%|█████████████████████████████| 125/125 [00:23<00:00,  5.25it/s, Gen Loss=15.8932, Disc Loss=0.3251]\n"
     ]
    },
    {
     "name": "stdout",
     "output_type": "stream",
     "text": [
      "Epoch [192/750] | Gen Loss: 13.2114 | Disc Loss: 0.3251\n"
     ]
    },
    {
     "name": "stderr",
     "output_type": "stream",
     "text": [
      "Epoch 193/750: 100%|█████████████████████████████| 125/125 [00:23<00:00,  5.26it/s, Gen Loss=15.8581, Disc Loss=0.3252]\n"
     ]
    },
    {
     "name": "stdout",
     "output_type": "stream",
     "text": [
      "Epoch [193/750] | Gen Loss: 13.4633 | Disc Loss: 0.3251\n"
     ]
    },
    {
     "name": "stderr",
     "output_type": "stream",
     "text": [
      "Epoch 194/750: 100%|█████████████████████████████| 125/125 [00:23<00:00,  5.26it/s, Gen Loss=16.6889, Disc Loss=0.3251]\n"
     ]
    },
    {
     "name": "stdout",
     "output_type": "stream",
     "text": [
      "Epoch [194/750] | Gen Loss: 13.3810 | Disc Loss: 0.3251\n"
     ]
    },
    {
     "name": "stderr",
     "output_type": "stream",
     "text": [
      "Epoch 195/750: 100%|█████████████████████████████| 125/125 [00:23<00:00,  5.26it/s, Gen Loss=15.9318, Disc Loss=0.3251]\n"
     ]
    },
    {
     "name": "stdout",
     "output_type": "stream",
     "text": [
      "Epoch [195/750] | Gen Loss: 13.5546 | Disc Loss: 0.3251\n"
     ]
    },
    {
     "name": "stderr",
     "output_type": "stream",
     "text": [
      "Epoch 196/750: 100%|█████████████████████████████| 125/125 [00:23<00:00,  5.24it/s, Gen Loss=16.4872, Disc Loss=0.3252]\n"
     ]
    },
    {
     "name": "stdout",
     "output_type": "stream",
     "text": [
      "Epoch [196/750] | Gen Loss: 13.4458 | Disc Loss: 0.3251\n"
     ]
    },
    {
     "name": "stderr",
     "output_type": "stream",
     "text": [
      "Epoch 197/750: 100%|█████████████████████████████| 125/125 [00:23<00:00,  5.24it/s, Gen Loss=16.4630, Disc Loss=0.3251]\n"
     ]
    },
    {
     "name": "stdout",
     "output_type": "stream",
     "text": [
      "Epoch [197/750] | Gen Loss: 13.5537 | Disc Loss: 0.3251\n"
     ]
    },
    {
     "name": "stderr",
     "output_type": "stream",
     "text": [
      "Epoch 198/750: 100%|█████████████████████████████| 125/125 [00:23<00:00,  5.24it/s, Gen Loss=16.0887, Disc Loss=0.3251]\n"
     ]
    },
    {
     "name": "stdout",
     "output_type": "stream",
     "text": [
      "Epoch [198/750] | Gen Loss: 13.4242 | Disc Loss: 0.3251\n"
     ]
    },
    {
     "name": "stderr",
     "output_type": "stream",
     "text": [
      "Epoch 199/750: 100%|█████████████████████████████| 125/125 [00:23<00:00,  5.25it/s, Gen Loss=16.5302, Disc Loss=0.3251]\n"
     ]
    },
    {
     "name": "stdout",
     "output_type": "stream",
     "text": [
      "Epoch [199/750] | Gen Loss: 13.4520 | Disc Loss: 0.3251\n"
     ]
    },
    {
     "name": "stderr",
     "output_type": "stream",
     "text": [
      "Epoch 200/750: 100%|█████████████████████████████| 125/125 [00:23<00:00,  5.25it/s, Gen Loss=16.6688, Disc Loss=0.3251]\n"
     ]
    },
    {
     "name": "stdout",
     "output_type": "stream",
     "text": [
      "Epoch [200/750] | Gen Loss: 13.6501 | Disc Loss: 0.3251\n"
     ]
    },
    {
     "name": "stderr",
     "output_type": "stream",
     "text": [
      "Epoch 201/750: 100%|█████████████████████████████| 125/125 [00:23<00:00,  5.22it/s, Gen Loss=16.3469, Disc Loss=0.3251]\n"
     ]
    },
    {
     "name": "stdout",
     "output_type": "stream",
     "text": [
      "Epoch [201/750] | Gen Loss: 13.7578 | Disc Loss: 0.3251\n"
     ]
    },
    {
     "name": "stderr",
     "output_type": "stream",
     "text": [
      "Epoch 202/750: 100%|█████████████████████████████| 125/125 [00:23<00:00,  5.21it/s, Gen Loss=16.1739, Disc Loss=0.3252]\n"
     ]
    },
    {
     "name": "stdout",
     "output_type": "stream",
     "text": [
      "Epoch [202/750] | Gen Loss: 13.7280 | Disc Loss: 0.3251\n"
     ]
    },
    {
     "name": "stderr",
     "output_type": "stream",
     "text": [
      "Epoch 203/750: 100%|█████████████████████████████| 125/125 [00:23<00:00,  5.23it/s, Gen Loss=16.5663, Disc Loss=0.3252]\n"
     ]
    },
    {
     "name": "stdout",
     "output_type": "stream",
     "text": [
      "Epoch [203/750] | Gen Loss: 13.7965 | Disc Loss: 0.3251\n"
     ]
    },
    {
     "name": "stderr",
     "output_type": "stream",
     "text": [
      "Epoch 204/750: 100%|█████████████████████████████| 125/125 [00:23<00:00,  5.25it/s, Gen Loss=16.7005, Disc Loss=0.3252]\n"
     ]
    },
    {
     "name": "stdout",
     "output_type": "stream",
     "text": [
      "Epoch [204/750] | Gen Loss: 13.8971 | Disc Loss: 0.3251\n"
     ]
    },
    {
     "name": "stderr",
     "output_type": "stream",
     "text": [
      "Epoch 205/750: 100%|█████████████████████████████| 125/125 [00:23<00:00,  5.24it/s, Gen Loss=16.5982, Disc Loss=0.3251]\n"
     ]
    },
    {
     "name": "stdout",
     "output_type": "stream",
     "text": [
      "Epoch [205/750] | Gen Loss: 13.7494 | Disc Loss: 0.3251\n"
     ]
    },
    {
     "name": "stderr",
     "output_type": "stream",
     "text": [
      "Epoch 206/750: 100%|█████████████████████████████| 125/125 [00:23<00:00,  5.24it/s, Gen Loss=16.7952, Disc Loss=0.3251]\n"
     ]
    },
    {
     "name": "stdout",
     "output_type": "stream",
     "text": [
      "Epoch [206/750] | Gen Loss: 13.9995 | Disc Loss: 0.3251\n"
     ]
    },
    {
     "name": "stderr",
     "output_type": "stream",
     "text": [
      "Epoch 207/750: 100%|█████████████████████████████| 125/125 [00:23<00:00,  5.23it/s, Gen Loss=16.8024, Disc Loss=0.3251]\n"
     ]
    },
    {
     "name": "stdout",
     "output_type": "stream",
     "text": [
      "Epoch [207/750] | Gen Loss: 14.1369 | Disc Loss: 0.3251\n"
     ]
    },
    {
     "name": "stderr",
     "output_type": "stream",
     "text": [
      "Epoch 208/750: 100%|█████████████████████████████| 125/125 [00:23<00:00,  5.26it/s, Gen Loss=16.6075, Disc Loss=0.3251]\n"
     ]
    },
    {
     "name": "stdout",
     "output_type": "stream",
     "text": [
      "Epoch [208/750] | Gen Loss: 14.1621 | Disc Loss: 0.3251\n"
     ]
    },
    {
     "name": "stderr",
     "output_type": "stream",
     "text": [
      "Epoch 209/750: 100%|█████████████████████████████| 125/125 [00:23<00:00,  5.26it/s, Gen Loss=16.5522, Disc Loss=0.3251]\n"
     ]
    },
    {
     "name": "stdout",
     "output_type": "stream",
     "text": [
      "Epoch [209/750] | Gen Loss: 13.8346 | Disc Loss: 0.3251\n"
     ]
    },
    {
     "name": "stderr",
     "output_type": "stream",
     "text": [
      "Epoch 210/750: 100%|█████████████████████████████| 125/125 [00:23<00:00,  5.26it/s, Gen Loss=16.5686, Disc Loss=0.3251]\n"
     ]
    },
    {
     "name": "stdout",
     "output_type": "stream",
     "text": [
      "Epoch [210/750] | Gen Loss: 13.6848 | Disc Loss: 0.3251\n"
     ]
    },
    {
     "name": "stderr",
     "output_type": "stream",
     "text": [
      "Epoch 211/750: 100%|█████████████████████████████| 125/125 [00:23<00:00,  5.25it/s, Gen Loss=17.1533, Disc Loss=0.3251]\n"
     ]
    },
    {
     "name": "stdout",
     "output_type": "stream",
     "text": [
      "Epoch [211/750] | Gen Loss: 13.9180 | Disc Loss: 0.3251\n"
     ]
    },
    {
     "name": "stderr",
     "output_type": "stream",
     "text": [
      "Epoch 212/750: 100%|█████████████████████████████| 125/125 [00:23<00:00,  5.25it/s, Gen Loss=17.3906, Disc Loss=0.3251]\n"
     ]
    },
    {
     "name": "stdout",
     "output_type": "stream",
     "text": [
      "Epoch [212/750] | Gen Loss: 14.0983 | Disc Loss: 0.3251\n"
     ]
    },
    {
     "name": "stderr",
     "output_type": "stream",
     "text": [
      "Epoch 213/750: 100%|█████████████████████████████| 125/125 [00:23<00:00,  5.26it/s, Gen Loss=17.1721, Disc Loss=0.3253]\n"
     ]
    },
    {
     "name": "stdout",
     "output_type": "stream",
     "text": [
      "Epoch [213/750] | Gen Loss: 14.2174 | Disc Loss: 0.3251\n"
     ]
    },
    {
     "name": "stderr",
     "output_type": "stream",
     "text": [
      "Epoch 214/750: 100%|█████████████████████████████| 125/125 [00:23<00:00,  5.27it/s, Gen Loss=16.8580, Disc Loss=0.3251]\n"
     ]
    },
    {
     "name": "stdout",
     "output_type": "stream",
     "text": [
      "Epoch [214/750] | Gen Loss: 13.9707 | Disc Loss: 0.3251\n"
     ]
    },
    {
     "name": "stderr",
     "output_type": "stream",
     "text": [
      "Epoch 215/750: 100%|█████████████████████████████| 125/125 [00:23<00:00,  5.25it/s, Gen Loss=17.2006, Disc Loss=0.3251]\n"
     ]
    },
    {
     "name": "stdout",
     "output_type": "stream",
     "text": [
      "Epoch [215/750] | Gen Loss: 14.5035 | Disc Loss: 0.3251\n"
     ]
    },
    {
     "name": "stderr",
     "output_type": "stream",
     "text": [
      "Epoch 216/750: 100%|█████████████████████████████| 125/125 [00:23<00:00,  5.22it/s, Gen Loss=17.1475, Disc Loss=0.3251]\n"
     ]
    },
    {
     "name": "stdout",
     "output_type": "stream",
     "text": [
      "Epoch [216/750] | Gen Loss: 14.4639 | Disc Loss: 0.3251\n"
     ]
    },
    {
     "name": "stderr",
     "output_type": "stream",
     "text": [
      "Epoch 217/750: 100%|█████████████████████████████| 125/125 [00:24<00:00,  5.20it/s, Gen Loss=17.3516, Disc Loss=0.3251]\n"
     ]
    },
    {
     "name": "stdout",
     "output_type": "stream",
     "text": [
      "Epoch [217/750] | Gen Loss: 14.7294 | Disc Loss: 0.3251\n"
     ]
    },
    {
     "name": "stderr",
     "output_type": "stream",
     "text": [
      "Epoch 218/750: 100%|█████████████████████████████| 125/125 [00:23<00:00,  5.24it/s, Gen Loss=17.2908, Disc Loss=0.3251]\n"
     ]
    },
    {
     "name": "stdout",
     "output_type": "stream",
     "text": [
      "Epoch [218/750] | Gen Loss: 14.6421 | Disc Loss: 0.3251\n"
     ]
    },
    {
     "name": "stderr",
     "output_type": "stream",
     "text": [
      "Epoch 219/750: 100%|█████████████████████████████| 125/125 [00:23<00:00,  5.26it/s, Gen Loss=17.4722, Disc Loss=0.3251]\n"
     ]
    },
    {
     "name": "stdout",
     "output_type": "stream",
     "text": [
      "Epoch [219/750] | Gen Loss: 14.9129 | Disc Loss: 0.3251\n"
     ]
    },
    {
     "name": "stderr",
     "output_type": "stream",
     "text": [
      "Epoch 220/750: 100%|█████████████████████████████| 125/125 [00:23<00:00,  5.25it/s, Gen Loss=17.4961, Disc Loss=0.3251]\n"
     ]
    },
    {
     "name": "stdout",
     "output_type": "stream",
     "text": [
      "Epoch [220/750] | Gen Loss: 15.0087 | Disc Loss: 0.3251\n"
     ]
    },
    {
     "name": "stderr",
     "output_type": "stream",
     "text": [
      "Epoch 221/750: 100%|█████████████████████████████| 125/125 [00:23<00:00,  5.25it/s, Gen Loss=17.4510, Disc Loss=0.3251]\n"
     ]
    },
    {
     "name": "stdout",
     "output_type": "stream",
     "text": [
      "Epoch [221/750] | Gen Loss: 15.2744 | Disc Loss: 0.3251\n"
     ]
    },
    {
     "name": "stderr",
     "output_type": "stream",
     "text": [
      "Epoch 222/750: 100%|█████████████████████████████| 125/125 [00:23<00:00,  5.24it/s, Gen Loss=17.7161, Disc Loss=0.3251]\n"
     ]
    },
    {
     "name": "stdout",
     "output_type": "stream",
     "text": [
      "Epoch [222/750] | Gen Loss: 15.2765 | Disc Loss: 0.3251\n"
     ]
    },
    {
     "name": "stderr",
     "output_type": "stream",
     "text": [
      "Epoch 223/750: 100%|█████████████████████████████| 125/125 [00:23<00:00,  5.26it/s, Gen Loss=17.5451, Disc Loss=0.3251]\n"
     ]
    },
    {
     "name": "stdout",
     "output_type": "stream",
     "text": [
      "Epoch [223/750] | Gen Loss: 15.3229 | Disc Loss: 0.3251\n"
     ]
    },
    {
     "name": "stderr",
     "output_type": "stream",
     "text": [
      "Epoch 224/750: 100%|█████████████████████████████| 125/125 [00:23<00:00,  5.26it/s, Gen Loss=17.7169, Disc Loss=0.3251]\n"
     ]
    },
    {
     "name": "stdout",
     "output_type": "stream",
     "text": [
      "Epoch [224/750] | Gen Loss: 15.3751 | Disc Loss: 0.3251\n"
     ]
    },
    {
     "name": "stderr",
     "output_type": "stream",
     "text": [
      "Epoch 225/750: 100%|█████████████████████████████| 125/125 [00:23<00:00,  5.26it/s, Gen Loss=17.5136, Disc Loss=0.3251]\n"
     ]
    },
    {
     "name": "stdout",
     "output_type": "stream",
     "text": [
      "Epoch [225/750] | Gen Loss: 15.4260 | Disc Loss: 0.3251\n"
     ]
    },
    {
     "name": "stderr",
     "output_type": "stream",
     "text": [
      "Epoch 226/750: 100%|█████████████████████████████| 125/125 [00:23<00:00,  5.25it/s, Gen Loss=17.5397, Disc Loss=0.3251]\n"
     ]
    },
    {
     "name": "stdout",
     "output_type": "stream",
     "text": [
      "Epoch [226/750] | Gen Loss: 15.4760 | Disc Loss: 0.3251\n"
     ]
    },
    {
     "name": "stderr",
     "output_type": "stream",
     "text": [
      "Epoch 227/750: 100%|█████████████████████████████| 125/125 [00:23<00:00,  5.24it/s, Gen Loss=17.6092, Disc Loss=0.3251]\n"
     ]
    },
    {
     "name": "stdout",
     "output_type": "stream",
     "text": [
      "Epoch [227/750] | Gen Loss: 15.4957 | Disc Loss: 0.3251\n"
     ]
    },
    {
     "name": "stderr",
     "output_type": "stream",
     "text": [
      "Epoch 228/750: 100%|█████████████████████████████| 125/125 [00:23<00:00,  5.28it/s, Gen Loss=18.1739, Disc Loss=0.3251]\n"
     ]
    },
    {
     "name": "stdout",
     "output_type": "stream",
     "text": [
      "Epoch [228/750] | Gen Loss: 15.2327 | Disc Loss: 0.3251\n"
     ]
    },
    {
     "name": "stderr",
     "output_type": "stream",
     "text": [
      "Epoch 229/750: 100%|█████████████████████████████| 125/125 [00:23<00:00,  5.26it/s, Gen Loss=17.8945, Disc Loss=0.3251]\n"
     ]
    },
    {
     "name": "stdout",
     "output_type": "stream",
     "text": [
      "Epoch [229/750] | Gen Loss: 15.1028 | Disc Loss: 0.3251\n"
     ]
    },
    {
     "name": "stderr",
     "output_type": "stream",
     "text": [
      "Epoch 230/750: 100%|█████████████████████████████| 125/125 [00:23<00:00,  5.26it/s, Gen Loss=18.6519, Disc Loss=0.3251]\n"
     ]
    },
    {
     "name": "stdout",
     "output_type": "stream",
     "text": [
      "Epoch [230/750] | Gen Loss: 15.2660 | Disc Loss: 0.3251\n"
     ]
    },
    {
     "name": "stderr",
     "output_type": "stream",
     "text": [
      "Epoch 231/750: 100%|█████████████████████████████| 125/125 [00:23<00:00,  5.22it/s, Gen Loss=18.7593, Disc Loss=0.3251]\n"
     ]
    },
    {
     "name": "stdout",
     "output_type": "stream",
     "text": [
      "Epoch [231/750] | Gen Loss: 15.4784 | Disc Loss: 0.3251\n"
     ]
    },
    {
     "name": "stderr",
     "output_type": "stream",
     "text": [
      "Epoch 232/750: 100%|█████████████████████████████| 125/125 [00:23<00:00,  5.22it/s, Gen Loss=18.2572, Disc Loss=0.3251]\n"
     ]
    },
    {
     "name": "stdout",
     "output_type": "stream",
     "text": [
      "Epoch [232/750] | Gen Loss: 15.5238 | Disc Loss: 0.3251\n"
     ]
    },
    {
     "name": "stderr",
     "output_type": "stream",
     "text": [
      "Epoch 233/750: 100%|█████████████████████████████| 125/125 [00:23<00:00,  5.23it/s, Gen Loss=18.4041, Disc Loss=0.3251]\n"
     ]
    },
    {
     "name": "stdout",
     "output_type": "stream",
     "text": [
      "Epoch [233/750] | Gen Loss: 15.5722 | Disc Loss: 0.3251\n"
     ]
    },
    {
     "name": "stderr",
     "output_type": "stream",
     "text": [
      "Epoch 234/750: 100%|█████████████████████████████| 125/125 [00:23<00:00,  5.25it/s, Gen Loss=17.7487, Disc Loss=0.3251]\n"
     ]
    },
    {
     "name": "stdout",
     "output_type": "stream",
     "text": [
      "Epoch [234/750] | Gen Loss: 15.5890 | Disc Loss: 0.3251\n"
     ]
    },
    {
     "name": "stderr",
     "output_type": "stream",
     "text": [
      "Epoch 235/750: 100%|█████████████████████████████| 125/125 [00:23<00:00,  5.25it/s, Gen Loss=17.8699, Disc Loss=0.3251]\n"
     ]
    },
    {
     "name": "stdout",
     "output_type": "stream",
     "text": [
      "Epoch [235/750] | Gen Loss: 15.0974 | Disc Loss: 0.3251\n"
     ]
    },
    {
     "name": "stderr",
     "output_type": "stream",
     "text": [
      "Epoch 236/750: 100%|█████████████████████████████| 125/125 [00:23<00:00,  5.24it/s, Gen Loss=17.9383, Disc Loss=0.3251]\n"
     ]
    },
    {
     "name": "stdout",
     "output_type": "stream",
     "text": [
      "Epoch [236/750] | Gen Loss: 15.4975 | Disc Loss: 0.3251\n"
     ]
    },
    {
     "name": "stderr",
     "output_type": "stream",
     "text": [
      "Epoch 237/750: 100%|█████████████████████████████| 125/125 [00:23<00:00,  5.23it/s, Gen Loss=18.0660, Disc Loss=0.3251]\n"
     ]
    },
    {
     "name": "stdout",
     "output_type": "stream",
     "text": [
      "Epoch [237/750] | Gen Loss: 15.5388 | Disc Loss: 0.3251\n"
     ]
    },
    {
     "name": "stderr",
     "output_type": "stream",
     "text": [
      "Epoch 238/750: 100%|█████████████████████████████| 125/125 [00:23<00:00,  5.24it/s, Gen Loss=18.0192, Disc Loss=0.3251]\n"
     ]
    },
    {
     "name": "stdout",
     "output_type": "stream",
     "text": [
      "Epoch [238/750] | Gen Loss: 15.6027 | Disc Loss: 0.3251\n"
     ]
    },
    {
     "name": "stderr",
     "output_type": "stream",
     "text": [
      "Epoch 239/750: 100%|█████████████████████████████| 125/125 [00:23<00:00,  5.26it/s, Gen Loss=18.1017, Disc Loss=0.3251]\n"
     ]
    },
    {
     "name": "stdout",
     "output_type": "stream",
     "text": [
      "Epoch [239/750] | Gen Loss: 15.7933 | Disc Loss: 0.3251\n"
     ]
    },
    {
     "name": "stderr",
     "output_type": "stream",
     "text": [
      "Epoch 240/750: 100%|█████████████████████████████| 125/125 [00:23<00:00,  5.24it/s, Gen Loss=18.1397, Disc Loss=0.3251]\n"
     ]
    },
    {
     "name": "stdout",
     "output_type": "stream",
     "text": [
      "Epoch [240/750] | Gen Loss: 15.7964 | Disc Loss: 0.3251\n"
     ]
    },
    {
     "name": "stderr",
     "output_type": "stream",
     "text": [
      "Epoch 241/750: 100%|█████████████████████████████| 125/125 [00:23<00:00,  5.23it/s, Gen Loss=18.0353, Disc Loss=0.3251]\n"
     ]
    },
    {
     "name": "stdout",
     "output_type": "stream",
     "text": [
      "Epoch [241/750] | Gen Loss: 16.0000 | Disc Loss: 0.3251\n"
     ]
    },
    {
     "name": "stderr",
     "output_type": "stream",
     "text": [
      "Epoch 242/750: 100%|█████████████████████████████| 125/125 [00:23<00:00,  5.23it/s, Gen Loss=18.4238, Disc Loss=0.3251]\n"
     ]
    },
    {
     "name": "stdout",
     "output_type": "stream",
     "text": [
      "Epoch [242/750] | Gen Loss: 15.8701 | Disc Loss: 0.3251\n"
     ]
    },
    {
     "name": "stderr",
     "output_type": "stream",
     "text": [
      "Epoch 243/750: 100%|█████████████████████████████| 125/125 [00:23<00:00,  5.25it/s, Gen Loss=18.3885, Disc Loss=0.3251]\n"
     ]
    },
    {
     "name": "stdout",
     "output_type": "stream",
     "text": [
      "Epoch [243/750] | Gen Loss: 15.9532 | Disc Loss: 0.3251\n"
     ]
    },
    {
     "name": "stderr",
     "output_type": "stream",
     "text": [
      "Epoch 244/750: 100%|█████████████████████████████| 125/125 [00:23<00:00,  5.26it/s, Gen Loss=18.4604, Disc Loss=0.3251]\n"
     ]
    },
    {
     "name": "stdout",
     "output_type": "stream",
     "text": [
      "Epoch [244/750] | Gen Loss: 16.0428 | Disc Loss: 0.3251\n"
     ]
    },
    {
     "name": "stderr",
     "output_type": "stream",
     "text": [
      "Epoch 245/750: 100%|█████████████████████████████| 125/125 [00:23<00:00,  5.24it/s, Gen Loss=18.4696, Disc Loss=0.3251]\n"
     ]
    },
    {
     "name": "stdout",
     "output_type": "stream",
     "text": [
      "Epoch [245/750] | Gen Loss: 16.0182 | Disc Loss: 0.3251\n"
     ]
    },
    {
     "name": "stderr",
     "output_type": "stream",
     "text": [
      "Epoch 246/750: 100%|█████████████████████████████| 125/125 [00:23<00:00,  5.23it/s, Gen Loss=18.5680, Disc Loss=0.3251]\n"
     ]
    },
    {
     "name": "stdout",
     "output_type": "stream",
     "text": [
      "Epoch [246/750] | Gen Loss: 16.0316 | Disc Loss: 0.3251\n"
     ]
    },
    {
     "name": "stderr",
     "output_type": "stream",
     "text": [
      "Epoch 247/750: 100%|█████████████████████████████| 125/125 [00:24<00:00,  5.21it/s, Gen Loss=18.5256, Disc Loss=0.3251]\n"
     ]
    },
    {
     "name": "stdout",
     "output_type": "stream",
     "text": [
      "Epoch [247/750] | Gen Loss: 16.1515 | Disc Loss: 0.3251\n"
     ]
    },
    {
     "name": "stderr",
     "output_type": "stream",
     "text": [
      "Epoch 248/750: 100%|█████████████████████████████| 125/125 [00:23<00:00,  5.25it/s, Gen Loss=18.5752, Disc Loss=0.3251]\n"
     ]
    },
    {
     "name": "stdout",
     "output_type": "stream",
     "text": [
      "Epoch [248/750] | Gen Loss: 16.1202 | Disc Loss: 0.3251\n"
     ]
    },
    {
     "name": "stderr",
     "output_type": "stream",
     "text": [
      "Epoch 249/750: 100%|█████████████████████████████| 125/125 [00:23<00:00,  5.25it/s, Gen Loss=15.0955, Disc Loss=0.3253]\n"
     ]
    },
    {
     "name": "stdout",
     "output_type": "stream",
     "text": [
      "Epoch [249/750] | Gen Loss: 10.6790 | Disc Loss: 0.3432\n"
     ]
    },
    {
     "name": "stderr",
     "output_type": "stream",
     "text": [
      "Epoch 250/750: 100%|█████████████████████████████| 125/125 [00:23<00:00,  5.24it/s, Gen Loss=17.3612, Disc Loss=0.3251]\n"
     ]
    },
    {
     "name": "stdout",
     "output_type": "stream",
     "text": [
      "Epoch [250/750] | Gen Loss: 10.9639 | Disc Loss: 0.3252\n"
     ]
    },
    {
     "name": "stderr",
     "output_type": "stream",
     "text": [
      "Epoch 251/750: 100%|█████████████████████████████| 125/125 [00:23<00:00,  5.25it/s, Gen Loss=18.4752, Disc Loss=0.3257]\n"
     ]
    },
    {
     "name": "stdout",
     "output_type": "stream",
     "text": [
      "Epoch [251/750] | Gen Loss: 11.4304 | Disc Loss: 0.3252\n"
     ]
    },
    {
     "name": "stderr",
     "output_type": "stream",
     "text": [
      "Epoch 252/750: 100%|█████████████████████████████| 125/125 [00:23<00:00,  5.22it/s, Gen Loss=18.2916, Disc Loss=0.3251]\n"
     ]
    },
    {
     "name": "stdout",
     "output_type": "stream",
     "text": [
      "Epoch [252/750] | Gen Loss: 12.2791 | Disc Loss: 0.3251\n"
     ]
    },
    {
     "name": "stderr",
     "output_type": "stream",
     "text": [
      "Epoch 253/750: 100%|█████████████████████████████| 125/125 [00:23<00:00,  5.23it/s, Gen Loss=18.2123, Disc Loss=0.3251]\n"
     ]
    },
    {
     "name": "stdout",
     "output_type": "stream",
     "text": [
      "Epoch [253/750] | Gen Loss: 12.6794 | Disc Loss: 0.3251\n"
     ]
    },
    {
     "name": "stderr",
     "output_type": "stream",
     "text": [
      "Epoch 254/750: 100%|█████████████████████████████| 125/125 [00:23<00:00,  5.25it/s, Gen Loss=18.2794, Disc Loss=0.3252]\n"
     ]
    },
    {
     "name": "stdout",
     "output_type": "stream",
     "text": [
      "Epoch [254/750] | Gen Loss: 13.1315 | Disc Loss: 0.3251\n"
     ]
    },
    {
     "name": "stderr",
     "output_type": "stream",
     "text": [
      "Epoch 255/750: 100%|█████████████████████████████| 125/125 [00:23<00:00,  5.23it/s, Gen Loss=19.5174, Disc Loss=0.3251]\n"
     ]
    },
    {
     "name": "stdout",
     "output_type": "stream",
     "text": [
      "Epoch [255/750] | Gen Loss: 13.0456 | Disc Loss: 0.3251\n"
     ]
    },
    {
     "name": "stderr",
     "output_type": "stream",
     "text": [
      "Epoch 256/750: 100%|█████████████████████████████| 125/125 [00:23<00:00,  5.25it/s, Gen Loss=19.0533, Disc Loss=0.3251]\n"
     ]
    },
    {
     "name": "stdout",
     "output_type": "stream",
     "text": [
      "Epoch [256/750] | Gen Loss: 13.2610 | Disc Loss: 0.3251\n"
     ]
    },
    {
     "name": "stderr",
     "output_type": "stream",
     "text": [
      "Epoch 257/750: 100%|█████████████████████████████| 125/125 [00:23<00:00,  5.22it/s, Gen Loss=20.5189, Disc Loss=0.3251]\n"
     ]
    },
    {
     "name": "stdout",
     "output_type": "stream",
     "text": [
      "Epoch [257/750] | Gen Loss: 13.5531 | Disc Loss: 0.3251\n"
     ]
    },
    {
     "name": "stderr",
     "output_type": "stream",
     "text": [
      "Epoch 258/750: 100%|█████████████████████████████| 125/125 [00:23<00:00,  5.26it/s, Gen Loss=20.3205, Disc Loss=0.3251]\n"
     ]
    },
    {
     "name": "stdout",
     "output_type": "stream",
     "text": [
      "Epoch [258/750] | Gen Loss: 13.6402 | Disc Loss: 0.3251\n"
     ]
    },
    {
     "name": "stderr",
     "output_type": "stream",
     "text": [
      "Epoch 259/750: 100%|█████████████████████████████| 125/125 [00:23<00:00,  5.23it/s, Gen Loss=19.8680, Disc Loss=0.3251]\n"
     ]
    },
    {
     "name": "stdout",
     "output_type": "stream",
     "text": [
      "Epoch [259/750] | Gen Loss: 13.7822 | Disc Loss: 0.3251\n"
     ]
    },
    {
     "name": "stderr",
     "output_type": "stream",
     "text": [
      "Epoch 260/750: 100%|█████████████████████████████| 125/125 [00:23<00:00,  5.25it/s, Gen Loss=19.7096, Disc Loss=0.3251]\n"
     ]
    },
    {
     "name": "stdout",
     "output_type": "stream",
     "text": [
      "Epoch [260/750] | Gen Loss: 14.0104 | Disc Loss: 0.3251\n"
     ]
    },
    {
     "name": "stderr",
     "output_type": "stream",
     "text": [
      "Epoch 261/750: 100%|█████████████████████████████| 125/125 [00:23<00:00,  5.23it/s, Gen Loss=20.5452, Disc Loss=0.3251]\n"
     ]
    },
    {
     "name": "stdout",
     "output_type": "stream",
     "text": [
      "Epoch [261/750] | Gen Loss: 14.1144 | Disc Loss: 0.3251\n"
     ]
    },
    {
     "name": "stderr",
     "output_type": "stream",
     "text": [
      "Epoch 262/750: 100%|█████████████████████████████| 125/125 [00:23<00:00,  5.23it/s, Gen Loss=19.7314, Disc Loss=0.3252]\n"
     ]
    },
    {
     "name": "stdout",
     "output_type": "stream",
     "text": [
      "Epoch [262/750] | Gen Loss: 14.3835 | Disc Loss: 0.3251\n"
     ]
    },
    {
     "name": "stderr",
     "output_type": "stream",
     "text": [
      "Epoch 263/750: 100%|█████████████████████████████| 125/125 [00:23<00:00,  5.22it/s, Gen Loss=21.6819, Disc Loss=0.3251]\n"
     ]
    },
    {
     "name": "stdout",
     "output_type": "stream",
     "text": [
      "Epoch [263/750] | Gen Loss: 14.5500 | Disc Loss: 0.3251\n"
     ]
    },
    {
     "name": "stderr",
     "output_type": "stream",
     "text": [
      "Epoch 264/750: 100%|█████████████████████████████| 125/125 [00:23<00:00,  5.24it/s, Gen Loss=20.2922, Disc Loss=0.3251]\n"
     ]
    },
    {
     "name": "stdout",
     "output_type": "stream",
     "text": [
      "Epoch [264/750] | Gen Loss: 14.5801 | Disc Loss: 0.3251\n"
     ]
    },
    {
     "name": "stderr",
     "output_type": "stream",
     "text": [
      "Epoch 265/750: 100%|█████████████████████████████| 125/125 [00:23<00:00,  5.25it/s, Gen Loss=20.5717, Disc Loss=0.3251]\n"
     ]
    },
    {
     "name": "stdout",
     "output_type": "stream",
     "text": [
      "Epoch [265/750] | Gen Loss: 14.6632 | Disc Loss: 0.3251\n"
     ]
    },
    {
     "name": "stderr",
     "output_type": "stream",
     "text": [
      "Epoch 266/750: 100%|█████████████████████████████| 125/125 [00:23<00:00,  5.22it/s, Gen Loss=20.4246, Disc Loss=0.3252]\n"
     ]
    },
    {
     "name": "stdout",
     "output_type": "stream",
     "text": [
      "Epoch [266/750] | Gen Loss: 14.9079 | Disc Loss: 0.3251\n"
     ]
    },
    {
     "name": "stderr",
     "output_type": "stream",
     "text": [
      "Epoch 267/750: 100%|█████████████████████████████| 125/125 [00:23<00:00,  5.22it/s, Gen Loss=21.6035, Disc Loss=0.3251]\n"
     ]
    },
    {
     "name": "stdout",
     "output_type": "stream",
     "text": [
      "Epoch [267/750] | Gen Loss: 15.0557 | Disc Loss: 0.3251\n"
     ]
    },
    {
     "name": "stderr",
     "output_type": "stream",
     "text": [
      "Epoch 268/750: 100%|█████████████████████████████| 125/125 [00:23<00:00,  5.24it/s, Gen Loss=21.2998, Disc Loss=0.3251]\n"
     ]
    },
    {
     "name": "stdout",
     "output_type": "stream",
     "text": [
      "Epoch [268/750] | Gen Loss: 15.1518 | Disc Loss: 0.3251\n"
     ]
    },
    {
     "name": "stderr",
     "output_type": "stream",
     "text": [
      "Epoch 269/750: 100%|█████████████████████████████| 125/125 [00:23<00:00,  5.25it/s, Gen Loss=20.8256, Disc Loss=0.3251]\n"
     ]
    },
    {
     "name": "stdout",
     "output_type": "stream",
     "text": [
      "Epoch [269/750] | Gen Loss: 15.1378 | Disc Loss: 0.3251\n"
     ]
    },
    {
     "name": "stderr",
     "output_type": "stream",
     "text": [
      "Epoch 270/750: 100%|█████████████████████████████| 125/125 [00:23<00:00,  5.24it/s, Gen Loss=21.0471, Disc Loss=0.3251]\n"
     ]
    },
    {
     "name": "stdout",
     "output_type": "stream",
     "text": [
      "Epoch [270/750] | Gen Loss: 15.3187 | Disc Loss: 0.3251\n"
     ]
    },
    {
     "name": "stderr",
     "output_type": "stream",
     "text": [
      "Epoch 271/750: 100%|█████████████████████████████| 125/125 [00:23<00:00,  5.24it/s, Gen Loss=21.2514, Disc Loss=0.3251]\n"
     ]
    },
    {
     "name": "stdout",
     "output_type": "stream",
     "text": [
      "Epoch [271/750] | Gen Loss: 15.4180 | Disc Loss: 0.3251\n"
     ]
    },
    {
     "name": "stderr",
     "output_type": "stream",
     "text": [
      "Epoch 272/750: 100%|█████████████████████████████| 125/125 [00:23<00:00,  5.21it/s, Gen Loss=21.7089, Disc Loss=0.3251]\n"
     ]
    },
    {
     "name": "stdout",
     "output_type": "stream",
     "text": [
      "Epoch [272/750] | Gen Loss: 15.4128 | Disc Loss: 0.3251\n"
     ]
    },
    {
     "name": "stderr",
     "output_type": "stream",
     "text": [
      "Epoch 273/750: 100%|█████████████████████████████| 125/125 [00:23<00:00,  5.25it/s, Gen Loss=20.5423, Disc Loss=0.3252]\n"
     ]
    },
    {
     "name": "stdout",
     "output_type": "stream",
     "text": [
      "Epoch [273/750] | Gen Loss: 15.4509 | Disc Loss: 0.3251\n"
     ]
    },
    {
     "name": "stderr",
     "output_type": "stream",
     "text": [
      "Epoch 274/750: 100%|█████████████████████████████| 125/125 [00:23<00:00,  5.24it/s, Gen Loss=21.8312, Disc Loss=0.3251]\n"
     ]
    },
    {
     "name": "stdout",
     "output_type": "stream",
     "text": [
      "Epoch [274/750] | Gen Loss: 14.3152 | Disc Loss: 0.3251\n"
     ]
    },
    {
     "name": "stderr",
     "output_type": "stream",
     "text": [
      "Epoch 275/750: 100%|█████████████████████████████| 125/125 [00:23<00:00,  5.26it/s, Gen Loss=19.7490, Disc Loss=0.3251]\n"
     ]
    },
    {
     "name": "stdout",
     "output_type": "stream",
     "text": [
      "Epoch [275/750] | Gen Loss: 14.6611 | Disc Loss: 0.3251\n"
     ]
    },
    {
     "name": "stderr",
     "output_type": "stream",
     "text": [
      "Epoch 276/750: 100%|█████████████████████████████| 125/125 [00:23<00:00,  5.24it/s, Gen Loss=19.6430, Disc Loss=0.3251]\n"
     ]
    },
    {
     "name": "stdout",
     "output_type": "stream",
     "text": [
      "Epoch [276/750] | Gen Loss: 14.9078 | Disc Loss: 0.3251\n"
     ]
    },
    {
     "name": "stderr",
     "output_type": "stream",
     "text": [
      "Epoch 277/750: 100%|█████████████████████████████| 125/125 [00:23<00:00,  5.21it/s, Gen Loss=20.4164, Disc Loss=0.3251]\n"
     ]
    },
    {
     "name": "stdout",
     "output_type": "stream",
     "text": [
      "Epoch [277/750] | Gen Loss: 15.2082 | Disc Loss: 0.3251\n"
     ]
    },
    {
     "name": "stderr",
     "output_type": "stream",
     "text": [
      "Epoch 278/750: 100%|█████████████████████████████| 125/125 [00:23<00:00,  5.22it/s, Gen Loss=19.7659, Disc Loss=0.3251]\n"
     ]
    },
    {
     "name": "stdout",
     "output_type": "stream",
     "text": [
      "Epoch [278/750] | Gen Loss: 15.4282 | Disc Loss: 0.3251\n"
     ]
    },
    {
     "name": "stderr",
     "output_type": "stream",
     "text": [
      "Epoch 279/750: 100%|█████████████████████████████| 125/125 [00:23<00:00,  5.25it/s, Gen Loss=21.2306, Disc Loss=0.3251]\n"
     ]
    },
    {
     "name": "stdout",
     "output_type": "stream",
     "text": [
      "Epoch [279/750] | Gen Loss: 15.5974 | Disc Loss: 0.3251\n"
     ]
    },
    {
     "name": "stderr",
     "output_type": "stream",
     "text": [
      "Epoch 280/750: 100%|█████████████████████████████| 125/125 [00:23<00:00,  5.24it/s, Gen Loss=21.9309, Disc Loss=0.3251]\n"
     ]
    },
    {
     "name": "stdout",
     "output_type": "stream",
     "text": [
      "Epoch [280/750] | Gen Loss: 15.6376 | Disc Loss: 0.3251\n"
     ]
    },
    {
     "name": "stderr",
     "output_type": "stream",
     "text": [
      "Epoch 281/750: 100%|█████████████████████████████| 125/125 [00:23<00:00,  5.23it/s, Gen Loss=21.5385, Disc Loss=0.3251]\n"
     ]
    },
    {
     "name": "stdout",
     "output_type": "stream",
     "text": [
      "Epoch [281/750] | Gen Loss: 15.7793 | Disc Loss: 0.3251\n"
     ]
    },
    {
     "name": "stderr",
     "output_type": "stream",
     "text": [
      "Epoch 282/750: 100%|█████████████████████████████| 125/125 [00:23<00:00,  5.22it/s, Gen Loss=20.9007, Disc Loss=0.3251]\n"
     ]
    },
    {
     "name": "stdout",
     "output_type": "stream",
     "text": [
      "Epoch [282/750] | Gen Loss: 15.9751 | Disc Loss: 0.3251\n"
     ]
    },
    {
     "name": "stderr",
     "output_type": "stream",
     "text": [
      "Epoch 283/750: 100%|█████████████████████████████| 125/125 [00:23<00:00,  5.25it/s, Gen Loss=20.5721, Disc Loss=0.3251]\n"
     ]
    },
    {
     "name": "stdout",
     "output_type": "stream",
     "text": [
      "Epoch [283/750] | Gen Loss: 15.9406 | Disc Loss: 0.3251\n"
     ]
    },
    {
     "name": "stderr",
     "output_type": "stream",
     "text": [
      "Epoch 284/750: 100%|█████████████████████████████| 125/125 [00:23<00:00,  5.24it/s, Gen Loss=20.9688, Disc Loss=0.3251]\n"
     ]
    },
    {
     "name": "stdout",
     "output_type": "stream",
     "text": [
      "Epoch [284/750] | Gen Loss: 16.0457 | Disc Loss: 0.3251\n"
     ]
    },
    {
     "name": "stderr",
     "output_type": "stream",
     "text": [
      "Epoch 285/750: 100%|█████████████████████████████| 125/125 [00:23<00:00,  5.23it/s, Gen Loss=20.8084, Disc Loss=0.3251]\n"
     ]
    },
    {
     "name": "stdout",
     "output_type": "stream",
     "text": [
      "Epoch [285/750] | Gen Loss: 16.1198 | Disc Loss: 0.3251\n"
     ]
    },
    {
     "name": "stderr",
     "output_type": "stream",
     "text": [
      "Epoch 286/750: 100%|█████████████████████████████| 125/125 [00:23<00:00,  5.24it/s, Gen Loss=21.7488, Disc Loss=0.3251]\n"
     ]
    },
    {
     "name": "stdout",
     "output_type": "stream",
     "text": [
      "Epoch [286/750] | Gen Loss: 16.2161 | Disc Loss: 0.3251\n"
     ]
    },
    {
     "name": "stderr",
     "output_type": "stream",
     "text": [
      "Epoch 287/750: 100%|█████████████████████████████| 125/125 [00:23<00:00,  5.22it/s, Gen Loss=22.5290, Disc Loss=0.3251]\n"
     ]
    },
    {
     "name": "stdout",
     "output_type": "stream",
     "text": [
      "Epoch [287/750] | Gen Loss: 16.2797 | Disc Loss: 0.3251\n"
     ]
    },
    {
     "name": "stderr",
     "output_type": "stream",
     "text": [
      "Epoch 288/750: 100%|█████████████████████████████| 125/125 [00:23<00:00,  5.24it/s, Gen Loss=22.4409, Disc Loss=0.3251]\n"
     ]
    },
    {
     "name": "stdout",
     "output_type": "stream",
     "text": [
      "Epoch [288/750] | Gen Loss: 16.3669 | Disc Loss: 0.3251\n"
     ]
    },
    {
     "name": "stderr",
     "output_type": "stream",
     "text": [
      "Epoch 289/750: 100%|█████████████████████████████| 125/125 [00:23<00:00,  5.24it/s, Gen Loss=22.2281, Disc Loss=0.3251]\n"
     ]
    },
    {
     "name": "stdout",
     "output_type": "stream",
     "text": [
      "Epoch [289/750] | Gen Loss: 16.4185 | Disc Loss: 0.3251\n"
     ]
    },
    {
     "name": "stderr",
     "output_type": "stream",
     "text": [
      "Epoch 290/750: 100%|█████████████████████████████| 125/125 [00:23<00:00,  5.23it/s, Gen Loss=21.2123, Disc Loss=0.3251]\n"
     ]
    },
    {
     "name": "stdout",
     "output_type": "stream",
     "text": [
      "Epoch [290/750] | Gen Loss: 16.5191 | Disc Loss: 0.3251\n"
     ]
    },
    {
     "name": "stderr",
     "output_type": "stream",
     "text": [
      "Epoch 291/750: 100%|█████████████████████████████| 125/125 [00:23<00:00,  5.24it/s, Gen Loss=21.2657, Disc Loss=0.3251]\n"
     ]
    },
    {
     "name": "stdout",
     "output_type": "stream",
     "text": [
      "Epoch [291/750] | Gen Loss: 16.5577 | Disc Loss: 0.3251\n"
     ]
    },
    {
     "name": "stderr",
     "output_type": "stream",
     "text": [
      "Epoch 292/750: 100%|█████████████████████████████| 125/125 [00:24<00:00,  5.21it/s, Gen Loss=23.0779, Disc Loss=0.3251]\n"
     ]
    },
    {
     "name": "stdout",
     "output_type": "stream",
     "text": [
      "Epoch [292/750] | Gen Loss: 16.7151 | Disc Loss: 0.3251\n"
     ]
    },
    {
     "name": "stderr",
     "output_type": "stream",
     "text": [
      "Epoch 293/750: 100%|█████████████████████████████| 125/125 [00:23<00:00,  5.23it/s, Gen Loss=21.5572, Disc Loss=0.3251]\n"
     ]
    },
    {
     "name": "stdout",
     "output_type": "stream",
     "text": [
      "Epoch [293/750] | Gen Loss: 16.7304 | Disc Loss: 0.3251\n"
     ]
    },
    {
     "name": "stderr",
     "output_type": "stream",
     "text": [
      "Epoch 294/750: 100%|█████████████████████████████| 125/125 [00:23<00:00,  5.23it/s, Gen Loss=21.8184, Disc Loss=0.3251]\n"
     ]
    },
    {
     "name": "stdout",
     "output_type": "stream",
     "text": [
      "Epoch [294/750] | Gen Loss: 16.7657 | Disc Loss: 0.3251\n"
     ]
    },
    {
     "name": "stderr",
     "output_type": "stream",
     "text": [
      "Epoch 295/750: 100%|█████████████████████████████| 125/125 [00:23<00:00,  5.24it/s, Gen Loss=23.2987, Disc Loss=0.3251]\n"
     ]
    },
    {
     "name": "stdout",
     "output_type": "stream",
     "text": [
      "Epoch [295/750] | Gen Loss: 16.9840 | Disc Loss: 0.3251\n"
     ]
    },
    {
     "name": "stderr",
     "output_type": "stream",
     "text": [
      "Epoch 296/750: 100%|█████████████████████████████| 125/125 [00:23<00:00,  5.23it/s, Gen Loss=23.0561, Disc Loss=0.3251]\n"
     ]
    },
    {
     "name": "stdout",
     "output_type": "stream",
     "text": [
      "Epoch [296/750] | Gen Loss: 16.8461 | Disc Loss: 0.3251\n"
     ]
    },
    {
     "name": "stderr",
     "output_type": "stream",
     "text": [
      "Epoch 297/750: 100%|█████████████████████████████| 125/125 [00:23<00:00,  5.21it/s, Gen Loss=23.8449, Disc Loss=0.3251]\n"
     ]
    },
    {
     "name": "stdout",
     "output_type": "stream",
     "text": [
      "Epoch [297/750] | Gen Loss: 16.9036 | Disc Loss: 0.3251\n"
     ]
    },
    {
     "name": "stderr",
     "output_type": "stream",
     "text": [
      "Epoch 298/750: 100%|█████████████████████████████| 125/125 [00:23<00:00,  5.23it/s, Gen Loss=21.7660, Disc Loss=0.3251]\n"
     ]
    },
    {
     "name": "stdout",
     "output_type": "stream",
     "text": [
      "Epoch [298/750] | Gen Loss: 17.0189 | Disc Loss: 0.3251\n"
     ]
    },
    {
     "name": "stderr",
     "output_type": "stream",
     "text": [
      "Epoch 299/750: 100%|█████████████████████████████| 125/125 [00:23<00:00,  5.25it/s, Gen Loss=21.8431, Disc Loss=0.3251]\n"
     ]
    },
    {
     "name": "stdout",
     "output_type": "stream",
     "text": [
      "Epoch [299/750] | Gen Loss: 17.1723 | Disc Loss: 0.3251\n"
     ]
    },
    {
     "name": "stderr",
     "output_type": "stream",
     "text": [
      "Epoch 300/750: 100%|█████████████████████████████| 125/125 [00:23<00:00,  5.23it/s, Gen Loss=22.5967, Disc Loss=0.3251]\n"
     ]
    },
    {
     "name": "stdout",
     "output_type": "stream",
     "text": [
      "Epoch [300/750] | Gen Loss: 16.8928 | Disc Loss: 0.3251\n"
     ]
    },
    {
     "name": "stderr",
     "output_type": "stream",
     "text": [
      "Epoch 301/750: 100%|█████████████████████████████| 125/125 [00:23<00:00,  5.22it/s, Gen Loss=22.7223, Disc Loss=0.3251]\n"
     ]
    },
    {
     "name": "stdout",
     "output_type": "stream",
     "text": [
      "Epoch [301/750] | Gen Loss: 16.9877 | Disc Loss: 0.3251\n"
     ]
    },
    {
     "name": "stderr",
     "output_type": "stream",
     "text": [
      "Epoch 302/750: 100%|█████████████████████████████| 125/125 [00:23<00:00,  5.23it/s, Gen Loss=22.8703, Disc Loss=0.3251]\n"
     ]
    },
    {
     "name": "stdout",
     "output_type": "stream",
     "text": [
      "Epoch [302/750] | Gen Loss: 17.0895 | Disc Loss: 0.3251\n"
     ]
    },
    {
     "name": "stderr",
     "output_type": "stream",
     "text": [
      "Epoch 303/750: 100%|█████████████████████████████| 125/125 [00:23<00:00,  5.24it/s, Gen Loss=23.2613, Disc Loss=0.3251]\n"
     ]
    },
    {
     "name": "stdout",
     "output_type": "stream",
     "text": [
      "Epoch [303/750] | Gen Loss: 17.3219 | Disc Loss: 0.3251\n"
     ]
    },
    {
     "name": "stderr",
     "output_type": "stream",
     "text": [
      "Epoch 304/750: 100%|█████████████████████████████| 125/125 [00:23<00:00,  5.23it/s, Gen Loss=22.1771, Disc Loss=0.3251]\n"
     ]
    },
    {
     "name": "stdout",
     "output_type": "stream",
     "text": [
      "Epoch [304/750] | Gen Loss: 17.2060 | Disc Loss: 0.3251\n"
     ]
    },
    {
     "name": "stderr",
     "output_type": "stream",
     "text": [
      "Epoch 305/750: 100%|█████████████████████████████| 125/125 [00:23<00:00,  5.22it/s, Gen Loss=23.2694, Disc Loss=0.3251]\n"
     ]
    },
    {
     "name": "stdout",
     "output_type": "stream",
     "text": [
      "Epoch [305/750] | Gen Loss: 17.3342 | Disc Loss: 0.3251\n"
     ]
    },
    {
     "name": "stderr",
     "output_type": "stream",
     "text": [
      "Epoch 306/750: 100%|█████████████████████████████| 125/125 [00:23<00:00,  5.22it/s, Gen Loss=22.0090, Disc Loss=0.3251]\n"
     ]
    },
    {
     "name": "stdout",
     "output_type": "stream",
     "text": [
      "Epoch [306/750] | Gen Loss: 17.5629 | Disc Loss: 0.3251\n"
     ]
    },
    {
     "name": "stderr",
     "output_type": "stream",
     "text": [
      "Epoch 307/750: 100%|█████████████████████████████| 125/125 [00:23<00:00,  5.22it/s, Gen Loss=23.1559, Disc Loss=0.3251]\n"
     ]
    },
    {
     "name": "stdout",
     "output_type": "stream",
     "text": [
      "Epoch [307/750] | Gen Loss: 17.4821 | Disc Loss: 0.3251\n"
     ]
    },
    {
     "name": "stderr",
     "output_type": "stream",
     "text": [
      "Epoch 308/750: 100%|█████████████████████████████| 125/125 [00:23<00:00,  5.23it/s, Gen Loss=22.6611, Disc Loss=0.3251]\n"
     ]
    },
    {
     "name": "stdout",
     "output_type": "stream",
     "text": [
      "Epoch [308/750] | Gen Loss: 17.4983 | Disc Loss: 0.3251\n"
     ]
    },
    {
     "name": "stderr",
     "output_type": "stream",
     "text": [
      "Epoch 309/750: 100%|█████████████████████████████| 125/125 [00:23<00:00,  5.23it/s, Gen Loss=24.0883, Disc Loss=0.3251]\n"
     ]
    },
    {
     "name": "stdout",
     "output_type": "stream",
     "text": [
      "Epoch [309/750] | Gen Loss: 17.5185 | Disc Loss: 0.3251\n"
     ]
    },
    {
     "name": "stderr",
     "output_type": "stream",
     "text": [
      "Epoch 310/750: 100%|█████████████████████████████| 125/125 [00:23<00:00,  5.24it/s, Gen Loss=23.5254, Disc Loss=0.3251]\n"
     ]
    },
    {
     "name": "stdout",
     "output_type": "stream",
     "text": [
      "Epoch [310/750] | Gen Loss: 17.7194 | Disc Loss: 0.3251\n"
     ]
    },
    {
     "name": "stderr",
     "output_type": "stream",
     "text": [
      "Epoch 311/750: 100%|█████████████████████████████| 125/125 [00:23<00:00,  5.22it/s, Gen Loss=24.1345, Disc Loss=0.3251]\n"
     ]
    },
    {
     "name": "stdout",
     "output_type": "stream",
     "text": [
      "Epoch [311/750] | Gen Loss: 17.7804 | Disc Loss: 0.3251\n"
     ]
    },
    {
     "name": "stderr",
     "output_type": "stream",
     "text": [
      "Epoch 312/750: 100%|█████████████████████████████| 125/125 [00:23<00:00,  5.22it/s, Gen Loss=24.0944, Disc Loss=0.3251]\n"
     ]
    },
    {
     "name": "stdout",
     "output_type": "stream",
     "text": [
      "Epoch [312/750] | Gen Loss: 17.7829 | Disc Loss: 0.3251\n"
     ]
    },
    {
     "name": "stderr",
     "output_type": "stream",
     "text": [
      "Epoch 313/750: 100%|█████████████████████████████| 125/125 [00:23<00:00,  5.24it/s, Gen Loss=22.3954, Disc Loss=0.3251]\n"
     ]
    },
    {
     "name": "stdout",
     "output_type": "stream",
     "text": [
      "Epoch [313/750] | Gen Loss: 17.8984 | Disc Loss: 0.3251\n"
     ]
    },
    {
     "name": "stderr",
     "output_type": "stream",
     "text": [
      "Epoch 314/750: 100%|█████████████████████████████| 125/125 [00:23<00:00,  5.22it/s, Gen Loss=23.7326, Disc Loss=0.3251]\n"
     ]
    },
    {
     "name": "stdout",
     "output_type": "stream",
     "text": [
      "Epoch [314/750] | Gen Loss: 17.9091 | Disc Loss: 0.3251\n"
     ]
    },
    {
     "name": "stderr",
     "output_type": "stream",
     "text": [
      "Epoch 315/750: 100%|█████████████████████████████| 125/125 [00:23<00:00,  5.23it/s, Gen Loss=24.2258, Disc Loss=0.3251]\n"
     ]
    },
    {
     "name": "stdout",
     "output_type": "stream",
     "text": [
      "Epoch [315/750] | Gen Loss: 18.0592 | Disc Loss: 0.3251\n"
     ]
    },
    {
     "name": "stderr",
     "output_type": "stream",
     "text": [
      "Epoch 316/750: 100%|█████████████████████████████| 125/125 [00:23<00:00,  5.21it/s, Gen Loss=23.5161, Disc Loss=0.3251]\n"
     ]
    },
    {
     "name": "stdout",
     "output_type": "stream",
     "text": [
      "Epoch [316/750] | Gen Loss: 18.1257 | Disc Loss: 0.3251\n"
     ]
    },
    {
     "name": "stderr",
     "output_type": "stream",
     "text": [
      "Epoch 317/750: 100%|█████████████████████████████| 125/125 [00:24<00:00,  5.21it/s, Gen Loss=23.7925, Disc Loss=0.3251]\n"
     ]
    },
    {
     "name": "stdout",
     "output_type": "stream",
     "text": [
      "Epoch [317/750] | Gen Loss: 18.0570 | Disc Loss: 0.3251\n"
     ]
    },
    {
     "name": "stderr",
     "output_type": "stream",
     "text": [
      "Epoch 318/750: 100%|█████████████████████████████| 125/125 [00:23<00:00,  5.23it/s, Gen Loss=23.0100, Disc Loss=0.3251]\n"
     ]
    },
    {
     "name": "stdout",
     "output_type": "stream",
     "text": [
      "Epoch [318/750] | Gen Loss: 17.8758 | Disc Loss: 0.3251\n"
     ]
    },
    {
     "name": "stderr",
     "output_type": "stream",
     "text": [
      "Epoch 319/750: 100%|█████████████████████████████| 125/125 [00:23<00:00,  5.26it/s, Gen Loss=23.9610, Disc Loss=0.3251]\n"
     ]
    },
    {
     "name": "stdout",
     "output_type": "stream",
     "text": [
      "Epoch [319/750] | Gen Loss: 18.0893 | Disc Loss: 0.3251\n"
     ]
    },
    {
     "name": "stderr",
     "output_type": "stream",
     "text": [
      "Epoch 320/750: 100%|█████████████████████████████| 125/125 [00:23<00:00,  5.22it/s, Gen Loss=23.3569, Disc Loss=0.3251]\n"
     ]
    },
    {
     "name": "stdout",
     "output_type": "stream",
     "text": [
      "Epoch [320/750] | Gen Loss: 18.1170 | Disc Loss: 0.3251\n"
     ]
    },
    {
     "name": "stderr",
     "output_type": "stream",
     "text": [
      "Epoch 321/750: 100%|█████████████████████████████| 125/125 [00:23<00:00,  5.23it/s, Gen Loss=23.6091, Disc Loss=0.3251]\n"
     ]
    },
    {
     "name": "stdout",
     "output_type": "stream",
     "text": [
      "Epoch [321/750] | Gen Loss: 18.1238 | Disc Loss: 0.3251\n"
     ]
    },
    {
     "name": "stderr",
     "output_type": "stream",
     "text": [
      "Epoch 322/750: 100%|█████████████████████████████| 125/125 [00:24<00:00,  5.20it/s, Gen Loss=23.9268, Disc Loss=0.3251]\n"
     ]
    },
    {
     "name": "stdout",
     "output_type": "stream",
     "text": [
      "Epoch [322/750] | Gen Loss: 18.2423 | Disc Loss: 0.3251\n"
     ]
    },
    {
     "name": "stderr",
     "output_type": "stream",
     "text": [
      "Epoch 323/750: 100%|█████████████████████████████| 125/125 [00:23<00:00,  5.21it/s, Gen Loss=23.9325, Disc Loss=0.3251]\n"
     ]
    },
    {
     "name": "stdout",
     "output_type": "stream",
     "text": [
      "Epoch [323/750] | Gen Loss: 18.2586 | Disc Loss: 0.3251\n"
     ]
    },
    {
     "name": "stderr",
     "output_type": "stream",
     "text": [
      "Epoch 324/750: 100%|█████████████████████████████| 125/125 [00:23<00:00,  5.23it/s, Gen Loss=24.0076, Disc Loss=0.3251]\n"
     ]
    },
    {
     "name": "stdout",
     "output_type": "stream",
     "text": [
      "Epoch [324/750] | Gen Loss: 18.3463 | Disc Loss: 0.3251\n"
     ]
    },
    {
     "name": "stderr",
     "output_type": "stream",
     "text": [
      "Epoch 325/750: 100%|█████████████████████████████| 125/125 [00:23<00:00,  5.22it/s, Gen Loss=24.4578, Disc Loss=0.3251]\n"
     ]
    },
    {
     "name": "stdout",
     "output_type": "stream",
     "text": [
      "Epoch [325/750] | Gen Loss: 18.4069 | Disc Loss: 0.3251\n"
     ]
    },
    {
     "name": "stderr",
     "output_type": "stream",
     "text": [
      "Epoch 326/750: 100%|█████████████████████████████| 125/125 [00:23<00:00,  5.22it/s, Gen Loss=24.0810, Disc Loss=0.3251]\n"
     ]
    },
    {
     "name": "stdout",
     "output_type": "stream",
     "text": [
      "Epoch [326/750] | Gen Loss: 18.5199 | Disc Loss: 0.3251\n"
     ]
    },
    {
     "name": "stderr",
     "output_type": "stream",
     "text": [
      "Epoch 327/750: 100%|█████████████████████████████| 125/125 [00:24<00:00,  5.20it/s, Gen Loss=24.8762, Disc Loss=0.3251]\n"
     ]
    },
    {
     "name": "stdout",
     "output_type": "stream",
     "text": [
      "Epoch [327/750] | Gen Loss: 18.7142 | Disc Loss: 0.3251\n"
     ]
    },
    {
     "name": "stderr",
     "output_type": "stream",
     "text": [
      "Epoch 328/750: 100%|█████████████████████████████| 125/125 [00:23<00:00,  5.21it/s, Gen Loss=23.9328, Disc Loss=0.3251]\n"
     ]
    },
    {
     "name": "stdout",
     "output_type": "stream",
     "text": [
      "Epoch [328/750] | Gen Loss: 18.6729 | Disc Loss: 0.3251\n"
     ]
    },
    {
     "name": "stderr",
     "output_type": "stream",
     "text": [
      "Epoch 329/750: 100%|█████████████████████████████| 125/125 [00:23<00:00,  5.24it/s, Gen Loss=24.2346, Disc Loss=0.3251]\n"
     ]
    },
    {
     "name": "stdout",
     "output_type": "stream",
     "text": [
      "Epoch [329/750] | Gen Loss: 18.5096 | Disc Loss: 0.3251\n"
     ]
    },
    {
     "name": "stderr",
     "output_type": "stream",
     "text": [
      "Epoch 330/750: 100%|█████████████████████████████| 125/125 [00:23<00:00,  5.24it/s, Gen Loss=24.5412, Disc Loss=0.3251]\n"
     ]
    },
    {
     "name": "stdout",
     "output_type": "stream",
     "text": [
      "Epoch [330/750] | Gen Loss: 18.3982 | Disc Loss: 0.3251\n"
     ]
    },
    {
     "name": "stderr",
     "output_type": "stream",
     "text": [
      "Epoch 331/750: 100%|█████████████████████████████| 125/125 [00:23<00:00,  5.23it/s, Gen Loss=23.8683, Disc Loss=0.3251]\n"
     ]
    },
    {
     "name": "stdout",
     "output_type": "stream",
     "text": [
      "Epoch [331/750] | Gen Loss: 18.6346 | Disc Loss: 0.3251\n"
     ]
    },
    {
     "name": "stderr",
     "output_type": "stream",
     "text": [
      "Epoch 332/750: 100%|█████████████████████████████| 125/125 [00:24<00:00,  5.20it/s, Gen Loss=25.1559, Disc Loss=0.3251]\n"
     ]
    },
    {
     "name": "stdout",
     "output_type": "stream",
     "text": [
      "Epoch [332/750] | Gen Loss: 18.7711 | Disc Loss: 0.3251\n"
     ]
    },
    {
     "name": "stderr",
     "output_type": "stream",
     "text": [
      "Epoch 333/750: 100%|█████████████████████████████| 125/125 [00:23<00:00,  5.23it/s, Gen Loss=24.0851, Disc Loss=0.3251]\n"
     ]
    },
    {
     "name": "stdout",
     "output_type": "stream",
     "text": [
      "Epoch [333/750] | Gen Loss: 18.6519 | Disc Loss: 0.3251\n"
     ]
    },
    {
     "name": "stderr",
     "output_type": "stream",
     "text": [
      "Epoch 334/750: 100%|█████████████████████████████| 125/125 [00:23<00:00,  5.24it/s, Gen Loss=23.4595, Disc Loss=0.3251]\n"
     ]
    },
    {
     "name": "stdout",
     "output_type": "stream",
     "text": [
      "Epoch [334/750] | Gen Loss: 18.6186 | Disc Loss: 0.3251\n"
     ]
    },
    {
     "name": "stderr",
     "output_type": "stream",
     "text": [
      "Epoch 335/750: 100%|█████████████████████████████| 125/125 [00:23<00:00,  5.24it/s, Gen Loss=23.6542, Disc Loss=0.3251]\n"
     ]
    },
    {
     "name": "stdout",
     "output_type": "stream",
     "text": [
      "Epoch [335/750] | Gen Loss: 18.6217 | Disc Loss: 0.3251\n"
     ]
    },
    {
     "name": "stderr",
     "output_type": "stream",
     "text": [
      "Epoch 336/750: 100%|█████████████████████████████| 125/125 [00:23<00:00,  5.23it/s, Gen Loss=24.1324, Disc Loss=0.3251]\n"
     ]
    },
    {
     "name": "stdout",
     "output_type": "stream",
     "text": [
      "Epoch [336/750] | Gen Loss: 18.7221 | Disc Loss: 0.3251\n"
     ]
    },
    {
     "name": "stderr",
     "output_type": "stream",
     "text": [
      "Epoch 337/750: 100%|█████████████████████████████| 125/125 [00:24<00:00,  5.21it/s, Gen Loss=23.3992, Disc Loss=0.3251]\n"
     ]
    },
    {
     "name": "stdout",
     "output_type": "stream",
     "text": [
      "Epoch [337/750] | Gen Loss: 18.6682 | Disc Loss: 0.3251\n"
     ]
    },
    {
     "name": "stderr",
     "output_type": "stream",
     "text": [
      "Epoch 338/750: 100%|█████████████████████████████| 125/125 [00:23<00:00,  5.21it/s, Gen Loss=23.9231, Disc Loss=0.3251]\n"
     ]
    },
    {
     "name": "stdout",
     "output_type": "stream",
     "text": [
      "Epoch [338/750] | Gen Loss: 18.2279 | Disc Loss: 0.3251\n"
     ]
    },
    {
     "name": "stderr",
     "output_type": "stream",
     "text": [
      "Epoch 339/750: 100%|█████████████████████████████| 125/125 [00:23<00:00,  5.24it/s, Gen Loss=23.2658, Disc Loss=0.3251]\n"
     ]
    },
    {
     "name": "stdout",
     "output_type": "stream",
     "text": [
      "Epoch [339/750] | Gen Loss: 18.2625 | Disc Loss: 0.3251\n"
     ]
    },
    {
     "name": "stderr",
     "output_type": "stream",
     "text": [
      "Epoch 340/750: 100%|█████████████████████████████| 125/125 [00:23<00:00,  5.22it/s, Gen Loss=23.6776, Disc Loss=0.3251]\n"
     ]
    },
    {
     "name": "stdout",
     "output_type": "stream",
     "text": [
      "Epoch [340/750] | Gen Loss: 18.3033 | Disc Loss: 0.3251\n"
     ]
    },
    {
     "name": "stderr",
     "output_type": "stream",
     "text": [
      "Epoch 341/750: 100%|█████████████████████████████| 125/125 [00:23<00:00,  5.23it/s, Gen Loss=23.5682, Disc Loss=0.3251]\n"
     ]
    },
    {
     "name": "stdout",
     "output_type": "stream",
     "text": [
      "Epoch [341/750] | Gen Loss: 18.3834 | Disc Loss: 0.3251\n"
     ]
    },
    {
     "name": "stderr",
     "output_type": "stream",
     "text": [
      "Epoch 342/750: 100%|█████████████████████████████| 125/125 [00:24<00:00,  5.21it/s, Gen Loss=24.3731, Disc Loss=0.3251]\n"
     ]
    },
    {
     "name": "stdout",
     "output_type": "stream",
     "text": [
      "Epoch [342/750] | Gen Loss: 18.5405 | Disc Loss: 0.3251\n"
     ]
    },
    {
     "name": "stderr",
     "output_type": "stream",
     "text": [
      "Epoch 343/750: 100%|█████████████████████████████| 125/125 [00:23<00:00,  5.24it/s, Gen Loss=23.9337, Disc Loss=0.3251]\n"
     ]
    },
    {
     "name": "stdout",
     "output_type": "stream",
     "text": [
      "Epoch [343/750] | Gen Loss: 18.4694 | Disc Loss: 0.3251\n"
     ]
    },
    {
     "name": "stderr",
     "output_type": "stream",
     "text": [
      "Epoch 344/750: 100%|█████████████████████████████| 125/125 [00:23<00:00,  5.23it/s, Gen Loss=23.6931, Disc Loss=0.3251]\n"
     ]
    },
    {
     "name": "stdout",
     "output_type": "stream",
     "text": [
      "Epoch [344/750] | Gen Loss: 18.6904 | Disc Loss: 0.3251\n"
     ]
    },
    {
     "name": "stderr",
     "output_type": "stream",
     "text": [
      "Epoch 345/750: 100%|█████████████████████████████| 125/125 [00:23<00:00,  5.23it/s, Gen Loss=24.2283, Disc Loss=0.3251]\n"
     ]
    },
    {
     "name": "stdout",
     "output_type": "stream",
     "text": [
      "Epoch [345/750] | Gen Loss: 18.7068 | Disc Loss: 0.3251\n"
     ]
    },
    {
     "name": "stderr",
     "output_type": "stream",
     "text": [
      "Epoch 346/750: 100%|█████████████████████████████| 125/125 [00:23<00:00,  5.23it/s, Gen Loss=23.8258, Disc Loss=0.3251]\n"
     ]
    },
    {
     "name": "stdout",
     "output_type": "stream",
     "text": [
      "Epoch [346/750] | Gen Loss: 18.8153 | Disc Loss: 0.3251\n"
     ]
    },
    {
     "name": "stderr",
     "output_type": "stream",
     "text": [
      "Epoch 347/750: 100%|█████████████████████████████| 125/125 [00:24<00:00,  5.20it/s, Gen Loss=24.7114, Disc Loss=0.3251]\n"
     ]
    },
    {
     "name": "stdout",
     "output_type": "stream",
     "text": [
      "Epoch [347/750] | Gen Loss: 18.9667 | Disc Loss: 0.3251\n"
     ]
    },
    {
     "name": "stderr",
     "output_type": "stream",
     "text": [
      "Epoch 348/750: 100%|█████████████████████████████| 125/125 [00:23<00:00,  5.23it/s, Gen Loss=24.3181, Disc Loss=0.3251]\n"
     ]
    },
    {
     "name": "stdout",
     "output_type": "stream",
     "text": [
      "Epoch [348/750] | Gen Loss: 18.7649 | Disc Loss: 0.3251\n"
     ]
    },
    {
     "name": "stderr",
     "output_type": "stream",
     "text": [
      "Epoch 349/750: 100%|█████████████████████████████| 125/125 [00:23<00:00,  5.26it/s, Gen Loss=24.2603, Disc Loss=0.3251]\n"
     ]
    },
    {
     "name": "stdout",
     "output_type": "stream",
     "text": [
      "Epoch [349/750] | Gen Loss: 18.9072 | Disc Loss: 0.3251\n"
     ]
    },
    {
     "name": "stderr",
     "output_type": "stream",
     "text": [
      "Epoch 350/750: 100%|█████████████████████████████| 125/125 [00:23<00:00,  5.22it/s, Gen Loss=23.9388, Disc Loss=0.3251]\n"
     ]
    },
    {
     "name": "stdout",
     "output_type": "stream",
     "text": [
      "Epoch [350/750] | Gen Loss: 18.8997 | Disc Loss: 0.3251\n"
     ]
    },
    {
     "name": "stderr",
     "output_type": "stream",
     "text": [
      "Epoch 351/750: 100%|█████████████████████████████| 125/125 [00:23<00:00,  5.24it/s, Gen Loss=24.0089, Disc Loss=0.3251]\n"
     ]
    },
    {
     "name": "stdout",
     "output_type": "stream",
     "text": [
      "Epoch [351/750] | Gen Loss: 18.9850 | Disc Loss: 0.3251\n"
     ]
    },
    {
     "name": "stderr",
     "output_type": "stream",
     "text": [
      "Epoch 352/750: 100%|█████████████████████████████| 125/125 [00:24<00:00,  5.20it/s, Gen Loss=24.5146, Disc Loss=0.3251]\n"
     ]
    },
    {
     "name": "stdout",
     "output_type": "stream",
     "text": [
      "Epoch [352/750] | Gen Loss: 18.9933 | Disc Loss: 0.3251\n"
     ]
    },
    {
     "name": "stderr",
     "output_type": "stream",
     "text": [
      "Epoch 353/750: 100%|█████████████████████████████| 125/125 [00:24<00:00,  5.20it/s, Gen Loss=23.9503, Disc Loss=0.3251]\n"
     ]
    },
    {
     "name": "stdout",
     "output_type": "stream",
     "text": [
      "Epoch [353/750] | Gen Loss: 19.0040 | Disc Loss: 0.3251\n"
     ]
    },
    {
     "name": "stderr",
     "output_type": "stream",
     "text": [
      "Epoch 354/750: 100%|█████████████████████████████| 125/125 [00:23<00:00,  5.21it/s, Gen Loss=24.4561, Disc Loss=0.3251]\n"
     ]
    },
    {
     "name": "stdout",
     "output_type": "stream",
     "text": [
      "Epoch [354/750] | Gen Loss: 19.0050 | Disc Loss: 0.3251\n"
     ]
    },
    {
     "name": "stderr",
     "output_type": "stream",
     "text": [
      "Epoch 355/750: 100%|█████████████████████████████| 125/125 [00:23<00:00,  5.22it/s, Gen Loss=23.8277, Disc Loss=0.3251]\n"
     ]
    },
    {
     "name": "stdout",
     "output_type": "stream",
     "text": [
      "Epoch [355/750] | Gen Loss: 19.0564 | Disc Loss: 0.3251\n"
     ]
    },
    {
     "name": "stderr",
     "output_type": "stream",
     "text": [
      "Epoch 356/750: 100%|█████████████████████████████| 125/125 [00:23<00:00,  5.23it/s, Gen Loss=23.9123, Disc Loss=0.3251]\n"
     ]
    },
    {
     "name": "stdout",
     "output_type": "stream",
     "text": [
      "Epoch [356/750] | Gen Loss: 19.2029 | Disc Loss: 0.3251\n"
     ]
    },
    {
     "name": "stderr",
     "output_type": "stream",
     "text": [
      "Epoch 357/750: 100%|█████████████████████████████| 125/125 [00:23<00:00,  5.21it/s, Gen Loss=23.9893, Disc Loss=0.3251]\n"
     ]
    },
    {
     "name": "stdout",
     "output_type": "stream",
     "text": [
      "Epoch [357/750] | Gen Loss: 19.2474 | Disc Loss: 0.3251\n"
     ]
    },
    {
     "name": "stderr",
     "output_type": "stream",
     "text": [
      "Epoch 358/750: 100%|█████████████████████████████| 125/125 [00:23<00:00,  5.23it/s, Gen Loss=23.8639, Disc Loss=0.3251]\n"
     ]
    },
    {
     "name": "stdout",
     "output_type": "stream",
     "text": [
      "Epoch [358/750] | Gen Loss: 19.4511 | Disc Loss: 0.3251\n"
     ]
    },
    {
     "name": "stderr",
     "output_type": "stream",
     "text": [
      "Epoch 359/750: 100%|█████████████████████████████| 125/125 [00:23<00:00,  5.24it/s, Gen Loss=24.2180, Disc Loss=0.3251]\n"
     ]
    },
    {
     "name": "stdout",
     "output_type": "stream",
     "text": [
      "Epoch [359/750] | Gen Loss: 19.4289 | Disc Loss: 0.3251\n"
     ]
    },
    {
     "name": "stderr",
     "output_type": "stream",
     "text": [
      "Epoch 360/750: 100%|█████████████████████████████| 125/125 [00:23<00:00,  5.22it/s, Gen Loss=23.7857, Disc Loss=0.3251]\n"
     ]
    },
    {
     "name": "stdout",
     "output_type": "stream",
     "text": [
      "Epoch [360/750] | Gen Loss: 19.4018 | Disc Loss: 0.3251\n"
     ]
    },
    {
     "name": "stderr",
     "output_type": "stream",
     "text": [
      "Epoch 361/750: 100%|█████████████████████████████| 125/125 [00:24<00:00,  5.20it/s, Gen Loss=23.6796, Disc Loss=0.3251]\n"
     ]
    },
    {
     "name": "stdout",
     "output_type": "stream",
     "text": [
      "Epoch [361/750] | Gen Loss: 19.4625 | Disc Loss: 0.3251\n"
     ]
    },
    {
     "name": "stderr",
     "output_type": "stream",
     "text": [
      "Epoch 362/750: 100%|█████████████████████████████| 125/125 [00:23<00:00,  5.22it/s, Gen Loss=23.5335, Disc Loss=0.3251]\n"
     ]
    },
    {
     "name": "stdout",
     "output_type": "stream",
     "text": [
      "Epoch [362/750] | Gen Loss: 19.5317 | Disc Loss: 0.3251\n"
     ]
    },
    {
     "name": "stderr",
     "output_type": "stream",
     "text": [
      "Epoch 363/750: 100%|█████████████████████████████| 125/125 [00:23<00:00,  5.23it/s, Gen Loss=24.0293, Disc Loss=0.3251]\n"
     ]
    },
    {
     "name": "stdout",
     "output_type": "stream",
     "text": [
      "Epoch [363/750] | Gen Loss: 19.5271 | Disc Loss: 0.3251\n"
     ]
    },
    {
     "name": "stderr",
     "output_type": "stream",
     "text": [
      "Epoch 364/750: 100%|█████████████████████████████| 125/125 [00:23<00:00,  5.24it/s, Gen Loss=23.9218, Disc Loss=0.3251]\n"
     ]
    },
    {
     "name": "stdout",
     "output_type": "stream",
     "text": [
      "Epoch [364/750] | Gen Loss: 19.5475 | Disc Loss: 0.3251\n"
     ]
    },
    {
     "name": "stderr",
     "output_type": "stream",
     "text": [
      "Epoch 365/750: 100%|█████████████████████████████| 125/125 [00:23<00:00,  5.22it/s, Gen Loss=23.9298, Disc Loss=0.3251]\n"
     ]
    },
    {
     "name": "stdout",
     "output_type": "stream",
     "text": [
      "Epoch [365/750] | Gen Loss: 19.5496 | Disc Loss: 0.3251\n"
     ]
    },
    {
     "name": "stderr",
     "output_type": "stream",
     "text": [
      "Epoch 366/750: 100%|█████████████████████████████| 125/125 [00:23<00:00,  5.22it/s, Gen Loss=23.7044, Disc Loss=0.3251]\n"
     ]
    },
    {
     "name": "stdout",
     "output_type": "stream",
     "text": [
      "Epoch [366/750] | Gen Loss: 19.5154 | Disc Loss: 0.3251\n"
     ]
    },
    {
     "name": "stderr",
     "output_type": "stream",
     "text": [
      "Epoch 367/750: 100%|█████████████████████████████| 125/125 [00:23<00:00,  5.21it/s, Gen Loss=23.9935, Disc Loss=0.3251]\n"
     ]
    },
    {
     "name": "stdout",
     "output_type": "stream",
     "text": [
      "Epoch [367/750] | Gen Loss: 19.6359 | Disc Loss: 0.3251\n"
     ]
    },
    {
     "name": "stderr",
     "output_type": "stream",
     "text": [
      "Epoch 368/750: 100%|█████████████████████████████| 125/125 [00:23<00:00,  5.22it/s, Gen Loss=23.9337, Disc Loss=0.3251]\n"
     ]
    },
    {
     "name": "stdout",
     "output_type": "stream",
     "text": [
      "Epoch [368/750] | Gen Loss: 19.7061 | Disc Loss: 0.3251\n"
     ]
    },
    {
     "name": "stderr",
     "output_type": "stream",
     "text": [
      "Epoch 369/750: 100%|█████████████████████████████| 125/125 [00:23<00:00,  5.21it/s, Gen Loss=23.8526, Disc Loss=0.3251]\n"
     ]
    },
    {
     "name": "stdout",
     "output_type": "stream",
     "text": [
      "Epoch [369/750] | Gen Loss: 19.5947 | Disc Loss: 0.3251\n"
     ]
    },
    {
     "name": "stderr",
     "output_type": "stream",
     "text": [
      "Epoch 370/750: 100%|█████████████████████████████| 125/125 [00:23<00:00,  5.22it/s, Gen Loss=23.9473, Disc Loss=0.3251]\n"
     ]
    },
    {
     "name": "stdout",
     "output_type": "stream",
     "text": [
      "Epoch [370/750] | Gen Loss: 19.5841 | Disc Loss: 0.3251\n"
     ]
    },
    {
     "name": "stderr",
     "output_type": "stream",
     "text": [
      "Epoch 371/750: 100%|█████████████████████████████| 125/125 [00:23<00:00,  5.22it/s, Gen Loss=23.9290, Disc Loss=0.3251]\n"
     ]
    },
    {
     "name": "stdout",
     "output_type": "stream",
     "text": [
      "Epoch [371/750] | Gen Loss: 19.7682 | Disc Loss: 0.3251\n"
     ]
    },
    {
     "name": "stderr",
     "output_type": "stream",
     "text": [
      "Epoch 372/750: 100%|█████████████████████████████| 125/125 [00:23<00:00,  5.21it/s, Gen Loss=23.9151, Disc Loss=0.3251]\n"
     ]
    },
    {
     "name": "stdout",
     "output_type": "stream",
     "text": [
      "Epoch [372/750] | Gen Loss: 19.6817 | Disc Loss: 0.3251\n"
     ]
    },
    {
     "name": "stderr",
     "output_type": "stream",
     "text": [
      "Epoch 373/750: 100%|█████████████████████████████| 125/125 [00:23<00:00,  5.22it/s, Gen Loss=16.1230, Disc Loss=0.3252]\n"
     ]
    },
    {
     "name": "stdout",
     "output_type": "stream",
     "text": [
      "Epoch [373/750] | Gen Loss: 11.7703 | Disc Loss: 0.3340\n"
     ]
    },
    {
     "name": "stderr",
     "output_type": "stream",
     "text": [
      "Epoch 374/750: 100%|█████████████████████████████| 125/125 [00:23<00:00,  5.22it/s, Gen Loss=19.7692, Disc Loss=0.3251]\n"
     ]
    },
    {
     "name": "stdout",
     "output_type": "stream",
     "text": [
      "Epoch [374/750] | Gen Loss: 11.9965 | Disc Loss: 0.3251\n"
     ]
    },
    {
     "name": "stderr",
     "output_type": "stream",
     "text": [
      "Epoch 375/750: 100%|█████████████████████████████| 125/125 [00:23<00:00,  5.23it/s, Gen Loss=21.3671, Disc Loss=0.3251]\n"
     ]
    },
    {
     "name": "stdout",
     "output_type": "stream",
     "text": [
      "Epoch [375/750] | Gen Loss: 12.5147 | Disc Loss: 0.3251\n"
     ]
    },
    {
     "name": "stderr",
     "output_type": "stream",
     "text": [
      "Epoch 376/750: 100%|█████████████████████████████| 125/125 [00:23<00:00,  5.23it/s, Gen Loss=22.1075, Disc Loss=0.3251]\n"
     ]
    },
    {
     "name": "stdout",
     "output_type": "stream",
     "text": [
      "Epoch [376/750] | Gen Loss: 12.8084 | Disc Loss: 0.3251\n"
     ]
    },
    {
     "name": "stderr",
     "output_type": "stream",
     "text": [
      "Epoch 377/750: 100%|█████████████████████████████| 125/125 [00:24<00:00,  5.21it/s, Gen Loss=21.7454, Disc Loss=0.3251]\n"
     ]
    },
    {
     "name": "stdout",
     "output_type": "stream",
     "text": [
      "Epoch [377/750] | Gen Loss: 13.1695 | Disc Loss: 0.3251\n"
     ]
    },
    {
     "name": "stderr",
     "output_type": "stream",
     "text": [
      "Epoch 378/750: 100%|█████████████████████████████| 125/125 [00:23<00:00,  5.22it/s, Gen Loss=24.9533, Disc Loss=0.3251]\n"
     ]
    },
    {
     "name": "stdout",
     "output_type": "stream",
     "text": [
      "Epoch [378/750] | Gen Loss: 13.6195 | Disc Loss: 0.3251\n"
     ]
    },
    {
     "name": "stderr",
     "output_type": "stream",
     "text": [
      "Epoch 379/750: 100%|█████████████████████████████| 125/125 [00:23<00:00,  5.24it/s, Gen Loss=22.9070, Disc Loss=0.3251]\n"
     ]
    },
    {
     "name": "stdout",
     "output_type": "stream",
     "text": [
      "Epoch [379/750] | Gen Loss: 13.5990 | Disc Loss: 0.3251\n"
     ]
    },
    {
     "name": "stderr",
     "output_type": "stream",
     "text": [
      "Epoch 380/750: 100%|█████████████████████████████| 125/125 [00:24<00:00,  5.20it/s, Gen Loss=22.9240, Disc Loss=0.3251]\n"
     ]
    },
    {
     "name": "stdout",
     "output_type": "stream",
     "text": [
      "Epoch [380/750] | Gen Loss: 13.7603 | Disc Loss: 0.3251\n"
     ]
    },
    {
     "name": "stderr",
     "output_type": "stream",
     "text": [
      "Epoch 381/750: 100%|█████████████████████████████| 125/125 [00:23<00:00,  5.22it/s, Gen Loss=23.2190, Disc Loss=0.3251]\n"
     ]
    },
    {
     "name": "stdout",
     "output_type": "stream",
     "text": [
      "Epoch [381/750] | Gen Loss: 13.7610 | Disc Loss: 0.3251\n"
     ]
    },
    {
     "name": "stderr",
     "output_type": "stream",
     "text": [
      "Epoch 382/750: 100%|█████████████████████████████| 125/125 [00:24<00:00,  5.19it/s, Gen Loss=23.0998, Disc Loss=0.3251]\n"
     ]
    },
    {
     "name": "stdout",
     "output_type": "stream",
     "text": [
      "Epoch [382/750] | Gen Loss: 13.7903 | Disc Loss: 0.3251\n"
     ]
    },
    {
     "name": "stderr",
     "output_type": "stream",
     "text": [
      "Epoch 383/750: 100%|█████████████████████████████| 125/125 [00:24<00:00,  5.19it/s, Gen Loss=24.3395, Disc Loss=0.3251]\n"
     ]
    },
    {
     "name": "stdout",
     "output_type": "stream",
     "text": [
      "Epoch [383/750] | Gen Loss: 14.0794 | Disc Loss: 0.3251\n"
     ]
    },
    {
     "name": "stderr",
     "output_type": "stream",
     "text": [
      "Epoch 384/750: 100%|█████████████████████████████| 125/125 [00:24<00:00,  5.20it/s, Gen Loss=24.3870, Disc Loss=0.3251]\n"
     ]
    },
    {
     "name": "stdout",
     "output_type": "stream",
     "text": [
      "Epoch [384/750] | Gen Loss: 14.4970 | Disc Loss: 0.3251\n"
     ]
    },
    {
     "name": "stderr",
     "output_type": "stream",
     "text": [
      "Epoch 385/750: 100%|█████████████████████████████| 125/125 [00:23<00:00,  5.22it/s, Gen Loss=24.7385, Disc Loss=0.3251]\n"
     ]
    },
    {
     "name": "stdout",
     "output_type": "stream",
     "text": [
      "Epoch [385/750] | Gen Loss: 14.4337 | Disc Loss: 0.3251\n"
     ]
    },
    {
     "name": "stderr",
     "output_type": "stream",
     "text": [
      "Epoch 386/750: 100%|█████████████████████████████| 125/125 [00:24<00:00,  5.20it/s, Gen Loss=24.2456, Disc Loss=0.3251]\n"
     ]
    },
    {
     "name": "stdout",
     "output_type": "stream",
     "text": [
      "Epoch [386/750] | Gen Loss: 14.6603 | Disc Loss: 0.3251\n"
     ]
    },
    {
     "name": "stderr",
     "output_type": "stream",
     "text": [
      "Epoch 387/750: 100%|█████████████████████████████| 125/125 [00:24<00:00,  5.21it/s, Gen Loss=24.4609, Disc Loss=0.3251]\n"
     ]
    },
    {
     "name": "stdout",
     "output_type": "stream",
     "text": [
      "Epoch [387/750] | Gen Loss: 14.7451 | Disc Loss: 0.3251\n"
     ]
    },
    {
     "name": "stderr",
     "output_type": "stream",
     "text": [
      "Epoch 388/750: 100%|█████████████████████████████| 125/125 [00:23<00:00,  5.23it/s, Gen Loss=25.4249, Disc Loss=0.3251]\n"
     ]
    },
    {
     "name": "stdout",
     "output_type": "stream",
     "text": [
      "Epoch [388/750] | Gen Loss: 14.8571 | Disc Loss: 0.3251\n"
     ]
    },
    {
     "name": "stderr",
     "output_type": "stream",
     "text": [
      "Epoch 389/750: 100%|█████████████████████████████| 125/125 [00:23<00:00,  5.22it/s, Gen Loss=25.7692, Disc Loss=0.3251]\n"
     ]
    },
    {
     "name": "stdout",
     "output_type": "stream",
     "text": [
      "Epoch [389/750] | Gen Loss: 14.9850 | Disc Loss: 0.3251\n"
     ]
    },
    {
     "name": "stderr",
     "output_type": "stream",
     "text": [
      "Epoch 390/750: 100%|█████████████████████████████| 125/125 [00:23<00:00,  5.21it/s, Gen Loss=25.0633, Disc Loss=0.3251]\n"
     ]
    },
    {
     "name": "stdout",
     "output_type": "stream",
     "text": [
      "Epoch [390/750] | Gen Loss: 15.2725 | Disc Loss: 0.3251\n"
     ]
    },
    {
     "name": "stderr",
     "output_type": "stream",
     "text": [
      "Epoch 391/750: 100%|█████████████████████████████| 125/125 [00:23<00:00,  5.21it/s, Gen Loss=26.3883, Disc Loss=0.3251]\n"
     ]
    },
    {
     "name": "stdout",
     "output_type": "stream",
     "text": [
      "Epoch [391/750] | Gen Loss: 15.2416 | Disc Loss: 0.3251\n"
     ]
    },
    {
     "name": "stderr",
     "output_type": "stream",
     "text": [
      "Epoch 392/750: 100%|█████████████████████████████| 125/125 [00:23<00:00,  5.21it/s, Gen Loss=25.1739, Disc Loss=0.3251]\n"
     ]
    },
    {
     "name": "stdout",
     "output_type": "stream",
     "text": [
      "Epoch [392/750] | Gen Loss: 15.3828 | Disc Loss: 0.3251\n"
     ]
    },
    {
     "name": "stderr",
     "output_type": "stream",
     "text": [
      "Epoch 393/750: 100%|█████████████████████████████| 125/125 [00:23<00:00,  5.23it/s, Gen Loss=25.2825, Disc Loss=0.3251]\n"
     ]
    },
    {
     "name": "stdout",
     "output_type": "stream",
     "text": [
      "Epoch [393/750] | Gen Loss: 15.4298 | Disc Loss: 0.3251\n"
     ]
    },
    {
     "name": "stderr",
     "output_type": "stream",
     "text": [
      "Epoch 394/750: 100%|█████████████████████████████| 125/125 [00:23<00:00,  5.24it/s, Gen Loss=25.7379, Disc Loss=0.3251]\n"
     ]
    },
    {
     "name": "stdout",
     "output_type": "stream",
     "text": [
      "Epoch [394/750] | Gen Loss: 15.5482 | Disc Loss: 0.3251\n"
     ]
    },
    {
     "name": "stderr",
     "output_type": "stream",
     "text": [
      "Epoch 395/750: 100%|█████████████████████████████| 125/125 [00:24<00:00,  5.21it/s, Gen Loss=25.6390, Disc Loss=0.3251]\n"
     ]
    },
    {
     "name": "stdout",
     "output_type": "stream",
     "text": [
      "Epoch [395/750] | Gen Loss: 15.6147 | Disc Loss: 0.3251\n"
     ]
    },
    {
     "name": "stderr",
     "output_type": "stream",
     "text": [
      "Epoch 396/750: 100%|█████████████████████████████| 125/125 [00:23<00:00,  5.21it/s, Gen Loss=25.9410, Disc Loss=0.3251]\n"
     ]
    },
    {
     "name": "stdout",
     "output_type": "stream",
     "text": [
      "Epoch [396/750] | Gen Loss: 15.6801 | Disc Loss: 0.3251\n"
     ]
    },
    {
     "name": "stderr",
     "output_type": "stream",
     "text": [
      "Epoch 397/750: 100%|█████████████████████████████| 125/125 [00:24<00:00,  5.20it/s, Gen Loss=26.5716, Disc Loss=0.3251]\n"
     ]
    },
    {
     "name": "stdout",
     "output_type": "stream",
     "text": [
      "Epoch [397/750] | Gen Loss: 15.6926 | Disc Loss: 0.3251\n"
     ]
    },
    {
     "name": "stderr",
     "output_type": "stream",
     "text": [
      "Epoch 398/750: 100%|█████████████████████████████| 125/125 [00:24<00:00,  5.20it/s, Gen Loss=25.7991, Disc Loss=0.3251]\n"
     ]
    },
    {
     "name": "stdout",
     "output_type": "stream",
     "text": [
      "Epoch [398/750] | Gen Loss: 15.8484 | Disc Loss: 0.3251\n"
     ]
    },
    {
     "name": "stderr",
     "output_type": "stream",
     "text": [
      "Epoch 399/750: 100%|█████████████████████████████| 125/125 [00:23<00:00,  5.23it/s, Gen Loss=25.8141, Disc Loss=0.3251]\n"
     ]
    },
    {
     "name": "stdout",
     "output_type": "stream",
     "text": [
      "Epoch [399/750] | Gen Loss: 15.7821 | Disc Loss: 0.3251\n"
     ]
    },
    {
     "name": "stderr",
     "output_type": "stream",
     "text": [
      "Epoch 400/750: 100%|█████████████████████████████| 125/125 [00:23<00:00,  5.21it/s, Gen Loss=26.2221, Disc Loss=0.3251]\n"
     ]
    },
    {
     "name": "stdout",
     "output_type": "stream",
     "text": [
      "Epoch [400/750] | Gen Loss: 15.7354 | Disc Loss: 0.3251\n"
     ]
    },
    {
     "name": "stderr",
     "output_type": "stream",
     "text": [
      "Epoch 401/750: 100%|█████████████████████████████| 125/125 [00:23<00:00,  5.23it/s, Gen Loss=25.5280, Disc Loss=0.3251]\n"
     ]
    },
    {
     "name": "stdout",
     "output_type": "stream",
     "text": [
      "Epoch [401/750] | Gen Loss: 15.8943 | Disc Loss: 0.3251\n"
     ]
    },
    {
     "name": "stderr",
     "output_type": "stream",
     "text": [
      "Epoch 402/750: 100%|█████████████████████████████| 125/125 [00:23<00:00,  5.21it/s, Gen Loss=26.6034, Disc Loss=0.3251]\n"
     ]
    },
    {
     "name": "stdout",
     "output_type": "stream",
     "text": [
      "Epoch [402/750] | Gen Loss: 16.0982 | Disc Loss: 0.3251\n"
     ]
    },
    {
     "name": "stderr",
     "output_type": "stream",
     "text": [
      "Epoch 403/750: 100%|█████████████████████████████| 125/125 [00:24<00:00,  5.20it/s, Gen Loss=26.7011, Disc Loss=0.3251]\n"
     ]
    },
    {
     "name": "stdout",
     "output_type": "stream",
     "text": [
      "Epoch [403/750] | Gen Loss: 16.0565 | Disc Loss: 0.3251\n"
     ]
    },
    {
     "name": "stderr",
     "output_type": "stream",
     "text": [
      "Epoch 404/750: 100%|█████████████████████████████| 125/125 [00:23<00:00,  5.22it/s, Gen Loss=25.8263, Disc Loss=0.3251]\n"
     ]
    },
    {
     "name": "stdout",
     "output_type": "stream",
     "text": [
      "Epoch [404/750] | Gen Loss: 16.2031 | Disc Loss: 0.3251\n"
     ]
    },
    {
     "name": "stderr",
     "output_type": "stream",
     "text": [
      "Epoch 405/750: 100%|█████████████████████████████| 125/125 [00:24<00:00,  5.19it/s, Gen Loss=25.8719, Disc Loss=0.3251]\n"
     ]
    },
    {
     "name": "stdout",
     "output_type": "stream",
     "text": [
      "Epoch [405/750] | Gen Loss: 16.1667 | Disc Loss: 0.3251\n"
     ]
    },
    {
     "name": "stderr",
     "output_type": "stream",
     "text": [
      "Epoch 406/750: 100%|█████████████████████████████| 125/125 [00:23<00:00,  5.21it/s, Gen Loss=26.5997, Disc Loss=0.3251]\n"
     ]
    },
    {
     "name": "stdout",
     "output_type": "stream",
     "text": [
      "Epoch [406/750] | Gen Loss: 16.2475 | Disc Loss: 0.3251\n"
     ]
    },
    {
     "name": "stderr",
     "output_type": "stream",
     "text": [
      "Epoch 407/750: 100%|█████████████████████████████| 125/125 [00:24<00:00,  5.16it/s, Gen Loss=27.1001, Disc Loss=0.3251]\n"
     ]
    },
    {
     "name": "stdout",
     "output_type": "stream",
     "text": [
      "Epoch [407/750] | Gen Loss: 16.4066 | Disc Loss: 0.3251\n"
     ]
    },
    {
     "name": "stderr",
     "output_type": "stream",
     "text": [
      "Epoch 408/750: 100%|█████████████████████████████| 125/125 [00:23<00:00,  5.22it/s, Gen Loss=27.5462, Disc Loss=0.3251]\n"
     ]
    },
    {
     "name": "stdout",
     "output_type": "stream",
     "text": [
      "Epoch [408/750] | Gen Loss: 16.4318 | Disc Loss: 0.3251\n"
     ]
    },
    {
     "name": "stderr",
     "output_type": "stream",
     "text": [
      "Epoch 409/750: 100%|█████████████████████████████| 125/125 [00:23<00:00,  5.23it/s, Gen Loss=25.8424, Disc Loss=0.3251]\n"
     ]
    },
    {
     "name": "stdout",
     "output_type": "stream",
     "text": [
      "Epoch [409/750] | Gen Loss: 16.4140 | Disc Loss: 0.3251\n"
     ]
    },
    {
     "name": "stderr",
     "output_type": "stream",
     "text": [
      "Epoch 410/750: 100%|█████████████████████████████| 125/125 [00:24<00:00,  5.20it/s, Gen Loss=26.5302, Disc Loss=0.3251]\n"
     ]
    },
    {
     "name": "stdout",
     "output_type": "stream",
     "text": [
      "Epoch [410/750] | Gen Loss: 16.4796 | Disc Loss: 0.3251\n"
     ]
    },
    {
     "name": "stderr",
     "output_type": "stream",
     "text": [
      "Epoch 411/750: 100%|█████████████████████████████| 125/125 [00:24<00:00,  5.21it/s, Gen Loss=26.0433, Disc Loss=0.3251]\n"
     ]
    },
    {
     "name": "stdout",
     "output_type": "stream",
     "text": [
      "Epoch [411/750] | Gen Loss: 16.5821 | Disc Loss: 0.3251\n"
     ]
    },
    {
     "name": "stderr",
     "output_type": "stream",
     "text": [
      "Epoch 412/750: 100%|█████████████████████████████| 125/125 [00:24<00:00,  5.19it/s, Gen Loss=25.6443, Disc Loss=0.3251]\n"
     ]
    },
    {
     "name": "stdout",
     "output_type": "stream",
     "text": [
      "Epoch [412/750] | Gen Loss: 16.5064 | Disc Loss: 0.3251\n"
     ]
    },
    {
     "name": "stderr",
     "output_type": "stream",
     "text": [
      "Epoch 413/750: 100%|█████████████████████████████| 125/125 [00:24<00:00,  5.19it/s, Gen Loss=26.0798, Disc Loss=0.3251]\n"
     ]
    },
    {
     "name": "stdout",
     "output_type": "stream",
     "text": [
      "Epoch [413/750] | Gen Loss: 16.6077 | Disc Loss: 0.3251\n"
     ]
    },
    {
     "name": "stderr",
     "output_type": "stream",
     "text": [
      "Epoch 414/750: 100%|█████████████████████████████| 125/125 [00:23<00:00,  5.23it/s, Gen Loss=26.9226, Disc Loss=0.3251]\n"
     ]
    },
    {
     "name": "stdout",
     "output_type": "stream",
     "text": [
      "Epoch [414/750] | Gen Loss: 16.7517 | Disc Loss: 0.3251\n"
     ]
    },
    {
     "name": "stderr",
     "output_type": "stream",
     "text": [
      "Epoch 415/750: 100%|█████████████████████████████| 125/125 [00:24<00:00,  5.21it/s, Gen Loss=26.0247, Disc Loss=0.3251]\n"
     ]
    },
    {
     "name": "stdout",
     "output_type": "stream",
     "text": [
      "Epoch [415/750] | Gen Loss: 16.6278 | Disc Loss: 0.3251\n"
     ]
    },
    {
     "name": "stderr",
     "output_type": "stream",
     "text": [
      "Epoch 416/750: 100%|█████████████████████████████| 125/125 [00:23<00:00,  5.21it/s, Gen Loss=26.3387, Disc Loss=0.3251]\n"
     ]
    },
    {
     "name": "stdout",
     "output_type": "stream",
     "text": [
      "Epoch [416/750] | Gen Loss: 16.6889 | Disc Loss: 0.3251\n"
     ]
    },
    {
     "name": "stderr",
     "output_type": "stream",
     "text": [
      "Epoch 417/750: 100%|█████████████████████████████| 125/125 [00:24<00:00,  5.19it/s, Gen Loss=27.5371, Disc Loss=0.3251]\n"
     ]
    },
    {
     "name": "stdout",
     "output_type": "stream",
     "text": [
      "Epoch [417/750] | Gen Loss: 16.8713 | Disc Loss: 0.3251\n"
     ]
    },
    {
     "name": "stderr",
     "output_type": "stream",
     "text": [
      "Epoch 418/750: 100%|█████████████████████████████| 125/125 [00:24<00:00,  5.20it/s, Gen Loss=26.0679, Disc Loss=0.3251]\n"
     ]
    },
    {
     "name": "stdout",
     "output_type": "stream",
     "text": [
      "Epoch [418/750] | Gen Loss: 16.9270 | Disc Loss: 0.3251\n"
     ]
    },
    {
     "name": "stderr",
     "output_type": "stream",
     "text": [
      "Epoch 419/750: 100%|█████████████████████████████| 125/125 [00:23<00:00,  5.22it/s, Gen Loss=25.8284, Disc Loss=0.3251]\n"
     ]
    },
    {
     "name": "stdout",
     "output_type": "stream",
     "text": [
      "Epoch [419/750] | Gen Loss: 16.9110 | Disc Loss: 0.3251\n"
     ]
    },
    {
     "name": "stderr",
     "output_type": "stream",
     "text": [
      "Epoch 420/750: 100%|█████████████████████████████| 125/125 [00:24<00:00,  5.19it/s, Gen Loss=26.5469, Disc Loss=0.3251]\n"
     ]
    },
    {
     "name": "stdout",
     "output_type": "stream",
     "text": [
      "Epoch [420/750] | Gen Loss: 16.8161 | Disc Loss: 0.3251\n"
     ]
    },
    {
     "name": "stderr",
     "output_type": "stream",
     "text": [
      "Epoch 421/750: 100%|█████████████████████████████| 125/125 [00:23<00:00,  5.21it/s, Gen Loss=27.4911, Disc Loss=0.3251]\n"
     ]
    },
    {
     "name": "stdout",
     "output_type": "stream",
     "text": [
      "Epoch [421/750] | Gen Loss: 17.0431 | Disc Loss: 0.3251\n"
     ]
    },
    {
     "name": "stderr",
     "output_type": "stream",
     "text": [
      "Epoch 422/750: 100%|█████████████████████████████| 125/125 [00:24<00:00,  5.19it/s, Gen Loss=26.4437, Disc Loss=0.3251]\n"
     ]
    },
    {
     "name": "stdout",
     "output_type": "stream",
     "text": [
      "Epoch [422/750] | Gen Loss: 17.2800 | Disc Loss: 0.3251\n"
     ]
    },
    {
     "name": "stderr",
     "output_type": "stream",
     "text": [
      "Epoch 423/750: 100%|█████████████████████████████| 125/125 [00:23<00:00,  5.21it/s, Gen Loss=25.7641, Disc Loss=0.3251]\n"
     ]
    },
    {
     "name": "stdout",
     "output_type": "stream",
     "text": [
      "Epoch [423/750] | Gen Loss: 17.1207 | Disc Loss: 0.3251\n"
     ]
    },
    {
     "name": "stderr",
     "output_type": "stream",
     "text": [
      "Epoch 424/750: 100%|█████████████████████████████| 125/125 [00:23<00:00,  5.24it/s, Gen Loss=26.2850, Disc Loss=0.3251]\n"
     ]
    },
    {
     "name": "stdout",
     "output_type": "stream",
     "text": [
      "Epoch [424/750] | Gen Loss: 17.0949 | Disc Loss: 0.3251\n"
     ]
    },
    {
     "name": "stderr",
     "output_type": "stream",
     "text": [
      "Epoch 425/750: 100%|█████████████████████████████| 125/125 [00:23<00:00,  5.21it/s, Gen Loss=26.3533, Disc Loss=0.3251]\n"
     ]
    },
    {
     "name": "stdout",
     "output_type": "stream",
     "text": [
      "Epoch [425/750] | Gen Loss: 16.8391 | Disc Loss: 0.3251\n"
     ]
    },
    {
     "name": "stderr",
     "output_type": "stream",
     "text": [
      "Epoch 426/750: 100%|█████████████████████████████| 125/125 [00:24<00:00,  5.19it/s, Gen Loss=26.5176, Disc Loss=0.3251]\n"
     ]
    },
    {
     "name": "stdout",
     "output_type": "stream",
     "text": [
      "Epoch [426/750] | Gen Loss: 16.8629 | Disc Loss: 0.3251\n"
     ]
    },
    {
     "name": "stderr",
     "output_type": "stream",
     "text": [
      "Epoch 427/750: 100%|█████████████████████████████| 125/125 [00:24<00:00,  5.20it/s, Gen Loss=27.2041, Disc Loss=0.3251]\n"
     ]
    },
    {
     "name": "stdout",
     "output_type": "stream",
     "text": [
      "Epoch [427/750] | Gen Loss: 17.1853 | Disc Loss: 0.3251\n"
     ]
    },
    {
     "name": "stderr",
     "output_type": "stream",
     "text": [
      "Epoch 428/750: 100%|█████████████████████████████| 125/125 [00:24<00:00,  5.19it/s, Gen Loss=26.7844, Disc Loss=0.3251]\n"
     ]
    },
    {
     "name": "stdout",
     "output_type": "stream",
     "text": [
      "Epoch [428/750] | Gen Loss: 17.1305 | Disc Loss: 0.3251\n"
     ]
    },
    {
     "name": "stderr",
     "output_type": "stream",
     "text": [
      "Epoch 429/750: 100%|█████████████████████████████| 125/125 [00:24<00:00,  5.20it/s, Gen Loss=26.6200, Disc Loss=0.3251]\n"
     ]
    },
    {
     "name": "stdout",
     "output_type": "stream",
     "text": [
      "Epoch [429/750] | Gen Loss: 17.1000 | Disc Loss: 0.3251\n"
     ]
    },
    {
     "name": "stderr",
     "output_type": "stream",
     "text": [
      "Epoch 430/750: 100%|█████████████████████████████| 125/125 [00:24<00:00,  5.19it/s, Gen Loss=26.4891, Disc Loss=0.3251]\n"
     ]
    },
    {
     "name": "stdout",
     "output_type": "stream",
     "text": [
      "Epoch [430/750] | Gen Loss: 17.0976 | Disc Loss: 0.3251\n"
     ]
    },
    {
     "name": "stderr",
     "output_type": "stream",
     "text": [
      "Epoch 431/750: 100%|█████████████████████████████| 125/125 [00:24<00:00,  5.19it/s, Gen Loss=26.6982, Disc Loss=0.3251]\n"
     ]
    },
    {
     "name": "stdout",
     "output_type": "stream",
     "text": [
      "Epoch [431/750] | Gen Loss: 17.2711 | Disc Loss: 0.3251\n"
     ]
    },
    {
     "name": "stderr",
     "output_type": "stream",
     "text": [
      "Epoch 432/750: 100%|█████████████████████████████| 125/125 [00:24<00:00,  5.18it/s, Gen Loss=26.9120, Disc Loss=0.3251]\n"
     ]
    },
    {
     "name": "stdout",
     "output_type": "stream",
     "text": [
      "Epoch [432/750] | Gen Loss: 17.3994 | Disc Loss: 0.3251\n"
     ]
    },
    {
     "name": "stderr",
     "output_type": "stream",
     "text": [
      "Epoch 433/750: 100%|█████████████████████████████| 125/125 [00:24<00:00,  5.18it/s, Gen Loss=26.8492, Disc Loss=0.3251]\n"
     ]
    },
    {
     "name": "stdout",
     "output_type": "stream",
     "text": [
      "Epoch [433/750] | Gen Loss: 17.4698 | Disc Loss: 0.3251\n"
     ]
    },
    {
     "name": "stderr",
     "output_type": "stream",
     "text": [
      "Epoch 434/750: 100%|█████████████████████████████| 125/125 [00:24<00:00,  5.20it/s, Gen Loss=27.0321, Disc Loss=0.3251]\n"
     ]
    },
    {
     "name": "stdout",
     "output_type": "stream",
     "text": [
      "Epoch [434/750] | Gen Loss: 17.5725 | Disc Loss: 0.3251\n"
     ]
    },
    {
     "name": "stderr",
     "output_type": "stream",
     "text": [
      "Epoch 435/750: 100%|█████████████████████████████| 125/125 [00:23<00:00,  5.21it/s, Gen Loss=27.2320, Disc Loss=0.3251]\n"
     ]
    },
    {
     "name": "stdout",
     "output_type": "stream",
     "text": [
      "Epoch [435/750] | Gen Loss: 17.6678 | Disc Loss: 0.3251\n"
     ]
    },
    {
     "name": "stderr",
     "output_type": "stream",
     "text": [
      "Epoch 436/750: 100%|█████████████████████████████| 125/125 [00:24<00:00,  5.20it/s, Gen Loss=27.1413, Disc Loss=0.3251]\n"
     ]
    },
    {
     "name": "stdout",
     "output_type": "stream",
     "text": [
      "Epoch [436/750] | Gen Loss: 17.6670 | Disc Loss: 0.3251\n"
     ]
    },
    {
     "name": "stderr",
     "output_type": "stream",
     "text": [
      "Epoch 437/750: 100%|█████████████████████████████| 125/125 [00:24<00:00,  5.18it/s, Gen Loss=27.0156, Disc Loss=0.3251]\n"
     ]
    },
    {
     "name": "stdout",
     "output_type": "stream",
     "text": [
      "Epoch [437/750] | Gen Loss: 17.7806 | Disc Loss: 0.3251\n"
     ]
    },
    {
     "name": "stderr",
     "output_type": "stream",
     "text": [
      "Epoch 438/750: 100%|█████████████████████████████| 125/125 [00:24<00:00,  5.20it/s, Gen Loss=27.3866, Disc Loss=0.3251]\n"
     ]
    },
    {
     "name": "stdout",
     "output_type": "stream",
     "text": [
      "Epoch [438/750] | Gen Loss: 17.7040 | Disc Loss: 0.3251\n"
     ]
    },
    {
     "name": "stderr",
     "output_type": "stream",
     "text": [
      "Epoch 439/750: 100%|█████████████████████████████| 125/125 [00:24<00:00,  5.20it/s, Gen Loss=27.3449, Disc Loss=0.3251]\n"
     ]
    },
    {
     "name": "stdout",
     "output_type": "stream",
     "text": [
      "Epoch [439/750] | Gen Loss: 17.9028 | Disc Loss: 0.3251\n"
     ]
    },
    {
     "name": "stderr",
     "output_type": "stream",
     "text": [
      "Epoch 440/750: 100%|█████████████████████████████| 125/125 [00:24<00:00,  5.20it/s, Gen Loss=27.2120, Disc Loss=0.3251]\n"
     ]
    },
    {
     "name": "stdout",
     "output_type": "stream",
     "text": [
      "Epoch [440/750] | Gen Loss: 17.9861 | Disc Loss: 0.3251\n"
     ]
    },
    {
     "name": "stderr",
     "output_type": "stream",
     "text": [
      "Epoch 441/750: 100%|█████████████████████████████| 125/125 [00:24<00:00,  5.19it/s, Gen Loss=27.2381, Disc Loss=0.3251]\n"
     ]
    },
    {
     "name": "stdout",
     "output_type": "stream",
     "text": [
      "Epoch [441/750] | Gen Loss: 17.9757 | Disc Loss: 0.3251\n"
     ]
    },
    {
     "name": "stderr",
     "output_type": "stream",
     "text": [
      "Epoch 442/750: 100%|█████████████████████████████| 125/125 [00:24<00:00,  5.16it/s, Gen Loss=26.8948, Disc Loss=0.3251]\n"
     ]
    },
    {
     "name": "stdout",
     "output_type": "stream",
     "text": [
      "Epoch [442/750] | Gen Loss: 17.9338 | Disc Loss: 0.3251\n"
     ]
    },
    {
     "name": "stderr",
     "output_type": "stream",
     "text": [
      "Epoch 443/750: 100%|█████████████████████████████| 125/125 [00:24<00:00,  5.19it/s, Gen Loss=26.3988, Disc Loss=0.3251]\n"
     ]
    },
    {
     "name": "stdout",
     "output_type": "stream",
     "text": [
      "Epoch [443/750] | Gen Loss: 17.3790 | Disc Loss: 0.3251\n"
     ]
    },
    {
     "name": "stderr",
     "output_type": "stream",
     "text": [
      "Epoch 444/750: 100%|█████████████████████████████| 125/125 [00:23<00:00,  5.21it/s, Gen Loss=26.1542, Disc Loss=0.3251]\n"
     ]
    },
    {
     "name": "stdout",
     "output_type": "stream",
     "text": [
      "Epoch [444/750] | Gen Loss: 17.4704 | Disc Loss: 0.3251\n"
     ]
    },
    {
     "name": "stderr",
     "output_type": "stream",
     "text": [
      "Epoch 445/750: 100%|█████████████████████████████| 125/125 [00:24<00:00,  5.20it/s, Gen Loss=26.1513, Disc Loss=0.3251]\n"
     ]
    },
    {
     "name": "stdout",
     "output_type": "stream",
     "text": [
      "Epoch [445/750] | Gen Loss: 17.7451 | Disc Loss: 0.3251\n"
     ]
    },
    {
     "name": "stderr",
     "output_type": "stream",
     "text": [
      "Epoch 446/750: 100%|█████████████████████████████| 125/125 [00:24<00:00,  5.18it/s, Gen Loss=26.5401, Disc Loss=0.3251]\n"
     ]
    },
    {
     "name": "stdout",
     "output_type": "stream",
     "text": [
      "Epoch [446/750] | Gen Loss: 17.8313 | Disc Loss: 0.3251\n"
     ]
    },
    {
     "name": "stderr",
     "output_type": "stream",
     "text": [
      "Epoch 447/750: 100%|█████████████████████████████| 125/125 [00:24<00:00,  5.19it/s, Gen Loss=26.3262, Disc Loss=0.3251]\n"
     ]
    },
    {
     "name": "stdout",
     "output_type": "stream",
     "text": [
      "Epoch [447/750] | Gen Loss: 17.8995 | Disc Loss: 0.3251\n"
     ]
    },
    {
     "name": "stderr",
     "output_type": "stream",
     "text": [
      "Epoch 448/750: 100%|█████████████████████████████| 125/125 [00:24<00:00,  5.21it/s, Gen Loss=26.3259, Disc Loss=0.3251]\n"
     ]
    },
    {
     "name": "stdout",
     "output_type": "stream",
     "text": [
      "Epoch [448/750] | Gen Loss: 17.9200 | Disc Loss: 0.3251\n"
     ]
    },
    {
     "name": "stderr",
     "output_type": "stream",
     "text": [
      "Epoch 449/750: 100%|█████████████████████████████| 125/125 [00:23<00:00,  5.22it/s, Gen Loss=26.7000, Disc Loss=0.3251]\n"
     ]
    },
    {
     "name": "stdout",
     "output_type": "stream",
     "text": [
      "Epoch [449/750] | Gen Loss: 18.0431 | Disc Loss: 0.3251\n"
     ]
    },
    {
     "name": "stderr",
     "output_type": "stream",
     "text": [
      "Epoch 450/750: 100%|█████████████████████████████| 125/125 [00:24<00:00,  5.20it/s, Gen Loss=26.5121, Disc Loss=0.3251]\n"
     ]
    },
    {
     "name": "stdout",
     "output_type": "stream",
     "text": [
      "Epoch [450/750] | Gen Loss: 18.0282 | Disc Loss: 0.3251\n"
     ]
    },
    {
     "name": "stderr",
     "output_type": "stream",
     "text": [
      "Epoch 451/750: 100%|█████████████████████████████| 125/125 [00:24<00:00,  5.18it/s, Gen Loss=25.9387, Disc Loss=0.3251]\n"
     ]
    },
    {
     "name": "stdout",
     "output_type": "stream",
     "text": [
      "Epoch [451/750] | Gen Loss: 18.0839 | Disc Loss: 0.3251\n"
     ]
    },
    {
     "name": "stderr",
     "output_type": "stream",
     "text": [
      "Epoch 452/750: 100%|█████████████████████████████| 125/125 [00:24<00:00,  5.17it/s, Gen Loss=26.8633, Disc Loss=0.3251]\n"
     ]
    },
    {
     "name": "stdout",
     "output_type": "stream",
     "text": [
      "Epoch [452/750] | Gen Loss: 17.7896 | Disc Loss: 0.3251\n"
     ]
    },
    {
     "name": "stderr",
     "output_type": "stream",
     "text": [
      "Epoch 453/750: 100%|█████████████████████████████| 125/125 [00:24<00:00,  5.19it/s, Gen Loss=26.7640, Disc Loss=0.3251]\n"
     ]
    },
    {
     "name": "stdout",
     "output_type": "stream",
     "text": [
      "Epoch [453/750] | Gen Loss: 17.8461 | Disc Loss: 0.3251\n"
     ]
    },
    {
     "name": "stderr",
     "output_type": "stream",
     "text": [
      "Epoch 454/750: 100%|█████████████████████████████| 125/125 [00:23<00:00,  5.22it/s, Gen Loss=25.7726, Disc Loss=0.3251]\n"
     ]
    },
    {
     "name": "stdout",
     "output_type": "stream",
     "text": [
      "Epoch [454/750] | Gen Loss: 17.8897 | Disc Loss: 0.3251\n"
     ]
    },
    {
     "name": "stderr",
     "output_type": "stream",
     "text": [
      "Epoch 455/750: 100%|█████████████████████████████| 125/125 [00:23<00:00,  5.21it/s, Gen Loss=26.4023, Disc Loss=0.3251]\n"
     ]
    },
    {
     "name": "stdout",
     "output_type": "stream",
     "text": [
      "Epoch [455/750] | Gen Loss: 17.8854 | Disc Loss: 0.3251\n"
     ]
    },
    {
     "name": "stderr",
     "output_type": "stream",
     "text": [
      "Epoch 456/750: 100%|█████████████████████████████| 125/125 [00:23<00:00,  5.21it/s, Gen Loss=26.8960, Disc Loss=0.3251]\n"
     ]
    },
    {
     "name": "stdout",
     "output_type": "stream",
     "text": [
      "Epoch [456/750] | Gen Loss: 18.1772 | Disc Loss: 0.3251\n"
     ]
    },
    {
     "name": "stderr",
     "output_type": "stream",
     "text": [
      "Epoch 457/750: 100%|█████████████████████████████| 125/125 [00:24<00:00,  5.16it/s, Gen Loss=26.3746, Disc Loss=0.3251]\n"
     ]
    },
    {
     "name": "stdout",
     "output_type": "stream",
     "text": [
      "Epoch [457/750] | Gen Loss: 18.1327 | Disc Loss: 0.3251\n"
     ]
    },
    {
     "name": "stderr",
     "output_type": "stream",
     "text": [
      "Epoch 458/750: 100%|█████████████████████████████| 125/125 [00:24<00:00,  5.18it/s, Gen Loss=27.6529, Disc Loss=0.3251]\n"
     ]
    },
    {
     "name": "stdout",
     "output_type": "stream",
     "text": [
      "Epoch [458/750] | Gen Loss: 18.1390 | Disc Loss: 0.3251\n"
     ]
    },
    {
     "name": "stderr",
     "output_type": "stream",
     "text": [
      "Epoch 459/750: 100%|█████████████████████████████| 125/125 [00:24<00:00,  5.18it/s, Gen Loss=26.5344, Disc Loss=0.3251]\n"
     ]
    },
    {
     "name": "stdout",
     "output_type": "stream",
     "text": [
      "Epoch [459/750] | Gen Loss: 18.3748 | Disc Loss: 0.3251\n"
     ]
    },
    {
     "name": "stderr",
     "output_type": "stream",
     "text": [
      "Epoch 460/750: 100%|█████████████████████████████| 125/125 [00:24<00:00,  5.19it/s, Gen Loss=26.7138, Disc Loss=0.3251]\n"
     ]
    },
    {
     "name": "stdout",
     "output_type": "stream",
     "text": [
      "Epoch [460/750] | Gen Loss: 18.5284 | Disc Loss: 0.3251\n"
     ]
    },
    {
     "name": "stderr",
     "output_type": "stream",
     "text": [
      "Epoch 461/750: 100%|█████████████████████████████| 125/125 [00:24<00:00,  5.18it/s, Gen Loss=26.3329, Disc Loss=0.3251]\n"
     ]
    },
    {
     "name": "stdout",
     "output_type": "stream",
     "text": [
      "Epoch [461/750] | Gen Loss: 18.4668 | Disc Loss: 0.3251\n"
     ]
    },
    {
     "name": "stderr",
     "output_type": "stream",
     "text": [
      "Epoch 462/750: 100%|█████████████████████████████| 125/125 [00:24<00:00,  5.16it/s, Gen Loss=26.6453, Disc Loss=0.3251]\n"
     ]
    },
    {
     "name": "stdout",
     "output_type": "stream",
     "text": [
      "Epoch [462/750] | Gen Loss: 18.4835 | Disc Loss: 0.3251\n"
     ]
    },
    {
     "name": "stderr",
     "output_type": "stream",
     "text": [
      "Epoch 463/750: 100%|█████████████████████████████| 125/125 [00:24<00:00,  5.19it/s, Gen Loss=26.5362, Disc Loss=0.3251]\n"
     ]
    },
    {
     "name": "stdout",
     "output_type": "stream",
     "text": [
      "Epoch [463/750] | Gen Loss: 18.4661 | Disc Loss: 0.3251\n"
     ]
    },
    {
     "name": "stderr",
     "output_type": "stream",
     "text": [
      "Epoch 464/750: 100%|█████████████████████████████| 125/125 [00:24<00:00,  5.18it/s, Gen Loss=26.5013, Disc Loss=0.3251]\n"
     ]
    },
    {
     "name": "stdout",
     "output_type": "stream",
     "text": [
      "Epoch [464/750] | Gen Loss: 18.4291 | Disc Loss: 0.3251\n"
     ]
    },
    {
     "name": "stderr",
     "output_type": "stream",
     "text": [
      "Epoch 465/750: 100%|█████████████████████████████| 125/125 [00:24<00:00,  5.20it/s, Gen Loss=26.4115, Disc Loss=0.3251]\n"
     ]
    },
    {
     "name": "stdout",
     "output_type": "stream",
     "text": [
      "Epoch [465/750] | Gen Loss: 18.4480 | Disc Loss: 0.3251\n"
     ]
    },
    {
     "name": "stderr",
     "output_type": "stream",
     "text": [
      "Epoch 466/750: 100%|█████████████████████████████| 125/125 [00:23<00:00,  5.21it/s, Gen Loss=26.3459, Disc Loss=0.3251]\n"
     ]
    },
    {
     "name": "stdout",
     "output_type": "stream",
     "text": [
      "Epoch [466/750] | Gen Loss: 18.6431 | Disc Loss: 0.3251\n"
     ]
    },
    {
     "name": "stderr",
     "output_type": "stream",
     "text": [
      "Epoch 467/750: 100%|█████████████████████████████| 125/125 [00:24<00:00,  5.18it/s, Gen Loss=26.8484, Disc Loss=0.3251]\n"
     ]
    },
    {
     "name": "stdout",
     "output_type": "stream",
     "text": [
      "Epoch [467/750] | Gen Loss: 18.5461 | Disc Loss: 0.3251\n"
     ]
    },
    {
     "name": "stderr",
     "output_type": "stream",
     "text": [
      "Epoch 468/750: 100%|█████████████████████████████| 125/125 [00:23<00:00,  5.21it/s, Gen Loss=26.6251, Disc Loss=0.3251]\n"
     ]
    },
    {
     "name": "stdout",
     "output_type": "stream",
     "text": [
      "Epoch [468/750] | Gen Loss: 18.6614 | Disc Loss: 0.3251\n"
     ]
    },
    {
     "name": "stderr",
     "output_type": "stream",
     "text": [
      "Epoch 469/750: 100%|█████████████████████████████| 125/125 [00:23<00:00,  5.22it/s, Gen Loss=26.7346, Disc Loss=0.3251]\n"
     ]
    },
    {
     "name": "stdout",
     "output_type": "stream",
     "text": [
      "Epoch [469/750] | Gen Loss: 18.7883 | Disc Loss: 0.3251\n"
     ]
    },
    {
     "name": "stderr",
     "output_type": "stream",
     "text": [
      "Epoch 470/750: 100%|█████████████████████████████| 125/125 [00:24<00:00,  5.21it/s, Gen Loss=25.1656, Disc Loss=0.3251]\n"
     ]
    },
    {
     "name": "stdout",
     "output_type": "stream",
     "text": [
      "Epoch [470/750] | Gen Loss: 18.1112 | Disc Loss: 0.3251\n"
     ]
    },
    {
     "name": "stderr",
     "output_type": "stream",
     "text": [
      "Epoch 471/750: 100%|█████████████████████████████| 125/125 [00:24<00:00,  5.18it/s, Gen Loss=26.1195, Disc Loss=0.3251]\n"
     ]
    },
    {
     "name": "stdout",
     "output_type": "stream",
     "text": [
      "Epoch [471/750] | Gen Loss: 17.9990 | Disc Loss: 0.3251\n"
     ]
    },
    {
     "name": "stderr",
     "output_type": "stream",
     "text": [
      "Epoch 472/750: 100%|█████████████████████████████| 125/125 [00:24<00:00,  5.16it/s, Gen Loss=25.7268, Disc Loss=0.3251]\n"
     ]
    },
    {
     "name": "stdout",
     "output_type": "stream",
     "text": [
      "Epoch [472/750] | Gen Loss: 18.3469 | Disc Loss: 0.3251\n"
     ]
    },
    {
     "name": "stderr",
     "output_type": "stream",
     "text": [
      "Epoch 473/750: 100%|█████████████████████████████| 125/125 [00:24<00:00,  5.18it/s, Gen Loss=26.5120, Disc Loss=0.3251]\n"
     ]
    },
    {
     "name": "stdout",
     "output_type": "stream",
     "text": [
      "Epoch [473/750] | Gen Loss: 18.6069 | Disc Loss: 0.3251\n"
     ]
    },
    {
     "name": "stderr",
     "output_type": "stream",
     "text": [
      "Epoch 474/750: 100%|█████████████████████████████| 125/125 [00:24<00:00,  5.19it/s, Gen Loss=26.1684, Disc Loss=0.3251]\n"
     ]
    },
    {
     "name": "stdout",
     "output_type": "stream",
     "text": [
      "Epoch [474/750] | Gen Loss: 18.4164 | Disc Loss: 0.3251\n"
     ]
    },
    {
     "name": "stderr",
     "output_type": "stream",
     "text": [
      "Epoch 475/750: 100%|█████████████████████████████| 125/125 [00:24<00:00,  5.20it/s, Gen Loss=26.6151, Disc Loss=0.3251]\n"
     ]
    },
    {
     "name": "stdout",
     "output_type": "stream",
     "text": [
      "Epoch [475/750] | Gen Loss: 18.9570 | Disc Loss: 0.3251\n"
     ]
    },
    {
     "name": "stderr",
     "output_type": "stream",
     "text": [
      "Epoch 476/750: 100%|█████████████████████████████| 125/125 [00:24<00:00,  5.19it/s, Gen Loss=26.4853, Disc Loss=0.3251]\n"
     ]
    },
    {
     "name": "stdout",
     "output_type": "stream",
     "text": [
      "Epoch [476/750] | Gen Loss: 18.9324 | Disc Loss: 0.3251\n"
     ]
    },
    {
     "name": "stderr",
     "output_type": "stream",
     "text": [
      "Epoch 477/750: 100%|█████████████████████████████| 125/125 [00:24<00:00,  5.18it/s, Gen Loss=26.6797, Disc Loss=0.3251]\n"
     ]
    },
    {
     "name": "stdout",
     "output_type": "stream",
     "text": [
      "Epoch [477/750] | Gen Loss: 18.7633 | Disc Loss: 0.3251\n"
     ]
    },
    {
     "name": "stderr",
     "output_type": "stream",
     "text": [
      "Epoch 478/750: 100%|█████████████████████████████| 125/125 [00:24<00:00,  5.19it/s, Gen Loss=20.4176, Disc Loss=0.3251]\n"
     ]
    },
    {
     "name": "stdout",
     "output_type": "stream",
     "text": [
      "Epoch [478/750] | Gen Loss: 17.2459 | Disc Loss: 0.3264\n"
     ]
    },
    {
     "name": "stderr",
     "output_type": "stream",
     "text": [
      "Epoch 479/750: 100%|█████████████████████████████| 125/125 [00:24<00:00,  5.21it/s, Gen Loss=26.1363, Disc Loss=0.3251]\n"
     ]
    },
    {
     "name": "stdout",
     "output_type": "stream",
     "text": [
      "Epoch [479/750] | Gen Loss: 13.3233 | Disc Loss: 0.3251\n"
     ]
    },
    {
     "name": "stderr",
     "output_type": "stream",
     "text": [
      "Epoch 480/750: 100%|█████████████████████████████| 125/125 [00:24<00:00,  5.19it/s, Gen Loss=27.2019, Disc Loss=0.3251]\n"
     ]
    },
    {
     "name": "stdout",
     "output_type": "stream",
     "text": [
      "Epoch [480/750] | Gen Loss: 14.1212 | Disc Loss: 0.3251\n"
     ]
    },
    {
     "name": "stderr",
     "output_type": "stream",
     "text": [
      "Epoch 481/750: 100%|█████████████████████████████| 125/125 [00:24<00:00,  5.19it/s, Gen Loss=27.7190, Disc Loss=0.3251]\n"
     ]
    },
    {
     "name": "stdout",
     "output_type": "stream",
     "text": [
      "Epoch [481/750] | Gen Loss: 14.6606 | Disc Loss: 0.3251\n"
     ]
    },
    {
     "name": "stderr",
     "output_type": "stream",
     "text": [
      "Epoch 482/750: 100%|█████████████████████████████| 125/125 [00:24<00:00,  5.17it/s, Gen Loss=27.9490, Disc Loss=0.3251]\n"
     ]
    },
    {
     "name": "stdout",
     "output_type": "stream",
     "text": [
      "Epoch [482/750] | Gen Loss: 15.0808 | Disc Loss: 0.3251\n"
     ]
    },
    {
     "name": "stderr",
     "output_type": "stream",
     "text": [
      "Epoch 483/750: 100%|█████████████████████████████| 125/125 [00:24<00:00,  5.20it/s, Gen Loss=27.7992, Disc Loss=0.3251]\n"
     ]
    },
    {
     "name": "stdout",
     "output_type": "stream",
     "text": [
      "Epoch [483/750] | Gen Loss: 15.2653 | Disc Loss: 0.3251\n"
     ]
    },
    {
     "name": "stderr",
     "output_type": "stream",
     "text": [
      "Epoch 484/750: 100%|█████████████████████████████| 125/125 [00:24<00:00,  5.20it/s, Gen Loss=28.5005, Disc Loss=0.3251]\n"
     ]
    },
    {
     "name": "stdout",
     "output_type": "stream",
     "text": [
      "Epoch [484/750] | Gen Loss: 15.6023 | Disc Loss: 0.3251\n"
     ]
    },
    {
     "name": "stderr",
     "output_type": "stream",
     "text": [
      "Epoch 485/750: 100%|█████████████████████████████| 125/125 [00:24<00:00,  5.20it/s, Gen Loss=28.6521, Disc Loss=0.3251]\n"
     ]
    },
    {
     "name": "stdout",
     "output_type": "stream",
     "text": [
      "Epoch [485/750] | Gen Loss: 15.8943 | Disc Loss: 0.3251\n"
     ]
    },
    {
     "name": "stderr",
     "output_type": "stream",
     "text": [
      "Epoch 486/750: 100%|█████████████████████████████| 125/125 [00:24<00:00,  5.18it/s, Gen Loss=28.9924, Disc Loss=0.3251]\n"
     ]
    },
    {
     "name": "stdout",
     "output_type": "stream",
     "text": [
      "Epoch [486/750] | Gen Loss: 15.9594 | Disc Loss: 0.3251\n"
     ]
    },
    {
     "name": "stderr",
     "output_type": "stream",
     "text": [
      "Epoch 487/750: 100%|█████████████████████████████| 125/125 [00:24<00:00,  5.16it/s, Gen Loss=28.9732, Disc Loss=0.3251]\n"
     ]
    },
    {
     "name": "stdout",
     "output_type": "stream",
     "text": [
      "Epoch [487/750] | Gen Loss: 16.0764 | Disc Loss: 0.3251\n"
     ]
    },
    {
     "name": "stderr",
     "output_type": "stream",
     "text": [
      "Epoch 488/750: 100%|█████████████████████████████| 125/125 [00:24<00:00,  5.19it/s, Gen Loss=29.1759, Disc Loss=0.3251]\n"
     ]
    },
    {
     "name": "stdout",
     "output_type": "stream",
     "text": [
      "Epoch [488/750] | Gen Loss: 16.2338 | Disc Loss: 0.3251\n"
     ]
    },
    {
     "name": "stderr",
     "output_type": "stream",
     "text": [
      "Epoch 489/750: 100%|█████████████████████████████| 125/125 [00:24<00:00,  5.20it/s, Gen Loss=29.7103, Disc Loss=0.3251]\n"
     ]
    },
    {
     "name": "stdout",
     "output_type": "stream",
     "text": [
      "Epoch [489/750] | Gen Loss: 16.5075 | Disc Loss: 0.3251\n"
     ]
    },
    {
     "name": "stderr",
     "output_type": "stream",
     "text": [
      "Epoch 490/750: 100%|█████████████████████████████| 125/125 [00:24<00:00,  5.19it/s, Gen Loss=29.3446, Disc Loss=0.3251]\n"
     ]
    },
    {
     "name": "stdout",
     "output_type": "stream",
     "text": [
      "Epoch [490/750] | Gen Loss: 16.5180 | Disc Loss: 0.3251\n"
     ]
    },
    {
     "name": "stderr",
     "output_type": "stream",
     "text": [
      "Epoch 491/750: 100%|█████████████████████████████| 125/125 [00:24<00:00,  5.20it/s, Gen Loss=29.1735, Disc Loss=0.3251]\n"
     ]
    },
    {
     "name": "stdout",
     "output_type": "stream",
     "text": [
      "Epoch [491/750] | Gen Loss: 16.5530 | Disc Loss: 0.3251\n"
     ]
    },
    {
     "name": "stderr",
     "output_type": "stream",
     "text": [
      "Epoch 492/750: 100%|█████████████████████████████| 125/125 [00:24<00:00,  5.17it/s, Gen Loss=29.3367, Disc Loss=0.3251]\n"
     ]
    },
    {
     "name": "stdout",
     "output_type": "stream",
     "text": [
      "Epoch [492/750] | Gen Loss: 16.6468 | Disc Loss: 0.3251\n"
     ]
    },
    {
     "name": "stderr",
     "output_type": "stream",
     "text": [
      "Epoch 493/750: 100%|█████████████████████████████| 125/125 [00:24<00:00,  5.20it/s, Gen Loss=29.2463, Disc Loss=0.3251]\n"
     ]
    },
    {
     "name": "stdout",
     "output_type": "stream",
     "text": [
      "Epoch [493/750] | Gen Loss: 16.6883 | Disc Loss: 0.3251\n"
     ]
    },
    {
     "name": "stderr",
     "output_type": "stream",
     "text": [
      "Epoch 494/750: 100%|█████████████████████████████| 125/125 [00:24<00:00,  5.20it/s, Gen Loss=29.5671, Disc Loss=0.3251]\n"
     ]
    },
    {
     "name": "stdout",
     "output_type": "stream",
     "text": [
      "Epoch [494/750] | Gen Loss: 16.8871 | Disc Loss: 0.3251\n"
     ]
    },
    {
     "name": "stderr",
     "output_type": "stream",
     "text": [
      "Epoch 495/750: 100%|█████████████████████████████| 125/125 [00:24<00:00,  5.19it/s, Gen Loss=30.5483, Disc Loss=0.3251]\n"
     ]
    },
    {
     "name": "stdout",
     "output_type": "stream",
     "text": [
      "Epoch [495/750] | Gen Loss: 17.1420 | Disc Loss: 0.3251\n"
     ]
    },
    {
     "name": "stderr",
     "output_type": "stream",
     "text": [
      "Epoch 496/750: 100%|█████████████████████████████| 125/125 [00:24<00:00,  5.18it/s, Gen Loss=30.5900, Disc Loss=0.3251]\n"
     ]
    },
    {
     "name": "stdout",
     "output_type": "stream",
     "text": [
      "Epoch [496/750] | Gen Loss: 17.1499 | Disc Loss: 0.3251\n"
     ]
    },
    {
     "name": "stderr",
     "output_type": "stream",
     "text": [
      "Epoch 497/750: 100%|█████████████████████████████| 125/125 [00:24<00:00,  5.15it/s, Gen Loss=30.3688, Disc Loss=0.3251]\n"
     ]
    },
    {
     "name": "stdout",
     "output_type": "stream",
     "text": [
      "Epoch [497/750] | Gen Loss: 17.2861 | Disc Loss: 0.3251\n"
     ]
    },
    {
     "name": "stderr",
     "output_type": "stream",
     "text": [
      "Epoch 498/750: 100%|█████████████████████████████| 125/125 [00:24<00:00,  5.20it/s, Gen Loss=30.0581, Disc Loss=0.3251]\n"
     ]
    },
    {
     "name": "stdout",
     "output_type": "stream",
     "text": [
      "Epoch [498/750] | Gen Loss: 17.3521 | Disc Loss: 0.3251\n"
     ]
    },
    {
     "name": "stderr",
     "output_type": "stream",
     "text": [
      "Epoch 499/750: 100%|█████████████████████████████| 125/125 [00:23<00:00,  5.23it/s, Gen Loss=30.6169, Disc Loss=0.3251]\n"
     ]
    },
    {
     "name": "stdout",
     "output_type": "stream",
     "text": [
      "Epoch [499/750] | Gen Loss: 17.5549 | Disc Loss: 0.3251\n"
     ]
    },
    {
     "name": "stderr",
     "output_type": "stream",
     "text": [
      "Epoch 500/750: 100%|█████████████████████████████| 125/125 [00:23<00:00,  5.23it/s, Gen Loss=30.0112, Disc Loss=0.3251]\n"
     ]
    },
    {
     "name": "stdout",
     "output_type": "stream",
     "text": [
      "Epoch [500/750] | Gen Loss: 17.5363 | Disc Loss: 0.3251\n"
     ]
    },
    {
     "name": "stderr",
     "output_type": "stream",
     "text": [
      "Epoch 501/750: 100%|█████████████████████████████| 125/125 [00:24<00:00,  5.19it/s, Gen Loss=22.9773, Disc Loss=0.3251]\n"
     ]
    },
    {
     "name": "stdout",
     "output_type": "stream",
     "text": [
      "Epoch [501/750] | Gen Loss: 18.7771 | Disc Loss: 0.3252\n"
     ]
    },
    {
     "name": "stderr",
     "output_type": "stream",
     "text": [
      "Epoch 502/750: 100%|█████████████████████████████| 125/125 [00:24<00:00,  5.19it/s, Gen Loss=23.3980, Disc Loss=0.3251]\n"
     ]
    },
    {
     "name": "stdout",
     "output_type": "stream",
     "text": [
      "Epoch [502/750] | Gen Loss: 18.4205 | Disc Loss: 0.3251\n"
     ]
    },
    {
     "name": "stderr",
     "output_type": "stream",
     "text": [
      "Epoch 503/750: 100%|█████████████████████████████| 125/125 [00:23<00:00,  5.24it/s, Gen Loss=23.1877, Disc Loss=0.3251]\n"
     ]
    },
    {
     "name": "stdout",
     "output_type": "stream",
     "text": [
      "Epoch [503/750] | Gen Loss: 18.6262 | Disc Loss: 0.3251\n"
     ]
    },
    {
     "name": "stderr",
     "output_type": "stream",
     "text": [
      "Epoch 504/750: 100%|█████████████████████████████| 125/125 [00:23<00:00,  5.23it/s, Gen Loss=23.3335, Disc Loss=0.3251]\n"
     ]
    },
    {
     "name": "stdout",
     "output_type": "stream",
     "text": [
      "Epoch [504/750] | Gen Loss: 18.7529 | Disc Loss: 0.3251\n"
     ]
    },
    {
     "name": "stderr",
     "output_type": "stream",
     "text": [
      "Epoch 505/750: 100%|█████████████████████████████| 125/125 [00:23<00:00,  5.21it/s, Gen Loss=22.7416, Disc Loss=0.3251]\n"
     ]
    },
    {
     "name": "stdout",
     "output_type": "stream",
     "text": [
      "Epoch [505/750] | Gen Loss: 18.7715 | Disc Loss: 0.3251\n"
     ]
    },
    {
     "name": "stderr",
     "output_type": "stream",
     "text": [
      "Epoch 506/750: 100%|█████████████████████████████| 125/125 [00:23<00:00,  5.23it/s, Gen Loss=24.1456, Disc Loss=0.3251]\n"
     ]
    },
    {
     "name": "stdout",
     "output_type": "stream",
     "text": [
      "Epoch [506/750] | Gen Loss: 18.8563 | Disc Loss: 0.3251\n"
     ]
    },
    {
     "name": "stderr",
     "output_type": "stream",
     "text": [
      "Epoch 507/750: 100%|█████████████████████████████| 125/125 [00:23<00:00,  5.21it/s, Gen Loss=22.3913, Disc Loss=0.3251]\n"
     ]
    },
    {
     "name": "stdout",
     "output_type": "stream",
     "text": [
      "Epoch [507/750] | Gen Loss: 19.1806 | Disc Loss: 0.3251\n"
     ]
    },
    {
     "name": "stderr",
     "output_type": "stream",
     "text": [
      "Epoch 508/750: 100%|█████████████████████████████| 125/125 [00:23<00:00,  5.23it/s, Gen Loss=22.2674, Disc Loss=0.3251]\n"
     ]
    },
    {
     "name": "stdout",
     "output_type": "stream",
     "text": [
      "Epoch [508/750] | Gen Loss: 19.2873 | Disc Loss: 0.3251\n"
     ]
    },
    {
     "name": "stderr",
     "output_type": "stream",
     "text": [
      "Epoch 509/750: 100%|█████████████████████████████| 125/125 [00:23<00:00,  5.23it/s, Gen Loss=22.7353, Disc Loss=0.3251]\n"
     ]
    },
    {
     "name": "stdout",
     "output_type": "stream",
     "text": [
      "Epoch [509/750] | Gen Loss: 19.2746 | Disc Loss: 0.3251\n"
     ]
    },
    {
     "name": "stderr",
     "output_type": "stream",
     "text": [
      "Epoch 510/750: 100%|█████████████████████████████| 125/125 [00:23<00:00,  5.24it/s, Gen Loss=21.3397, Disc Loss=0.3251]\n"
     ]
    },
    {
     "name": "stdout",
     "output_type": "stream",
     "text": [
      "Epoch [510/750] | Gen Loss: 19.4650 | Disc Loss: 0.3251\n"
     ]
    },
    {
     "name": "stderr",
     "output_type": "stream",
     "text": [
      "Epoch 511/750: 100%|█████████████████████████████| 125/125 [00:24<00:00,  5.21it/s, Gen Loss=21.8272, Disc Loss=0.3251]\n"
     ]
    },
    {
     "name": "stdout",
     "output_type": "stream",
     "text": [
      "Epoch [511/750] | Gen Loss: 19.5598 | Disc Loss: 0.3251\n"
     ]
    },
    {
     "name": "stderr",
     "output_type": "stream",
     "text": [
      "Epoch 512/750: 100%|█████████████████████████████| 125/125 [00:24<00:00,  5.17it/s, Gen Loss=22.5129, Disc Loss=0.3251]\n"
     ]
    },
    {
     "name": "stdout",
     "output_type": "stream",
     "text": [
      "Epoch [512/750] | Gen Loss: 19.6484 | Disc Loss: 0.3251\n"
     ]
    },
    {
     "name": "stderr",
     "output_type": "stream",
     "text": [
      "Epoch 513/750: 100%|█████████████████████████████| 125/125 [00:23<00:00,  5.21it/s, Gen Loss=23.6278, Disc Loss=0.3251]\n"
     ]
    },
    {
     "name": "stdout",
     "output_type": "stream",
     "text": [
      "Epoch [513/750] | Gen Loss: 19.8969 | Disc Loss: 0.3251\n"
     ]
    },
    {
     "name": "stderr",
     "output_type": "stream",
     "text": [
      "Epoch 514/750: 100%|█████████████████████████████| 125/125 [00:23<00:00,  5.21it/s, Gen Loss=26.2355, Disc Loss=0.3251]\n"
     ]
    },
    {
     "name": "stdout",
     "output_type": "stream",
     "text": [
      "Epoch [514/750] | Gen Loss: 19.9595 | Disc Loss: 0.3251\n"
     ]
    },
    {
     "name": "stderr",
     "output_type": "stream",
     "text": [
      "Epoch 515/750: 100%|█████████████████████████████| 125/125 [00:24<00:00,  5.19it/s, Gen Loss=22.7774, Disc Loss=0.3251]\n"
     ]
    },
    {
     "name": "stdout",
     "output_type": "stream",
     "text": [
      "Epoch [515/750] | Gen Loss: 19.9045 | Disc Loss: 0.3251\n"
     ]
    },
    {
     "name": "stderr",
     "output_type": "stream",
     "text": [
      "Epoch 516/750: 100%|█████████████████████████████| 125/125 [00:24<00:00,  5.18it/s, Gen Loss=22.9049, Disc Loss=0.3251]\n"
     ]
    },
    {
     "name": "stdout",
     "output_type": "stream",
     "text": [
      "Epoch [516/750] | Gen Loss: 19.9961 | Disc Loss: 0.3251\n"
     ]
    },
    {
     "name": "stderr",
     "output_type": "stream",
     "text": [
      "Epoch 517/750: 100%|█████████████████████████████| 125/125 [00:24<00:00,  5.16it/s, Gen Loss=20.4414, Disc Loss=0.3251]\n"
     ]
    },
    {
     "name": "stdout",
     "output_type": "stream",
     "text": [
      "Epoch [517/750] | Gen Loss: 20.0145 | Disc Loss: 0.3251\n"
     ]
    },
    {
     "name": "stderr",
     "output_type": "stream",
     "text": [
      "Epoch 518/750: 100%|█████████████████████████████| 125/125 [00:24<00:00,  5.17it/s, Gen Loss=23.6482, Disc Loss=0.3251]\n"
     ]
    },
    {
     "name": "stdout",
     "output_type": "stream",
     "text": [
      "Epoch [518/750] | Gen Loss: 19.9975 | Disc Loss: 0.3251\n"
     ]
    },
    {
     "name": "stderr",
     "output_type": "stream",
     "text": [
      "Epoch 519/750: 100%|█████████████████████████████| 125/125 [00:24<00:00,  5.18it/s, Gen Loss=22.9544, Disc Loss=0.3251]\n"
     ]
    },
    {
     "name": "stdout",
     "output_type": "stream",
     "text": [
      "Epoch [519/750] | Gen Loss: 20.1789 | Disc Loss: 0.3251\n"
     ]
    },
    {
     "name": "stderr",
     "output_type": "stream",
     "text": [
      "Epoch 520/750: 100%|█████████████████████████████| 125/125 [00:24<00:00,  5.20it/s, Gen Loss=23.2552, Disc Loss=0.3251]\n"
     ]
    },
    {
     "name": "stdout",
     "output_type": "stream",
     "text": [
      "Epoch [520/750] | Gen Loss: 20.3732 | Disc Loss: 0.3251\n"
     ]
    },
    {
     "name": "stderr",
     "output_type": "stream",
     "text": [
      "Epoch 521/750: 100%|█████████████████████████████| 125/125 [00:24<00:00,  5.16it/s, Gen Loss=25.6802, Disc Loss=0.3251]\n"
     ]
    },
    {
     "name": "stdout",
     "output_type": "stream",
     "text": [
      "Epoch [521/750] | Gen Loss: 20.4577 | Disc Loss: 0.3251\n"
     ]
    },
    {
     "name": "stderr",
     "output_type": "stream",
     "text": [
      "Epoch 522/750: 100%|█████████████████████████████| 125/125 [00:24<00:00,  5.16it/s, Gen Loss=23.7405, Disc Loss=0.3251]\n"
     ]
    },
    {
     "name": "stdout",
     "output_type": "stream",
     "text": [
      "Epoch [522/750] | Gen Loss: 20.4223 | Disc Loss: 0.3251\n"
     ]
    },
    {
     "name": "stderr",
     "output_type": "stream",
     "text": [
      "Epoch 523/750: 100%|█████████████████████████████| 125/125 [00:24<00:00,  5.19it/s, Gen Loss=24.0033, Disc Loss=0.3251]\n"
     ]
    },
    {
     "name": "stdout",
     "output_type": "stream",
     "text": [
      "Epoch [523/750] | Gen Loss: 20.5649 | Disc Loss: 0.3251\n"
     ]
    },
    {
     "name": "stderr",
     "output_type": "stream",
     "text": [
      "Epoch 524/750: 100%|█████████████████████████████| 125/125 [00:24<00:00,  5.20it/s, Gen Loss=27.8887, Disc Loss=0.3251]\n"
     ]
    },
    {
     "name": "stdout",
     "output_type": "stream",
     "text": [
      "Epoch [524/750] | Gen Loss: 20.5541 | Disc Loss: 0.3251\n"
     ]
    },
    {
     "name": "stderr",
     "output_type": "stream",
     "text": [
      "Epoch 525/750: 100%|█████████████████████████████| 125/125 [00:23<00:00,  5.21it/s, Gen Loss=24.2774, Disc Loss=0.3251]\n"
     ]
    },
    {
     "name": "stdout",
     "output_type": "stream",
     "text": [
      "Epoch [525/750] | Gen Loss: 20.7221 | Disc Loss: 0.3251\n"
     ]
    },
    {
     "name": "stderr",
     "output_type": "stream",
     "text": [
      "Epoch 526/750: 100%|█████████████████████████████| 125/125 [00:24<00:00,  5.18it/s, Gen Loss=21.8522, Disc Loss=0.3251]\n"
     ]
    },
    {
     "name": "stdout",
     "output_type": "stream",
     "text": [
      "Epoch [526/750] | Gen Loss: 20.6118 | Disc Loss: 0.3251\n"
     ]
    },
    {
     "name": "stderr",
     "output_type": "stream",
     "text": [
      "Epoch 527/750: 100%|█████████████████████████████| 125/125 [00:24<00:00,  5.17it/s, Gen Loss=22.1194, Disc Loss=0.3251]\n"
     ]
    },
    {
     "name": "stdout",
     "output_type": "stream",
     "text": [
      "Epoch [527/750] | Gen Loss: 20.5133 | Disc Loss: 0.3251\n"
     ]
    },
    {
     "name": "stderr",
     "output_type": "stream",
     "text": [
      "Epoch 528/750: 100%|█████████████████████████████| 125/125 [00:23<00:00,  5.21it/s, Gen Loss=24.7666, Disc Loss=0.3251]\n"
     ]
    },
    {
     "name": "stdout",
     "output_type": "stream",
     "text": [
      "Epoch [528/750] | Gen Loss: 20.6963 | Disc Loss: 0.3251\n"
     ]
    },
    {
     "name": "stderr",
     "output_type": "stream",
     "text": [
      "Epoch 529/750: 100%|█████████████████████████████| 125/125 [00:23<00:00,  5.21it/s, Gen Loss=26.6773, Disc Loss=0.3251]\n"
     ]
    },
    {
     "name": "stdout",
     "output_type": "stream",
     "text": [
      "Epoch [529/750] | Gen Loss: 20.8940 | Disc Loss: 0.3251\n"
     ]
    },
    {
     "name": "stderr",
     "output_type": "stream",
     "text": [
      "Epoch 530/750: 100%|█████████████████████████████| 125/125 [00:24<00:00,  5.19it/s, Gen Loss=26.7792, Disc Loss=0.3251]\n"
     ]
    },
    {
     "name": "stdout",
     "output_type": "stream",
     "text": [
      "Epoch [530/750] | Gen Loss: 20.7490 | Disc Loss: 0.3251\n"
     ]
    },
    {
     "name": "stderr",
     "output_type": "stream",
     "text": [
      "Epoch 531/750: 100%|█████████████████████████████| 125/125 [00:24<00:00,  5.19it/s, Gen Loss=27.2209, Disc Loss=0.3251]\n"
     ]
    },
    {
     "name": "stdout",
     "output_type": "stream",
     "text": [
      "Epoch [531/750] | Gen Loss: 20.9764 | Disc Loss: 0.3251\n"
     ]
    },
    {
     "name": "stderr",
     "output_type": "stream",
     "text": [
      "Epoch 532/750: 100%|█████████████████████████████| 125/125 [00:24<00:00,  5.15it/s, Gen Loss=21.7631, Disc Loss=0.3251]\n"
     ]
    },
    {
     "name": "stdout",
     "output_type": "stream",
     "text": [
      "Epoch [532/750] | Gen Loss: 20.9978 | Disc Loss: 0.3251\n"
     ]
    },
    {
     "name": "stderr",
     "output_type": "stream",
     "text": [
      "Epoch 533/750: 100%|█████████████████████████████| 125/125 [00:24<00:00,  5.17it/s, Gen Loss=25.9993, Disc Loss=0.3251]\n"
     ]
    },
    {
     "name": "stdout",
     "output_type": "stream",
     "text": [
      "Epoch [533/750] | Gen Loss: 21.0438 | Disc Loss: 0.3251\n"
     ]
    },
    {
     "name": "stderr",
     "output_type": "stream",
     "text": [
      "Epoch 534/750: 100%|█████████████████████████████| 125/125 [00:24<00:00,  5.20it/s, Gen Loss=26.9444, Disc Loss=0.3251]\n"
     ]
    },
    {
     "name": "stdout",
     "output_type": "stream",
     "text": [
      "Epoch [534/750] | Gen Loss: 21.1316 | Disc Loss: 0.3251\n"
     ]
    },
    {
     "name": "stderr",
     "output_type": "stream",
     "text": [
      "Epoch 535/750: 100%|█████████████████████████████| 125/125 [00:24<00:00,  5.18it/s, Gen Loss=22.8889, Disc Loss=0.3251]\n"
     ]
    },
    {
     "name": "stdout",
     "output_type": "stream",
     "text": [
      "Epoch [535/750] | Gen Loss: 20.8305 | Disc Loss: 0.3251\n"
     ]
    },
    {
     "name": "stderr",
     "output_type": "stream",
     "text": [
      "Epoch 536/750: 100%|█████████████████████████████| 125/125 [00:24<00:00,  5.17it/s, Gen Loss=24.5031, Disc Loss=0.3251]\n"
     ]
    },
    {
     "name": "stdout",
     "output_type": "stream",
     "text": [
      "Epoch [536/750] | Gen Loss: 21.0728 | Disc Loss: 0.3251\n"
     ]
    },
    {
     "name": "stderr",
     "output_type": "stream",
     "text": [
      "Epoch 537/750: 100%|█████████████████████████████| 125/125 [00:24<00:00,  5.16it/s, Gen Loss=24.4052, Disc Loss=0.3251]\n"
     ]
    },
    {
     "name": "stdout",
     "output_type": "stream",
     "text": [
      "Epoch [537/750] | Gen Loss: 21.2908 | Disc Loss: 0.3251\n"
     ]
    },
    {
     "name": "stderr",
     "output_type": "stream",
     "text": [
      "Epoch 538/750: 100%|█████████████████████████████| 125/125 [00:24<00:00,  5.20it/s, Gen Loss=23.8093, Disc Loss=0.3251]\n"
     ]
    },
    {
     "name": "stdout",
     "output_type": "stream",
     "text": [
      "Epoch [538/750] | Gen Loss: 21.1346 | Disc Loss: 0.3251\n"
     ]
    },
    {
     "name": "stderr",
     "output_type": "stream",
     "text": [
      "Epoch 539/750: 100%|█████████████████████████████| 125/125 [00:24<00:00,  5.17it/s, Gen Loss=26.9890, Disc Loss=0.3251]\n"
     ]
    },
    {
     "name": "stdout",
     "output_type": "stream",
     "text": [
      "Epoch [539/750] | Gen Loss: 21.1474 | Disc Loss: 0.3251\n"
     ]
    },
    {
     "name": "stderr",
     "output_type": "stream",
     "text": [
      "Epoch 540/750: 100%|█████████████████████████████| 125/125 [00:24<00:00,  5.17it/s, Gen Loss=27.3075, Disc Loss=0.3251]\n"
     ]
    },
    {
     "name": "stdout",
     "output_type": "stream",
     "text": [
      "Epoch [540/750] | Gen Loss: 20.6099 | Disc Loss: 0.3251\n"
     ]
    },
    {
     "name": "stderr",
     "output_type": "stream",
     "text": [
      "Epoch 541/750: 100%|█████████████████████████████| 125/125 [00:24<00:00,  5.19it/s, Gen Loss=23.5544, Disc Loss=0.3251]\n"
     ]
    },
    {
     "name": "stdout",
     "output_type": "stream",
     "text": [
      "Epoch [541/750] | Gen Loss: 20.6361 | Disc Loss: 0.3251\n"
     ]
    },
    {
     "name": "stderr",
     "output_type": "stream",
     "text": [
      "Epoch 542/750: 100%|█████████████████████████████| 125/125 [00:24<00:00,  5.18it/s, Gen Loss=26.7016, Disc Loss=0.3251]\n"
     ]
    },
    {
     "name": "stdout",
     "output_type": "stream",
     "text": [
      "Epoch [542/750] | Gen Loss: 21.3411 | Disc Loss: 0.3251\n"
     ]
    },
    {
     "name": "stderr",
     "output_type": "stream",
     "text": [
      "Epoch 543/750: 100%|█████████████████████████████| 125/125 [00:24<00:00,  5.20it/s, Gen Loss=23.0927, Disc Loss=0.3251]\n"
     ]
    },
    {
     "name": "stdout",
     "output_type": "stream",
     "text": [
      "Epoch [543/750] | Gen Loss: 20.9037 | Disc Loss: 0.3251\n"
     ]
    },
    {
     "name": "stderr",
     "output_type": "stream",
     "text": [
      "Epoch 544/750: 100%|█████████████████████████████| 125/125 [00:24<00:00,  5.19it/s, Gen Loss=25.9922, Disc Loss=0.3251]\n"
     ]
    },
    {
     "name": "stdout",
     "output_type": "stream",
     "text": [
      "Epoch [544/750] | Gen Loss: 20.9827 | Disc Loss: 0.3251\n"
     ]
    },
    {
     "name": "stderr",
     "output_type": "stream",
     "text": [
      "Epoch 545/750: 100%|█████████████████████████████| 125/125 [00:24<00:00,  5.18it/s, Gen Loss=29.5734, Disc Loss=0.3251]\n"
     ]
    },
    {
     "name": "stdout",
     "output_type": "stream",
     "text": [
      "Epoch [545/750] | Gen Loss: 21.0106 | Disc Loss: 0.3251\n"
     ]
    },
    {
     "name": "stderr",
     "output_type": "stream",
     "text": [
      "Epoch 546/750: 100%|█████████████████████████████| 125/125 [00:24<00:00,  5.17it/s, Gen Loss=24.4016, Disc Loss=0.3251]\n"
     ]
    },
    {
     "name": "stdout",
     "output_type": "stream",
     "text": [
      "Epoch [546/750] | Gen Loss: 20.7405 | Disc Loss: 0.3251\n"
     ]
    },
    {
     "name": "stderr",
     "output_type": "stream",
     "text": [
      "Epoch 547/750: 100%|█████████████████████████████| 125/125 [00:24<00:00,  5.13it/s, Gen Loss=23.8370, Disc Loss=0.3251]\n"
     ]
    },
    {
     "name": "stdout",
     "output_type": "stream",
     "text": [
      "Epoch [547/750] | Gen Loss: 20.9776 | Disc Loss: 0.3251\n"
     ]
    },
    {
     "name": "stderr",
     "output_type": "stream",
     "text": [
      "Epoch 548/750: 100%|█████████████████████████████| 125/125 [00:24<00:00,  5.18it/s, Gen Loss=24.3684, Disc Loss=0.3251]\n"
     ]
    },
    {
     "name": "stdout",
     "output_type": "stream",
     "text": [
      "Epoch [548/750] | Gen Loss: 21.0224 | Disc Loss: 0.3251\n"
     ]
    },
    {
     "name": "stderr",
     "output_type": "stream",
     "text": [
      "Epoch 549/750: 100%|█████████████████████████████| 125/125 [00:24<00:00,  5.17it/s, Gen Loss=23.3389, Disc Loss=0.3251]\n"
     ]
    },
    {
     "name": "stdout",
     "output_type": "stream",
     "text": [
      "Epoch [549/750] | Gen Loss: 21.3109 | Disc Loss: 0.3251\n"
     ]
    },
    {
     "name": "stderr",
     "output_type": "stream",
     "text": [
      "Epoch 550/750: 100%|█████████████████████████████| 125/125 [00:24<00:00,  5.19it/s, Gen Loss=24.9178, Disc Loss=0.3251]\n"
     ]
    },
    {
     "name": "stdout",
     "output_type": "stream",
     "text": [
      "Epoch [550/750] | Gen Loss: 21.1783 | Disc Loss: 0.3251\n"
     ]
    },
    {
     "name": "stderr",
     "output_type": "stream",
     "text": [
      "Epoch 551/750: 100%|█████████████████████████████| 125/125 [00:24<00:00,  5.19it/s, Gen Loss=24.0691, Disc Loss=0.3251]\n"
     ]
    },
    {
     "name": "stdout",
     "output_type": "stream",
     "text": [
      "Epoch [551/750] | Gen Loss: 21.1367 | Disc Loss: 0.3251\n"
     ]
    },
    {
     "name": "stderr",
     "output_type": "stream",
     "text": [
      "Epoch 552/750: 100%|█████████████████████████████| 125/125 [00:24<00:00,  5.16it/s, Gen Loss=25.5502, Disc Loss=0.3251]\n"
     ]
    },
    {
     "name": "stdout",
     "output_type": "stream",
     "text": [
      "Epoch [552/750] | Gen Loss: 21.0852 | Disc Loss: 0.3251\n"
     ]
    },
    {
     "name": "stderr",
     "output_type": "stream",
     "text": [
      "Epoch 553/750: 100%|█████████████████████████████| 125/125 [00:24<00:00,  5.19it/s, Gen Loss=27.4470, Disc Loss=0.3251]\n"
     ]
    },
    {
     "name": "stdout",
     "output_type": "stream",
     "text": [
      "Epoch [553/750] | Gen Loss: 21.1429 | Disc Loss: 0.3251\n"
     ]
    },
    {
     "name": "stderr",
     "output_type": "stream",
     "text": [
      "Epoch 554/750: 100%|█████████████████████████████| 125/125 [00:24<00:00,  5.18it/s, Gen Loss=25.2043, Disc Loss=0.3251]\n"
     ]
    },
    {
     "name": "stdout",
     "output_type": "stream",
     "text": [
      "Epoch [554/750] | Gen Loss: 21.0178 | Disc Loss: 0.3251\n"
     ]
    },
    {
     "name": "stderr",
     "output_type": "stream",
     "text": [
      "Epoch 555/750: 100%|█████████████████████████████| 125/125 [00:24<00:00,  5.18it/s, Gen Loss=27.1948, Disc Loss=0.3251]\n"
     ]
    },
    {
     "name": "stdout",
     "output_type": "stream",
     "text": [
      "Epoch [555/750] | Gen Loss: 21.4077 | Disc Loss: 0.3251\n"
     ]
    },
    {
     "name": "stderr",
     "output_type": "stream",
     "text": [
      "Epoch 556/750: 100%|█████████████████████████████| 125/125 [00:24<00:00,  5.18it/s, Gen Loss=27.1425, Disc Loss=0.3251]\n"
     ]
    },
    {
     "name": "stdout",
     "output_type": "stream",
     "text": [
      "Epoch [556/750] | Gen Loss: 21.0813 | Disc Loss: 0.3251\n"
     ]
    },
    {
     "name": "stderr",
     "output_type": "stream",
     "text": [
      "Epoch 557/750: 100%|█████████████████████████████| 125/125 [00:24<00:00,  5.16it/s, Gen Loss=23.4533, Disc Loss=0.3251]\n"
     ]
    },
    {
     "name": "stdout",
     "output_type": "stream",
     "text": [
      "Epoch [557/750] | Gen Loss: 21.0072 | Disc Loss: 0.3251\n"
     ]
    },
    {
     "name": "stderr",
     "output_type": "stream",
     "text": [
      "Epoch 558/750: 100%|█████████████████████████████| 125/125 [00:24<00:00,  5.21it/s, Gen Loss=28.0384, Disc Loss=0.3251]\n"
     ]
    },
    {
     "name": "stdout",
     "output_type": "stream",
     "text": [
      "Epoch [558/750] | Gen Loss: 21.5458 | Disc Loss: 0.3251\n"
     ]
    },
    {
     "name": "stderr",
     "output_type": "stream",
     "text": [
      "Epoch 559/750: 100%|█████████████████████████████| 125/125 [00:24<00:00,  5.18it/s, Gen Loss=27.0380, Disc Loss=0.3251]\n"
     ]
    },
    {
     "name": "stdout",
     "output_type": "stream",
     "text": [
      "Epoch [559/750] | Gen Loss: 21.2288 | Disc Loss: 0.3251\n"
     ]
    },
    {
     "name": "stderr",
     "output_type": "stream",
     "text": [
      "Epoch 560/750: 100%|█████████████████████████████| 125/125 [00:24<00:00,  5.17it/s, Gen Loss=25.1471, Disc Loss=0.3251]\n"
     ]
    },
    {
     "name": "stdout",
     "output_type": "stream",
     "text": [
      "Epoch [560/750] | Gen Loss: 20.9943 | Disc Loss: 0.3251\n"
     ]
    },
    {
     "name": "stderr",
     "output_type": "stream",
     "text": [
      "Epoch 561/750: 100%|█████████████████████████████| 125/125 [00:24<00:00,  5.16it/s, Gen Loss=24.5252, Disc Loss=0.3251]\n"
     ]
    },
    {
     "name": "stdout",
     "output_type": "stream",
     "text": [
      "Epoch [561/750] | Gen Loss: 21.3343 | Disc Loss: 0.3251\n"
     ]
    },
    {
     "name": "stderr",
     "output_type": "stream",
     "text": [
      "Epoch 562/750: 100%|█████████████████████████████| 125/125 [00:24<00:00,  5.16it/s, Gen Loss=26.6084, Disc Loss=0.3251]\n"
     ]
    },
    {
     "name": "stdout",
     "output_type": "stream",
     "text": [
      "Epoch [562/750] | Gen Loss: 21.2979 | Disc Loss: 0.3251\n"
     ]
    },
    {
     "name": "stderr",
     "output_type": "stream",
     "text": [
      "Epoch 563/750: 100%|█████████████████████████████| 125/125 [00:24<00:00,  5.16it/s, Gen Loss=25.7579, Disc Loss=0.3251]\n"
     ]
    },
    {
     "name": "stdout",
     "output_type": "stream",
     "text": [
      "Epoch [563/750] | Gen Loss: 21.1841 | Disc Loss: 0.3251\n"
     ]
    },
    {
     "name": "stderr",
     "output_type": "stream",
     "text": [
      "Epoch 564/750: 100%|█████████████████████████████| 125/125 [00:24<00:00,  5.19it/s, Gen Loss=24.9500, Disc Loss=0.3251]\n"
     ]
    },
    {
     "name": "stdout",
     "output_type": "stream",
     "text": [
      "Epoch [564/750] | Gen Loss: 21.4021 | Disc Loss: 0.3251\n"
     ]
    },
    {
     "name": "stderr",
     "output_type": "stream",
     "text": [
      "Epoch 565/750: 100%|█████████████████████████████| 125/125 [00:24<00:00,  5.18it/s, Gen Loss=25.1919, Disc Loss=0.3251]\n"
     ]
    },
    {
     "name": "stdout",
     "output_type": "stream",
     "text": [
      "Epoch [565/750] | Gen Loss: 21.0702 | Disc Loss: 0.3251\n"
     ]
    },
    {
     "name": "stderr",
     "output_type": "stream",
     "text": [
      "Epoch 566/750: 100%|█████████████████████████████| 125/125 [00:24<00:00,  5.17it/s, Gen Loss=24.3605, Disc Loss=0.3251]\n"
     ]
    },
    {
     "name": "stdout",
     "output_type": "stream",
     "text": [
      "Epoch [566/750] | Gen Loss: 20.9168 | Disc Loss: 0.3251\n"
     ]
    },
    {
     "name": "stderr",
     "output_type": "stream",
     "text": [
      "Epoch 567/750: 100%|█████████████████████████████| 125/125 [00:24<00:00,  5.16it/s, Gen Loss=25.6420, Disc Loss=0.3251]\n"
     ]
    },
    {
     "name": "stdout",
     "output_type": "stream",
     "text": [
      "Epoch [567/750] | Gen Loss: 21.0873 | Disc Loss: 0.3251\n"
     ]
    },
    {
     "name": "stderr",
     "output_type": "stream",
     "text": [
      "Epoch 568/750: 100%|█████████████████████████████| 125/125 [00:24<00:00,  5.20it/s, Gen Loss=26.4876, Disc Loss=0.3251]\n"
     ]
    },
    {
     "name": "stdout",
     "output_type": "stream",
     "text": [
      "Epoch [568/750] | Gen Loss: 21.2388 | Disc Loss: 0.3251\n"
     ]
    },
    {
     "name": "stderr",
     "output_type": "stream",
     "text": [
      "Epoch 569/750: 100%|█████████████████████████████| 125/125 [00:24<00:00,  5.18it/s, Gen Loss=16.2918, Disc Loss=0.3251]\n"
     ]
    },
    {
     "name": "stdout",
     "output_type": "stream",
     "text": [
      "Epoch [569/750] | Gen Loss: 14.5117 | Disc Loss: 0.3291\n"
     ]
    },
    {
     "name": "stderr",
     "output_type": "stream",
     "text": [
      "Epoch 570/750: 100%|█████████████████████████████| 125/125 [00:24<00:00,  5.18it/s, Gen Loss=16.9902, Disc Loss=0.3251]\n"
     ]
    },
    {
     "name": "stdout",
     "output_type": "stream",
     "text": [
      "Epoch [570/750] | Gen Loss: 14.3856 | Disc Loss: 0.3251\n"
     ]
    },
    {
     "name": "stderr",
     "output_type": "stream",
     "text": [
      "Epoch 571/750: 100%|█████████████████████████████| 125/125 [00:24<00:00,  5.18it/s, Gen Loss=20.1262, Disc Loss=0.3251]\n"
     ]
    },
    {
     "name": "stdout",
     "output_type": "stream",
     "text": [
      "Epoch [571/750] | Gen Loss: 15.5435 | Disc Loss: 0.3251\n"
     ]
    },
    {
     "name": "stderr",
     "output_type": "stream",
     "text": [
      "Epoch 572/750: 100%|█████████████████████████████| 125/125 [00:24<00:00,  5.18it/s, Gen Loss=19.7393, Disc Loss=0.3251]\n"
     ]
    },
    {
     "name": "stdout",
     "output_type": "stream",
     "text": [
      "Epoch [572/750] | Gen Loss: 16.5261 | Disc Loss: 0.3251\n"
     ]
    },
    {
     "name": "stderr",
     "output_type": "stream",
     "text": [
      "Epoch 573/750: 100%|█████████████████████████████| 125/125 [00:23<00:00,  5.21it/s, Gen Loss=20.2334, Disc Loss=0.3251]\n"
     ]
    },
    {
     "name": "stdout",
     "output_type": "stream",
     "text": [
      "Epoch [573/750] | Gen Loss: 16.9037 | Disc Loss: 0.3251\n"
     ]
    },
    {
     "name": "stderr",
     "output_type": "stream",
     "text": [
      "Epoch 574/750: 100%|█████████████████████████████| 125/125 [00:24<00:00,  5.19it/s, Gen Loss=21.8042, Disc Loss=0.3251]\n"
     ]
    },
    {
     "name": "stdout",
     "output_type": "stream",
     "text": [
      "Epoch [574/750] | Gen Loss: 17.5149 | Disc Loss: 0.3251\n"
     ]
    },
    {
     "name": "stderr",
     "output_type": "stream",
     "text": [
      "Epoch 575/750: 100%|█████████████████████████████| 125/125 [00:24<00:00,  5.18it/s, Gen Loss=23.0725, Disc Loss=0.3251]\n"
     ]
    },
    {
     "name": "stdout",
     "output_type": "stream",
     "text": [
      "Epoch [575/750] | Gen Loss: 17.8598 | Disc Loss: 0.3251\n"
     ]
    },
    {
     "name": "stderr",
     "output_type": "stream",
     "text": [
      "Epoch 576/750: 100%|█████████████████████████████| 125/125 [00:24<00:00,  5.18it/s, Gen Loss=21.1118, Disc Loss=0.3251]\n"
     ]
    },
    {
     "name": "stdout",
     "output_type": "stream",
     "text": [
      "Epoch [576/750] | Gen Loss: 17.6412 | Disc Loss: 0.3251\n"
     ]
    },
    {
     "name": "stderr",
     "output_type": "stream",
     "text": [
      "Epoch 577/750: 100%|█████████████████████████████| 125/125 [00:24<00:00,  5.16it/s, Gen Loss=20.9428, Disc Loss=0.3251]\n"
     ]
    },
    {
     "name": "stdout",
     "output_type": "stream",
     "text": [
      "Epoch [577/750] | Gen Loss: 17.5796 | Disc Loss: 0.3251\n"
     ]
    },
    {
     "name": "stderr",
     "output_type": "stream",
     "text": [
      "Epoch 578/750: 100%|█████████████████████████████| 125/125 [00:24<00:00,  5.18it/s, Gen Loss=21.4748, Disc Loss=0.3251]\n"
     ]
    },
    {
     "name": "stdout",
     "output_type": "stream",
     "text": [
      "Epoch [578/750] | Gen Loss: 18.0330 | Disc Loss: 0.3251\n"
     ]
    },
    {
     "name": "stderr",
     "output_type": "stream",
     "text": [
      "Epoch 579/750: 100%|█████████████████████████████| 125/125 [00:24<00:00,  5.17it/s, Gen Loss=22.4530, Disc Loss=0.3251]\n"
     ]
    },
    {
     "name": "stdout",
     "output_type": "stream",
     "text": [
      "Epoch [579/750] | Gen Loss: 18.2989 | Disc Loss: 0.3251\n"
     ]
    },
    {
     "name": "stderr",
     "output_type": "stream",
     "text": [
      "Epoch 580/750: 100%|█████████████████████████████| 125/125 [00:24<00:00,  5.17it/s, Gen Loss=20.5408, Disc Loss=0.3251]\n"
     ]
    },
    {
     "name": "stdout",
     "output_type": "stream",
     "text": [
      "Epoch [580/750] | Gen Loss: 18.4603 | Disc Loss: 0.3251\n"
     ]
    },
    {
     "name": "stderr",
     "output_type": "stream",
     "text": [
      "Epoch 581/750: 100%|█████████████████████████████| 125/125 [00:24<00:00,  5.16it/s, Gen Loss=22.7252, Disc Loss=0.3251]\n"
     ]
    },
    {
     "name": "stdout",
     "output_type": "stream",
     "text": [
      "Epoch [581/750] | Gen Loss: 18.6801 | Disc Loss: 0.3251\n"
     ]
    },
    {
     "name": "stderr",
     "output_type": "stream",
     "text": [
      "Epoch 582/750: 100%|█████████████████████████████| 125/125 [00:24<00:00,  5.15it/s, Gen Loss=24.0201, Disc Loss=0.3251]\n"
     ]
    },
    {
     "name": "stdout",
     "output_type": "stream",
     "text": [
      "Epoch [582/750] | Gen Loss: 18.8888 | Disc Loss: 0.3251\n"
     ]
    },
    {
     "name": "stderr",
     "output_type": "stream",
     "text": [
      "Epoch 583/750: 100%|█████████████████████████████| 125/125 [00:24<00:00,  5.18it/s, Gen Loss=23.2826, Disc Loss=0.3251]\n"
     ]
    },
    {
     "name": "stdout",
     "output_type": "stream",
     "text": [
      "Epoch [583/750] | Gen Loss: 19.0604 | Disc Loss: 0.3251\n"
     ]
    },
    {
     "name": "stderr",
     "output_type": "stream",
     "text": [
      "Epoch 584/750: 100%|█████████████████████████████| 125/125 [00:24<00:00,  5.18it/s, Gen Loss=22.7185, Disc Loss=0.3251]\n"
     ]
    },
    {
     "name": "stdout",
     "output_type": "stream",
     "text": [
      "Epoch [584/750] | Gen Loss: 19.2093 | Disc Loss: 0.3251\n"
     ]
    },
    {
     "name": "stderr",
     "output_type": "stream",
     "text": [
      "Epoch 585/750: 100%|█████████████████████████████| 125/125 [00:24<00:00,  5.19it/s, Gen Loss=23.4415, Disc Loss=0.3251]\n"
     ]
    },
    {
     "name": "stdout",
     "output_type": "stream",
     "text": [
      "Epoch [585/750] | Gen Loss: 19.3749 | Disc Loss: 0.3251\n"
     ]
    },
    {
     "name": "stderr",
     "output_type": "stream",
     "text": [
      "Epoch 586/750: 100%|█████████████████████████████| 125/125 [00:24<00:00,  5.18it/s, Gen Loss=22.3788, Disc Loss=0.3251]\n"
     ]
    },
    {
     "name": "stdout",
     "output_type": "stream",
     "text": [
      "Epoch [586/750] | Gen Loss: 19.5172 | Disc Loss: 0.3251\n"
     ]
    },
    {
     "name": "stderr",
     "output_type": "stream",
     "text": [
      "Epoch 587/750: 100%|█████████████████████████████| 125/125 [00:24<00:00,  5.15it/s, Gen Loss=20.8264, Disc Loss=0.3251]\n"
     ]
    },
    {
     "name": "stdout",
     "output_type": "stream",
     "text": [
      "Epoch [587/750] | Gen Loss: 19.5790 | Disc Loss: 0.3251\n"
     ]
    },
    {
     "name": "stderr",
     "output_type": "stream",
     "text": [
      "Epoch 588/750: 100%|█████████████████████████████| 125/125 [00:23<00:00,  5.21it/s, Gen Loss=22.2240, Disc Loss=0.3251]\n"
     ]
    },
    {
     "name": "stdout",
     "output_type": "stream",
     "text": [
      "Epoch [588/750] | Gen Loss: 19.7823 | Disc Loss: 0.3251\n"
     ]
    },
    {
     "name": "stderr",
     "output_type": "stream",
     "text": [
      "Epoch 589/750: 100%|█████████████████████████████| 125/125 [00:24<00:00,  5.17it/s, Gen Loss=23.0175, Disc Loss=0.3251]\n"
     ]
    },
    {
     "name": "stdout",
     "output_type": "stream",
     "text": [
      "Epoch [589/750] | Gen Loss: 19.8795 | Disc Loss: 0.3251\n"
     ]
    },
    {
     "name": "stderr",
     "output_type": "stream",
     "text": [
      "Epoch 590/750: 100%|█████████████████████████████| 125/125 [00:24<00:00,  5.18it/s, Gen Loss=20.7085, Disc Loss=0.3251]\n"
     ]
    },
    {
     "name": "stdout",
     "output_type": "stream",
     "text": [
      "Epoch [590/750] | Gen Loss: 20.1372 | Disc Loss: 0.3251\n"
     ]
    },
    {
     "name": "stderr",
     "output_type": "stream",
     "text": [
      "Epoch 591/750: 100%|█████████████████████████████| 125/125 [00:24<00:00,  5.17it/s, Gen Loss=22.0277, Disc Loss=0.3251]\n"
     ]
    },
    {
     "name": "stdout",
     "output_type": "stream",
     "text": [
      "Epoch [591/750] | Gen Loss: 20.1002 | Disc Loss: 0.3251\n"
     ]
    },
    {
     "name": "stderr",
     "output_type": "stream",
     "text": [
      "Epoch 592/750: 100%|█████████████████████████████| 125/125 [00:24<00:00,  5.16it/s, Gen Loss=22.4220, Disc Loss=0.3251]\n"
     ]
    },
    {
     "name": "stdout",
     "output_type": "stream",
     "text": [
      "Epoch [592/750] | Gen Loss: 20.1560 | Disc Loss: 0.3251\n"
     ]
    },
    {
     "name": "stderr",
     "output_type": "stream",
     "text": [
      "Epoch 593/750: 100%|█████████████████████████████| 125/125 [00:24<00:00,  5.18it/s, Gen Loss=24.7311, Disc Loss=0.3251]\n"
     ]
    },
    {
     "name": "stdout",
     "output_type": "stream",
     "text": [
      "Epoch [593/750] | Gen Loss: 20.2219 | Disc Loss: 0.3251\n"
     ]
    },
    {
     "name": "stderr",
     "output_type": "stream",
     "text": [
      "Epoch 594/750: 100%|█████████████████████████████| 125/125 [00:24<00:00,  5.17it/s, Gen Loss=25.4728, Disc Loss=0.3251]\n"
     ]
    },
    {
     "name": "stdout",
     "output_type": "stream",
     "text": [
      "Epoch [594/750] | Gen Loss: 20.3911 | Disc Loss: 0.3251\n"
     ]
    },
    {
     "name": "stderr",
     "output_type": "stream",
     "text": [
      "Epoch 595/750: 100%|█████████████████████████████| 125/125 [00:24<00:00,  5.16it/s, Gen Loss=25.5943, Disc Loss=0.3251]\n"
     ]
    },
    {
     "name": "stdout",
     "output_type": "stream",
     "text": [
      "Epoch [595/750] | Gen Loss: 20.4429 | Disc Loss: 0.3251\n"
     ]
    },
    {
     "name": "stderr",
     "output_type": "stream",
     "text": [
      "Epoch 596/750: 100%|█████████████████████████████| 125/125 [00:24<00:00,  5.16it/s, Gen Loss=21.4299, Disc Loss=0.3251]\n"
     ]
    },
    {
     "name": "stdout",
     "output_type": "stream",
     "text": [
      "Epoch [596/750] | Gen Loss: 20.5678 | Disc Loss: 0.3251\n"
     ]
    },
    {
     "name": "stderr",
     "output_type": "stream",
     "text": [
      "Epoch 597/750: 100%|█████████████████████████████| 125/125 [00:24<00:00,  5.17it/s, Gen Loss=21.9596, Disc Loss=0.3251]\n"
     ]
    },
    {
     "name": "stdout",
     "output_type": "stream",
     "text": [
      "Epoch [597/750] | Gen Loss: 20.6182 | Disc Loss: 0.3251\n"
     ]
    },
    {
     "name": "stderr",
     "output_type": "stream",
     "text": [
      "Epoch 598/750: 100%|█████████████████████████████| 125/125 [00:24<00:00,  5.18it/s, Gen Loss=22.8789, Disc Loss=0.3251]\n"
     ]
    },
    {
     "name": "stdout",
     "output_type": "stream",
     "text": [
      "Epoch [598/750] | Gen Loss: 20.8718 | Disc Loss: 0.3251\n"
     ]
    },
    {
     "name": "stderr",
     "output_type": "stream",
     "text": [
      "Epoch 599/750: 100%|█████████████████████████████| 125/125 [00:24<00:00,  5.18it/s, Gen Loss=22.9893, Disc Loss=0.3251]\n"
     ]
    },
    {
     "name": "stdout",
     "output_type": "stream",
     "text": [
      "Epoch [599/750] | Gen Loss: 20.7881 | Disc Loss: 0.3251\n"
     ]
    },
    {
     "name": "stderr",
     "output_type": "stream",
     "text": [
      "Epoch 600/750: 100%|█████████████████████████████| 125/125 [00:24<00:00,  5.19it/s, Gen Loss=23.1519, Disc Loss=0.3251]\n"
     ]
    },
    {
     "name": "stdout",
     "output_type": "stream",
     "text": [
      "Epoch [600/750] | Gen Loss: 20.9341 | Disc Loss: 0.3251\n"
     ]
    },
    {
     "name": "stderr",
     "output_type": "stream",
     "text": [
      "Epoch 601/750: 100%|█████████████████████████████| 125/125 [00:24<00:00,  5.18it/s, Gen Loss=22.1519, Disc Loss=0.3251]\n"
     ]
    },
    {
     "name": "stdout",
     "output_type": "stream",
     "text": [
      "Epoch [601/750] | Gen Loss: 20.6939 | Disc Loss: 0.3251\n"
     ]
    },
    {
     "name": "stderr",
     "output_type": "stream",
     "text": [
      "Epoch 602/750: 100%|█████████████████████████████| 125/125 [00:24<00:00,  5.16it/s, Gen Loss=21.5464, Disc Loss=0.3251]\n"
     ]
    },
    {
     "name": "stdout",
     "output_type": "stream",
     "text": [
      "Epoch [602/750] | Gen Loss: 19.9565 | Disc Loss: 0.3251\n"
     ]
    },
    {
     "name": "stderr",
     "output_type": "stream",
     "text": [
      "Epoch 603/750: 100%|█████████████████████████████| 125/125 [00:24<00:00,  5.16it/s, Gen Loss=21.6740, Disc Loss=0.3251]\n"
     ]
    },
    {
     "name": "stdout",
     "output_type": "stream",
     "text": [
      "Epoch [603/750] | Gen Loss: 20.1632 | Disc Loss: 0.3251\n"
     ]
    },
    {
     "name": "stderr",
     "output_type": "stream",
     "text": [
      "Epoch 604/750: 100%|█████████████████████████████| 125/125 [00:24<00:00,  5.18it/s, Gen Loss=20.8003, Disc Loss=0.3251]\n"
     ]
    },
    {
     "name": "stdout",
     "output_type": "stream",
     "text": [
      "Epoch [604/750] | Gen Loss: 20.3592 | Disc Loss: 0.3251\n"
     ]
    },
    {
     "name": "stderr",
     "output_type": "stream",
     "text": [
      "Epoch 605/750: 100%|█████████████████████████████| 125/125 [00:24<00:00,  5.17it/s, Gen Loss=22.9267, Disc Loss=0.3251]\n"
     ]
    },
    {
     "name": "stdout",
     "output_type": "stream",
     "text": [
      "Epoch [605/750] | Gen Loss: 20.3443 | Disc Loss: 0.3251\n"
     ]
    },
    {
     "name": "stderr",
     "output_type": "stream",
     "text": [
      "Epoch 606/750: 100%|█████████████████████████████| 125/125 [00:24<00:00,  5.16it/s, Gen Loss=22.6190, Disc Loss=0.3251]\n"
     ]
    },
    {
     "name": "stdout",
     "output_type": "stream",
     "text": [
      "Epoch [606/750] | Gen Loss: 20.5372 | Disc Loss: 0.3251\n"
     ]
    },
    {
     "name": "stderr",
     "output_type": "stream",
     "text": [
      "Epoch 607/750: 100%|█████████████████████████████| 125/125 [00:24<00:00,  5.16it/s, Gen Loss=24.6021, Disc Loss=0.3251]\n"
     ]
    },
    {
     "name": "stdout",
     "output_type": "stream",
     "text": [
      "Epoch [607/750] | Gen Loss: 20.5655 | Disc Loss: 0.3251\n"
     ]
    },
    {
     "name": "stderr",
     "output_type": "stream",
     "text": [
      "Epoch 608/750: 100%|█████████████████████████████| 125/125 [00:24<00:00,  5.17it/s, Gen Loss=21.3707, Disc Loss=0.3251]\n"
     ]
    },
    {
     "name": "stdout",
     "output_type": "stream",
     "text": [
      "Epoch [608/750] | Gen Loss: 20.6455 | Disc Loss: 0.3251\n"
     ]
    },
    {
     "name": "stderr",
     "output_type": "stream",
     "text": [
      "Epoch 609/750: 100%|█████████████████████████████| 125/125 [00:24<00:00,  5.20it/s, Gen Loss=22.3030, Disc Loss=0.3251]\n"
     ]
    },
    {
     "name": "stdout",
     "output_type": "stream",
     "text": [
      "Epoch [609/750] | Gen Loss: 20.7932 | Disc Loss: 0.3251\n"
     ]
    },
    {
     "name": "stderr",
     "output_type": "stream",
     "text": [
      "Epoch 610/750: 100%|█████████████████████████████| 125/125 [00:24<00:00,  5.21it/s, Gen Loss=22.4093, Disc Loss=0.3251]\n"
     ]
    },
    {
     "name": "stdout",
     "output_type": "stream",
     "text": [
      "Epoch [610/750] | Gen Loss: 21.0648 | Disc Loss: 0.3251\n"
     ]
    },
    {
     "name": "stderr",
     "output_type": "stream",
     "text": [
      "Epoch 611/750: 100%|█████████████████████████████| 125/125 [00:24<00:00,  5.20it/s, Gen Loss=23.2388, Disc Loss=0.3251]\n"
     ]
    },
    {
     "name": "stdout",
     "output_type": "stream",
     "text": [
      "Epoch [611/750] | Gen Loss: 21.0015 | Disc Loss: 0.3251\n"
     ]
    },
    {
     "name": "stderr",
     "output_type": "stream",
     "text": [
      "Epoch 612/750: 100%|█████████████████████████████| 125/125 [00:24<00:00,  5.17it/s, Gen Loss=21.5760, Disc Loss=0.3251]\n"
     ]
    },
    {
     "name": "stdout",
     "output_type": "stream",
     "text": [
      "Epoch [612/750] | Gen Loss: 21.0988 | Disc Loss: 0.3251\n"
     ]
    },
    {
     "name": "stderr",
     "output_type": "stream",
     "text": [
      "Epoch 613/750: 100%|█████████████████████████████| 125/125 [00:24<00:00,  5.20it/s, Gen Loss=23.5246, Disc Loss=0.3251]\n"
     ]
    },
    {
     "name": "stdout",
     "output_type": "stream",
     "text": [
      "Epoch [613/750] | Gen Loss: 21.2725 | Disc Loss: 0.3251\n"
     ]
    },
    {
     "name": "stderr",
     "output_type": "stream",
     "text": [
      "Epoch 614/750: 100%|█████████████████████████████| 125/125 [00:23<00:00,  5.22it/s, Gen Loss=22.0605, Disc Loss=0.3251]\n"
     ]
    },
    {
     "name": "stdout",
     "output_type": "stream",
     "text": [
      "Epoch [614/750] | Gen Loss: 21.3294 | Disc Loss: 0.3251\n"
     ]
    },
    {
     "name": "stderr",
     "output_type": "stream",
     "text": [
      "Epoch 615/750: 100%|█████████████████████████████| 125/125 [00:23<00:00,  5.21it/s, Gen Loss=27.1428, Disc Loss=0.3251]\n"
     ]
    },
    {
     "name": "stdout",
     "output_type": "stream",
     "text": [
      "Epoch [615/750] | Gen Loss: 21.5338 | Disc Loss: 0.3251\n"
     ]
    },
    {
     "name": "stderr",
     "output_type": "stream",
     "text": [
      "Epoch 616/750: 100%|█████████████████████████████| 125/125 [00:24<00:00,  5.18it/s, Gen Loss=22.7538, Disc Loss=0.3251]\n"
     ]
    },
    {
     "name": "stdout",
     "output_type": "stream",
     "text": [
      "Epoch [616/750] | Gen Loss: 21.5428 | Disc Loss: 0.3251\n"
     ]
    },
    {
     "name": "stderr",
     "output_type": "stream",
     "text": [
      "Epoch 617/750: 100%|█████████████████████████████| 125/125 [00:24<00:00,  5.20it/s, Gen Loss=22.6961, Disc Loss=0.3251]\n"
     ]
    },
    {
     "name": "stdout",
     "output_type": "stream",
     "text": [
      "Epoch [617/750] | Gen Loss: 21.5029 | Disc Loss: 0.3251\n"
     ]
    },
    {
     "name": "stderr",
     "output_type": "stream",
     "text": [
      "Epoch 618/750: 100%|█████████████████████████████| 125/125 [00:23<00:00,  5.21it/s, Gen Loss=24.0121, Disc Loss=0.3251]\n"
     ]
    },
    {
     "name": "stdout",
     "output_type": "stream",
     "text": [
      "Epoch [618/750] | Gen Loss: 21.5962 | Disc Loss: 0.3251\n"
     ]
    },
    {
     "name": "stderr",
     "output_type": "stream",
     "text": [
      "Epoch 619/750: 100%|█████████████████████████████| 125/125 [00:24<00:00,  5.19it/s, Gen Loss=23.2943, Disc Loss=0.3251]\n"
     ]
    },
    {
     "name": "stdout",
     "output_type": "stream",
     "text": [
      "Epoch [619/750] | Gen Loss: 21.9643 | Disc Loss: 0.3251\n"
     ]
    },
    {
     "name": "stderr",
     "output_type": "stream",
     "text": [
      "Epoch 620/750: 100%|█████████████████████████████| 125/125 [00:24<00:00,  5.19it/s, Gen Loss=23.4347, Disc Loss=0.3251]\n"
     ]
    },
    {
     "name": "stdout",
     "output_type": "stream",
     "text": [
      "Epoch [620/750] | Gen Loss: 21.7915 | Disc Loss: 0.3251\n"
     ]
    },
    {
     "name": "stderr",
     "output_type": "stream",
     "text": [
      "Epoch 621/750: 100%|█████████████████████████████| 125/125 [00:24<00:00,  5.20it/s, Gen Loss=23.6891, Disc Loss=0.3251]\n"
     ]
    },
    {
     "name": "stdout",
     "output_type": "stream",
     "text": [
      "Epoch [621/750] | Gen Loss: 21.7913 | Disc Loss: 0.3251\n"
     ]
    },
    {
     "name": "stderr",
     "output_type": "stream",
     "text": [
      "Epoch 622/750: 100%|█████████████████████████████| 125/125 [00:24<00:00,  5.16it/s, Gen Loss=23.4387, Disc Loss=0.3251]\n"
     ]
    },
    {
     "name": "stdout",
     "output_type": "stream",
     "text": [
      "Epoch [622/750] | Gen Loss: 21.9674 | Disc Loss: 0.3251\n"
     ]
    },
    {
     "name": "stderr",
     "output_type": "stream",
     "text": [
      "Epoch 623/750: 100%|█████████████████████████████| 125/125 [00:24<00:00,  5.19it/s, Gen Loss=24.5697, Disc Loss=0.3251]\n"
     ]
    },
    {
     "name": "stdout",
     "output_type": "stream",
     "text": [
      "Epoch [623/750] | Gen Loss: 21.9938 | Disc Loss: 0.3251\n"
     ]
    },
    {
     "name": "stderr",
     "output_type": "stream",
     "text": [
      "Epoch 624/750: 100%|█████████████████████████████| 125/125 [00:24<00:00,  5.19it/s, Gen Loss=22.6476, Disc Loss=0.3251]\n"
     ]
    },
    {
     "name": "stdout",
     "output_type": "stream",
     "text": [
      "Epoch [624/750] | Gen Loss: 22.0350 | Disc Loss: 0.3251\n"
     ]
    },
    {
     "name": "stderr",
     "output_type": "stream",
     "text": [
      "Epoch 625/750: 100%|█████████████████████████████| 125/125 [00:24<00:00,  5.18it/s, Gen Loss=23.8829, Disc Loss=0.3251]\n"
     ]
    },
    {
     "name": "stdout",
     "output_type": "stream",
     "text": [
      "Epoch [625/750] | Gen Loss: 22.1285 | Disc Loss: 0.3251\n"
     ]
    },
    {
     "name": "stderr",
     "output_type": "stream",
     "text": [
      "Epoch 626/750: 100%|█████████████████████████████| 125/125 [00:24<00:00,  5.17it/s, Gen Loss=23.2297, Disc Loss=0.3251]\n"
     ]
    },
    {
     "name": "stdout",
     "output_type": "stream",
     "text": [
      "Epoch [626/750] | Gen Loss: 22.1021 | Disc Loss: 0.3251\n"
     ]
    },
    {
     "name": "stderr",
     "output_type": "stream",
     "text": [
      "Epoch 627/750: 100%|█████████████████████████████| 125/125 [00:24<00:00,  5.20it/s, Gen Loss=23.1416, Disc Loss=0.3251]\n"
     ]
    },
    {
     "name": "stdout",
     "output_type": "stream",
     "text": [
      "Epoch [627/750] | Gen Loss: 22.2155 | Disc Loss: 0.3251\n"
     ]
    },
    {
     "name": "stderr",
     "output_type": "stream",
     "text": [
      "Epoch 628/750: 100%|█████████████████████████████| 125/125 [00:24<00:00,  5.21it/s, Gen Loss=23.2776, Disc Loss=0.3251]\n"
     ]
    },
    {
     "name": "stdout",
     "output_type": "stream",
     "text": [
      "Epoch [628/750] | Gen Loss: 22.2611 | Disc Loss: 0.3251\n"
     ]
    },
    {
     "name": "stderr",
     "output_type": "stream",
     "text": [
      "Epoch 629/750: 100%|█████████████████████████████| 125/125 [00:23<00:00,  5.22it/s, Gen Loss=23.6803, Disc Loss=0.3251]\n"
     ]
    },
    {
     "name": "stdout",
     "output_type": "stream",
     "text": [
      "Epoch [629/750] | Gen Loss: 22.3231 | Disc Loss: 0.3251\n"
     ]
    },
    {
     "name": "stderr",
     "output_type": "stream",
     "text": [
      "Epoch 630/750: 100%|█████████████████████████████| 125/125 [00:24<00:00,  5.19it/s, Gen Loss=25.2992, Disc Loss=0.3251]\n"
     ]
    },
    {
     "name": "stdout",
     "output_type": "stream",
     "text": [
      "Epoch [630/750] | Gen Loss: 22.5964 | Disc Loss: 0.3251\n"
     ]
    },
    {
     "name": "stderr",
     "output_type": "stream",
     "text": [
      "Epoch 631/750: 100%|█████████████████████████████| 125/125 [00:24<00:00,  5.20it/s, Gen Loss=25.9689, Disc Loss=0.3251]\n"
     ]
    },
    {
     "name": "stdout",
     "output_type": "stream",
     "text": [
      "Epoch [631/750] | Gen Loss: 22.4475 | Disc Loss: 0.3251\n"
     ]
    },
    {
     "name": "stderr",
     "output_type": "stream",
     "text": [
      "Epoch 632/750: 100%|█████████████████████████████| 125/125 [00:23<00:00,  5.22it/s, Gen Loss=23.8203, Disc Loss=0.3251]\n"
     ]
    },
    {
     "name": "stdout",
     "output_type": "stream",
     "text": [
      "Epoch [632/750] | Gen Loss: 22.3635 | Disc Loss: 0.3251\n"
     ]
    },
    {
     "name": "stderr",
     "output_type": "stream",
     "text": [
      "Epoch 633/750: 100%|█████████████████████████████| 125/125 [00:23<00:00,  5.22it/s, Gen Loss=24.3618, Disc Loss=0.3251]\n"
     ]
    },
    {
     "name": "stdout",
     "output_type": "stream",
     "text": [
      "Epoch [633/750] | Gen Loss: 22.4629 | Disc Loss: 0.3251\n"
     ]
    },
    {
     "name": "stderr",
     "output_type": "stream",
     "text": [
      "Epoch 634/750: 100%|█████████████████████████████| 125/125 [00:24<00:00,  5.20it/s, Gen Loss=23.8536, Disc Loss=0.3251]\n"
     ]
    },
    {
     "name": "stdout",
     "output_type": "stream",
     "text": [
      "Epoch [634/750] | Gen Loss: 22.4064 | Disc Loss: 0.3251\n"
     ]
    },
    {
     "name": "stderr",
     "output_type": "stream",
     "text": [
      "Epoch 635/750: 100%|█████████████████████████████| 125/125 [00:24<00:00,  5.19it/s, Gen Loss=22.6635, Disc Loss=0.3251]\n"
     ]
    },
    {
     "name": "stdout",
     "output_type": "stream",
     "text": [
      "Epoch [635/750] | Gen Loss: 22.4485 | Disc Loss: 0.3251\n"
     ]
    },
    {
     "name": "stderr",
     "output_type": "stream",
     "text": [
      "Epoch 636/750: 100%|█████████████████████████████| 125/125 [00:24<00:00,  5.19it/s, Gen Loss=24.9450, Disc Loss=0.3251]\n"
     ]
    },
    {
     "name": "stdout",
     "output_type": "stream",
     "text": [
      "Epoch [636/750] | Gen Loss: 22.4724 | Disc Loss: 0.3251\n"
     ]
    },
    {
     "name": "stderr",
     "output_type": "stream",
     "text": [
      "Epoch 637/750: 100%|█████████████████████████████| 125/125 [00:23<00:00,  5.22it/s, Gen Loss=25.9346, Disc Loss=0.3251]\n"
     ]
    },
    {
     "name": "stdout",
     "output_type": "stream",
     "text": [
      "Epoch [637/750] | Gen Loss: 22.5985 | Disc Loss: 0.3251\n"
     ]
    },
    {
     "name": "stderr",
     "output_type": "stream",
     "text": [
      "Epoch 638/750: 100%|█████████████████████████████| 125/125 [00:23<00:00,  5.25it/s, Gen Loss=26.0059, Disc Loss=0.3251]\n"
     ]
    },
    {
     "name": "stdout",
     "output_type": "stream",
     "text": [
      "Epoch [638/750] | Gen Loss: 22.6591 | Disc Loss: 0.3251\n"
     ]
    },
    {
     "name": "stderr",
     "output_type": "stream",
     "text": [
      "Epoch 639/750: 100%|█████████████████████████████| 125/125 [00:23<00:00,  5.22it/s, Gen Loss=24.9172, Disc Loss=0.3251]\n"
     ]
    },
    {
     "name": "stdout",
     "output_type": "stream",
     "text": [
      "Epoch [639/750] | Gen Loss: 22.9705 | Disc Loss: 0.3251\n"
     ]
    },
    {
     "name": "stderr",
     "output_type": "stream",
     "text": [
      "Epoch 640/750: 100%|█████████████████████████████| 125/125 [00:24<00:00,  5.21it/s, Gen Loss=25.1759, Disc Loss=0.3251]\n"
     ]
    },
    {
     "name": "stdout",
     "output_type": "stream",
     "text": [
      "Epoch [640/750] | Gen Loss: 22.6904 | Disc Loss: 0.3251\n"
     ]
    },
    {
     "name": "stderr",
     "output_type": "stream",
     "text": [
      "Epoch 641/750: 100%|█████████████████████████████| 125/125 [00:23<00:00,  5.22it/s, Gen Loss=24.2173, Disc Loss=0.3251]\n"
     ]
    },
    {
     "name": "stdout",
     "output_type": "stream",
     "text": [
      "Epoch [641/750] | Gen Loss: 22.7547 | Disc Loss: 0.3251\n"
     ]
    },
    {
     "name": "stderr",
     "output_type": "stream",
     "text": [
      "Epoch 642/750: 100%|█████████████████████████████| 125/125 [00:24<00:00,  5.20it/s, Gen Loss=24.0365, Disc Loss=0.3251]\n"
     ]
    },
    {
     "name": "stdout",
     "output_type": "stream",
     "text": [
      "Epoch [642/750] | Gen Loss: 22.6901 | Disc Loss: 0.3251\n"
     ]
    },
    {
     "name": "stderr",
     "output_type": "stream",
     "text": [
      "Epoch 643/750: 100%|█████████████████████████████| 125/125 [00:23<00:00,  5.24it/s, Gen Loss=26.7051, Disc Loss=0.3251]\n"
     ]
    },
    {
     "name": "stdout",
     "output_type": "stream",
     "text": [
      "Epoch [643/750] | Gen Loss: 22.6574 | Disc Loss: 0.3251\n"
     ]
    },
    {
     "name": "stderr",
     "output_type": "stream",
     "text": [
      "Epoch 644/750: 100%|█████████████████████████████| 125/125 [00:23<00:00,  5.21it/s, Gen Loss=26.1596, Disc Loss=0.3251]\n"
     ]
    },
    {
     "name": "stdout",
     "output_type": "stream",
     "text": [
      "Epoch [644/750] | Gen Loss: 22.8230 | Disc Loss: 0.3251\n"
     ]
    },
    {
     "name": "stderr",
     "output_type": "stream",
     "text": [
      "Epoch 645/750: 100%|█████████████████████████████| 125/125 [00:24<00:00,  5.21it/s, Gen Loss=24.3080, Disc Loss=0.3251]\n"
     ]
    },
    {
     "name": "stdout",
     "output_type": "stream",
     "text": [
      "Epoch [645/750] | Gen Loss: 22.8301 | Disc Loss: 0.3251\n"
     ]
    },
    {
     "name": "stderr",
     "output_type": "stream",
     "text": [
      "Epoch 646/750: 100%|█████████████████████████████| 125/125 [00:23<00:00,  5.22it/s, Gen Loss=26.8118, Disc Loss=0.3251]\n"
     ]
    },
    {
     "name": "stdout",
     "output_type": "stream",
     "text": [
      "Epoch [646/750] | Gen Loss: 22.9349 | Disc Loss: 0.3251\n"
     ]
    },
    {
     "name": "stderr",
     "output_type": "stream",
     "text": [
      "Epoch 647/750: 100%|█████████████████████████████| 125/125 [00:24<00:00,  5.21it/s, Gen Loss=27.1511, Disc Loss=0.3251]\n"
     ]
    },
    {
     "name": "stdout",
     "output_type": "stream",
     "text": [
      "Epoch [647/750] | Gen Loss: 23.0498 | Disc Loss: 0.3251\n"
     ]
    },
    {
     "name": "stderr",
     "output_type": "stream",
     "text": [
      "Epoch 648/750: 100%|█████████████████████████████| 125/125 [00:23<00:00,  5.23it/s, Gen Loss=24.5937, Disc Loss=0.3251]\n"
     ]
    },
    {
     "name": "stdout",
     "output_type": "stream",
     "text": [
      "Epoch [648/750] | Gen Loss: 23.0067 | Disc Loss: 0.3251\n"
     ]
    },
    {
     "name": "stderr",
     "output_type": "stream",
     "text": [
      "Epoch 649/750: 100%|█████████████████████████████| 125/125 [00:23<00:00,  5.22it/s, Gen Loss=24.0453, Disc Loss=0.3251]\n"
     ]
    },
    {
     "name": "stdout",
     "output_type": "stream",
     "text": [
      "Epoch [649/750] | Gen Loss: 23.0623 | Disc Loss: 0.3251\n"
     ]
    },
    {
     "name": "stderr",
     "output_type": "stream",
     "text": [
      "Epoch 650/750: 100%|█████████████████████████████| 125/125 [00:23<00:00,  5.21it/s, Gen Loss=26.1424, Disc Loss=0.3251]\n"
     ]
    },
    {
     "name": "stdout",
     "output_type": "stream",
     "text": [
      "Epoch [650/750] | Gen Loss: 23.1974 | Disc Loss: 0.3251\n"
     ]
    },
    {
     "name": "stderr",
     "output_type": "stream",
     "text": [
      "Epoch 651/750: 100%|█████████████████████████████| 125/125 [00:24<00:00,  5.20it/s, Gen Loss=24.1283, Disc Loss=0.3251]\n"
     ]
    },
    {
     "name": "stdout",
     "output_type": "stream",
     "text": [
      "Epoch [651/750] | Gen Loss: 23.1370 | Disc Loss: 0.3251\n"
     ]
    },
    {
     "name": "stderr",
     "output_type": "stream",
     "text": [
      "Epoch 652/750: 100%|█████████████████████████████| 125/125 [00:24<00:00,  5.19it/s, Gen Loss=25.2760, Disc Loss=0.3251]\n"
     ]
    },
    {
     "name": "stdout",
     "output_type": "stream",
     "text": [
      "Epoch [652/750] | Gen Loss: 23.1067 | Disc Loss: 0.3251\n"
     ]
    },
    {
     "name": "stderr",
     "output_type": "stream",
     "text": [
      "Epoch 653/750: 100%|█████████████████████████████| 125/125 [00:23<00:00,  5.22it/s, Gen Loss=24.9930, Disc Loss=0.3251]\n"
     ]
    },
    {
     "name": "stdout",
     "output_type": "stream",
     "text": [
      "Epoch [653/750] | Gen Loss: 23.3926 | Disc Loss: 0.3251\n"
     ]
    },
    {
     "name": "stderr",
     "output_type": "stream",
     "text": [
      "Epoch 654/750: 100%|█████████████████████████████| 125/125 [00:23<00:00,  5.21it/s, Gen Loss=25.3790, Disc Loss=0.3251]\n"
     ]
    },
    {
     "name": "stdout",
     "output_type": "stream",
     "text": [
      "Epoch [654/750] | Gen Loss: 23.1925 | Disc Loss: 0.3251\n"
     ]
    },
    {
     "name": "stderr",
     "output_type": "stream",
     "text": [
      "Epoch 655/750: 100%|█████████████████████████████| 125/125 [00:23<00:00,  5.23it/s, Gen Loss=25.5673, Disc Loss=0.3251]\n"
     ]
    },
    {
     "name": "stdout",
     "output_type": "stream",
     "text": [
      "Epoch [655/750] | Gen Loss: 23.1968 | Disc Loss: 0.3251\n"
     ]
    },
    {
     "name": "stderr",
     "output_type": "stream",
     "text": [
      "Epoch 656/750: 100%|█████████████████████████████| 125/125 [00:23<00:00,  5.24it/s, Gen Loss=26.7805, Disc Loss=0.3251]\n"
     ]
    },
    {
     "name": "stdout",
     "output_type": "stream",
     "text": [
      "Epoch [656/750] | Gen Loss: 23.2613 | Disc Loss: 0.3251\n"
     ]
    },
    {
     "name": "stderr",
     "output_type": "stream",
     "text": [
      "Epoch 657/750: 100%|█████████████████████████████| 125/125 [00:23<00:00,  5.25it/s, Gen Loss=25.0637, Disc Loss=0.3251]\n"
     ]
    },
    {
     "name": "stdout",
     "output_type": "stream",
     "text": [
      "Epoch [657/750] | Gen Loss: 23.1403 | Disc Loss: 0.3251\n"
     ]
    },
    {
     "name": "stderr",
     "output_type": "stream",
     "text": [
      "Epoch 658/750: 100%|█████████████████████████████| 125/125 [00:23<00:00,  5.26it/s, Gen Loss=25.6521, Disc Loss=0.3251]\n"
     ]
    },
    {
     "name": "stdout",
     "output_type": "stream",
     "text": [
      "Epoch [658/750] | Gen Loss: 23.3112 | Disc Loss: 0.3251\n"
     ]
    },
    {
     "name": "stderr",
     "output_type": "stream",
     "text": [
      "Epoch 659/750: 100%|█████████████████████████████| 125/125 [00:23<00:00,  5.26it/s, Gen Loss=25.0275, Disc Loss=0.3251]\n"
     ]
    },
    {
     "name": "stdout",
     "output_type": "stream",
     "text": [
      "Epoch [659/750] | Gen Loss: 23.2895 | Disc Loss: 0.3251\n"
     ]
    },
    {
     "name": "stderr",
     "output_type": "stream",
     "text": [
      "Epoch 660/750: 100%|█████████████████████████████| 125/125 [00:23<00:00,  5.24it/s, Gen Loss=25.7647, Disc Loss=0.3251]\n"
     ]
    },
    {
     "name": "stdout",
     "output_type": "stream",
     "text": [
      "Epoch [660/750] | Gen Loss: 23.3681 | Disc Loss: 0.3251\n"
     ]
    },
    {
     "name": "stderr",
     "output_type": "stream",
     "text": [
      "Epoch 661/750: 100%|█████████████████████████████| 125/125 [00:23<00:00,  5.21it/s, Gen Loss=27.5216, Disc Loss=0.3251]\n"
     ]
    },
    {
     "name": "stdout",
     "output_type": "stream",
     "text": [
      "Epoch [661/750] | Gen Loss: 23.2962 | Disc Loss: 0.3251\n"
     ]
    },
    {
     "name": "stderr",
     "output_type": "stream",
     "text": [
      "Epoch 662/750: 100%|█████████████████████████████| 125/125 [00:23<00:00,  5.22it/s, Gen Loss=24.3724, Disc Loss=0.3251]\n"
     ]
    },
    {
     "name": "stdout",
     "output_type": "stream",
     "text": [
      "Epoch [662/750] | Gen Loss: 23.3468 | Disc Loss: 0.3251\n"
     ]
    },
    {
     "name": "stderr",
     "output_type": "stream",
     "text": [
      "Epoch 663/750: 100%|█████████████████████████████| 125/125 [00:23<00:00,  5.24it/s, Gen Loss=24.9135, Disc Loss=0.3251]\n"
     ]
    },
    {
     "name": "stdout",
     "output_type": "stream",
     "text": [
      "Epoch [663/750] | Gen Loss: 23.3237 | Disc Loss: 0.3251\n"
     ]
    },
    {
     "name": "stderr",
     "output_type": "stream",
     "text": [
      "Epoch 664/750: 100%|█████████████████████████████| 125/125 [00:23<00:00,  5.24it/s, Gen Loss=25.9845, Disc Loss=0.3251]\n"
     ]
    },
    {
     "name": "stdout",
     "output_type": "stream",
     "text": [
      "Epoch [664/750] | Gen Loss: 23.6293 | Disc Loss: 0.3251\n"
     ]
    },
    {
     "name": "stderr",
     "output_type": "stream",
     "text": [
      "Epoch 665/750: 100%|█████████████████████████████| 125/125 [00:23<00:00,  5.21it/s, Gen Loss=25.8158, Disc Loss=0.3251]\n"
     ]
    },
    {
     "name": "stdout",
     "output_type": "stream",
     "text": [
      "Epoch [665/750] | Gen Loss: 23.7978 | Disc Loss: 0.3251\n"
     ]
    },
    {
     "name": "stderr",
     "output_type": "stream",
     "text": [
      "Epoch 666/750: 100%|█████████████████████████████| 125/125 [00:24<00:00,  5.19it/s, Gen Loss=24.5038, Disc Loss=0.3251]\n"
     ]
    },
    {
     "name": "stdout",
     "output_type": "stream",
     "text": [
      "Epoch [666/750] | Gen Loss: 23.6855 | Disc Loss: 0.3251\n"
     ]
    },
    {
     "name": "stderr",
     "output_type": "stream",
     "text": [
      "Epoch 667/750: 100%|█████████████████████████████| 125/125 [00:24<00:00,  5.18it/s, Gen Loss=24.5150, Disc Loss=0.3251]\n"
     ]
    },
    {
     "name": "stdout",
     "output_type": "stream",
     "text": [
      "Epoch [667/750] | Gen Loss: 23.7095 | Disc Loss: 0.3251\n"
     ]
    },
    {
     "name": "stderr",
     "output_type": "stream",
     "text": [
      "Epoch 668/750: 100%|█████████████████████████████| 125/125 [00:23<00:00,  5.21it/s, Gen Loss=25.2641, Disc Loss=0.3251]\n"
     ]
    },
    {
     "name": "stdout",
     "output_type": "stream",
     "text": [
      "Epoch [668/750] | Gen Loss: 23.4892 | Disc Loss: 0.3251\n"
     ]
    },
    {
     "name": "stderr",
     "output_type": "stream",
     "text": [
      "Epoch 669/750: 100%|█████████████████████████████| 125/125 [00:24<00:00,  5.20it/s, Gen Loss=26.9583, Disc Loss=0.3251]\n"
     ]
    },
    {
     "name": "stdout",
     "output_type": "stream",
     "text": [
      "Epoch [669/750] | Gen Loss: 23.6694 | Disc Loss: 0.3251\n"
     ]
    },
    {
     "name": "stderr",
     "output_type": "stream",
     "text": [
      "Epoch 670/750: 100%|█████████████████████████████| 125/125 [00:24<00:00,  5.19it/s, Gen Loss=24.2417, Disc Loss=0.3251]\n"
     ]
    },
    {
     "name": "stdout",
     "output_type": "stream",
     "text": [
      "Epoch [670/750] | Gen Loss: 23.4222 | Disc Loss: 0.3251\n"
     ]
    },
    {
     "name": "stderr",
     "output_type": "stream",
     "text": [
      "Epoch 671/750: 100%|█████████████████████████████| 125/125 [00:24<00:00,  5.16it/s, Gen Loss=24.8855, Disc Loss=0.3251]\n"
     ]
    },
    {
     "name": "stdout",
     "output_type": "stream",
     "text": [
      "Epoch [671/750] | Gen Loss: 23.4877 | Disc Loss: 0.3251\n"
     ]
    },
    {
     "name": "stderr",
     "output_type": "stream",
     "text": [
      "Epoch 672/750: 100%|█████████████████████████████| 125/125 [00:24<00:00,  5.17it/s, Gen Loss=26.0475, Disc Loss=0.3251]\n"
     ]
    },
    {
     "name": "stdout",
     "output_type": "stream",
     "text": [
      "Epoch [672/750] | Gen Loss: 23.6218 | Disc Loss: 0.3251\n"
     ]
    },
    {
     "name": "stderr",
     "output_type": "stream",
     "text": [
      "Epoch 673/750: 100%|█████████████████████████████| 125/125 [00:24<00:00,  5.19it/s, Gen Loss=25.8326, Disc Loss=0.3251]\n"
     ]
    },
    {
     "name": "stdout",
     "output_type": "stream",
     "text": [
      "Epoch [673/750] | Gen Loss: 23.7028 | Disc Loss: 0.3251\n"
     ]
    },
    {
     "name": "stderr",
     "output_type": "stream",
     "text": [
      "Epoch 674/750: 100%|█████████████████████████████| 125/125 [00:23<00:00,  5.21it/s, Gen Loss=26.7315, Disc Loss=0.3251]\n"
     ]
    },
    {
     "name": "stdout",
     "output_type": "stream",
     "text": [
      "Epoch [674/750] | Gen Loss: 23.7477 | Disc Loss: 0.3251\n"
     ]
    },
    {
     "name": "stderr",
     "output_type": "stream",
     "text": [
      "Epoch 675/750: 100%|█████████████████████████████| 125/125 [00:23<00:00,  5.23it/s, Gen Loss=25.5236, Disc Loss=0.3251]\n"
     ]
    },
    {
     "name": "stdout",
     "output_type": "stream",
     "text": [
      "Epoch [675/750] | Gen Loss: 23.8593 | Disc Loss: 0.3251\n"
     ]
    },
    {
     "name": "stderr",
     "output_type": "stream",
     "text": [
      "Epoch 676/750: 100%|█████████████████████████████| 125/125 [00:23<00:00,  5.25it/s, Gen Loss=25.0319, Disc Loss=0.3251]\n"
     ]
    },
    {
     "name": "stdout",
     "output_type": "stream",
     "text": [
      "Epoch [676/750] | Gen Loss: 23.7543 | Disc Loss: 0.3251\n"
     ]
    },
    {
     "name": "stderr",
     "output_type": "stream",
     "text": [
      "Epoch 677/750: 100%|█████████████████████████████| 125/125 [00:23<00:00,  5.22it/s, Gen Loss=25.2193, Disc Loss=0.3251]\n"
     ]
    },
    {
     "name": "stdout",
     "output_type": "stream",
     "text": [
      "Epoch [677/750] | Gen Loss: 23.7894 | Disc Loss: 0.3251\n"
     ]
    },
    {
     "name": "stderr",
     "output_type": "stream",
     "text": [
      "Epoch 678/750: 100%|█████████████████████████████| 125/125 [00:23<00:00,  5.24it/s, Gen Loss=25.9439, Disc Loss=0.3251]\n"
     ]
    },
    {
     "name": "stdout",
     "output_type": "stream",
     "text": [
      "Epoch [678/750] | Gen Loss: 23.8302 | Disc Loss: 0.3251\n"
     ]
    },
    {
     "name": "stderr",
     "output_type": "stream",
     "text": [
      "Epoch 679/750: 100%|█████████████████████████████| 125/125 [00:24<00:00,  5.21it/s, Gen Loss=27.1505, Disc Loss=0.3251]\n"
     ]
    },
    {
     "name": "stdout",
     "output_type": "stream",
     "text": [
      "Epoch [679/750] | Gen Loss: 23.8307 | Disc Loss: 0.3251\n"
     ]
    },
    {
     "name": "stderr",
     "output_type": "stream",
     "text": [
      "Epoch 680/750: 100%|█████████████████████████████| 125/125 [00:24<00:00,  5.20it/s, Gen Loss=25.6183, Disc Loss=0.3251]\n"
     ]
    },
    {
     "name": "stdout",
     "output_type": "stream",
     "text": [
      "Epoch [680/750] | Gen Loss: 23.8431 | Disc Loss: 0.3251\n"
     ]
    },
    {
     "name": "stderr",
     "output_type": "stream",
     "text": [
      "Epoch 681/750: 100%|█████████████████████████████| 125/125 [00:24<00:00,  5.20it/s, Gen Loss=25.6632, Disc Loss=0.3251]\n"
     ]
    },
    {
     "name": "stdout",
     "output_type": "stream",
     "text": [
      "Epoch [681/750] | Gen Loss: 23.7509 | Disc Loss: 0.3251\n"
     ]
    },
    {
     "name": "stderr",
     "output_type": "stream",
     "text": [
      "Epoch 682/750: 100%|█████████████████████████████| 125/125 [00:24<00:00,  5.20it/s, Gen Loss=24.9959, Disc Loss=0.3251]\n"
     ]
    },
    {
     "name": "stdout",
     "output_type": "stream",
     "text": [
      "Epoch [682/750] | Gen Loss: 23.6957 | Disc Loss: 0.3251\n"
     ]
    },
    {
     "name": "stderr",
     "output_type": "stream",
     "text": [
      "Epoch 683/750: 100%|█████████████████████████████| 125/125 [00:23<00:00,  5.23it/s, Gen Loss=25.3859, Disc Loss=0.3251]\n"
     ]
    },
    {
     "name": "stdout",
     "output_type": "stream",
     "text": [
      "Epoch [683/750] | Gen Loss: 23.7065 | Disc Loss: 0.3251\n"
     ]
    },
    {
     "name": "stderr",
     "output_type": "stream",
     "text": [
      "Epoch 684/750: 100%|█████████████████████████████| 125/125 [00:23<00:00,  5.22it/s, Gen Loss=25.4324, Disc Loss=0.3251]\n"
     ]
    },
    {
     "name": "stdout",
     "output_type": "stream",
     "text": [
      "Epoch [684/750] | Gen Loss: 23.8884 | Disc Loss: 0.3251\n"
     ]
    },
    {
     "name": "stderr",
     "output_type": "stream",
     "text": [
      "Epoch 685/750: 100%|█████████████████████████████| 125/125 [00:24<00:00,  5.20it/s, Gen Loss=24.6363, Disc Loss=0.3251]\n"
     ]
    },
    {
     "name": "stdout",
     "output_type": "stream",
     "text": [
      "Epoch [685/750] | Gen Loss: 23.6880 | Disc Loss: 0.3251\n"
     ]
    },
    {
     "name": "stderr",
     "output_type": "stream",
     "text": [
      "Epoch 686/750: 100%|█████████████████████████████| 125/125 [00:23<00:00,  5.23it/s, Gen Loss=24.9007, Disc Loss=0.3251]\n"
     ]
    },
    {
     "name": "stdout",
     "output_type": "stream",
     "text": [
      "Epoch [686/750] | Gen Loss: 23.6056 | Disc Loss: 0.3251\n"
     ]
    },
    {
     "name": "stderr",
     "output_type": "stream",
     "text": [
      "Epoch 687/750: 100%|█████████████████████████████| 125/125 [00:23<00:00,  5.24it/s, Gen Loss=25.4158, Disc Loss=0.3251]\n"
     ]
    },
    {
     "name": "stdout",
     "output_type": "stream",
     "text": [
      "Epoch [687/750] | Gen Loss: 23.6286 | Disc Loss: 0.3251\n"
     ]
    },
    {
     "name": "stderr",
     "output_type": "stream",
     "text": [
      "Epoch 688/750: 100%|█████████████████████████████| 125/125 [00:23<00:00,  5.23it/s, Gen Loss=25.3681, Disc Loss=0.3251]\n"
     ]
    },
    {
     "name": "stdout",
     "output_type": "stream",
     "text": [
      "Epoch [688/750] | Gen Loss: 23.7736 | Disc Loss: 0.3251\n"
     ]
    },
    {
     "name": "stderr",
     "output_type": "stream",
     "text": [
      "Epoch 689/750: 100%|█████████████████████████████| 125/125 [00:23<00:00,  5.21it/s, Gen Loss=26.1667, Disc Loss=0.3251]\n"
     ]
    },
    {
     "name": "stdout",
     "output_type": "stream",
     "text": [
      "Epoch [689/750] | Gen Loss: 23.7984 | Disc Loss: 0.3251\n"
     ]
    },
    {
     "name": "stderr",
     "output_type": "stream",
     "text": [
      "Epoch 690/750: 100%|█████████████████████████████| 125/125 [00:24<00:00,  5.17it/s, Gen Loss=25.4338, Disc Loss=0.3251]\n"
     ]
    },
    {
     "name": "stdout",
     "output_type": "stream",
     "text": [
      "Epoch [690/750] | Gen Loss: 23.8115 | Disc Loss: 0.3251\n"
     ]
    },
    {
     "name": "stderr",
     "output_type": "stream",
     "text": [
      "Epoch 691/750: 100%|█████████████████████████████| 125/125 [00:24<00:00,  5.17it/s, Gen Loss=24.3777, Disc Loss=0.3251]\n"
     ]
    },
    {
     "name": "stdout",
     "output_type": "stream",
     "text": [
      "Epoch [691/750] | Gen Loss: 23.6507 | Disc Loss: 0.3251\n"
     ]
    },
    {
     "name": "stderr",
     "output_type": "stream",
     "text": [
      "Epoch 692/750: 100%|█████████████████████████████| 125/125 [00:24<00:00,  5.19it/s, Gen Loss=26.3744, Disc Loss=0.3251]\n"
     ]
    },
    {
     "name": "stdout",
     "output_type": "stream",
     "text": [
      "Epoch [692/750] | Gen Loss: 23.5798 | Disc Loss: 0.3251\n"
     ]
    },
    {
     "name": "stderr",
     "output_type": "stream",
     "text": [
      "Epoch 693/750: 100%|█████████████████████████████| 125/125 [00:23<00:00,  5.25it/s, Gen Loss=25.6717, Disc Loss=0.3251]\n"
     ]
    },
    {
     "name": "stdout",
     "output_type": "stream",
     "text": [
      "Epoch [693/750] | Gen Loss: 23.6359 | Disc Loss: 0.3251\n"
     ]
    },
    {
     "name": "stderr",
     "output_type": "stream",
     "text": [
      "Epoch 694/750: 100%|█████████████████████████████| 125/125 [00:23<00:00,  5.22it/s, Gen Loss=24.4561, Disc Loss=0.3251]\n"
     ]
    },
    {
     "name": "stdout",
     "output_type": "stream",
     "text": [
      "Epoch [694/750] | Gen Loss: 23.6660 | Disc Loss: 0.3251\n"
     ]
    },
    {
     "name": "stderr",
     "output_type": "stream",
     "text": [
      "Epoch 695/750: 100%|█████████████████████████████| 125/125 [00:24<00:00,  5.21it/s, Gen Loss=23.9102, Disc Loss=0.3251]\n"
     ]
    },
    {
     "name": "stdout",
     "output_type": "stream",
     "text": [
      "Epoch [695/750] | Gen Loss: 23.5670 | Disc Loss: 0.3251\n"
     ]
    },
    {
     "name": "stderr",
     "output_type": "stream",
     "text": [
      "Epoch 696/750: 100%|█████████████████████████████| 125/125 [00:24<00:00,  5.18it/s, Gen Loss=24.1810, Disc Loss=0.3251]\n"
     ]
    },
    {
     "name": "stdout",
     "output_type": "stream",
     "text": [
      "Epoch [696/750] | Gen Loss: 23.6198 | Disc Loss: 0.3251\n"
     ]
    },
    {
     "name": "stderr",
     "output_type": "stream",
     "text": [
      "Epoch 697/750: 100%|█████████████████████████████| 125/125 [00:24<00:00,  5.21it/s, Gen Loss=23.8248, Disc Loss=0.3251]\n"
     ]
    },
    {
     "name": "stdout",
     "output_type": "stream",
     "text": [
      "Epoch [697/750] | Gen Loss: 23.5441 | Disc Loss: 0.3251\n"
     ]
    },
    {
     "name": "stderr",
     "output_type": "stream",
     "text": [
      "Epoch 698/750: 100%|█████████████████████████████| 125/125 [00:23<00:00,  5.21it/s, Gen Loss=23.9968, Disc Loss=0.3251]\n"
     ]
    },
    {
     "name": "stdout",
     "output_type": "stream",
     "text": [
      "Epoch [698/750] | Gen Loss: 23.7873 | Disc Loss: 0.3251\n"
     ]
    },
    {
     "name": "stderr",
     "output_type": "stream",
     "text": [
      "Epoch 699/750: 100%|█████████████████████████████| 125/125 [00:23<00:00,  5.22it/s, Gen Loss=24.3670, Disc Loss=0.3251]\n"
     ]
    },
    {
     "name": "stdout",
     "output_type": "stream",
     "text": [
      "Epoch [699/750] | Gen Loss: 23.7312 | Disc Loss: 0.3251\n"
     ]
    },
    {
     "name": "stderr",
     "output_type": "stream",
     "text": [
      "Epoch 700/750: 100%|█████████████████████████████| 125/125 [00:24<00:00,  5.19it/s, Gen Loss=24.3170, Disc Loss=0.3251]\n"
     ]
    },
    {
     "name": "stdout",
     "output_type": "stream",
     "text": [
      "Epoch [700/750] | Gen Loss: 23.6562 | Disc Loss: 0.3251\n"
     ]
    },
    {
     "name": "stderr",
     "output_type": "stream",
     "text": [
      "Epoch 701/750: 100%|█████████████████████████████| 125/125 [00:24<00:00,  5.19it/s, Gen Loss=24.3041, Disc Loss=0.3251]\n"
     ]
    },
    {
     "name": "stdout",
     "output_type": "stream",
     "text": [
      "Epoch [701/750] | Gen Loss: 23.5495 | Disc Loss: 0.3251\n"
     ]
    },
    {
     "name": "stderr",
     "output_type": "stream",
     "text": [
      "Epoch 702/750: 100%|█████████████████████████████| 125/125 [00:24<00:00,  5.20it/s, Gen Loss=24.0318, Disc Loss=0.3251]\n"
     ]
    },
    {
     "name": "stdout",
     "output_type": "stream",
     "text": [
      "Epoch [702/750] | Gen Loss: 23.6937 | Disc Loss: 0.3251\n"
     ]
    },
    {
     "name": "stderr",
     "output_type": "stream",
     "text": [
      "Epoch 703/750: 100%|█████████████████████████████| 125/125 [00:23<00:00,  5.23it/s, Gen Loss=23.1045, Disc Loss=0.3251]\n"
     ]
    },
    {
     "name": "stdout",
     "output_type": "stream",
     "text": [
      "Epoch [703/750] | Gen Loss: 23.5333 | Disc Loss: 0.3251\n"
     ]
    },
    {
     "name": "stderr",
     "output_type": "stream",
     "text": [
      "Epoch 704/750: 100%|█████████████████████████████| 125/125 [00:24<00:00,  5.18it/s, Gen Loss=23.6589, Disc Loss=0.3251]\n"
     ]
    },
    {
     "name": "stdout",
     "output_type": "stream",
     "text": [
      "Epoch [704/750] | Gen Loss: 23.5964 | Disc Loss: 0.3251\n"
     ]
    },
    {
     "name": "stderr",
     "output_type": "stream",
     "text": [
      "Epoch 705/750: 100%|█████████████████████████████| 125/125 [00:24<00:00,  5.19it/s, Gen Loss=23.1626, Disc Loss=0.3251]\n"
     ]
    },
    {
     "name": "stdout",
     "output_type": "stream",
     "text": [
      "Epoch [705/750] | Gen Loss: 23.6776 | Disc Loss: 0.3251\n"
     ]
    },
    {
     "name": "stderr",
     "output_type": "stream",
     "text": [
      "Epoch 706/750: 100%|█████████████████████████████| 125/125 [00:24<00:00,  5.19it/s, Gen Loss=23.8328, Disc Loss=0.3251]\n"
     ]
    },
    {
     "name": "stdout",
     "output_type": "stream",
     "text": [
      "Epoch [706/750] | Gen Loss: 23.4619 | Disc Loss: 0.3251\n"
     ]
    },
    {
     "name": "stderr",
     "output_type": "stream",
     "text": [
      "Epoch 707/750: 100%|█████████████████████████████| 125/125 [00:24<00:00,  5.19it/s, Gen Loss=24.4022, Disc Loss=0.3251]\n"
     ]
    },
    {
     "name": "stdout",
     "output_type": "stream",
     "text": [
      "Epoch [707/750] | Gen Loss: 23.3117 | Disc Loss: 0.3251\n"
     ]
    },
    {
     "name": "stderr",
     "output_type": "stream",
     "text": [
      "Epoch 708/750: 100%|█████████████████████████████| 125/125 [00:24<00:00,  5.21it/s, Gen Loss=25.8760, Disc Loss=0.3251]\n"
     ]
    },
    {
     "name": "stdout",
     "output_type": "stream",
     "text": [
      "Epoch [708/750] | Gen Loss: 23.4235 | Disc Loss: 0.3251\n"
     ]
    },
    {
     "name": "stderr",
     "output_type": "stream",
     "text": [
      "Epoch 709/750: 100%|█████████████████████████████| 125/125 [00:24<00:00,  5.18it/s, Gen Loss=25.2829, Disc Loss=0.3251]\n"
     ]
    },
    {
     "name": "stdout",
     "output_type": "stream",
     "text": [
      "Epoch [709/750] | Gen Loss: 23.5000 | Disc Loss: 0.3251\n"
     ]
    },
    {
     "name": "stderr",
     "output_type": "stream",
     "text": [
      "Epoch 710/750: 100%|█████████████████████████████| 125/125 [00:24<00:00,  5.18it/s, Gen Loss=23.7690, Disc Loss=0.3251]\n"
     ]
    },
    {
     "name": "stdout",
     "output_type": "stream",
     "text": [
      "Epoch [710/750] | Gen Loss: 23.3821 | Disc Loss: 0.3251\n"
     ]
    },
    {
     "name": "stderr",
     "output_type": "stream",
     "text": [
      "Epoch 711/750: 100%|█████████████████████████████| 125/125 [00:24<00:00,  5.18it/s, Gen Loss=22.7104, Disc Loss=0.3251]\n"
     ]
    },
    {
     "name": "stdout",
     "output_type": "stream",
     "text": [
      "Epoch [711/750] | Gen Loss: 23.1942 | Disc Loss: 0.3251\n"
     ]
    },
    {
     "name": "stderr",
     "output_type": "stream",
     "text": [
      "Epoch 712/750: 100%|█████████████████████████████| 125/125 [00:24<00:00,  5.19it/s, Gen Loss=23.0707, Disc Loss=0.3251]\n"
     ]
    },
    {
     "name": "stdout",
     "output_type": "stream",
     "text": [
      "Epoch [712/750] | Gen Loss: 23.1875 | Disc Loss: 0.3251\n"
     ]
    },
    {
     "name": "stderr",
     "output_type": "stream",
     "text": [
      "Epoch 713/750: 100%|█████████████████████████████| 125/125 [00:24<00:00,  5.19it/s, Gen Loss=22.7356, Disc Loss=0.3251]\n"
     ]
    },
    {
     "name": "stdout",
     "output_type": "stream",
     "text": [
      "Epoch [713/750] | Gen Loss: 23.0612 | Disc Loss: 0.3251\n"
     ]
    },
    {
     "name": "stderr",
     "output_type": "stream",
     "text": [
      "Epoch 714/750: 100%|█████████████████████████████| 125/125 [00:24<00:00,  5.07it/s, Gen Loss=24.0794, Disc Loss=0.3251]\n"
     ]
    },
    {
     "name": "stdout",
     "output_type": "stream",
     "text": [
      "Epoch [714/750] | Gen Loss: 23.1605 | Disc Loss: 0.3251\n"
     ]
    },
    {
     "name": "stderr",
     "output_type": "stream",
     "text": [
      "Epoch 715/750: 100%|█████████████████████████████| 125/125 [00:24<00:00,  5.08it/s, Gen Loss=23.1571, Disc Loss=0.3251]\n"
     ]
    },
    {
     "name": "stdout",
     "output_type": "stream",
     "text": [
      "Epoch [715/750] | Gen Loss: 23.2404 | Disc Loss: 0.3251\n"
     ]
    },
    {
     "name": "stderr",
     "output_type": "stream",
     "text": [
      "Epoch 716/750: 100%|█████████████████████████████| 125/125 [00:24<00:00,  5.09it/s, Gen Loss=24.3084, Disc Loss=0.3251]\n"
     ]
    },
    {
     "name": "stdout",
     "output_type": "stream",
     "text": [
      "Epoch [716/750] | Gen Loss: 23.7053 | Disc Loss: 0.3251\n"
     ]
    },
    {
     "name": "stderr",
     "output_type": "stream",
     "text": [
      "Epoch 717/750: 100%|█████████████████████████████| 125/125 [00:24<00:00,  5.11it/s, Gen Loss=23.1972, Disc Loss=0.3251]\n"
     ]
    },
    {
     "name": "stdout",
     "output_type": "stream",
     "text": [
      "Epoch [717/750] | Gen Loss: 23.5911 | Disc Loss: 0.3251\n"
     ]
    },
    {
     "name": "stderr",
     "output_type": "stream",
     "text": [
      "Epoch 718/750: 100%|█████████████████████████████| 125/125 [00:24<00:00,  5.10it/s, Gen Loss=23.9403, Disc Loss=0.3251]\n"
     ]
    },
    {
     "name": "stdout",
     "output_type": "stream",
     "text": [
      "Epoch [718/750] | Gen Loss: 23.6526 | Disc Loss: 0.3251\n"
     ]
    },
    {
     "name": "stderr",
     "output_type": "stream",
     "text": [
      "Epoch 719/750: 100%|█████████████████████████████| 125/125 [00:24<00:00,  5.10it/s, Gen Loss=24.3325, Disc Loss=0.3251]\n"
     ]
    },
    {
     "name": "stdout",
     "output_type": "stream",
     "text": [
      "Epoch [719/750] | Gen Loss: 23.5352 | Disc Loss: 0.3251\n"
     ]
    },
    {
     "name": "stderr",
     "output_type": "stream",
     "text": [
      "Epoch 720/750: 100%|█████████████████████████████| 125/125 [00:24<00:00,  5.09it/s, Gen Loss=22.6623, Disc Loss=0.3251]\n"
     ]
    },
    {
     "name": "stdout",
     "output_type": "stream",
     "text": [
      "Epoch [720/750] | Gen Loss: 23.5550 | Disc Loss: 0.3251\n"
     ]
    },
    {
     "name": "stderr",
     "output_type": "stream",
     "text": [
      "Epoch 721/750: 100%|█████████████████████████████| 125/125 [00:24<00:00,  5.15it/s, Gen Loss=27.4694, Disc Loss=0.3251]\n"
     ]
    },
    {
     "name": "stdout",
     "output_type": "stream",
     "text": [
      "Epoch [721/750] | Gen Loss: 23.5272 | Disc Loss: 0.3251\n"
     ]
    },
    {
     "name": "stderr",
     "output_type": "stream",
     "text": [
      "Epoch 722/750: 100%|█████████████████████████████| 125/125 [00:23<00:00,  5.23it/s, Gen Loss=24.3073, Disc Loss=0.3251]\n"
     ]
    },
    {
     "name": "stdout",
     "output_type": "stream",
     "text": [
      "Epoch [722/750] | Gen Loss: 23.3162 | Disc Loss: 0.3251\n"
     ]
    },
    {
     "name": "stderr",
     "output_type": "stream",
     "text": [
      "Epoch 723/750: 100%|█████████████████████████████| 125/125 [00:23<00:00,  5.25it/s, Gen Loss=24.6738, Disc Loss=0.3251]\n"
     ]
    },
    {
     "name": "stdout",
     "output_type": "stream",
     "text": [
      "Epoch [723/750] | Gen Loss: 23.3510 | Disc Loss: 0.3251\n"
     ]
    },
    {
     "name": "stderr",
     "output_type": "stream",
     "text": [
      "Epoch 724/750: 100%|█████████████████████████████| 125/125 [00:24<00:00,  5.20it/s, Gen Loss=24.1474, Disc Loss=0.3251]\n"
     ]
    },
    {
     "name": "stdout",
     "output_type": "stream",
     "text": [
      "Epoch [724/750] | Gen Loss: 23.4440 | Disc Loss: 0.3251\n"
     ]
    },
    {
     "name": "stderr",
     "output_type": "stream",
     "text": [
      "Epoch 725/750: 100%|█████████████████████████████| 125/125 [00:24<00:00,  5.18it/s, Gen Loss=24.4320, Disc Loss=0.3251]\n"
     ]
    },
    {
     "name": "stdout",
     "output_type": "stream",
     "text": [
      "Epoch [725/750] | Gen Loss: 23.5393 | Disc Loss: 0.3251\n"
     ]
    },
    {
     "name": "stderr",
     "output_type": "stream",
     "text": [
      "Epoch 726/750: 100%|█████████████████████████████| 125/125 [00:24<00:00,  5.16it/s, Gen Loss=25.0724, Disc Loss=0.3251]\n"
     ]
    },
    {
     "name": "stdout",
     "output_type": "stream",
     "text": [
      "Epoch [726/750] | Gen Loss: 23.4394 | Disc Loss: 0.3251\n"
     ]
    },
    {
     "name": "stderr",
     "output_type": "stream",
     "text": [
      "Epoch 727/750: 100%|█████████████████████████████| 125/125 [00:24<00:00,  5.17it/s, Gen Loss=23.6727, Disc Loss=0.3251]\n"
     ]
    },
    {
     "name": "stdout",
     "output_type": "stream",
     "text": [
      "Epoch [727/750] | Gen Loss: 23.5474 | Disc Loss: 0.3251\n"
     ]
    },
    {
     "name": "stderr",
     "output_type": "stream",
     "text": [
      "Epoch 728/750: 100%|█████████████████████████████| 125/125 [00:24<00:00,  5.19it/s, Gen Loss=23.1398, Disc Loss=0.3251]\n"
     ]
    },
    {
     "name": "stdout",
     "output_type": "stream",
     "text": [
      "Epoch [728/750] | Gen Loss: 23.1616 | Disc Loss: 0.3251\n"
     ]
    },
    {
     "name": "stderr",
     "output_type": "stream",
     "text": [
      "Epoch 729/750: 100%|█████████████████████████████| 125/125 [00:24<00:00,  5.17it/s, Gen Loss=23.3318, Disc Loss=0.3251]\n"
     ]
    },
    {
     "name": "stdout",
     "output_type": "stream",
     "text": [
      "Epoch [729/750] | Gen Loss: 23.1213 | Disc Loss: 0.3251\n"
     ]
    },
    {
     "name": "stderr",
     "output_type": "stream",
     "text": [
      "Epoch 730/750: 100%|█████████████████████████████| 125/125 [00:24<00:00,  5.18it/s, Gen Loss=23.7612, Disc Loss=0.3251]\n"
     ]
    },
    {
     "name": "stdout",
     "output_type": "stream",
     "text": [
      "Epoch [730/750] | Gen Loss: 23.1838 | Disc Loss: 0.3251\n"
     ]
    },
    {
     "name": "stderr",
     "output_type": "stream",
     "text": [
      "Epoch 731/750: 100%|█████████████████████████████| 125/125 [00:24<00:00,  5.18it/s, Gen Loss=23.0653, Disc Loss=0.3251]\n"
     ]
    },
    {
     "name": "stdout",
     "output_type": "stream",
     "text": [
      "Epoch [731/750] | Gen Loss: 23.3421 | Disc Loss: 0.3251\n"
     ]
    },
    {
     "name": "stderr",
     "output_type": "stream",
     "text": [
      "Epoch 732/750: 100%|█████████████████████████████| 125/125 [00:24<00:00,  5.18it/s, Gen Loss=22.8752, Disc Loss=0.3251]\n"
     ]
    },
    {
     "name": "stdout",
     "output_type": "stream",
     "text": [
      "Epoch [732/750] | Gen Loss: 23.4542 | Disc Loss: 0.3251\n"
     ]
    },
    {
     "name": "stderr",
     "output_type": "stream",
     "text": [
      "Epoch 733/750: 100%|█████████████████████████████| 125/125 [00:23<00:00,  5.21it/s, Gen Loss=24.4134, Disc Loss=0.3251]\n"
     ]
    },
    {
     "name": "stdout",
     "output_type": "stream",
     "text": [
      "Epoch [733/750] | Gen Loss: 23.4817 | Disc Loss: 0.3251\n"
     ]
    },
    {
     "name": "stderr",
     "output_type": "stream",
     "text": [
      "Epoch 734/750: 100%|█████████████████████████████| 125/125 [00:24<00:00,  5.16it/s, Gen Loss=24.1806, Disc Loss=0.3251]\n"
     ]
    },
    {
     "name": "stdout",
     "output_type": "stream",
     "text": [
      "Epoch [734/750] | Gen Loss: 23.4723 | Disc Loss: 0.3251\n"
     ]
    },
    {
     "name": "stderr",
     "output_type": "stream",
     "text": [
      "Epoch 735/750: 100%|█████████████████████████████| 125/125 [00:24<00:00,  5.18it/s, Gen Loss=23.9528, Disc Loss=0.3251]\n"
     ]
    },
    {
     "name": "stdout",
     "output_type": "stream",
     "text": [
      "Epoch [735/750] | Gen Loss: 23.2912 | Disc Loss: 0.3251\n"
     ]
    },
    {
     "name": "stderr",
     "output_type": "stream",
     "text": [
      "Epoch 736/750: 100%|█████████████████████████████| 125/125 [00:24<00:00,  5.18it/s, Gen Loss=25.0088, Disc Loss=0.3251]\n"
     ]
    },
    {
     "name": "stdout",
     "output_type": "stream",
     "text": [
      "Epoch [736/750] | Gen Loss: 23.3034 | Disc Loss: 0.3251\n"
     ]
    },
    {
     "name": "stderr",
     "output_type": "stream",
     "text": [
      "Epoch 737/750: 100%|█████████████████████████████| 125/125 [00:23<00:00,  5.21it/s, Gen Loss=23.0711, Disc Loss=0.3251]\n"
     ]
    },
    {
     "name": "stdout",
     "output_type": "stream",
     "text": [
      "Epoch [737/750] | Gen Loss: 23.4070 | Disc Loss: 0.3251\n"
     ]
    },
    {
     "name": "stderr",
     "output_type": "stream",
     "text": [
      "Epoch 738/750: 100%|█████████████████████████████| 125/125 [00:24<00:00,  5.21it/s, Gen Loss=22.9917, Disc Loss=0.3251]\n"
     ]
    },
    {
     "name": "stdout",
     "output_type": "stream",
     "text": [
      "Epoch [738/750] | Gen Loss: 23.3154 | Disc Loss: 0.3251\n"
     ]
    },
    {
     "name": "stderr",
     "output_type": "stream",
     "text": [
      "Epoch 739/750: 100%|█████████████████████████████| 125/125 [00:35<00:00,  3.56it/s, Gen Loss=26.4256, Disc Loss=0.3251]\n"
     ]
    },
    {
     "name": "stdout",
     "output_type": "stream",
     "text": [
      "Epoch [739/750] | Gen Loss: 23.3579 | Disc Loss: 0.3251\n"
     ]
    },
    {
     "name": "stderr",
     "output_type": "stream",
     "text": [
      "Epoch 740/750: 100%|█████████████████████████████| 125/125 [00:24<00:00,  5.04it/s, Gen Loss=23.3334, Disc Loss=0.3251]\n"
     ]
    },
    {
     "name": "stdout",
     "output_type": "stream",
     "text": [
      "Epoch [740/750] | Gen Loss: 23.4065 | Disc Loss: 0.3251\n"
     ]
    },
    {
     "name": "stderr",
     "output_type": "stream",
     "text": [
      "Epoch 741/750: 100%|█████████████████████████████| 125/125 [00:24<00:00,  5.19it/s, Gen Loss=23.6389, Disc Loss=0.3251]\n"
     ]
    },
    {
     "name": "stdout",
     "output_type": "stream",
     "text": [
      "Epoch [741/750] | Gen Loss: 23.3624 | Disc Loss: 0.3251\n"
     ]
    },
    {
     "name": "stderr",
     "output_type": "stream",
     "text": [
      "Epoch 742/750: 100%|█████████████████████████████| 125/125 [00:24<00:00,  5.18it/s, Gen Loss=23.8996, Disc Loss=0.3251]\n"
     ]
    },
    {
     "name": "stdout",
     "output_type": "stream",
     "text": [
      "Epoch [742/750] | Gen Loss: 23.6910 | Disc Loss: 0.3251\n"
     ]
    },
    {
     "name": "stderr",
     "output_type": "stream",
     "text": [
      "Epoch 743/750: 100%|█████████████████████████████| 125/125 [00:23<00:00,  5.22it/s, Gen Loss=24.7865, Disc Loss=0.3251]\n"
     ]
    },
    {
     "name": "stdout",
     "output_type": "stream",
     "text": [
      "Epoch [743/750] | Gen Loss: 23.4545 | Disc Loss: 0.3251\n"
     ]
    },
    {
     "name": "stderr",
     "output_type": "stream",
     "text": [
      "Epoch 744/750: 100%|█████████████████████████████| 125/125 [00:24<00:00,  5.19it/s, Gen Loss=24.3365, Disc Loss=0.3251]\n"
     ]
    },
    {
     "name": "stdout",
     "output_type": "stream",
     "text": [
      "Epoch [744/750] | Gen Loss: 23.5894 | Disc Loss: 0.3251\n"
     ]
    },
    {
     "name": "stderr",
     "output_type": "stream",
     "text": [
      "Epoch 745/750: 100%|█████████████████████████████| 125/125 [00:24<00:00,  5.17it/s, Gen Loss=24.2154, Disc Loss=0.3251]\n"
     ]
    },
    {
     "name": "stdout",
     "output_type": "stream",
     "text": [
      "Epoch [745/750] | Gen Loss: 23.5697 | Disc Loss: 0.3251\n"
     ]
    },
    {
     "name": "stderr",
     "output_type": "stream",
     "text": [
      "Epoch 746/750: 100%|█████████████████████████████| 125/125 [00:24<00:00,  5.17it/s, Gen Loss=25.1901, Disc Loss=0.3251]\n"
     ]
    },
    {
     "name": "stdout",
     "output_type": "stream",
     "text": [
      "Epoch [746/750] | Gen Loss: 23.4721 | Disc Loss: 0.3251\n"
     ]
    },
    {
     "name": "stderr",
     "output_type": "stream",
     "text": [
      "Epoch 747/750: 100%|█████████████████████████████| 125/125 [00:24<00:00,  5.18it/s, Gen Loss=24.7072, Disc Loss=0.3251]\n"
     ]
    },
    {
     "name": "stdout",
     "output_type": "stream",
     "text": [
      "Epoch [747/750] | Gen Loss: 23.6729 | Disc Loss: 0.3251\n"
     ]
    },
    {
     "name": "stderr",
     "output_type": "stream",
     "text": [
      "Epoch 748/750: 100%|█████████████████████████████| 125/125 [00:24<00:00,  5.19it/s, Gen Loss=23.7533, Disc Loss=0.3251]\n"
     ]
    },
    {
     "name": "stdout",
     "output_type": "stream",
     "text": [
      "Epoch [748/750] | Gen Loss: 23.4965 | Disc Loss: 0.3251\n"
     ]
    },
    {
     "name": "stderr",
     "output_type": "stream",
     "text": [
      "Epoch 749/750: 100%|█████████████████████████████| 125/125 [00:23<00:00,  5.21it/s, Gen Loss=24.2762, Disc Loss=0.3251]\n"
     ]
    },
    {
     "name": "stdout",
     "output_type": "stream",
     "text": [
      "Epoch [749/750] | Gen Loss: 23.4650 | Disc Loss: 0.3251\n"
     ]
    },
    {
     "name": "stderr",
     "output_type": "stream",
     "text": [
      "Epoch 750/750: 100%|█████████████████████████████| 125/125 [00:24<00:00,  5.19it/s, Gen Loss=23.6716, Disc Loss=0.3251]"
     ]
    },
    {
     "name": "stdout",
     "output_type": "stream",
     "text": [
      "Epoch [750/750] | Gen Loss: 23.6544 | Disc Loss: 0.3251\n"
     ]
    },
    {
     "name": "stderr",
     "output_type": "stream",
     "text": [
      "\n"
     ]
    }
   ],
   "source": [
    "# Assign hyperparameters\n",
    "noise_dim = 100\n",
    "latent_dim = 128  # Latent vector size from EEGEncoder\n",
    "num_epochs = 750\n",
    "batch_size = 16\n",
    "lr = 0.0002\n",
    "\n",
    "optimizer_gen = torch.optim.Adam(generator.parameters(), lr=lr, betas=(0.5, 0.999))\n",
    "optimizer_disc = torch.optim.Adam(discriminator.parameters(), lr=lr * 0.5, betas=(0.5, 0.999))\n",
    "\n",
    "train_gan(generator, discriminator,optimizer_gen,optimizer_disc,subject_data,subject_no,data_loader,noise_dim,num_epochs,lr,device)"
   ]
  },
  {
   "cell_type": "markdown",
   "metadata": {
    "id": "LMRySmbkyv4W"
   },
   "source": [
    "## Saving model"
   ]
  },
  {
   "cell_type": "code",
   "execution_count": null,
   "metadata": {
    "id": "HumTXACvxrWo"
   },
   "outputs": [],
   "source": [
    "torch.save(generator.state_dict(), r\"C:\\Users\\CSE IIT BHILAI\\Desktop\\ML_Project-main\\GAN_models\\generator-main.pth\")\n",
    "torch.save(discriminator.state_dict(), r\"C:\\Users\\CSE IIT BHILAI\\Desktop\\ML_Project-main\\GAN_models\\discriminator-main.pth\")\n",
    "torch.save(optimizer_gen.state_dict(), r\"C:\\Users\\CSE IIT BHILAI\\Desktop\\ML_Project-main\\GAN_models\\optimizer_gen.pth\")\n",
    "torch.save(optimizer_disc.state_dict(), r\"C:\\Users\\CSE IIT BHILAI\\Desktop\\ML_Project-main\\GAN_models\\optimizer_disc.pth\")"
   ]
  },
  {
   "cell_type": "markdown",
   "metadata": {
    "id": "96pINcOEyzHv"
   },
   "source": [
    "## Loading & Using the Model to generate Images"
   ]
  },
  {
   "cell_type": "code",
   "execution_count": null,
   "metadata": {
    "id": "e0wGfLF0yywr",
    "outputId": "aa7fbadd-5d9c-4987-b19f-938a82c8d36b"
   },
   "outputs": [
    {
     "name": "stdout",
     "output_type": "stream",
     "text": [
      "Generator and Discriminator models loaded successfully.\n"
     ]
    },
    {
     "name": "stderr",
     "output_type": "stream",
     "text": [
      "C:\\Users\\CSE IIT BHILAI\\AppData\\Local\\Temp\\ipykernel_9668\\2453012757.py:6: FutureWarning: You are using `torch.load` with `weights_only=False` (the current default value), which uses the default pickle module implicitly. It is possible to construct malicious pickle data which will execute arbitrary code during unpickling (See https://github.com/pytorch/pytorch/blob/main/SECURITY.md#untrusted-models for more details). In a future release, the default value for `weights_only` will be flipped to `True`. This limits the functions that could be executed during unpickling. Arbitrary objects will no longer be allowed to be loaded via this mode unless they are explicitly allowlisted by the user via `torch.serialization.add_safe_globals`. We recommend you start setting `weights_only=True` for any use case where you don't have full control of the loaded file. Please open an issue on GitHub for any issues related to this experimental feature.\n",
      "  generator.load_state_dict(torch.load(r\"C:\\Users\\CSE IIT BHILAI\\Desktop\\ML_Project-main\\GAN_models\\generator-main.pth\"))\n",
      "C:\\Users\\CSE IIT BHILAI\\AppData\\Local\\Temp\\ipykernel_9668\\2453012757.py:7: FutureWarning: You are using `torch.load` with `weights_only=False` (the current default value), which uses the default pickle module implicitly. It is possible to construct malicious pickle data which will execute arbitrary code during unpickling (See https://github.com/pytorch/pytorch/blob/main/SECURITY.md#untrusted-models for more details). In a future release, the default value for `weights_only` will be flipped to `True`. This limits the functions that could be executed during unpickling. Arbitrary objects will no longer be allowed to be loaded via this mode unless they are explicitly allowlisted by the user via `torch.serialization.add_safe_globals`. We recommend you start setting `weights_only=True` for any use case where you don't have full control of the loaded file. Please open an issue on GitHub for any issues related to this experimental feature.\n",
      "  discriminator.load_state_dict(torch.load(r\"C:\\Users\\CSE IIT BHILAI\\Desktop\\ML_Project-main\\GAN_models\\discriminator-main.pth\"))\n"
     ]
    }
   ],
   "source": [
    "generator = Generator(noise_dim=100, class_dim=128).to(device)\n",
    "discriminator = Discriminator(class_dim=128).to(device)\n",
    "\n",
    "generator.load_state_dict(torch.load(r\"C:\\Users\\CSE IIT BHILAI\\Desktop\\ML_Project-main\\GAN_models\\generator-main.pth\"))\n",
    "discriminator.load_state_dict(torch.load(r\"C:\\Users\\CSE IIT BHILAI\\Desktop\\ML_Project-main\\GAN_models\\discriminator-main.pth\"))\n",
    "\n",
    "generator.eval()\n",
    "discriminator.eval()\n",
    "\n",
    "print(\"Generator and Discriminator models loaded successfully.\")"
   ]
  },
  {
   "cell_type": "code",
   "execution_count": null,
   "metadata": {
    "id": "L7XPnRXky36G"
   },
   "outputs": [],
   "source": [
    "# Load optimizers if you plan to continue training\n",
    "optimizer_gen = torch.optim.Adam(generator.parameters(), lr=lr, betas=(0.5, 0.999))\n",
    "optimizer_disc = torch.optim.Adam(discriminator.parameters(), lr=lr * 0.5, betas=(0.5, 0.999))\n",
    "\n",
    "optimizer_gen.load_state_dict(torch.load(\"/content/drive/MyDrive/sngan-models/optimizer_gen.pth\"))\n",
    "optimizer_disc.load_state_dict(torch.load(\"/content/drive/MyDrive/sngan-models/optimizer_disc.pth\"))"
   ]
  },
  {
   "cell_type": "code",
   "execution_count": null,
   "metadata": {
    "id": "dJ2QJVY4zMGI",
    "outputId": "33046c21-0ead-4f50-ccff-b2fe876c47a5",
    "scrolled": true
   },
   "outputs": [
    {
     "name": "stdout",
     "output_type": "stream",
     "text": [
      "Noise: torch.Size([1, 100])\n",
      "Concatenated tensor x: torch.Size([1, 228])\n"
     ]
    }
   ],
   "source": [
    "latent_dim = 128  #\n",
    "noise_dim = 100   \n",
    "\n",
    "device = torch.device('cuda' if torch.cuda.is_available() else 'cpu')\n",
    "\n",
    "noise = torch.randn(1, noise_dim).to(device)  # Shape: (1, 100)\n",
    "print(\"Noise:\", noise.shape)\n",
    "\n",
    "latent_vector = subject_data[1]['z'][0]  # Shape: (1, 128)\n",
    "latent_vector=latent_vector.reshape(1,-1)\n",
    "\n",
    "x = torch.cat([noise, latent_vector], dim=1)  # Shape: (1, 100 + 128) = (1, 228)\n",
    "print(\"Concatenated tensor x:\", x.shape)"
   ]
  },
  {
   "cell_type": "code",
   "execution_count": null,
   "metadata": {
    "id": "FMiN1S9OX7CE"
   },
   "outputs": [],
   "source": [
    "from torchvision.utils import save_image"
   ]
  },
  {
   "cell_type": "code",
   "execution_count": null,
   "metadata": {
    "id": "SILQds_LX7CF"
   },
   "outputs": [],
   "source": [
    "with torch.no_grad():  \n",
    "    generated_image = generator(noise, latent_vector)  \n",
    "\n",
    "generated_image = (generated_image + 1) / 2\n",
    "\n",
    "save_image(generated_image, \"generated_image.png\")"
   ]
  },
  {
   "cell_type": "code",
   "execution_count": null,
   "metadata": {
    "id": "HhpAd6l-X7CF"
   },
   "outputs": [],
   "source": []
  }
 ],
 "metadata": {
  "accelerator": "GPU",
  "colab": {
   "gpuType": "T4",
   "provenance": []
  },
  "kernelspec": {
   "display_name": "Python 3 (ipykernel)",
   "language": "python",
   "name": "python3"
  },
  "language_info": {
   "codemirror_mode": {
    "name": "ipython",
    "version": 3
   },
   "file_extension": ".py",
   "mimetype": "text/x-python",
   "name": "python",
   "nbconvert_exporter": "python",
   "pygments_lexer": "ipython3",
   "version": "3.9.20"
  }
 },
 "nbformat": 4,
 "nbformat_minor": 4
}
