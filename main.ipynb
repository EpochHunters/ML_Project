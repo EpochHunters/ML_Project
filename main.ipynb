{
 "cells": [
  {
   "cell_type": "code",
   "execution_count": 2,
   "id": "GppFo18kSCo9",
   "metadata": {
    "colab": {
     "base_uri": "https://localhost:8080/"
    },
    "id": "GppFo18kSCo9",
    "outputId": "f82a46f1-6391-4196-a143-51aaec87a56b"
   },
   "outputs": [
    {
     "name": "stdout",
     "output_type": "stream",
     "text": [
      "Mounted at /content/drive\n"
     ]
    }
   ],
   "source": [
    "from google.colab import drive\n",
    "drive.mount('/content/drive')"
   ]
  },
  {
   "cell_type": "code",
   "execution_count": 22,
   "id": "7uTwMh9a3EPX",
   "metadata": {
    "id": "7uTwMh9a3EPX"
   },
   "outputs": [],
   "source": [
    "import sys\n",
    "sys.path.append('models') # append the directory containing the module"
   ]
  },
  {
   "cell_type": "code",
   "execution_count": 23,
   "id": "4b1e3d02",
   "metadata": {
    "id": "4b1e3d02"
   },
   "outputs": [],
   "source": [
    "import torch\n",
    "import torch.nn as nn\n",
    "import torch.optim as optim\n",
    "import torch.nn.functional as F\n",
    "import EncoderEEG\n",
    "import deepcnn\n",
    "import cnn2dlstm\n",
    "import cnn1dlstm\n",
    "import traintest\n",
    "import warnings\n",
    "warnings.filterwarnings('ignore')"
   ]
  },
  {
   "cell_type": "code",
   "execution_count": 49,
   "id": "jnd1kYenHg0n",
   "metadata": {
    "colab": {
     "base_uri": "https://localhost:8080/"
    },
    "id": "jnd1kYenHg0n",
    "outputId": "f5450bc1-24ff-43b8-bdb5-757ff159b099"
   },
   "outputs": [
    {
     "data": {
      "text/plain": [
       "<module 'traintest' from 'C:\\\\Users\\\\hp\\\\Desktop\\\\ML_Project Phase III\\\\ML_Project\\\\models\\\\traintest.py'>"
      ]
     },
     "execution_count": 49,
     "metadata": {},
     "output_type": "execute_result"
    }
   ],
   "source": [
    "import importlib\n",
    "importlib.reload(traintest) # reload the module"
   ]
  },
  {
   "cell_type": "code",
   "execution_count": 25,
   "id": "g4eXuZGjGY0m",
   "metadata": {
    "colab": {
     "base_uri": "https://localhost:8080/"
    },
    "id": "g4eXuZGjGY0m",
    "outputId": "fe76e5e6-25f0-4441-8371-7890a3312730"
   },
   "outputs": [
    {
     "name": "stdout",
     "output_type": "stream",
     "text": [
      "GPU Name: NVIDIA GeForce MX450\n"
     ]
    }
   ],
   "source": [
    "torch.cuda.is_available()\n",
    "if torch.cuda.is_available():\n",
    "    print(\"GPU Name:\", torch.cuda.get_device_name(0))"
   ]
  },
  {
   "cell_type": "code",
   "execution_count": 40,
   "id": "5a8b916f",
   "metadata": {
    "colab": {
     "base_uri": "https://localhost:8080/"
    },
    "id": "5a8b916f",
    "outputId": "1944cd2f-247c-40fd-b679-992c902feb51",
    "scrolled": true
   },
   "outputs": [
    {
     "name": "stdout",
     "output_type": "stream",
     "text": [
      "['n02389026', 'n03888257', 'n03584829', 'n02607072', 'n03297495', 'n03063599', 'n03792782', 'n04086273', 'n02510455', 'n11939491', 'n02951358', 'n02281787', 'n02106662', 'n04120489', 'n03590841', 'n02992529', 'n03445777', 'n03180011', 'n02906734', 'n07873807', 'n03773504', 'n02492035', 'n03982430', 'n03709823', 'n03100240', 'n03376595', 'n03877472', 'n03775071', 'n03272010', 'n04069434', 'n03452741', 'n03792972', 'n07753592', 'n13054560', 'n03197337', 'n02504458', 'n02690373', 'n03272562', 'n04044716', 'n02124075']\n"
     ]
    }
   ],
   "source": [
    "dataset=torch.load(r\"C:\\Users\\hp\\Desktop\\M.Tech\\ML\\Project Dataset\\eeg_signals_raw_with_mean_std.pth\")\n",
    "labels=dataset['labels']\n",
    "print(labels)"
   ]
  },
  {
   "cell_type": "code",
   "execution_count": 41,
   "id": "543b6665",
   "metadata": {
    "id": "543b6665"
   },
   "outputs": [],
   "source": [
    "data=dataset['dataset']"
   ]
  },
  {
   "cell_type": "code",
   "execution_count": 42,
   "id": "d3932698",
   "metadata": {
    "colab": {
     "base_uri": "https://localhost:8080/"
    },
    "id": "d3932698",
    "outputId": "49c2b38d-28e9-4ea8-ed72-9fcea7531a43"
   },
   "outputs": [],
   "source": [
    "splits=torch.load(r\"C:\\Users\\hp\\Desktop\\M.Tech\\ML\\Project Dataset\\block_splits_by_image_all.pth\")"
   ]
  },
  {
   "cell_type": "code",
   "execution_count": 43,
   "id": "5d2b63d9",
   "metadata": {
    "id": "5d2b63d9"
   },
   "outputs": [],
   "source": [
    "x_train,x_val,x_test,y_train,y_val,y_test=traintest.Splitter(data,splits,subject_no=0)"
   ]
  },
  {
   "cell_type": "code",
   "execution_count": 44,
   "id": "43edb441",
   "metadata": {
    "id": "43edb441"
   },
   "outputs": [],
   "source": [
    "# For using 2D CNN or similar models, we need to add an extra dimension to our data for which we can use unsqueeze function\n",
    "\n",
    "x_train=torch.stack(x_train)\n",
    "#x_train=x_train.unsqueeze(3)\n",
    "x_val=torch.stack(x_val)\n",
    "#x_val=x_val.unsqueeze(3)\n",
    "x_test=torch.stack(x_test)\n",
    "#x_test=x_test.unsqueeze(3)\n",
    "y_train=torch.tensor(y_train)\n",
    "y_val=torch.tensor(y_val)\n",
    "y_test=torch.tensor(y_test)"
   ]
  },
  {
   "cell_type": "code",
   "execution_count": 45,
   "id": "IK1_sKZiKX04",
   "metadata": {
    "id": "IK1_sKZiKX04"
   },
   "outputs": [],
   "source": [
    "device = torch.device(\"cuda\" if torch.cuda.is_available() else \"cpu\")"
   ]
  },
  {
   "cell_type": "code",
   "execution_count": 46,
   "id": "e9ff4590",
   "metadata": {
    "id": "e9ff4590"
   },
   "outputs": [],
   "source": [
    "from torch.utils.data import DataLoader, TensorDataset\n",
    "\n",
    "train_dataset = TensorDataset(x_train, y_train)\n",
    "val_dataset = TensorDataset(x_val,y_val)\n",
    "test_dataset = TensorDataset(x_test,y_test)\n",
    "train_loader = DataLoader(train_dataset, batch_size=16, shuffle=True)\n",
    "val_loader = DataLoader(val_dataset,batch_size=16,shuffle=True)\n",
    "test_loader = DataLoader(test_dataset,batch_size=16,shuffle=True)"
   ]
  },
  {
   "cell_type": "code",
   "execution_count": 47,
   "id": "8187c2e1",
   "metadata": {
    "colab": {
     "base_uri": "https://localhost:8080/"
    },
    "id": "8187c2e1",
    "outputId": "c3008625-44c6-4ecd-aa68-1cdd62cdfde5",
    "scrolled": true
   },
   "outputs": [
    {
     "name": "stdout",
     "output_type": "stream",
     "text": [
      "EEGEncoder(\n",
      "  (temporal_block): TemporalBlock(\n",
      "    (network): Sequential(\n",
      "      (0): Conv1d(128, 64, kernel_size=(3,), stride=(1,), padding=(3,))\n",
      "      (1): ReLU()\n",
      "      (2): Conv1d(64, 64, kernel_size=(3,), stride=(1,), padding=(6,), dilation=(2,))\n",
      "      (3): ReLU()\n",
      "      (4): Conv1d(64, 64, kernel_size=(3,), stride=(1,), padding=(12,), dilation=(4,))\n",
      "      (5): ReLU()\n",
      "      (6): Conv1d(64, 64, kernel_size=(3,), stride=(1,), padding=(24,), dilation=(8,))\n",
      "      (7): ReLU()\n",
      "    )\n",
      "  )\n",
      "  (spatial_block): SpatialBlock(\n",
      "    (network): Sequential(\n",
      "      (0): Conv2d(1, 32, kernel_size=(3, 3), stride=(1, 1), padding=(1, 1))\n",
      "      (1): BatchNorm2d(32, eps=1e-05, momentum=0.1, affine=True, track_running_stats=True)\n",
      "      (2): ReLU()\n",
      "      (3): Conv2d(32, 32, kernel_size=(3, 3), stride=(1, 1), padding=(1, 1))\n",
      "      (4): BatchNorm2d(32, eps=1e-05, momentum=0.1, affine=True, track_running_stats=True)\n",
      "      (5): ReLU()\n",
      "    )\n",
      "  )\n",
      "  (res_blocks): ModuleList(\n",
      "    (0-1): 2 x ResidualBlock(\n",
      "      (conv1): Conv2d(32, 32, kernel_size=(3, 3), stride=(1, 1), padding=(1, 1))\n",
      "      (conv2): Conv2d(32, 32, kernel_size=(3, 3), stride=(1, 1), padding=(1, 1))\n",
      "      (relu): ReLU()\n",
      "    )\n",
      "  )\n",
      "  (fc): Linear(in_features=32, out_features=40, bias=True)\n",
      ")\n"
     ]
    }
   ],
   "source": [
    "num_classes = 40\n",
    "learning_rate = 0.005\n",
    "num_epochs = 50\n",
    "\n",
    "model = EncoderEEG.EEGEncoder(num_classes=40).to(device)\n",
    "print(model)\n",
    "criterion = nn.CrossEntropyLoss()\n",
    "optimizer = optim.Adam(model.parameters(), lr=learning_rate)"
   ]
  },
  {
   "cell_type": "code",
   "execution_count": null,
   "id": "2b95e399",
   "metadata": {
    "id": "2b95e399"
   },
   "outputs": [],
   "source": [
    "#for inputs,labels in train_loader:\n",
    " #   print(inputs.shape)"
   ]
  },
  {
   "cell_type": "code",
   "execution_count": 50,
   "id": "f6408d1a",
   "metadata": {
    "colab": {
     "base_uri": "https://localhost:8080/"
    },
    "id": "f6408d1a",
    "outputId": "c4fc493d-2c41-40a5-9a2a-c20748082937",
    "scrolled": true
   },
   "outputs": [
    {
     "name": "stdout",
     "output_type": "stream",
     "text": [
      "Epoch 1/50, Training Loss: 3.6656, Validation Loss: 3.5767, Training Accuracy: 3.11%, Validation Accuracy: 3.35%\n",
      "Epoch 2/50, Training Loss: 3.3977, Validation Loss: 3.3387, Training Accuracy: 5.18%, Validation Accuracy: 4.05%\n",
      "Epoch 3/50, Training Loss: 2.9823, Validation Loss: 2.8068, Training Accuracy: 7.62%, Validation Accuracy: 9.11%\n",
      "Epoch 4/50, Training Loss: 2.7596, Validation Loss: 2.7251, Training Accuracy: 10.45%, Validation Accuracy: 7.36%\n",
      "Epoch 5/50, Training Loss: 2.6081, Validation Loss: 2.6347, Training Accuracy: 11.33%, Validation Accuracy: 13.26%\n",
      "Epoch 6/50, Training Loss: 2.4959, Validation Loss: 2.4252, Training Accuracy: 13.27%, Validation Accuracy: 15.47%\n",
      "Epoch 7/50, Training Loss: 2.2787, Validation Loss: 2.2356, Training Accuracy: 16.66%, Validation Accuracy: 17.57%\n",
      "Epoch 8/50, Training Loss: 2.1831, Validation Loss: 2.1146, Training Accuracy: 19.42%, Validation Accuracy: 21.87%\n",
      "Epoch 9/50, Training Loss: 2.0936, Validation Loss: 2.0679, Training Accuracy: 21.08%, Validation Accuracy: 24.42%\n",
      "Epoch 10/50, Training Loss: 2.0294, Validation Loss: 1.9975, Training Accuracy: 23.14%, Validation Accuracy: 19.22%\n",
      "Epoch 11/50, Training Loss: 1.9555, Validation Loss: 1.8927, Training Accuracy: 24.29%, Validation Accuracy: 23.77%\n",
      "Epoch 12/50, Training Loss: 1.8937, Validation Loss: 1.9676, Training Accuracy: 27.24%, Validation Accuracy: 19.72%\n",
      "Epoch 13/50, Training Loss: 1.8548, Validation Loss: 1.7888, Training Accuracy: 27.67%, Validation Accuracy: 30.93%\n",
      "Epoch 14/50, Training Loss: 1.8085, Validation Loss: 1.7289, Training Accuracy: 29.42%, Validation Accuracy: 29.28%\n",
      "Epoch 15/50, Training Loss: 1.7269, Validation Loss: 1.7832, Training Accuracy: 31.27%, Validation Accuracy: 30.88%\n",
      "Epoch 16/50, Training Loss: 1.6353, Validation Loss: 1.5191, Training Accuracy: 34.18%, Validation Accuracy: 34.88%\n",
      "Epoch 17/50, Training Loss: 1.5326, Validation Loss: 1.5783, Training Accuracy: 38.02%, Validation Accuracy: 35.09%\n",
      "Epoch 18/50, Training Loss: 1.4847, Validation Loss: 1.7161, Training Accuracy: 39.74%, Validation Accuracy: 32.58%\n",
      "Epoch 19/50, Training Loss: 1.3368, Validation Loss: 1.2332, Training Accuracy: 44.86%, Validation Accuracy: 47.25%\n",
      "Epoch 20/50, Training Loss: 1.2745, Validation Loss: 1.3267, Training Accuracy: 47.85%, Validation Accuracy: 42.74%\n",
      "Epoch 21/50, Training Loss: 1.1902, Validation Loss: 1.3065, Training Accuracy: 50.25%, Validation Accuracy: 45.20%\n",
      "Epoch 22/50, Training Loss: 1.1643, Validation Loss: 1.0602, Training Accuracy: 52.31%, Validation Accuracy: 55.81%\n",
      "Epoch 23/50, Training Loss: 1.1120, Validation Loss: 1.0739, Training Accuracy: 55.08%, Validation Accuracy: 60.51%\n",
      "Epoch 24/50, Training Loss: 1.0363, Validation Loss: 0.9609, Training Accuracy: 57.88%, Validation Accuracy: 59.66%\n",
      "Epoch 25/50, Training Loss: 0.9440, Validation Loss: 0.9250, Training Accuracy: 61.92%, Validation Accuracy: 61.31%\n",
      "Epoch 26/50, Training Loss: 0.9354, Validation Loss: 0.9529, Training Accuracy: 62.57%, Validation Accuracy: 64.01%\n",
      "Epoch 27/50, Training Loss: 0.9227, Validation Loss: 0.9273, Training Accuracy: 63.07%, Validation Accuracy: 63.06%\n",
      "Epoch 28/50, Training Loss: 0.9315, Validation Loss: 1.2009, Training Accuracy: 65.07%, Validation Accuracy: 55.56%\n",
      "Epoch 29/50, Training Loss: 0.9646, Validation Loss: 0.9343, Training Accuracy: 65.27%, Validation Accuracy: 64.46%\n",
      "Epoch 30/50, Training Loss: 0.8359, Validation Loss: 0.8481, Training Accuracy: 68.14%, Validation Accuracy: 65.57%\n",
      "Epoch 31/50, Training Loss: 0.7705, Validation Loss: 0.7861, Training Accuracy: 70.61%, Validation Accuracy: 69.67%\n",
      "Epoch 32/50, Training Loss: 0.7371, Validation Loss: 1.7320, Training Accuracy: 72.11%, Validation Accuracy: 51.05%\n",
      "Epoch 33/50, Training Loss: 0.7562, Validation Loss: 0.6937, Training Accuracy: 71.37%, Validation Accuracy: 76.53%\n",
      "Epoch 34/50, Training Loss: 0.7009, Validation Loss: 0.6515, Training Accuracy: 73.64%, Validation Accuracy: 75.03%\n",
      "Epoch 35/50, Training Loss: 0.6286, Validation Loss: 0.6108, Training Accuracy: 76.54%, Validation Accuracy: 75.78%\n",
      "Epoch 36/50, Training Loss: 0.6890, Validation Loss: 0.6208, Training Accuracy: 75.21%, Validation Accuracy: 77.73%\n",
      "Epoch 37/50, Training Loss: 0.5956, Validation Loss: 0.4843, Training Accuracy: 77.80%, Validation Accuracy: 81.63%\n",
      "Epoch 38/50, Training Loss: 0.5977, Validation Loss: 0.7230, Training Accuracy: 78.61%, Validation Accuracy: 72.72%\n",
      "Epoch 39/50, Training Loss: 0.5795, Validation Loss: 0.5229, Training Accuracy: 78.96%, Validation Accuracy: 79.98%\n",
      "Epoch 40/50, Training Loss: 0.5582, Validation Loss: 0.4591, Training Accuracy: 79.15%, Validation Accuracy: 83.93%\n",
      "Epoch 41/50, Training Loss: 0.5777, Validation Loss: 0.7576, Training Accuracy: 81.17%, Validation Accuracy: 75.68%\n",
      "Epoch 42/50, Training Loss: 0.5652, Validation Loss: 0.8855, Training Accuracy: 80.15%, Validation Accuracy: 76.13%\n",
      "Epoch 43/50, Training Loss: 0.5840, Validation Loss: 1.3760, Training Accuracy: 81.04%, Validation Accuracy: 66.92%\n",
      "Epoch 44/50, Training Loss: 0.5427, Validation Loss: 0.5689, Training Accuracy: 81.10%, Validation Accuracy: 81.78%\n",
      "Epoch 45/50, Training Loss: 0.4192, Validation Loss: 0.5366, Training Accuracy: 85.76%, Validation Accuracy: 82.58%\n",
      "Epoch 46/50, Training Loss: 0.4951, Validation Loss: 0.7341, Training Accuracy: 83.38%, Validation Accuracy: 76.08%\n",
      "Epoch 47/50, Training Loss: 0.4860, Validation Loss: 0.3732, Training Accuracy: 83.63%, Validation Accuracy: 87.39%\n",
      "Epoch 48/50, Training Loss: 0.4890, Validation Loss: 0.5837, Training Accuracy: 83.01%, Validation Accuracy: 81.48%\n",
      "Epoch 49/50, Training Loss: 0.4433, Validation Loss: 0.4017, Training Accuracy: 85.03%, Validation Accuracy: 87.49%\n",
      "Epoch 50/50, Training Loss: 0.3728, Validation Loss: 0.4739, Training Accuracy: 86.98%, Validation Accuracy: 84.53%\n"
     ]
    }
   ],
   "source": [
    "# Call training function\n",
    "traintest.train_model(model, train_loader, val_loader,criterion,optimizer,device,num_epochs)"
   ]
  },
  {
   "cell_type": "code",
   "execution_count": 51,
   "id": "bb145407",
   "metadata": {
    "colab": {
     "base_uri": "https://localhost:8080/"
    },
    "id": "bb145407",
    "outputId": "0c402735-9dec-46c1-f33c-b50613db5f07"
   },
   "outputs": [
    {
     "name": "stdout",
     "output_type": "stream",
     "text": [
      "Test Accuracy: 85.88%\n"
     ]
    }
   ],
   "source": [
    "traintest.evaluate_model(model,device,test_loader)"
   ]
  },
  {
   "cell_type": "code",
   "execution_count": 52,
   "id": "K1TvkMH4cf_E",
   "metadata": {
    "id": "K1TvkMH4cf_E"
   },
   "outputs": [],
   "source": [
    "#Saving the model\n",
    "\n",
    "torch.save(model.state_dict(), 'EEGEncoder_state_dict.pth')  # Save only the state dict\n",
    "torch.save(model, 'EEGEncoder.pth')  # Save the entire model\n",
    "torch.save(optimizer.state_dict(), 'optimizer_state_dict.pth')"
   ]
  },
  {
   "cell_type": "markdown",
   "id": "GcUh4qrydmSe",
   "metadata": {
    "id": "GcUh4qrydmSe"
   },
   "source": [
    "## Not Relevant"
   ]
  },
  {
   "cell_type": "code",
   "execution_count": null,
   "id": "bb52a13e",
   "metadata": {
    "colab": {
     "base_uri": "https://localhost:8080/"
    },
    "id": "bb52a13e",
    "outputId": "51507c19-f804-492e-e784-d4b42111f53c"
   },
   "outputs": [
    {
     "name": "stdout",
     "output_type": "stream",
     "text": [
      "An error occurred: Given groups=1, weight of size [64, 40, 3], expected input[16, 128, 440] to have 40 channels, but got 128 channels instead\n"
     ]
    }
   ],
   "source": [
    "sample_input = torch.randn(16, 128, 440)  # Create a sample input tensor\n",
    "\n",
    "# Initialize your model\n",
    "num_classes = 40  # Adjust based on the number of classes in your task\n",
    "model =EncoderEEG.EEGEncoder(num_classes)  # Use the correct model name here\n",
    "\n",
    "# Pass the sample input through the model\n",
    "try:\n",
    "    output = model(sample_input)\n",
    "    print(\"Output shape:\", output.shape)  # Print the output shape\n",
    "except Exception as e:\n",
    "    print(\"An error occurred:\", e)"
   ]
  },
  {
   "cell_type": "code",
   "execution_count": null,
   "id": "87491061",
   "metadata": {
    "id": "87491061",
    "outputId": "8e5659d6-dfeb-4431-c780-294dd83dceb9"
   },
   "outputs": [
    {
     "name": "stdout",
     "output_type": "stream",
     "text": [
      "<bound method Module.parameters of EEGEncoder(\n",
      "  (temporal_block): TemporalBlock(\n",
      "    (network): Sequential(\n",
      "      (0): Conv1d(128, 64, kernel_size=(3,), stride=(1,), padding=(3,))\n",
      "      (1): ReLU()\n",
      "      (2): Conv1d(64, 64, kernel_size=(3,), stride=(1,), padding=(6,), dilation=(2,))\n",
      "      (3): ReLU()\n",
      "      (4): Conv1d(64, 64, kernel_size=(3,), stride=(1,), padding=(12,), dilation=(4,))\n",
      "      (5): ReLU()\n",
      "      (6): Conv1d(64, 64, kernel_size=(3,), stride=(1,), padding=(24,), dilation=(8,))\n",
      "      (7): ReLU()\n",
      "    )\n",
      "  )\n",
      "  (spatial_block): SpatialBlock(\n",
      "    (network): Sequential(\n",
      "      (0): Conv2d(1, 32, kernel_size=(3, 3), stride=(1, 1), padding=(1, 1))\n",
      "      (1): BatchNorm2d(32, eps=1e-05, momentum=0.1, affine=True, track_running_stats=True)\n",
      "      (2): ReLU()\n",
      "      (3): Conv2d(32, 32, kernel_size=(3, 3), stride=(1, 1), padding=(1, 1))\n",
      "      (4): BatchNorm2d(32, eps=1e-05, momentum=0.1, affine=True, track_running_stats=True)\n",
      "      (5): ReLU()\n",
      "    )\n",
      "  )\n",
      "  (res_blocks): ModuleList(\n",
      "    (0-1): 2 x ResidualBlock(\n",
      "      (conv1): Conv2d(32, 32, kernel_size=(3, 3), stride=(1, 1), padding=(1, 1))\n",
      "      (conv2): Conv2d(32, 32, kernel_size=(3, 3), stride=(1, 1), padding=(1, 1))\n",
      "      (relu): ReLU()\n",
      "    )\n",
      "  )\n",
      "  (fc): Linear(in_features=32, out_features=40, bias=True)\n",
      ")>\n"
     ]
    }
   ],
   "source": [
    "print(model.parameters)"
   ]
  },
  {
   "cell_type": "code",
   "execution_count": null,
   "id": "fe285fb4",
   "metadata": {
    "id": "fe285fb4"
   },
   "outputs": [],
   "source": []
  }
 ],
 "metadata": {
  "accelerator": "GPU",
  "colab": {
   "gpuType": "T4",
   "provenance": []
  },
  "kernelspec": {
   "display_name": "Python 3 (ipykernel)",
   "language": "python",
   "name": "python3"
  },
  "language_info": {
   "codemirror_mode": {
    "name": "ipython",
    "version": 3
   },
   "file_extension": ".py",
   "mimetype": "text/x-python",
   "name": "python",
   "nbconvert_exporter": "python",
   "pygments_lexer": "ipython3",
   "version": "3.9.20"
  }
 },
 "nbformat": 4,
 "nbformat_minor": 5
}
