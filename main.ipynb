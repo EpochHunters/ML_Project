{
 "cells": [
  {
   "cell_type": "code",
   "execution_count": 2,
   "id": "GppFo18kSCo9",
   "metadata": {
    "colab": {
     "base_uri": "https://localhost:8080/"
    },
    "id": "GppFo18kSCo9",
    "outputId": "f82a46f1-6391-4196-a143-51aaec87a56b"
   },
   "outputs": [
    {
     "name": "stdout",
     "output_type": "stream",
     "text": [
      "Mounted at /content/drive\n"
     ]
    }
   ],
   "source": [
    "from google.colab import drive\n",
    "drive.mount('/content/drive')"
   ]
  },
  {
   "cell_type": "code",
   "execution_count": 7,
   "id": "7uTwMh9a3EPX",
   "metadata": {
    "id": "7uTwMh9a3EPX"
   },
   "outputs": [],
   "source": [
    "import sys\n",
    "sys.path.append('models') # append the directory containing the module"
   ]
  },
  {
   "cell_type": "code",
   "execution_count": 247,
   "id": "4b1e3d02",
   "metadata": {
    "id": "4b1e3d02"
   },
   "outputs": [],
   "source": [
    "import torch\n",
    "import torch.nn as nn\n",
    "import torch.optim as optim\n",
    "import torch.nn.functional as F\n",
    "import EncoderEEG\n",
    "import deepcnn\n",
    "import cnn2dlstm\n",
    "import cnn1dlstm\n",
    "import traintest\n",
    "import LSTM_CNN_Encoder\n",
    "import warnings\n",
    "warnings.filterwarnings('ignore')"
   ]
  },
  {
   "cell_type": "code",
   "execution_count": 251,
   "id": "jnd1kYenHg0n",
   "metadata": {
    "colab": {
     "base_uri": "https://localhost:8080/"
    },
    "id": "jnd1kYenHg0n",
    "outputId": "f5450bc1-24ff-43b8-bdb5-757ff159b099"
   },
   "outputs": [
    {
     "data": {
      "text/plain": [
       "<module 'traintest' from 'C:\\\\Users\\\\CSE IIT BHILAI\\\\Desktop\\\\ML_Project-main\\\\models\\\\traintest.py'>"
      ]
     },
     "execution_count": 251,
     "metadata": {},
     "output_type": "execute_result"
    }
   ],
   "source": [
    "import importlib\n",
    "importlib.reload(traintest) # reload the module"
   ]
  },
  {
   "cell_type": "code",
   "execution_count": 189,
   "id": "g4eXuZGjGY0m",
   "metadata": {
    "colab": {
     "base_uri": "https://localhost:8080/"
    },
    "id": "g4eXuZGjGY0m",
    "outputId": "fe76e5e6-25f0-4441-8371-7890a3312730"
   },
   "outputs": [
    {
     "name": "stdout",
     "output_type": "stream",
     "text": [
      "GPU Name: NVIDIA GeForce RTX 3060\n"
     ]
    }
   ],
   "source": [
    "torch.cuda.is_available()\n",
    "if torch.cuda.is_available():\n",
    "    print(\"GPU Name:\", torch.cuda.get_device_name(0))"
   ]
  },
  {
   "cell_type": "code",
   "execution_count": 17,
   "id": "5a8b916f",
   "metadata": {
    "colab": {
     "base_uri": "https://localhost:8080/"
    },
    "id": "5a8b916f",
    "outputId": "1944cd2f-247c-40fd-b679-992c902feb51",
    "scrolled": true
   },
   "outputs": [
    {
     "name": "stdout",
     "output_type": "stream",
     "text": [
      "['n02389026', 'n03888257', 'n03584829', 'n02607072', 'n03297495', 'n03063599', 'n03792782', 'n04086273', 'n02510455', 'n11939491', 'n02951358', 'n02281787', 'n02106662', 'n04120489', 'n03590841', 'n02992529', 'n03445777', 'n03180011', 'n02906734', 'n07873807', 'n03773504', 'n02492035', 'n03982430', 'n03709823', 'n03100240', 'n03376595', 'n03877472', 'n03775071', 'n03272010', 'n04069434', 'n03452741', 'n03792972', 'n07753592', 'n13054560', 'n03197337', 'n02504458', 'n02690373', 'n03272562', 'n04044716', 'n02124075']\n"
     ]
    }
   ],
   "source": [
    "dataset=torch.load(r\"C:\\Users\\CSE IIT BHILAI\\Downloads\\eeg_signals_raw_with_mean_std.pth\")\n",
    "labels=dataset['labels']\n",
    "print(labels)"
   ]
  },
  {
   "cell_type": "code",
   "execution_count": 19,
   "id": "543b6665",
   "metadata": {
    "id": "543b6665"
   },
   "outputs": [],
   "source": [
    "data=dataset['dataset']"
   ]
  },
  {
   "cell_type": "code",
   "execution_count": 23,
   "id": "d3932698",
   "metadata": {
    "colab": {
     "base_uri": "https://localhost:8080/"
    },
    "id": "d3932698",
    "outputId": "49c2b38d-28e9-4ea8-ed72-9fcea7531a43"
   },
   "outputs": [],
   "source": [
    "splits=torch.load(r\"C:\\Users\\CSE IIT BHILAI\\Downloads\\block_splits_by_image_all.pth\")"
   ]
  },
  {
   "cell_type": "code",
   "execution_count": 25,
   "id": "5d2b63d9",
   "metadata": {
    "id": "5d2b63d9"
   },
   "outputs": [],
   "source": [
    "x_train,x_val,x_test,y_train,y_val,y_test=traintest.Splitter(data,splits,subject_no=0)"
   ]
  },
  {
   "cell_type": "code",
   "execution_count": 27,
   "id": "43edb441",
   "metadata": {
    "id": "43edb441"
   },
   "outputs": [],
   "source": [
    "# For using 2D CNN or similar models, we need to add an extra dimension to our data for which we can use unsqueeze function\n",
    "\n",
    "x_train=torch.stack(x_train)\n",
    "#x_train=x_train.unsqueeze(3)\n",
    "x_val=torch.stack(x_val)\n",
    "#x_val=x_val.unsqueeze(3)\n",
    "x_test=torch.stack(x_test)\n",
    "#x_test=x_test.unsqueeze(3)\n",
    "y_train=torch.tensor(y_train)\n",
    "y_val=torch.tensor(y_val)\n",
    "y_test=torch.tensor(y_test)"
   ]
  },
  {
   "cell_type": "code",
   "execution_count": 29,
   "id": "IK1_sKZiKX04",
   "metadata": {
    "id": "IK1_sKZiKX04"
   },
   "outputs": [],
   "source": [
    "device = torch.device(\"cuda\" if torch.cuda.is_available() else \"cpu\")"
   ]
  },
  {
   "cell_type": "code",
   "execution_count": 31,
   "id": "e9ff4590",
   "metadata": {
    "id": "e9ff4590"
   },
   "outputs": [],
   "source": [
    "from torch.utils.data import DataLoader, TensorDataset\n",
    "\n",
    "train_dataset = TensorDataset(x_train, y_train)\n",
    "val_dataset = TensorDataset(x_val,y_val)\n",
    "test_dataset = TensorDataset(x_test,y_test)\n",
    "train_loader = DataLoader(train_dataset, batch_size=16, shuffle=True)\n",
    "val_loader = DataLoader(val_dataset,batch_size=16,shuffle=True)\n",
    "test_loader = DataLoader(test_dataset,batch_size=16,shuffle=True)"
   ]
  },
  {
   "cell_type": "code",
   "execution_count": 239,
   "id": "8187c2e1",
   "metadata": {
    "colab": {
     "base_uri": "https://localhost:8080/"
    },
    "id": "8187c2e1",
    "outputId": "c3008625-44c6-4ecd-aa68-1cdd62cdfde5",
    "scrolled": true
   },
   "outputs": [
    {
     "name": "stdout",
     "output_type": "stream",
     "text": [
      "EEGEncoder(\n",
      "  (temporal_block): TemporalBlock(\n",
      "    (network): Sequential(\n",
      "      (0): Conv1d(128, 64, kernel_size=(3,), stride=(1,), padding=(3,))\n",
      "      (1): ReLU()\n",
      "      (2): Conv1d(64, 64, kernel_size=(3,), stride=(1,), padding=(6,), dilation=(2,))\n",
      "      (3): ReLU()\n",
      "      (4): Conv1d(64, 64, kernel_size=(3,), stride=(1,), padding=(12,), dilation=(4,))\n",
      "      (5): ReLU()\n",
      "      (6): Conv1d(64, 64, kernel_size=(3,), stride=(1,), padding=(24,), dilation=(8,))\n",
      "      (7): ReLU()\n",
      "    )\n",
      "  )\n",
      "  (spatial_block): SpatialBlock(\n",
      "    (network): Sequential(\n",
      "      (0): Conv2d(1, 32, kernel_size=(3, 3), stride=(1, 1), padding=(1, 1))\n",
      "      (1): BatchNorm2d(32, eps=1e-05, momentum=0.1, affine=True, track_running_stats=True)\n",
      "      (2): ReLU()\n",
      "      (3): Conv2d(32, 32, kernel_size=(3, 3), stride=(1, 1), padding=(1, 1))\n",
      "      (4): BatchNorm2d(32, eps=1e-05, momentum=0.1, affine=True, track_running_stats=True)\n",
      "      (5): ReLU()\n",
      "    )\n",
      "  )\n",
      "  (res_blocks): ModuleList(\n",
      "    (0-1): 2 x ResidualBlock(\n",
      "      (conv1): Conv2d(32, 32, kernel_size=(3, 3), stride=(1, 1), padding=(1, 1))\n",
      "      (conv2): Conv2d(32, 32, kernel_size=(3, 3), stride=(1, 1), padding=(1, 1))\n",
      "      (relu): ReLU()\n",
      "    )\n",
      "  )\n",
      "  (fc_latent): Linear(in_features=32, out_features=128, bias=True)\n",
      "  (fc_classification): Linear(in_features=128, out_features=40, bias=True)\n",
      ")\n"
     ]
    }
   ],
   "source": [
    "num_classes = 40\n",
    "learning_rate = 0.005\n",
    "num_epochs = 50\n",
    "\n",
    "model = EncoderEEG.EEGEncoder(num_classes=40).to(device)\n",
    "print(model)\n",
    "criterion = nn.CrossEntropyLoss()\n",
    "optimizer = optim.Adam(model.parameters(), lr=learning_rate)"
   ]
  },
  {
   "cell_type": "code",
   "execution_count": null,
   "id": "2b95e399",
   "metadata": {
    "id": "2b95e399"
   },
   "outputs": [],
   "source": [
    "#for inputs,labels in train_loader:\n",
    " #   print(inputs.shape)"
   ]
  },
  {
   "cell_type": "code",
   "execution_count": 241,
   "id": "f6408d1a",
   "metadata": {
    "colab": {
     "base_uri": "https://localhost:8080/"
    },
    "id": "f6408d1a",
    "outputId": "c4fc493d-2c41-40a5-9a2a-c20748082937",
    "scrolled": true
   },
   "outputs": [
    {
     "name": "stdout",
     "output_type": "stream",
     "text": [
      "Epoch 1/50, Training Loss: 3.4523, Validation Loss: 3.1078, Training Accuracy: 4.37%, Validation Accuracy: 7.71%\n",
      "Epoch 2/50, Training Loss: 2.9296, Validation Loss: 2.9162, Training Accuracy: 8.19%, Validation Accuracy: 10.06%\n",
      "Epoch 3/50, Training Loss: 2.6252, Validation Loss: 2.5055, Training Accuracy: 11.08%, Validation Accuracy: 13.26%\n",
      "Epoch 4/50, Training Loss: 2.5202, Validation Loss: 2.3933, Training Accuracy: 12.50%, Validation Accuracy: 14.51%\n",
      "Epoch 5/50, Training Loss: 2.4074, Validation Loss: 2.2381, Training Accuracy: 14.27%, Validation Accuracy: 14.81%\n",
      "Epoch 6/50, Training Loss: 2.2777, Validation Loss: 2.1278, Training Accuracy: 16.80%, Validation Accuracy: 18.57%\n",
      "Epoch 7/50, Training Loss: 2.1516, Validation Loss: 1.9069, Training Accuracy: 19.50%, Validation Accuracy: 26.38%\n",
      "Epoch 8/50, Training Loss: 2.0808, Validation Loss: 2.0793, Training Accuracy: 20.31%, Validation Accuracy: 18.92%\n",
      "Epoch 9/50, Training Loss: 2.1114, Validation Loss: 1.8864, Training Accuracy: 20.94%, Validation Accuracy: 27.13%\n",
      "Epoch 10/50, Training Loss: 1.8633, Validation Loss: 1.7093, Training Accuracy: 25.62%, Validation Accuracy: 29.13%\n",
      "Epoch 11/50, Training Loss: 1.8546, Validation Loss: 1.7371, Training Accuracy: 26.10%, Validation Accuracy: 28.68%\n",
      "Epoch 12/50, Training Loss: 1.7871, Validation Loss: 1.7897, Training Accuracy: 27.84%, Validation Accuracy: 23.57%\n",
      "Epoch 13/50, Training Loss: 1.7643, Validation Loss: 1.7724, Training Accuracy: 29.72%, Validation Accuracy: 27.33%\n",
      "Epoch 14/50, Training Loss: 1.7112, Validation Loss: 1.5312, Training Accuracy: 30.59%, Validation Accuracy: 34.78%\n",
      "Epoch 15/50, Training Loss: 1.6478, Validation Loss: 2.0656, Training Accuracy: 32.62%, Validation Accuracy: 24.37%\n",
      "Epoch 16/50, Training Loss: 1.5989, Validation Loss: 1.6604, Training Accuracy: 33.78%, Validation Accuracy: 30.78%\n",
      "Epoch 17/50, Training Loss: 1.5338, Validation Loss: 1.4060, Training Accuracy: 35.38%, Validation Accuracy: 38.44%\n",
      "Epoch 18/50, Training Loss: 1.4792, Validation Loss: 1.2995, Training Accuracy: 38.34%, Validation Accuracy: 47.60%\n",
      "Epoch 19/50, Training Loss: 1.4240, Validation Loss: 1.5435, Training Accuracy: 40.51%, Validation Accuracy: 36.84%\n",
      "Epoch 20/50, Training Loss: 1.4267, Validation Loss: 1.4702, Training Accuracy: 40.15%, Validation Accuracy: 42.14%\n",
      "Epoch 21/50, Training Loss: 1.4411, Validation Loss: 1.2558, Training Accuracy: 40.90%, Validation Accuracy: 44.49%\n",
      "Epoch 22/50, Training Loss: 1.3849, Validation Loss: 1.3029, Training Accuracy: 41.98%, Validation Accuracy: 44.14%\n",
      "Epoch 23/50, Training Loss: 1.3192, Validation Loss: 1.1906, Training Accuracy: 44.93%, Validation Accuracy: 51.85%\n",
      "Epoch 24/50, Training Loss: 1.2173, Validation Loss: 1.1871, Training Accuracy: 48.28%, Validation Accuracy: 48.10%\n",
      "Epoch 25/50, Training Loss: 1.1864, Validation Loss: 1.1156, Training Accuracy: 49.67%, Validation Accuracy: 51.00%\n",
      "Epoch 26/50, Training Loss: 1.1306, Validation Loss: 1.0155, Training Accuracy: 52.03%, Validation Accuracy: 53.70%\n",
      "Epoch 27/50, Training Loss: 1.1213, Validation Loss: 1.1265, Training Accuracy: 52.61%, Validation Accuracy: 52.40%\n",
      "Epoch 28/50, Training Loss: 1.0732, Validation Loss: 1.1734, Training Accuracy: 54.40%, Validation Accuracy: 56.16%\n",
      "Epoch 29/50, Training Loss: 1.0834, Validation Loss: 1.4343, Training Accuracy: 54.52%, Validation Accuracy: 40.74%\n",
      "Epoch 30/50, Training Loss: 1.0435, Validation Loss: 0.9506, Training Accuracy: 56.45%, Validation Accuracy: 61.76%\n",
      "Epoch 31/50, Training Loss: 0.9281, Validation Loss: 0.9365, Training Accuracy: 60.84%, Validation Accuracy: 61.16%\n",
      "Epoch 32/50, Training Loss: 0.9908, Validation Loss: 1.1844, Training Accuracy: 61.44%, Validation Accuracy: 51.40%\n",
      "Epoch 33/50, Training Loss: 1.0024, Validation Loss: 0.9947, Training Accuracy: 60.30%, Validation Accuracy: 59.51%\n",
      "Epoch 34/50, Training Loss: 0.8801, Validation Loss: 0.8494, Training Accuracy: 63.40%, Validation Accuracy: 63.36%\n",
      "Epoch 35/50, Training Loss: 0.8733, Validation Loss: 0.7767, Training Accuracy: 64.04%, Validation Accuracy: 69.72%\n",
      "Epoch 36/50, Training Loss: 0.8299, Validation Loss: 0.9451, Training Accuracy: 66.57%, Validation Accuracy: 66.42%\n",
      "Epoch 37/50, Training Loss: 0.8119, Validation Loss: 1.1306, Training Accuracy: 66.24%, Validation Accuracy: 56.81%\n",
      "Epoch 38/50, Training Loss: 0.8018, Validation Loss: 0.9683, Training Accuracy: 68.32%, Validation Accuracy: 62.31%\n",
      "Epoch 39/50, Training Loss: 0.8517, Validation Loss: 0.9583, Training Accuracy: 67.39%, Validation Accuracy: 64.06%\n",
      "Epoch 40/50, Training Loss: 0.8127, Validation Loss: 0.7276, Training Accuracy: 69.76%, Validation Accuracy: 71.27%\n",
      "Epoch 41/50, Training Loss: 0.7908, Validation Loss: 1.1639, Training Accuracy: 69.20%, Validation Accuracy: 60.36%\n",
      "Epoch 42/50, Training Loss: 0.7770, Validation Loss: 0.9282, Training Accuracy: 70.24%, Validation Accuracy: 65.82%\n",
      "Epoch 43/50, Training Loss: 0.7871, Validation Loss: 0.6539, Training Accuracy: 70.65%, Validation Accuracy: 73.17%\n",
      "Epoch 44/50, Training Loss: 0.6801, Validation Loss: 0.8766, Training Accuracy: 74.02%, Validation Accuracy: 68.47%\n",
      "Epoch 45/50, Training Loss: 0.6853, Validation Loss: 0.5215, Training Accuracy: 74.99%, Validation Accuracy: 80.53%\n",
      "Epoch 46/50, Training Loss: 0.6011, Validation Loss: 0.4864, Training Accuracy: 76.65%, Validation Accuracy: 80.63%\n",
      "Epoch 47/50, Training Loss: 0.7293, Validation Loss: 0.8051, Training Accuracy: 73.59%, Validation Accuracy: 68.92%\n",
      "Epoch 48/50, Training Loss: 0.6036, Validation Loss: 0.7278, Training Accuracy: 77.44%, Validation Accuracy: 78.78%\n",
      "Epoch 49/50, Training Loss: 0.5654, Validation Loss: 0.8005, Training Accuracy: 78.53%, Validation Accuracy: 73.17%\n",
      "Epoch 50/50, Training Loss: 0.6573, Validation Loss: 0.8196, Training Accuracy: 77.26%, Validation Accuracy: 70.37%\n"
     ]
    }
   ],
   "source": [
    "# Call training function\n",
    "traintest.train_model(model, train_loader, val_loader,criterion,optimizer,device,num_epochs)"
   ]
  },
  {
   "cell_type": "code",
   "execution_count": 253,
   "id": "bb145407",
   "metadata": {
    "colab": {
     "base_uri": "https://localhost:8080/"
    },
    "id": "bb145407",
    "outputId": "0c402735-9dec-46c1-f33c-b50613db5f07"
   },
   "outputs": [
    {
     "name": "stdout",
     "output_type": "stream",
     "text": [
      "Test Accuracy: 72.96%\n"
     ]
    }
   ],
   "source": [
    "traintest.evaluate_model(model,device,test_loader)"
   ]
  },
  {
   "cell_type": "markdown",
   "id": "48866128-75cc-4897-ac1f-347d846b7dcc",
   "metadata": {},
   "source": [
    "After about 50 Epochs, Our Model shows a decent enough accuracy in the range of 70-75%, now let's train it for 10 more epochs, but first, we will save our model."
   ]
  },
  {
   "cell_type": "code",
   "execution_count": 267,
   "id": "K1TvkMH4cf_E",
   "metadata": {
    "id": "K1TvkMH4cf_E"
   },
   "outputs": [],
   "source": [
    "#Saving the model\n",
    "\n",
    "# Define the path where you want to save the model\n",
    "model_save_path = 'model.pth'\n",
    "\n",
    "# Save model and optimizer states\n",
    "torch.save({\n",
    "    'model_state_dict': model.state_dict(),  # Model weights\n",
    "    'optimizer_state_dict': optimizer.state_dict(),  # Optimizer state                       # Optionally save loss or other metrics\n",
    "}, model_save_path)"
   ]
  },
  {
   "cell_type": "markdown",
   "id": "db161b5b-6bce-41dc-8cfe-df3d40235d0c",
   "metadata": {},
   "source": [
    "Loading the Model to resume training"
   ]
  },
  {
   "cell_type": "code",
   "execution_count": 281,
   "id": "db36b5bd-24cb-40ba-9328-ba8c8d68dd16",
   "metadata": {},
   "outputs": [],
   "source": [
    "checkpoint = torch.load('model.pth')\n",
    "\n",
    "# Load the model and optimizer state dictionaries\n",
    "model.load_state_dict(checkpoint['model_state_dict'])\n",
    "optimizer.load_state_dict(checkpoint['optimizer_state_dict'])"
   ]
  },
  {
   "cell_type": "code",
   "execution_count": 283,
   "id": "6b74bc85-2505-4fb4-9a3e-0c4f9de68d65",
   "metadata": {},
   "outputs": [
    {
     "name": "stdout",
     "output_type": "stream",
     "text": [
      "Epoch 1/10, Training Loss: 0.2664, Validation Loss: 0.2590, Training Accuracy: 91.74%, Validation Accuracy: 91.24%\n",
      "Epoch 2/10, Training Loss: 0.2164, Validation Loss: 0.2487, Training Accuracy: 93.31%, Validation Accuracy: 91.59%\n",
      "Epoch 3/10, Training Loss: 0.1752, Validation Loss: 0.2297, Training Accuracy: 94.84%, Validation Accuracy: 92.94%\n",
      "Epoch 4/10, Training Loss: 0.1662, Validation Loss: 0.2266, Training Accuracy: 94.54%, Validation Accuracy: 92.19%\n",
      "Epoch 5/10, Training Loss: 0.1668, Validation Loss: 0.2657, Training Accuracy: 94.60%, Validation Accuracy: 91.29%\n",
      "Epoch 6/10, Training Loss: 0.1429, Validation Loss: 0.2178, Training Accuracy: 95.88%, Validation Accuracy: 92.09%\n",
      "Epoch 7/10, Training Loss: 0.1352, Validation Loss: 0.1704, Training Accuracy: 96.04%, Validation Accuracy: 94.79%\n",
      "Epoch 8/10, Training Loss: 0.1371, Validation Loss: 0.2617, Training Accuracy: 95.45%, Validation Accuracy: 90.84%\n",
      "Epoch 9/10, Training Loss: 0.1190, Validation Loss: 0.1858, Training Accuracy: 96.00%, Validation Accuracy: 93.99%\n",
      "Epoch 10/10, Training Loss: 0.1119, Validation Loss: 0.2004, Training Accuracy: 96.30%, Validation Accuracy: 93.24%\n"
     ]
    }
   ],
   "source": [
    "traintest.train_model(model, train_loader, val_loader,criterion,optimizer,device,10)"
   ]
  },
  {
   "cell_type": "code",
   "execution_count": 285,
   "id": "7cf27814-ff0b-4a4d-8afd-a749ff719bfa",
   "metadata": {},
   "outputs": [
    {
     "name": "stdout",
     "output_type": "stream",
     "text": [
      "Test Accuracy: 93.84%\n"
     ]
    }
   ],
   "source": [
    "traintest.evaluate_model(model,device,test_loader)"
   ]
  },
  {
   "cell_type": "code",
   "execution_count": 287,
   "id": "8ec646e1-e7c3-47eb-9ced-8f4d9a391816",
   "metadata": {},
   "outputs": [],
   "source": [
    "torch.save(model.state_dict(), 'EEGEncoder_state_dict.pth')  \n",
    "torch.save(model, 'EEGEncoder.pth')  \n",
    "torch.save(optimizer.state_dict(), 'optimizer_state_dict.pth')"
   ]
  },
  {
   "cell_type": "markdown",
   "id": "5a575870-152c-4557-af5b-3b202db51a4f",
   "metadata": {},
   "source": [
    "Saving the Final Model with an accuracy of 93%"
   ]
  },
  {
   "cell_type": "markdown",
   "id": "GcUh4qrydmSe",
   "metadata": {
    "id": "GcUh4qrydmSe"
   },
   "source": [
    "## Not Relevant"
   ]
  },
  {
   "cell_type": "code",
   "execution_count": 303,
   "id": "bb52a13e",
   "metadata": {
    "colab": {
     "base_uri": "https://localhost:8080/"
    },
    "id": "bb52a13e",
    "outputId": "51507c19-f804-492e-e784-d4b42111f53c"
   },
   "outputs": [
    {
     "name": "stdout",
     "output_type": "stream",
     "text": [
      "Output shape: torch.Size([16, 40])\n",
      "tensor([[-0.1648, -0.0817, -0.1377,  0.3391, -0.0531,  0.0718,  0.2142,  0.0264,\n",
      "          0.2497,  0.0196, -0.2046, -0.0046, -0.1044,  0.1499, -0.2323, -0.0176,\n",
      "         -0.0105,  0.1582,  0.1340, -0.1335,  0.2519,  0.1530,  0.2221, -0.3653,\n",
      "          0.0656,  0.1462, -0.1331,  0.0540,  0.2554, -0.0571, -0.2028, -0.1892,\n",
      "          0.0844, -0.2205,  0.0201,  0.1821, -0.3183,  0.1828,  0.1488,  0.0144],\n",
      "        [-0.1652, -0.0849, -0.1379,  0.3438, -0.0526,  0.0759,  0.2167,  0.0274,\n",
      "          0.2525,  0.0213, -0.2072, -0.0060, -0.1050,  0.1521, -0.2345, -0.0188,\n",
      "         -0.0102,  0.1596,  0.1354, -0.1387,  0.2540,  0.1548,  0.2242, -0.3691,\n",
      "          0.0646,  0.1492, -0.1351,  0.0552,  0.2581, -0.0568, -0.2085, -0.1919,\n",
      "          0.0838, -0.2200,  0.0185,  0.1820, -0.3188,  0.1844,  0.1483,  0.0147],\n",
      "        [-0.1631, -0.0808, -0.1372,  0.3382, -0.0522,  0.0710,  0.2150,  0.0255,\n",
      "          0.2483,  0.0188, -0.2040, -0.0062, -0.1033,  0.1475, -0.2319, -0.0153,\n",
      "         -0.0127,  0.1575,  0.1334, -0.1329,  0.2521,  0.1542,  0.2207, -0.3622,\n",
      "          0.0653,  0.1456, -0.1309,  0.0533,  0.2545, -0.0589, -0.2009, -0.1878,\n",
      "          0.0854, -0.2203,  0.0208,  0.1811, -0.3176,  0.1843,  0.1488,  0.0130],\n",
      "        [-0.1643, -0.0817, -0.1377,  0.3395, -0.0531,  0.0733,  0.2142,  0.0266,\n",
      "          0.2505,  0.0205, -0.2058, -0.0058, -0.1041,  0.1501, -0.2324, -0.0177,\n",
      "         -0.0105,  0.1584,  0.1340, -0.1344,  0.2525,  0.1540,  0.2219, -0.3655,\n",
      "          0.0644,  0.1462, -0.1333,  0.0538,  0.2556, -0.0573, -0.2039, -0.1896,\n",
      "          0.0840, -0.2195,  0.0198,  0.1818, -0.3180,  0.1832,  0.1485,  0.0136],\n",
      "        [-0.1648, -0.0837, -0.1391,  0.3407, -0.0526,  0.0748,  0.2160,  0.0267,\n",
      "          0.2514,  0.0203, -0.2064, -0.0062, -0.1046,  0.1511, -0.2336, -0.0175,\n",
      "         -0.0098,  0.1586,  0.1347, -0.1355,  0.2540,  0.1546,  0.2218, -0.3655,\n",
      "          0.0649,  0.1474, -0.1344,  0.0530,  0.2563, -0.0575, -0.2066, -0.1908,\n",
      "          0.0844, -0.2205,  0.0193,  0.1815, -0.3183,  0.1850,  0.1484,  0.0136],\n",
      "        [-0.1629, -0.0824, -0.1378,  0.3399, -0.0522,  0.0730,  0.2162,  0.0259,\n",
      "          0.2499,  0.0196, -0.2047, -0.0067, -0.1034,  0.1488, -0.2333, -0.0161,\n",
      "         -0.0113,  0.1583,  0.1345, -0.1338,  0.2529,  0.1549,  0.2214, -0.3634,\n",
      "          0.0644,  0.1460, -0.1319,  0.0536,  0.2558, -0.0590, -0.2045, -0.1885,\n",
      "          0.0851, -0.2208,  0.0199,  0.1807, -0.3186,  0.1842,  0.1491,  0.0133],\n",
      "        [-0.1633, -0.0822, -0.1377,  0.3391, -0.0524,  0.0716,  0.2156,  0.0246,\n",
      "          0.2502,  0.0191, -0.2037, -0.0063, -0.1035,  0.1496, -0.2332, -0.0152,\n",
      "         -0.0126,  0.1584,  0.1343, -0.1336,  0.2527,  0.1552,  0.2204, -0.3623,\n",
      "          0.0645,  0.1457, -0.1315,  0.0540,  0.2554, -0.0584, -0.2025, -0.1881,\n",
      "          0.0849, -0.2200,  0.0204,  0.1804, -0.3191,  0.1845,  0.1490,  0.0138],\n",
      "        [-0.1639, -0.0835, -0.1363,  0.3428, -0.0532,  0.0746,  0.2154,  0.0272,\n",
      "          0.2513,  0.0206, -0.2063, -0.0061, -0.1041,  0.1501, -0.2345, -0.0187,\n",
      "         -0.0103,  0.1592,  0.1349, -0.1372,  0.2527,  0.1548,  0.2247, -0.3694,\n",
      "          0.0650,  0.1482, -0.1333,  0.0555,  0.2570, -0.0568, -0.2058, -0.1907,\n",
      "          0.0841, -0.2203,  0.0190,  0.1828, -0.3193,  0.1824,  0.1484,  0.0150],\n",
      "        [-0.1633, -0.0812, -0.1377,  0.3380, -0.0522,  0.0715,  0.2148,  0.0258,\n",
      "          0.2486,  0.0188, -0.2037, -0.0059, -0.1036,  0.1484, -0.2319, -0.0158,\n",
      "         -0.0120,  0.1574,  0.1335, -0.1324,  0.2519,  0.1543,  0.2201, -0.3619,\n",
      "          0.0650,  0.1456, -0.1315,  0.0527,  0.2547, -0.0584, -0.2020, -0.1883,\n",
      "          0.0850, -0.2206,  0.0202,  0.1803, -0.3176,  0.1842,  0.1489,  0.0133],\n",
      "        [-0.1646, -0.0836, -0.1379,  0.3416, -0.0527,  0.0751,  0.2158,  0.0275,\n",
      "          0.2511,  0.0200, -0.2064, -0.0057, -0.1052,  0.1513, -0.2341, -0.0182,\n",
      "         -0.0094,  0.1585,  0.1348, -0.1365,  0.2537,  0.1541,  0.2226, -0.3673,\n",
      "          0.0652,  0.1485, -0.1337,  0.0539,  0.2565, -0.0573, -0.2066, -0.1912,\n",
      "          0.0842, -0.2203,  0.0193,  0.1820, -0.3179,  0.1844,  0.1480,  0.0145],\n",
      "        [-0.1636, -0.0828, -0.1378,  0.3410, -0.0522,  0.0727,  0.2164,  0.0258,\n",
      "          0.2498,  0.0194, -0.2047, -0.0069, -0.1041,  0.1493, -0.2335, -0.0163,\n",
      "         -0.0115,  0.1575,  0.1342, -0.1354,  0.2533,  0.1549,  0.2214, -0.3652,\n",
      "          0.0655,  0.1476, -0.1318,  0.0543,  0.2560, -0.0581, -0.2038, -0.1887,\n",
      "          0.0845, -0.2200,  0.0202,  0.1809, -0.3181,  0.1846,  0.1484,  0.0143],\n",
      "        [-0.1638, -0.0834, -0.1368,  0.3421, -0.0530,  0.0738,  0.2153,  0.0267,\n",
      "          0.2513,  0.0213, -0.2062, -0.0066, -0.1040,  0.1500, -0.2341, -0.0183,\n",
      "         -0.0109,  0.1583,  0.1343, -0.1366,  0.2530,  0.1556,  0.2240, -0.3685,\n",
      "          0.0654,  0.1483, -0.1329,  0.0546,  0.2568, -0.0567, -0.2053, -0.1904,\n",
      "          0.0840, -0.2197,  0.0191,  0.1824, -0.3186,  0.1834,  0.1484,  0.0142],\n",
      "        [-0.1657, -0.0862, -0.1385,  0.3448, -0.0531,  0.0783,  0.2175,  0.0272,\n",
      "          0.2542,  0.0223, -0.2081, -0.0075, -0.1056,  0.1538, -0.2358, -0.0197,\n",
      "         -0.0092,  0.1599,  0.1356, -0.1396,  0.2550,  0.1557,  0.2238, -0.3699,\n",
      "          0.0644,  0.1504, -0.1351,  0.0547,  0.2582, -0.0560, -0.2105, -0.1931,\n",
      "          0.0830, -0.2192,  0.0179,  0.1820, -0.3187,  0.1841,  0.1477,  0.0154],\n",
      "        [-0.1643, -0.0841, -0.1378,  0.3424, -0.0530,  0.0744,  0.2161,  0.0263,\n",
      "          0.2508,  0.0205, -0.2062, -0.0065, -0.1041,  0.1509, -0.2334, -0.0173,\n",
      "         -0.0110,  0.1583,  0.1347, -0.1370,  0.2535,  0.1547,  0.2222, -0.3670,\n",
      "          0.0651,  0.1484, -0.1331,  0.0539,  0.2568, -0.0576, -0.2058, -0.1901,\n",
      "          0.0841, -0.2193,  0.0195,  0.1818, -0.3176,  0.1846,  0.1480,  0.0141],\n",
      "        [-0.1643, -0.0819, -0.1380,  0.3386, -0.0520,  0.0724,  0.2153,  0.0266,\n",
      "          0.2491,  0.0198, -0.2052, -0.0055, -0.1044,  0.1485, -0.2325, -0.0178,\n",
      "         -0.0103,  0.1579,  0.1338, -0.1334,  0.2524,  0.1538,  0.2220, -0.3643,\n",
      "          0.0652,  0.1463, -0.1335,  0.0541,  0.2554, -0.0583, -0.2042, -0.1892,\n",
      "          0.0849, -0.2209,  0.0199,  0.1811, -0.3182,  0.1840,  0.1491,  0.0136],\n",
      "        [-0.1639, -0.0835, -0.1375,  0.3415, -0.0521,  0.0733,  0.2164,  0.0259,\n",
      "          0.2501,  0.0197, -0.2058, -0.0068, -0.1037,  0.1490, -0.2335, -0.0170,\n",
      "         -0.0113,  0.1583,  0.1343, -0.1358,  0.2531,  0.1547,  0.2228, -0.3662,\n",
      "          0.0656,  0.1477, -0.1329,  0.0546,  0.2564, -0.0579, -0.2045, -0.1890,\n",
      "          0.0849, -0.2202,  0.0194,  0.1816, -0.3185,  0.1843,  0.1489,  0.0141]],\n",
      "       grad_fn=<AddmmBackward0>)\n"
     ]
    }
   ],
   "source": [
    "sample_input = torch.randn(16, 128, 440)  # Create a sample input tensor\n",
    "\n",
    "# Initialize your model\n",
    "  # Adjust based on the number of classes in your task\n",
    "model =EncoderEEG.EEGEncoder(num_classes=40)  # Use the correct model name here\n",
    "\n",
    "# Pass the sample input through the model\n",
    "try:\n",
    "    output, latent = model(sample_input)\n",
    "    print(\"Output shape:\", output.shape)  # Print the output shape\n",
    "    print(output)\n",
    "except Exception as e:\n",
    "    print(\"An error occurred:\", e)"
   ]
  },
  {
   "cell_type": "code",
   "execution_count": 305,
   "id": "87491061",
   "metadata": {
    "id": "87491061",
    "outputId": "8e5659d6-dfeb-4431-c780-294dd83dceb9"
   },
   "outputs": [
    {
     "name": "stdout",
     "output_type": "stream",
     "text": [
      "<bound method Module.parameters of EEGEncoder(\n",
      "  (temporal_block): TemporalBlock(\n",
      "    (network): Sequential(\n",
      "      (0): Conv1d(128, 64, kernel_size=(3,), stride=(1,), padding=(3,))\n",
      "      (1): ReLU()\n",
      "      (2): Conv1d(64, 64, kernel_size=(3,), stride=(1,), padding=(6,), dilation=(2,))\n",
      "      (3): ReLU()\n",
      "      (4): Conv1d(64, 64, kernel_size=(3,), stride=(1,), padding=(12,), dilation=(4,))\n",
      "      (5): ReLU()\n",
      "      (6): Conv1d(64, 64, kernel_size=(3,), stride=(1,), padding=(24,), dilation=(8,))\n",
      "      (7): ReLU()\n",
      "    )\n",
      "  )\n",
      "  (spatial_block): SpatialBlock(\n",
      "    (network): Sequential(\n",
      "      (0): Conv2d(1, 32, kernel_size=(3, 3), stride=(1, 1), padding=(1, 1))\n",
      "      (1): BatchNorm2d(32, eps=1e-05, momentum=0.1, affine=True, track_running_stats=True)\n",
      "      (2): ReLU()\n",
      "      (3): Conv2d(32, 32, kernel_size=(3, 3), stride=(1, 1), padding=(1, 1))\n",
      "      (4): BatchNorm2d(32, eps=1e-05, momentum=0.1, affine=True, track_running_stats=True)\n",
      "      (5): ReLU()\n",
      "    )\n",
      "  )\n",
      "  (res_blocks): ModuleList(\n",
      "    (0-1): 2 x ResidualBlock(\n",
      "      (conv1): Conv2d(32, 32, kernel_size=(3, 3), stride=(1, 1), padding=(1, 1))\n",
      "      (conv2): Conv2d(32, 32, kernel_size=(3, 3), stride=(1, 1), padding=(1, 1))\n",
      "      (relu): ReLU()\n",
      "    )\n",
      "  )\n",
      "  (fc_latent): Linear(in_features=32, out_features=128, bias=True)\n",
      "  (fc_classification): Linear(in_features=128, out_features=40, bias=True)\n",
      ")>\n"
     ]
    }
   ],
   "source": [
    "print(model.parameters)"
   ]
  },
  {
   "cell_type": "code",
   "execution_count": null,
   "id": "fe285fb4",
   "metadata": {
    "id": "fe285fb4"
   },
   "outputs": [],
   "source": []
  }
 ],
 "metadata": {
  "accelerator": "GPU",
  "colab": {
   "gpuType": "T4",
   "provenance": []
  },
  "kernelspec": {
   "display_name": "Python 3 (ipykernel)",
   "language": "python",
   "name": "python3"
  },
  "language_info": {
   "codemirror_mode": {
    "name": "ipython",
    "version": 3
   },
   "file_extension": ".py",
   "mimetype": "text/x-python",
   "name": "python",
   "nbconvert_exporter": "python",
   "pygments_lexer": "ipython3",
   "version": "3.12.4"
  }
 },
 "nbformat": 4,
 "nbformat_minor": 5
}
